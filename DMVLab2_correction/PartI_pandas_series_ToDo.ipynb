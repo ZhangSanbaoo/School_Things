{
 "cells": [
  {
   "cell_type": "markdown",
   "id": "82274b6d",
   "metadata": {},
   "source": [
    "<img style=\"float: left; padding-right: 0px; width: 145px\" src=\"https://upload.wikimedia.org/wikipedia/fr/thumb/e/e9/EPF_logo_2021.png/524px-EPF_logo_2021.png\"> \n",
    "<br><br>\n",
    "\n",
    "\n",
    "###  <div style=\"text-align: right\">  Data Engineering - P2024 <br> <br>  <time datetime=\"2023-03-07\">2023/03/07</time> <br> <br> <u>Name </u>: RAPADAMNABA Robert </div>\n",
    "<br> \n",
    "\n",
    "\n",
    "\n",
    "#   <center>  Data Manipulation </center>\n",
    "\n",
    "\n"
   ]
  },
  {
   "cell_type": "markdown",
   "id": "6c65931e",
   "metadata": {},
   "source": [
    "#  <center><u>  Laboratory 2 - Part 1  : Basics of pandas and pandas series</u></center>\n",
    " "
   ]
  },
  {
   "cell_type": "code",
   "execution_count": null,
   "id": "51687acc",
   "metadata": {},
   "outputs": [],
   "source": [
    "!pip install jyquickhelper"
   ]
  },
  {
   "cell_type": "code",
   "execution_count": null,
   "id": "a8ad06bb",
   "metadata": {},
   "outputs": [],
   "source": [
    "from jyquickhelper import add_notebook_menu\n",
    "add_notebook_menu()"
   ]
  },
  {
   "cell_type": "markdown",
   "id": "4ad0f5e6",
   "metadata": {},
   "source": [
    "## I. Getting started with pandas\n",
    "\n",
    "\n",
    "In this laboratory and the next one, we are going to learn how to use the library Pandas. It is an open-source, BSD-licensed Python library providing high-performance data manipulation and analysis tool using its powerful and easy-to-use data structures. Python with Pandas is used in a wide range of fields including academic and commercial domains including finance, economics, Statistics, analytics, etc. It's working with different types of data like : time series, tabular, matrix or statistical. In this lab and next one, we will learn the various features of Python Pandas and how to use them in practice.\n",
    "\n",
    "You can find every explication about pandas and about its functions in its documentation : [Python pandas](https://pandas.pydata.org/docs/)\n",
    "\n",
    "The very first step for using pandas is <font color='red'>to install and import it </font>; after doing that we will be able to call it and work with it.\n"
   ]
  },
  {
   "cell_type": "markdown",
   "id": "19a12190",
   "metadata": {},
   "source": [
    "### <div class=\"alert-info\"> 1. Installing pandas </div>"
   ]
  },
  {
   "cell_type": "markdown",
   "id": "d1a01471",
   "metadata": {},
   "source": [
    "To install pandas, I strongly recommend using a scientific Python distribution. If you’re looking for the full instructions for  installing pandas on your operating system, see [Installing pandas](https://pandas.pydata.org/docs/getting_started/install.html)."
   ]
  },
  {
   "cell_type": "code",
   "execution_count": null,
   "id": "5c738f17",
   "metadata": {},
   "outputs": [],
   "source": [
    "!pip install pandas"
   ]
  },
  {
   "cell_type": "markdown",
   "id": "9d51dfba",
   "metadata": {},
   "source": [
    "or"
   ]
  },
  {
   "cell_type": "markdown",
   "id": "a4b2a270",
   "metadata": {},
   "source": [
    "If you already have Python, you can install pandas with:"
   ]
  },
  {
   "cell_type": "code",
   "execution_count": null,
   "id": "bd802451",
   "metadata": {},
   "outputs": [],
   "source": [
    "conda install pandas"
   ]
  },
  {
   "cell_type": "markdown",
   "id": "d7a05bae",
   "metadata": {},
   "source": [
    "If you don’t have Python yet, you might want to consider using [Anaconda](https://www.anaconda.com/). It’s the easiest way to get started. The good thing about getting this distribution is the fact that you don’t need to worry too much about separately installing pandas or any of the major packages that you’ll be using for your data analyses, like NumPy, Scikit-Learn, etc."
   ]
  },
  {
   "cell_type": "markdown",
   "id": "b0701ecd",
   "metadata": {},
   "source": [
    "### <div class=\"alert-info\"> 2. How to import pandas and know the version </div>"
   ]
  },
  {
   "cell_type": "markdown",
   "id": "11ea87a5",
   "metadata": {},
   "source": [
    "To access pandas and its functions, import it in your Python code like this:"
   ]
  },
  {
   "cell_type": "code",
   "execution_count": 5,
   "id": "6e3da977",
   "metadata": {},
   "outputs": [],
   "source": [
    "# The standard way to import pandas is :\n",
    "\n",
    "import pandas as pd \n"
   ]
  },
  {
   "cell_type": "markdown",
   "id": "220e3edb",
   "metadata": {},
   "source": [
    "The imported name is shortened to <font color='red'>pd</font> for better readability of code using pandas. **This is a widely adopted convention that you should follow so that anyone working with your code can easily understand it.**"
   ]
  },
  {
   "cell_type": "code",
   "execution_count": 6,
   "id": "788a06be",
   "metadata": {},
   "outputs": [
    {
     "data": {
      "text/plain": [
       "'1.5.3'"
      ]
     },
     "execution_count": 6,
     "metadata": {},
     "output_type": "execute_result"
    }
   ],
   "source": [
    "# After importing pandas under the name pd, to know your version of pandas, type pd.__version__\n",
    "pd.__version__"
   ]
  },
  {
   "cell_type": "markdown",
   "id": "77251386",
   "metadata": {},
   "source": [
    "Pandas deals with the following 3 data structures −\n",
    "\n",
    "    Series : a 1-D array like structure with homogeneous data\n",
    "    DataFrame :a 2-D array with heterogeneous data\n",
    "    Panel : a 3-D data structure with heterogeneous data\n",
    "\n",
    "\n",
    "Key Points for Series\n",
    "\n",
    "    Data must be homogeneous\n",
    "    The size is immutable\n",
    "    The values of data are mutable\n",
    "\n",
    "Key Points for dataframes (can be illustrated as a container of Series)\n",
    "\n",
    "    Heterogeneous data\n",
    "    Size Mutable\n",
    "    Data Mutable\n",
    "\n",
    "Key Points for panel (It is hard to represent the panel in graphical representation. But a panel can be illustrated as a container of DataFrame.\n",
    ")\n",
    "\n",
    "\n",
    "    Heterogeneous data\n",
    "    Size Mutable\n",
    "    Data Mutable\n",
    "\n",
    "Here, we will focus on the first 2 data structures starting with Series."
   ]
  },
  {
   "cell_type": "markdown",
   "id": "4d865974",
   "metadata": {},
   "source": [
    "## II. Creating a pandas Series\n",
    "\n",
    "There are many ways to instantiate a pandas Series. We will cover the most common ones below. [Docs here cover more constructors](https://pandas.pydata.org/docs/user_guide/dsintro.html#basics-series). A pandas Series can be created using the `pandas.Series( data, index, dtype, copy)` constructor.\n",
    "With this constructor, a series can be created using various inputs like −\n",
    "\n",
    "    Array\n",
    "    Dict\n",
    "    Scalar value or constant\n"
   ]
  },
  {
   "cell_type": "markdown",
   "id": "f92d73fc",
   "metadata": {},
   "source": [
    "### <div class=\"alert-info\"> 1. Exercise 1 : Creating pandas series by passing in other Python structures(such as, lists, array, dict, scalar or constant) to the `pd.Series( )` constructor.\n",
    " In this exercise we are going to learn how to build a basic series. Look into the documention for help. </div>\n"
   ]
  },
  {
   "cell_type": "markdown",
   "id": "4434bb67",
   "metadata": {},
   "source": [
    "#### <center> a. <u>Creating an empty series</u></center>\n",
    "\n",
    "- Create an **Empty Series** called *Empty_series*  using the `pd.Series( )` constructor and specifying explicitly the dtype as 'float64'.\n",
    "- After doing that print this series together with its type to ensure that it is an object from the good class."
   ]
  },
  {
   "cell_type": "code",
   "execution_count": 7,
   "id": "36f08aa6",
   "metadata": {},
   "outputs": [
    {
     "name": "stdout",
     "output_type": "stream",
     "text": [
      "This is an empty series with float64 as dtype  : Series([], dtype: float64) and its type is  <class 'pandas.core.series.Series'>\n"
     ]
    }
   ],
   "source": [
    "#TO DO\n",
    "Empty_series = ...\n",
    "print(...)\n"
   ]
  },
  {
   "cell_type": "markdown",
   "id": "239ef561",
   "metadata": {},
   "source": [
    "#### <center> b. <u>Creating a Series from a list</u></center>\n",
    "Now, let's create a pandas series from a list. \n",
    "- Create **two series** called *series1_from_list_default_index* and *series2_from_list_default_index* from *data_list1*= ['a', 'b', 'c', 'd'] and *data_list2*=[3, 2, 1], respectively using the `pd.Series()` constructor and letting pandas create a default integer index.\n",
    "\n",
    "\n",
    "- Print both series together with their types to ensure that they are objects from  `<class 'pandas.core.series.Series'>`."
   ]
  },
  {
   "cell_type": "code",
   "execution_count": 8,
   "id": "d5664f26",
   "metadata": {},
   "outputs": [
    {
     "name": "stdout",
     "output_type": "stream",
     "text": [
      "The first series built from a list is :\n",
      " 0    a\n",
      "1    b\n",
      "2    c\n",
      "3    d\n",
      "dtype: object and its type is : <class 'pandas.core.series.Series'>\n",
      "The second series built from a list is :\n",
      " 0    3\n",
      "1    2\n",
      "2    1\n",
      "dtype: int64 and its type is : <class 'pandas.core.series.Series'>\n"
     ]
    }
   ],
   "source": [
    "#TO DO\n",
    "\n",
    "data_list1 = ...\n",
    "data_list2 = ...\n",
    "series1_from_list_default_index= ...\n",
    "series2_from_list_default_index= ...\n",
    "print(...)\n",
    "print(...)"
   ]
  },
  {
   "cell_type": "markdown",
   "id": "83fd3bad",
   "metadata": {},
   "source": [
    "#### <center> c. <u>Creating a Series from ndarray</u></center>\n",
    "Now, let us create a pandas series from ndarray. \n",
    "- Create **two series** called *series1_from_array_default_index* and *series2_from_array_default_index* from *data_array1* = ['a', 'b', 'c', 'd'] and *data_array2*= [3, 2, 1], respectively, using the `pd.Series()` constructor  and letting pandas create a default integer index\n",
    "\n",
    "\n",
    "- print both series together with their types to ensure that they are objects from  `<class 'pandas.core.series.Series'>`: \n"
   ]
  },
  {
   "cell_type": "code",
   "execution_count": 9,
   "id": "c0a10ed3",
   "metadata": {},
   "outputs": [
    {
     "name": "stdout",
     "output_type": "stream",
     "text": [
      "The first series built from a np.array is :\n",
      " 0    a\n",
      "1    b\n",
      "2    c\n",
      "3    d\n",
      "dtype: object and its type is : <class 'pandas.core.series.Series'>\n",
      "The second series built from a np.array is :\n",
      " 0    3\n",
      "1    2\n",
      "2    1\n",
      "dtype: int32 and its type is : <class 'pandas.core.series.Series'>\n"
     ]
    }
   ],
   "source": [
    "#TO DO\n",
    "#import the numpy library and aliasing as np\n",
    "...\n",
    "\n",
    "data_array1= ...\n",
    "data_array2 = ...\n",
    "series1_from_array_default_index= ...\n",
    "series2_from_array_default_index= ...\n",
    "print(...)\n",
    "print(...)"
   ]
  },
  {
   "cell_type": "markdown",
   "id": "0d3caf8e",
   "metadata": {},
   "source": [
    "As We did not pass any index, so by default, it assigned the indexes ranging from 0 to (**len(data_array1)-1**)"
   ]
  },
  {
   "cell_type": "markdown",
   "id": "452e6867",
   "metadata": {},
   "source": [
    "-  Create **one series** called *series_from_array_assigned_index*  from *data_array1* with the following associated index: [10, 11, 12, 13] using the `pd.Series()` constructor. \n",
    "-  Print the series."
   ]
  },
  {
   "cell_type": "code",
   "execution_count": 10,
   "id": "4786acc7",
   "metadata": {},
   "outputs": [
    {
     "name": "stdout",
     "output_type": "stream",
     "text": [
      "The series built from np.array with assigned index is :\n",
      " 10    a\n",
      "11    b\n",
      "12    c\n",
      "13    d\n",
      "dtype: object\n"
     ]
    }
   ],
   "source": [
    "#TO DO\n",
    "series_from_array_assigned_index= ...\n",
    "print(...)"
   ]
  },
  {
   "cell_type": "markdown",
   "id": "9ddebaf3",
   "metadata": {},
   "source": [
    "We passed the index values here. Now we can see the customized indexed values in the output."
   ]
  },
  {
   "cell_type": "markdown",
   "id": "0af6b1e5",
   "metadata": {},
   "source": [
    "#### <center> d. <u>Creating Series from a dictionary</u></center>\n",
    "-  Create **two Series** called *series1_from_dict*, and *series2_from_dict* ,  respectively, both from this dictionary {'E' : 1, 'P' : 0, 'F' : 2}, called *dictionary_data* and using the `pd.Series()` constructor. Do not specify index for the first series but for the second one, assign the following list as index: ['E','P', 'F', '', 'M', 'O', 'N', 'T', 'P', 'E', 'L', 'L', 'I', 'E','R']. \n",
    "- Print these series. What do you observe?  \n"
   ]
  },
  {
   "cell_type": "code",
   "execution_count": 11,
   "id": "d1fd433c",
   "metadata": {},
   "outputs": [
    {
     "name": "stdout",
     "output_type": "stream",
     "text": [
      "The first series built from a dictionary is :\n",
      " E    1\n",
      "P    2\n",
      "F    3\n",
      "dtype: int64\n"
     ]
    }
   ],
   "source": [
    "#TO DO\n",
    "dictionary_data = ...\n",
    "series1_from_dict = ...\n",
    "print(...)"
   ]
  },
  {
   "cell_type": "code",
   "execution_count": 12,
   "id": "727e5439",
   "metadata": {},
   "outputs": [
    {
     "name": "stdout",
     "output_type": "stream",
     "text": [
      "The second series built from a dictionary is :\n",
      " E    1.0\n",
      "P    2.0\n",
      "F    3.0\n",
      "     NaN\n",
      "M    NaN\n",
      "O    NaN\n",
      "N    NaN\n",
      "T    NaN\n",
      "P    2.0\n",
      "E    1.0\n",
      "L    NaN\n",
      "L    NaN\n",
      "I    NaN\n",
      "E    1.0\n",
      "R    NaN\n",
      "dtype: float64\n"
     ]
    }
   ],
   "source": [
    "#TO DO\n",
    "series_from_dict2 = ...\n",
    "print(...)"
   ]
  },
  {
   "cell_type": "markdown",
   "id": "d32e025f",
   "metadata": {},
   "source": [
    "#### <center> e. <u>Creating a Series from Scalar</u></center>\n",
    " - Create **two Series** called *series_from_scalar1*, and *series_from_scalar2* ,   from *scalar_1=5* and *scalar_2=10*, respectively  and using the `pd.Series()` constructor. Do not specify index for the first series but for the second one, assign the following list as index: ['E','P', 'F', '', 'M', 'O', 'N', 'T', 'P', 'E', 'L', 'L', 'I', 'E','R']. \n",
    "- print these series. What do you observe? \n",
    "\n"
   ]
  },
  {
   "cell_type": "code",
   "execution_count": 13,
   "id": "4d743a0a",
   "metadata": {},
   "outputs": [
    {
     "name": "stdout",
     "output_type": "stream",
     "text": [
      "The first series built from a scalar is :\n",
      " 0    5\n",
      "dtype: int64\n",
      "The second series built from a scalar is :\n",
      " E    10\n",
      "P    10\n",
      "F    10\n",
      "     10\n",
      "M    10\n",
      "O    10\n",
      "N    10\n",
      "T    10\n",
      "P    10\n",
      "E    10\n",
      "L    10\n",
      "L    10\n",
      "I    10\n",
      "E    10\n",
      "R    10\n",
      "dtype: int64\n"
     ]
    }
   ],
   "source": [
    "#TO DO\n",
    "\n",
    "scalar_1 = ...\n",
    "scalar_2 = ...\n",
    "series_from_scalar1 = ...\n",
    "series_from_scalar2 = ...\n",
    "print(...)\n",
    "print(...)\n"
   ]
  },
  {
   "cell_type": "markdown",
   "id": "b41ad2b8",
   "metadata": {},
   "source": [
    "### 2. Exercise 2 : Creating pandas series from 1-D ndarray.\n",
    " \n",
    "   - Create a 1-D array with Pandas (a Series), called *series_from_OneD_array*, from 1-D numpy array created using `np.arrange()` with *start*=10, and *stop*=31. \n",
    "   - Print this array together with its type (to ensure that it is from the good class), and its shape. "
   ]
  },
  {
   "cell_type": "code",
   "execution_count": 14,
   "id": "74e36d58",
   "metadata": {},
   "outputs": [
    {
     "name": "stdout",
     "output_type": "stream",
     "text": [
      "The 1-D array is :\n",
      " 0     10\n",
      "1     11\n",
      "2     12\n",
      "3     13\n",
      "4     14\n",
      "5     15\n",
      "6     16\n",
      "7     17\n",
      "8     18\n",
      "9     19\n",
      "10    20\n",
      "11    21\n",
      "12    22\n",
      "13    23\n",
      "14    24\n",
      "15    25\n",
      "16    26\n",
      "17    27\n",
      "18    28\n",
      "19    29\n",
      "20    30\n",
      "dtype: int32 The type of this 1-D array is : <class 'pandas.core.series.Series'> and its shape is : (21,)\n"
     ]
    }
   ],
   "source": [
    "#TO DO\n",
    "series_from_OneD_array = ...\n",
    "print(...)"
   ]
  },
  {
   "cell_type": "markdown",
   "id": "0c77b1c1",
   "metadata": {},
   "source": [
    "## III. Accessing Data from Series: Slicing and indexing\n",
    "\n",
    "Series acts very similarly to a `ndarray` and is a valid argument to most NumPy functions. However, operations such as slicing will also slice the index."
   ]
  },
  {
   "cell_type": "markdown",
   "id": "54d29550",
   "metadata": {},
   "source": [
    "### 1. Exercise 3 : Accessing Data from Series with Position.\n",
    " In this exercise we are going to learn how to access data in a series. This is can similar to what is done in an ndarray. Look into the documention for help. \n",
    "We will use the following series"
   ]
  },
  {
   "cell_type": "markdown",
   "id": "41e08ca4",
   "metadata": {},
   "source": [
    "#### <center> a. <u>Accessing Data from Series with Position</u></center>\n"
   ]
  },
  {
   "cell_type": "code",
   "execution_count": 15,
   "id": "5221d2b8",
   "metadata": {},
   "outputs": [
    {
     "name": "stdout",
     "output_type": "stream",
     "text": [
      "a     1\n",
      "b     2\n",
      "c     3\n",
      "d     4\n",
      "e     5\n",
      "f     6\n",
      "g     7\n",
      "h     8\n",
      "i     9\n",
      "j    10\n",
      "k    11\n",
      "dtype: int32\n"
     ]
    }
   ],
   "source": [
    "series_for_access=pd.Series(np.arange(1,12), index=['a', 'b', 'c', 'd', 'e', 'f', 'g', 'h', 'i', 'j','k'])\n",
    "print(series_for_access)"
   ]
  },
  {
   "cell_type": "markdown",
   "id": "a34d9454",
   "metadata": {},
   "source": [
    "- Retrieve (print) the first element  of *series_for_access*\n",
    "- Retrieve (print) the first 5 elements  of *series_for_access*\n",
    "- Retrieve (print) the last 3 elements  of *series_for_access*"
   ]
  },
  {
   "cell_type": "code",
   "execution_count": 16,
   "id": "fab156b7",
   "metadata": {},
   "outputs": [
    {
     "name": "stdout",
     "output_type": "stream",
     "text": [
      "The first element of the series for access is : 1\n",
      "The first 5 elements of the series for access is :\n",
      " a    1\n",
      "b    2\n",
      "c    3\n",
      "d    4\n",
      "e    5\n",
      "dtype: int32\n",
      "The last 3 elements of the series for access is :\n",
      "  i     9\n",
      "j    10\n",
      "k    11\n",
      "dtype: int32\n"
     ]
    }
   ],
   "source": [
    "#retrieve the first element of series_for_access\n",
    "print(...)\n",
    "#retrieve the first 5 elements of series_for_access\n",
    "print(...)\n",
    "#retrieve the last 3 elements of series_for_access\n",
    "print(...)\n",
    "\n"
   ]
  },
  {
   "cell_type": "markdown",
   "id": "955d01ad",
   "metadata": {},
   "source": [
    "- In the series *series_of_listofColours* below, print the color White & Black & Yellow"
   ]
  },
  {
   "cell_type": "code",
   "execution_count": 17,
   "id": "efe694ac",
   "metadata": {},
   "outputs": [
    {
     "name": "stdout",
     "output_type": "stream",
     "text": [
      "0    [Red, Green, White]\n",
      "1           [Red, Black]\n",
      "2               [Yellow]\n",
      "dtype: object\n"
     ]
    }
   ],
   "source": [
    "series_of_listofColours  = pd.Series([\n",
    "    ['Red', 'Green', 'White'],\n",
    "    ['Red', 'Black'],\n",
    "    ['Yellow']])\n",
    "print(series_of_listofColours)"
   ]
  },
  {
   "cell_type": "code",
   "execution_count": 18,
   "id": "f86dee48",
   "metadata": {},
   "outputs": [
    {
     "name": "stdout",
     "output_type": "stream",
     "text": [
      "('White', 'Black', 'Yellow')\n"
     ]
    }
   ],
   "source": [
    "#TO DO\n",
    "colors =...\n",
    "print(...)"
   ]
  },
  {
   "cell_type": "markdown",
   "id": "57af86c4",
   "metadata": {},
   "source": [
    "#### <center> b. <u>Accessing Data from Series Using Index</u></center>"
   ]
  },
  {
   "cell_type": "markdown",
   "id": "441b3430",
   "metadata": {},
   "source": [
    "- Retrieve a single element using index label value: Retrieve (print) the first element of *series_for_access* using the index label value\n",
    "- Retrieve multiple elements using a list of index label values: Retrieve (print) the elements of *series_for_access*  at index=['a', 'c', 'd', 'h', 'i']\n",
    "- Try to retrieve the element at index label value='m'. What do you notice?"
   ]
  },
  {
   "cell_type": "code",
   "execution_count": 19,
   "id": "8a54c1ee",
   "metadata": {},
   "outputs": [
    {
     "name": "stdout",
     "output_type": "stream",
     "text": [
      "The first element of  series for access is : 1\n",
      "The elements of  series for access at index= ['a', 'c', 'd', 'h', 'i'] is :\n",
      " a    1\n",
      "c    3\n",
      "d    4\n",
      "h    8\n",
      "i    9\n",
      "dtype: int32\n",
      "Is index label value m in the series? False\n"
     ]
    },
    {
     "ename": "KeyError",
     "evalue": "'m'",
     "output_type": "error",
     "traceback": [
      "\u001b[1;31m---------------------------------------------------------------------------\u001b[0m",
      "\u001b[1;31mKeyError\u001b[0m                                  Traceback (most recent call last)",
      "File \u001b[1;32mc:\\Users\\rrapadamnaba\\Miniconda3\\lib\\site-packages\\pandas\\core\\indexes\\base.py:3802\u001b[0m, in \u001b[0;36mIndex.get_loc\u001b[1;34m(self, key, method, tolerance)\u001b[0m\n\u001b[0;32m   3801\u001b[0m \u001b[39mtry\u001b[39;00m:\n\u001b[1;32m-> 3802\u001b[0m     \u001b[39mreturn\u001b[39;00m \u001b[39mself\u001b[39;49m\u001b[39m.\u001b[39;49m_engine\u001b[39m.\u001b[39;49mget_loc(casted_key)\n\u001b[0;32m   3803\u001b[0m \u001b[39mexcept\u001b[39;00m \u001b[39mKeyError\u001b[39;00m \u001b[39mas\u001b[39;00m err:\n",
      "File \u001b[1;32mc:\\Users\\rrapadamnaba\\Miniconda3\\lib\\site-packages\\pandas\\_libs\\index.pyx:138\u001b[0m, in \u001b[0;36mpandas._libs.index.IndexEngine.get_loc\u001b[1;34m()\u001b[0m\n",
      "File \u001b[1;32mc:\\Users\\rrapadamnaba\\Miniconda3\\lib\\site-packages\\pandas\\_libs\\index.pyx:165\u001b[0m, in \u001b[0;36mpandas._libs.index.IndexEngine.get_loc\u001b[1;34m()\u001b[0m\n",
      "File \u001b[1;32mpandas\\_libs\\hashtable_class_helper.pxi:5745\u001b[0m, in \u001b[0;36mpandas._libs.hashtable.PyObjectHashTable.get_item\u001b[1;34m()\u001b[0m\n",
      "File \u001b[1;32mpandas\\_libs\\hashtable_class_helper.pxi:5753\u001b[0m, in \u001b[0;36mpandas._libs.hashtable.PyObjectHashTable.get_item\u001b[1;34m()\u001b[0m\n",
      "\u001b[1;31mKeyError\u001b[0m: 'm'",
      "\nThe above exception was the direct cause of the following exception:\n",
      "\u001b[1;31mKeyError\u001b[0m                                  Traceback (most recent call last)",
      "\u001b[1;32mc:\\Users\\rrapadamnaba\\OneDrive - Fondation EPF\\Teaching\\Data_manipulation\\Labs_2022-2023\\Lab2\\PartI_pandas_series_ToDo.ipynb Cellule 51\u001b[0m in \u001b[0;36m<cell line: 7>\u001b[1;34m()\u001b[0m\n\u001b[0;32m      <a href='vscode-notebook-cell:/c%3A/Users/rrapadamnaba/OneDrive%20-%20Fondation%20EPF/Teaching/Data_manipulation/Labs_2022-2023/Lab2/PartI_pandas_series_ToDo.ipynb#Y101sZmlsZQ%3D%3D?line=4'>5</a>\u001b[0m \u001b[39m#Trying to retrieve the element at index label value='m'\u001b[39;00m\n\u001b[0;32m      <a href='vscode-notebook-cell:/c%3A/Users/rrapadamnaba/OneDrive%20-%20Fondation%20EPF/Teaching/Data_manipulation/Labs_2022-2023/Lab2/PartI_pandas_series_ToDo.ipynb#Y101sZmlsZQ%3D%3D?line=5'>6</a>\u001b[0m \u001b[39mprint\u001b[39m(\u001b[39m\"\u001b[39m\u001b[39mIs index label value m in the series?\u001b[39m\u001b[39m\"\u001b[39m, \u001b[39m'\u001b[39m\u001b[39mm\u001b[39m\u001b[39m'\u001b[39m \u001b[39min\u001b[39;00m series_for_access)\n\u001b[1;32m----> <a href='vscode-notebook-cell:/c%3A/Users/rrapadamnaba/OneDrive%20-%20Fondation%20EPF/Teaching/Data_manipulation/Labs_2022-2023/Lab2/PartI_pandas_series_ToDo.ipynb#Y101sZmlsZQ%3D%3D?line=6'>7</a>\u001b[0m \u001b[39mprint\u001b[39m (\u001b[39m\"\u001b[39m\u001b[39mThe  element of  series for access at index label value=\u001b[39m\u001b[39m'\u001b[39m\u001b[39mm\u001b[39m\u001b[39m'\u001b[39m\u001b[39m is :\u001b[39m\u001b[39m\"\u001b[39m, series_for_access[\u001b[39m'\u001b[39;49m\u001b[39mm\u001b[39;49m\u001b[39m'\u001b[39;49m])\n",
      "File \u001b[1;32mc:\\Users\\rrapadamnaba\\Miniconda3\\lib\\site-packages\\pandas\\core\\series.py:981\u001b[0m, in \u001b[0;36mSeries.__getitem__\u001b[1;34m(self, key)\u001b[0m\n\u001b[0;32m    978\u001b[0m     \u001b[39mreturn\u001b[39;00m \u001b[39mself\u001b[39m\u001b[39m.\u001b[39m_values[key]\n\u001b[0;32m    980\u001b[0m \u001b[39melif\u001b[39;00m key_is_scalar:\n\u001b[1;32m--> 981\u001b[0m     \u001b[39mreturn\u001b[39;00m \u001b[39mself\u001b[39;49m\u001b[39m.\u001b[39;49m_get_value(key)\n\u001b[0;32m    983\u001b[0m \u001b[39mif\u001b[39;00m is_hashable(key):\n\u001b[0;32m    984\u001b[0m     \u001b[39m# Otherwise index.get_value will raise InvalidIndexError\u001b[39;00m\n\u001b[0;32m    985\u001b[0m     \u001b[39mtry\u001b[39;00m:\n\u001b[0;32m    986\u001b[0m         \u001b[39m# For labels that don't resolve as scalars like tuples and frozensets\u001b[39;00m\n",
      "File \u001b[1;32mc:\\Users\\rrapadamnaba\\Miniconda3\\lib\\site-packages\\pandas\\core\\series.py:1089\u001b[0m, in \u001b[0;36mSeries._get_value\u001b[1;34m(self, label, takeable)\u001b[0m\n\u001b[0;32m   1086\u001b[0m     \u001b[39mreturn\u001b[39;00m \u001b[39mself\u001b[39m\u001b[39m.\u001b[39m_values[label]\n\u001b[0;32m   1088\u001b[0m \u001b[39m# Similar to Index.get_value, but we do not fall back to positional\u001b[39;00m\n\u001b[1;32m-> 1089\u001b[0m loc \u001b[39m=\u001b[39m \u001b[39mself\u001b[39;49m\u001b[39m.\u001b[39;49mindex\u001b[39m.\u001b[39;49mget_loc(label)\n\u001b[0;32m   1090\u001b[0m \u001b[39mreturn\u001b[39;00m \u001b[39mself\u001b[39m\u001b[39m.\u001b[39mindex\u001b[39m.\u001b[39m_get_values_for_loc(\u001b[39mself\u001b[39m, loc, label)\n",
      "File \u001b[1;32mc:\\Users\\rrapadamnaba\\Miniconda3\\lib\\site-packages\\pandas\\core\\indexes\\base.py:3804\u001b[0m, in \u001b[0;36mIndex.get_loc\u001b[1;34m(self, key, method, tolerance)\u001b[0m\n\u001b[0;32m   3802\u001b[0m     \u001b[39mreturn\u001b[39;00m \u001b[39mself\u001b[39m\u001b[39m.\u001b[39m_engine\u001b[39m.\u001b[39mget_loc(casted_key)\n\u001b[0;32m   3803\u001b[0m \u001b[39mexcept\u001b[39;00m \u001b[39mKeyError\u001b[39;00m \u001b[39mas\u001b[39;00m err:\n\u001b[1;32m-> 3804\u001b[0m     \u001b[39mraise\u001b[39;00m \u001b[39mKeyError\u001b[39;00m(key) \u001b[39mfrom\u001b[39;00m \u001b[39merr\u001b[39;00m\n\u001b[0;32m   3805\u001b[0m \u001b[39mexcept\u001b[39;00m \u001b[39mTypeError\u001b[39;00m:\n\u001b[0;32m   3806\u001b[0m     \u001b[39m# If we have a listlike key, _check_indexing_error will raise\u001b[39;00m\n\u001b[0;32m   3807\u001b[0m     \u001b[39m#  InvalidIndexError. Otherwise we fall through and re-raise\u001b[39;00m\n\u001b[0;32m   3808\u001b[0m     \u001b[39m#  the TypeError.\u001b[39;00m\n\u001b[0;32m   3809\u001b[0m     \u001b[39mself\u001b[39m\u001b[39m.\u001b[39m_check_indexing_error(key)\n",
      "\u001b[1;31mKeyError\u001b[0m: 'm'"
     ]
    }
   ],
   "source": [
    "#retrieve  the first element of series_for_access using index label value\n",
    "print(...)\n",
    "#retrieve the elements of series_for_access at index =['a', 'c', 'd', 'h', 'i']\n",
    "print(...)\n",
    "#Trying to retrieve the element at index label value='m'\n",
    "print(\"Is index label value m in the series?\", 'm' in series_for_access)\n",
    "print(...)\n",
    "\n"
   ]
  },
  {
   "cell_type": "markdown",
   "id": "8dafee39",
   "metadata": {},
   "source": [
    "If a label is not contained in the index, an exception is raised. \n",
    "Using the `Series.get()` method, a missing label will return None or specified default:"
   ]
  },
  {
   "cell_type": "code",
   "execution_count": 20,
   "id": "3adbe443",
   "metadata": {},
   "outputs": [
    {
     "name": "stdout",
     "output_type": "stream",
     "text": [
      "Default value to handle the exception : None\n",
      "Specified default value to handle the exception : nan\n"
     ]
    }
   ],
   "source": [
    "print(\"Default value to handle the exception :\", series_for_access.get('m'))\n",
    "print(\"Specified default value to handle the exception :\",series_for_access.get('m', np.nan))"
   ]
  },
  {
   "cell_type": "markdown",
   "id": "67d5e0ca",
   "metadata": {},
   "source": [
    "#### <center> c. <u>Slicing using built-in functions, boolean slicing</u></center>"
   ]
  },
  {
   "cell_type": "markdown",
   "id": "e798e128",
   "metadata": {},
   "source": [
    "- Retrieve the elements of *series_for_access* greather than the median of data\n",
    "- Retrieve the elements of *series_for_access* smaller than the mean of data"
   ]
  },
  {
   "cell_type": "code",
   "execution_count": 22,
   "id": "33955afb",
   "metadata": {},
   "outputs": [
    {
     "name": "stdout",
     "output_type": "stream",
     "text": [
      "The median of data in this series is : 6.0\n",
      "The elements of  series for access greather than the median of data is :\n",
      " g     7\n",
      "h     8\n",
      "i     9\n",
      "j    10\n",
      "k    11\n",
      "dtype: int32\n",
      "The mean of data in this series is : 6.0\n",
      "The elements of  series for access smaller than the mean of data is :\n",
      " a    1\n",
      "b    2\n",
      "c    3\n",
      "d    4\n",
      "e    5\n",
      "dtype: int32\n"
     ]
    }
   ],
   "source": [
    "#TO DO\n",
    "print(\"The median of data in this series is :\",series_for_access.median() )\n",
    "#Retrieve the elements of *series_for_access* greather than the median of data\n",
    "print(...)\n",
    "print(\"The mean of data in this series is :\",series_for_access.mean() )\n",
    "#Retrieve the elements of *series_for_access* smaller than the mean of data\n",
    "print(...)"
   ]
  },
  {
   "attachments": {},
   "cell_type": "markdown",
   "id": "7e505996",
   "metadata": {},
   "source": [
    "### 2. Exercise 4 : Converting a pandas series to Python list or numpy array\n",
    "Accessing the array can be useful when you need to do some operation without the index\n",
    "In this exercise, we are going to learn how to convert a pandas series to Python list or numpy array. Have a look to the functions `tolist()` and `to_numpy()`\n",
    "- Create a pandas series, called *OneD_series_pandas*,  using a numpy 1D array created using `np.arange` with *start*=12 and *stop*=23. Convert then this series to a Python list called *py_list*\n",
    "- Print the type of *py_list*\n",
    "- Print the 5th value in this list"
   ]
  },
  {
   "cell_type": "code",
   "execution_count": 23,
   "id": "c5692c81",
   "metadata": {},
   "outputs": [
    {
     "name": "stdout",
     "output_type": "stream",
     "text": [
      "The type of py_list is : <class 'list'>\n",
      " The fifth value in py_list is : 16\n"
     ]
    }
   ],
   "source": [
    "# TO DO\n",
    "OneD_series_pandas= ...\n",
    "py_list = ...\n",
    "\n",
    "print(...)\n",
    "print(...)"
   ]
  },
  {
   "cell_type": "markdown",
   "id": "bd222f8d",
   "metadata": {},
   "source": [
    "- Use `Series.array` to print the actual array backing *OneD_series_pandas*\n",
    "- Use `Series.to_numpy()`to convert the Series called to ndarray and print the resulting ndarray you have got together with its type "
   ]
  },
  {
   "cell_type": "code",
   "execution_count": 24,
   "id": "0771874a",
   "metadata": {},
   "outputs": [
    {
     "name": "stdout",
     "output_type": "stream",
     "text": [
      "the actual array backing *OneD_series_pandas* is :\n",
      " <PandasArray>\n",
      "[12, 13, 14, 15, 16, 17, 18, 19, 20, 21, 22]\n",
      "Length: 11, dtype: int32\n",
      "the actual ndarray backing *OneD_series_pandas* is :\n",
      " [12 13 14 15 16 17 18 19 20 21 22] and its type is : <class 'numpy.ndarray'>\n"
     ]
    }
   ],
   "source": [
    "# TO DO\n",
    "\n",
    "backing_array = ...\n",
    "backing_ndarray = ...\n",
    "\n",
    "print(...)\n",
    "print(...)"
   ]
  },
  {
   "cell_type": "markdown",
   "id": "7b5a29c3",
   "metadata": {},
   "source": [
    "## IV. Vectorized operations and label alignment with Series\n",
    "\n",
    "When working with raw `NumPy` arrays, looping through value-by-value is usually not necessary. The same is true when working with `Series` in pandas. Series can also be passed into most NumPy methods expecting an ndarray.\n"
   ]
  },
  {
   "cell_type": "markdown",
   "id": "85b2e315",
   "metadata": {},
   "source": [
    "### 1. Exercise 5 : Basic operations with Series\n",
    "\n",
    "In this exercise we are going to learn how to do the basic operations (addition, substraction, multiplication, and division) with pandas Series. Look into the documention for help.\n",
    "For this exercise, we will use the following series:"
   ]
  },
  {
   "cell_type": "code",
   "execution_count": 25,
   "id": "4b0d3f31",
   "metadata": {},
   "outputs": [
    {
     "name": "stdout",
     "output_type": "stream",
     "text": [
      "Series 1: \n",
      " 0    10\n",
      "1    11\n",
      "2    12\n",
      "3    13\n",
      "4    14\n",
      "5    15\n",
      "6    16\n",
      "7    17\n",
      "8    18\n",
      "9    19\n",
      "dtype: int32 Series 2: \n",
      " 0     210\n",
      "1     211\n",
      "2     212\n",
      "3     213\n",
      "4     214\n",
      "5     215\n",
      "6     216\n",
      "7     217\n",
      "8     218\n",
      "9     219\n",
      "10    220\n",
      "11    221\n",
      "12    222\n",
      "13    223\n",
      "14    224\n",
      "15    225\n",
      "16    226\n",
      "17    227\n",
      "18    228\n",
      "19    229\n",
      "dtype: int32\n"
     ]
    }
   ],
   "source": [
    "pdseries_1 = pd.Series(np.arange(10,20))\n",
    "pdseries_2 = pd.Series(np.arange(210,230))\n",
    "print(\"Series 1: \\n\", pdseries_1, \"Series 2: \\n\",pdseries_2)"
   ]
  },
  {
   "cell_type": "markdown",
   "id": "3b7780a7",
   "metadata": {},
   "source": [
    "- Add up, subtract, multiply and divide *pdseries_1* and *pdseries_2*. What do you notice comparatively to basic operations with ndarray? "
   ]
  },
  {
   "cell_type": "code",
   "execution_count": 26,
   "id": "4f31a4c6",
   "metadata": {},
   "outputs": [
    {
     "name": "stdout",
     "output_type": "stream",
     "text": [
      "Addition between 2 series :\n",
      " 0     220.0\n",
      "1     222.0\n",
      "2     224.0\n",
      "3     226.0\n",
      "4     228.0\n",
      "5     230.0\n",
      "6     232.0\n",
      "7     234.0\n",
      "8     236.0\n",
      "9     238.0\n",
      "10      NaN\n",
      "11      NaN\n",
      "12      NaN\n",
      "13      NaN\n",
      "14      NaN\n",
      "15      NaN\n",
      "16      NaN\n",
      "17      NaN\n",
      "18      NaN\n",
      "19      NaN\n",
      "dtype: float64\n",
      "Substraction :\n",
      " 0    -200.0\n",
      "1    -200.0\n",
      "2    -200.0\n",
      "3    -200.0\n",
      "4    -200.0\n",
      "5    -200.0\n",
      "6    -200.0\n",
      "7    -200.0\n",
      "8    -200.0\n",
      "9    -200.0\n",
      "10      NaN\n",
      "11      NaN\n",
      "12      NaN\n",
      "13      NaN\n",
      "14      NaN\n",
      "15      NaN\n",
      "16      NaN\n",
      "17      NaN\n",
      "18      NaN\n",
      "19      NaN\n",
      "dtype: float64\n",
      "Multiplication :\n",
      " 0     2100.0\n",
      "1     2321.0\n",
      "2     2544.0\n",
      "3     2769.0\n",
      "4     2996.0\n",
      "5     3225.0\n",
      "6     3456.0\n",
      "7     3689.0\n",
      "8     3924.0\n",
      "9     4161.0\n",
      "10       NaN\n",
      "11       NaN\n",
      "12       NaN\n",
      "13       NaN\n",
      "14       NaN\n",
      "15       NaN\n",
      "16       NaN\n",
      "17       NaN\n",
      "18       NaN\n",
      "19       NaN\n",
      "dtype: float64\n",
      "Division :\n",
      " 0     0.047619\n",
      "1     0.052133\n",
      "2     0.056604\n",
      "3     0.061033\n",
      "4     0.065421\n",
      "5     0.069767\n",
      "6     0.074074\n",
      "7     0.078341\n",
      "8     0.082569\n",
      "9     0.086758\n",
      "10         NaN\n",
      "11         NaN\n",
      "12         NaN\n",
      "13         NaN\n",
      "14         NaN\n",
      "15         NaN\n",
      "16         NaN\n",
      "17         NaN\n",
      "18         NaN\n",
      "19         NaN\n",
      "dtype: float64\n"
     ]
    }
   ],
   "source": [
    "# TO DO\n",
    "# Addition\n",
    "pdseries_add = ...\n",
    "print(\"Addition between 2 series :\\n\", pdseries_add)\n",
    "\n",
    "#Substraction\n",
    "pdseries_sub = ...\n",
    "print(\"Substraction :\\n\", pdseries_sub)\n",
    "\n",
    "#Multiplication\n",
    "pdseries_mult = ...\n",
    "print(\"Multiplication :\\n\", pdseries_mult)\n",
    "\n",
    "#Division\n",
    "pdseries_div = ...\n",
    "print(\"Division :\\n\", pdseries_div)"
   ]
  },
  {
   "cell_type": "markdown",
   "id": "0c7da94f",
   "metadata": {},
   "source": [
    "### 2. Exercise 6 : Comparison between 2 series.\n",
    "In this exercise, we are going to learn how to compare 2 series. For this, we will use the series below. Look into the documentation for help.\n",
    "\n"
   ]
  },
  {
   "cell_type": "code",
   "execution_count": 27,
   "id": "bb0d6552",
   "metadata": {},
   "outputs": [
    {
     "name": "stdout",
     "output_type": "stream",
     "text": [
      "Data in ds1 is :\n",
      " 0     2\n",
      "1     4\n",
      "2     6\n",
      "3     8\n",
      "4    10\n",
      "dtype: int64\n",
      "Data in ds2 is :\n",
      " 0     1\n",
      "1     3\n",
      "2     9\n",
      "3     7\n",
      "4    10\n",
      "dtype: int64\n"
     ]
    }
   ],
   "source": [
    "ds1 = pd.Series([2, 4, 6, 8, 10])\n",
    "ds2 = pd.Series([1, 3, 9, 7, 10])\n",
    "print (\"Data in ds1 is :\\n\", ds1)\n",
    "print (\"Data in ds2 is :\\n\", ds2)"
   ]
  },
  {
   "cell_type": "markdown",
   "id": "96e87b7e",
   "metadata": {},
   "source": [
    "- Compare ds1 and ds2 to see if the elements (data) at the same position are equal or not."
   ]
  },
  {
   "cell_type": "code",
   "execution_count": 28,
   "id": "fa594af8",
   "metadata": {},
   "outputs": [
    {
     "name": "stdout",
     "output_type": "stream",
     "text": [
      "Which element at the same position in ds1 and ds2 are equal or not? \n",
      " 0    False\n",
      "1    False\n",
      "2    False\n",
      "3    False\n",
      "4     True\n",
      "dtype: bool\n"
     ]
    }
   ],
   "source": [
    "#TO DO\n",
    "Are_equal = ...\n",
    "print(\"Which element at the same position in ds1 and ds2 are equal or not? \\n\", Are_equal)"
   ]
  },
  {
   "cell_type": "markdown",
   "id": "84d0a9fa",
   "metadata": {},
   "source": [
    "- Compare ds1 and ds2 to see for the elements (data) at the same position which one in ds1 is greater than which one in ds2."
   ]
  },
  {
   "cell_type": "code",
   "execution_count": 29,
   "id": "ecd68db4",
   "metadata": {},
   "outputs": [
    {
     "name": "stdout",
     "output_type": "stream",
     "text": [
      "Which element at the same position in ds1 is  greater than which one in ds2 or not? \n",
      " 0     True\n",
      "1     True\n",
      "2    False\n",
      "3     True\n",
      "4    False\n",
      "dtype: bool\n"
     ]
    }
   ],
   "source": [
    "#TO DO\n",
    "greater_than = ...\n",
    "print(\"Which element at the same position in ds1 is  greater than which one in ds2 or not? \\n\", greater_than)"
   ]
  },
  {
   "cell_type": "markdown",
   "id": "c4e6d3e0",
   "metadata": {},
   "source": [
    "- Compare ds1 and ds2 to see for the elements (data) at the same position which one in ds1 is smaller than which one in ds2."
   ]
  },
  {
   "cell_type": "code",
   "execution_count": 30,
   "id": "1ffe757d",
   "metadata": {},
   "outputs": [
    {
     "name": "stdout",
     "output_type": "stream",
     "text": [
      "Which element at the same position in ds1 is  smaller than which one in ds2 or not? \n",
      " 0    False\n",
      "1    False\n",
      "2     True\n",
      "3    False\n",
      "4    False\n",
      "dtype: bool\n"
     ]
    }
   ],
   "source": [
    "#TO DO\n",
    "smaller_than = ...\n",
    "print(\"Which element at the same position in ds1 is  smaller than which one in ds2 or not? \\n\", smaller_than)"
   ]
  },
  {
   "cell_type": "markdown",
   "id": "39750d1c",
   "metadata": {},
   "source": [
    "## V. Small exercises"
   ]
  },
  {
   "cell_type": "markdown",
   "id": "cdc5388c",
   "metadata": {},
   "source": [
    "### 1. Exercise 7:  Convert series data type to numeric and convert a series of lists to One series\n",
    "\n",
    "- Write small programs to change the data type of the series s1 to numeric.\n",
    "Look at the documentation : https://pandas.pydata.org/docs/reference/api/pandas.to_numeric.html"
   ]
  },
  {
   "cell_type": "code",
   "execution_count": 31,
   "id": "ebb2d5b5",
   "metadata": {},
   "outputs": [],
   "source": [
    "s1 = pd.Series(['100', '200', 'python', '300.12', '400'])"
   ]
  },
  {
   "cell_type": "code",
   "execution_count": 32,
   "id": "36194c31",
   "metadata": {},
   "outputs": [
    {
     "name": "stdout",
     "output_type": "stream",
     "text": [
      "0    100.00\n",
      "1    200.00\n",
      "2       NaN\n",
      "3    300.12\n",
      "4    400.00\n",
      "dtype: float64\n",
      "0       100\n",
      "1       200\n",
      "2    python\n",
      "3    300.12\n",
      "4       400\n",
      "dtype: object\n"
     ]
    },
    {
     "ename": "ValueError",
     "evalue": "Unable to parse string \"python\" at position 2",
     "output_type": "error",
     "traceback": [
      "\u001b[1;31m---------------------------------------------------------------------------\u001b[0m",
      "\u001b[1;31mValueError\u001b[0m                                Traceback (most recent call last)",
      "File \u001b[1;32mc:\\Users\\rrapadamnaba\\Miniconda3\\lib\\site-packages\\pandas\\_libs\\lib.pyx:2369\u001b[0m, in \u001b[0;36mpandas._libs.lib.maybe_convert_numeric\u001b[1;34m()\u001b[0m\n",
      "\u001b[1;31mValueError\u001b[0m: Unable to parse string \"python\"",
      "\nDuring handling of the above exception, another exception occurred:\n",
      "\u001b[1;31mValueError\u001b[0m                                Traceback (most recent call last)",
      "\u001b[1;32mc:\\Users\\rrapadamnaba\\OneDrive - Fondation EPF\\Teaching\\Data_manipulation\\Labs_2022-2023\\Lab2\\PartI_pandas_series_ToDo.ipynb Cellule 80\u001b[0m in \u001b[0;36m<cell line: 11>\u001b[1;34m()\u001b[0m\n\u001b[0;32m      <a href='vscode-notebook-cell:/c%3A/Users/rrapadamnaba/OneDrive%20-%20Fondation%20EPF/Teaching/Data_manipulation/Labs_2022-2023/Lab2/PartI_pandas_series_ToDo.ipynb#Y142sZmlsZQ%3D%3D?line=7'>8</a>\u001b[0m \u001b[39mprint\u001b[39m(s1_numeric)\n\u001b[0;32m     <a href='vscode-notebook-cell:/c%3A/Users/rrapadamnaba/OneDrive%20-%20Fondation%20EPF/Teaching/Data_manipulation/Labs_2022-2023/Lab2/PartI_pandas_series_ToDo.ipynb#Y142sZmlsZQ%3D%3D?line=9'>10</a>\u001b[0m \u001b[39m# Change the said data type to numeric, with error false\u001b[39;00m\n\u001b[1;32m---> <a href='vscode-notebook-cell:/c%3A/Users/rrapadamnaba/OneDrive%20-%20Fondation%20EPF/Teaching/Data_manipulation/Labs_2022-2023/Lab2/PartI_pandas_series_ToDo.ipynb#Y142sZmlsZQ%3D%3D?line=10'>11</a>\u001b[0m s1_numeric \u001b[39m=\u001b[39m pd\u001b[39m.\u001b[39;49mto_numeric(s1, errors\u001b[39m=\u001b[39;49m\u001b[39m'\u001b[39;49m\u001b[39mraise\u001b[39;49m\u001b[39m'\u001b[39;49m)\n\u001b[0;32m     <a href='vscode-notebook-cell:/c%3A/Users/rrapadamnaba/OneDrive%20-%20Fondation%20EPF/Teaching/Data_manipulation/Labs_2022-2023/Lab2/PartI_pandas_series_ToDo.ipynb#Y142sZmlsZQ%3D%3D?line=11'>12</a>\u001b[0m \u001b[39mprint\u001b[39m(s1_numeric)\n",
      "File \u001b[1;32mc:\\Users\\rrapadamnaba\\Miniconda3\\lib\\site-packages\\pandas\\core\\tools\\numeric.py:185\u001b[0m, in \u001b[0;36mto_numeric\u001b[1;34m(arg, errors, downcast)\u001b[0m\n\u001b[0;32m    183\u001b[0m coerce_numeric \u001b[39m=\u001b[39m errors \u001b[39mnot\u001b[39;00m \u001b[39min\u001b[39;00m (\u001b[39m\"\u001b[39m\u001b[39mignore\u001b[39m\u001b[39m\"\u001b[39m, \u001b[39m\"\u001b[39m\u001b[39mraise\u001b[39m\u001b[39m\"\u001b[39m)\n\u001b[0;32m    184\u001b[0m \u001b[39mtry\u001b[39;00m:\n\u001b[1;32m--> 185\u001b[0m     values, _ \u001b[39m=\u001b[39m lib\u001b[39m.\u001b[39;49mmaybe_convert_numeric(\n\u001b[0;32m    186\u001b[0m         values, \u001b[39mset\u001b[39;49m(), coerce_numeric\u001b[39m=\u001b[39;49mcoerce_numeric\n\u001b[0;32m    187\u001b[0m     )\n\u001b[0;32m    188\u001b[0m \u001b[39mexcept\u001b[39;00m (\u001b[39mValueError\u001b[39;00m, \u001b[39mTypeError\u001b[39;00m):\n\u001b[0;32m    189\u001b[0m     \u001b[39mif\u001b[39;00m errors \u001b[39m==\u001b[39m \u001b[39m\"\u001b[39m\u001b[39mraise\u001b[39m\u001b[39m\"\u001b[39m:\n",
      "File \u001b[1;32mc:\\Users\\rrapadamnaba\\Miniconda3\\lib\\site-packages\\pandas\\_libs\\lib.pyx:2411\u001b[0m, in \u001b[0;36mpandas._libs.lib.maybe_convert_numeric\u001b[1;34m()\u001b[0m\n",
      "\u001b[1;31mValueError\u001b[0m: Unable to parse string \"python\" at position 2"
     ]
    }
   ],
   "source": [
    "#TO DO\n",
    "# Change the said data type to numeric, with error coerce\n",
    "s1_numeric = ...\n",
    "print(s1_numeric)\n",
    "\n",
    "# Change the said data type to numeric, with error ignore\n",
    "s1_numeric = ...\n",
    "print(s1_numeric)\n",
    "\n",
    "# Change the said data type to numeric, with error raise\n",
    "s1_numeric = ...\n",
    "print(s1_numeric)"
   ]
  },
  {
   "cell_type": "markdown",
   "id": "017e788b",
   "metadata": {},
   "source": [
    "- Convert the series of lists  *series_of_listofColours* from Exercise 3. a. to one Series. \n",
    "Look at the documentation: https://pandas.pydata.org/docs/reference/api/pandas.DataFrame.stack.html and have a look to functions `apply()`, `stack()`, `reset_index()`"
   ]
  },
  {
   "cell_type": "code",
   "execution_count": 33,
   "id": "175d3b5d",
   "metadata": {},
   "outputs": [
    {
     "name": "stdout",
     "output_type": "stream",
     "text": [
      "0       Red\n",
      "1     Green\n",
      "2     White\n",
      "3       Red\n",
      "4     Black\n",
      "5    Yellow\n",
      "dtype: object <class 'pandas.core.series.Series'>\n"
     ]
    }
   ],
   "source": [
    "# TO DO\n",
    "One_series =  ...\n",
    "print(One_series,type(One_series))"
   ]
  },
  {
   "cell_type": "markdown",
   "id": "b36e32d1",
   "metadata": {},
   "source": [
    "### 2. Exercise 8:  Sorting a Series and appending values to a Series."
   ]
  },
  {
   "cell_type": "markdown",
   "id": "89d8d1f5",
   "metadata": {},
   "source": [
    "- Sort the Series *s* below by alphabetic order.\n",
    "Look at the documentation: https://pandas.pydata.org/docs/reference/api/pandas.DataFrame.sort_values.html"
   ]
  },
  {
   "cell_type": "code",
   "execution_count": 34,
   "id": "9e4f03d4",
   "metadata": {},
   "outputs": [],
   "source": [
    "s = pd.Series(['100', '200', 'scala', '300.12', 'python'])"
   ]
  },
  {
   "cell_type": "code",
   "execution_count": 35,
   "id": "71f5fedb",
   "metadata": {},
   "outputs": [
    {
     "name": "stdout",
     "output_type": "stream",
     "text": [
      "0       100\n",
      "1       200\n",
      "3    300.12\n",
      "4    python\n",
      "2     scala\n",
      "dtype: object\n"
     ]
    }
   ],
   "source": [
    "s_sorted = ...\n",
    "print(s_sorted)"
   ]
  },
  {
   "cell_type": "markdown",
   "id": "bf25f709",
   "metadata": {},
   "source": [
    "- Append the values '1515' and 'WarpScript' to the Series ds3 below. You must re-index the resulting Series.\n",
    "Look at the documentation: https://pandas.pydata.org/docs/reference/api/pandas.concat.html"
   ]
  },
  {
   "cell_type": "code",
   "execution_count": 36,
   "id": "80f59c6d",
   "metadata": {},
   "outputs": [],
   "source": [
    "ds3 = pd.Series(['100', '200', 'python', '300.12', '400'])"
   ]
  },
  {
   "cell_type": "code",
   "execution_count": 37,
   "id": "63ce1cb4",
   "metadata": {},
   "outputs": [
    {
     "name": "stdout",
     "output_type": "stream",
     "text": [
      "0           100\n",
      "1           200\n",
      "2        python\n",
      "3        300.12\n",
      "4           400\n",
      "5          1515\n",
      "6    WarpScript\n",
      "dtype: object\n"
     ]
    }
   ],
   "source": [
    "ds3_update = ...\n",
    "print(ds3_update)"
   ]
  },
  {
   "cell_type": "markdown",
   "id": "9f86e159",
   "metadata": {},
   "source": [
    "### 3. Exercise 9:"
   ]
  },
  {
   "cell_type": "markdown",
   "id": "aa18b574",
   "metadata": {},
   "source": [
    "- Retrieve (print) the index of the first occurrence of the smallest and largest value of the Series ds4.\n",
    "Look at the documentation: https://pandas.pydata.org/docs/reference/api/pandas.DataFrame.idxmax.html\n",
    "Find the documentation for the min yourself."
   ]
  },
  {
   "cell_type": "code",
   "execution_count": 38,
   "id": "c47e50cd",
   "metadata": {},
   "outputs": [],
   "source": [
    "ds4 = pd.Series([1, 3, 7, 12, 88, 23, 3, 1, 9, 0])"
   ]
  },
  {
   "cell_type": "code",
   "execution_count": 39,
   "id": "e8284407",
   "metadata": {},
   "outputs": [
    {
     "name": "stdout",
     "output_type": "stream",
     "text": [
      "Max index is:  4\n",
      "Min index is:  9\n"
     ]
    }
   ],
   "source": [
    "index_max = ...\n",
    "index_min = ...\n",
    "print(...)\n",
    "print(...)"
   ]
  },
  {
   "cell_type": "markdown",
   "id": "14ad2d69",
   "metadata": {},
   "source": [
    "### 3. Exercise 10:\n",
    "\n",
    "- Create a Series that contains the date of all the Sundays of the year 2023.\n",
    "Look at the documentation: https://pandas.pydata.org/docs/reference/api/pandas.date_range.html"
   ]
  },
  {
   "cell_type": "code",
   "execution_count": 40,
   "id": "3122084c",
   "metadata": {},
   "outputs": [
    {
     "name": "stdout",
     "output_type": "stream",
     "text": [
      "0    2023-01-01\n",
      "1    2023-01-08\n",
      "2    2023-01-15\n",
      "3    2023-01-22\n",
      "4    2023-01-29\n",
      "5    2023-02-05\n",
      "6    2023-02-12\n",
      "7    2023-02-19\n",
      "8    2023-02-26\n",
      "9    2023-03-05\n",
      "10   2023-03-12\n",
      "11   2023-03-19\n",
      "12   2023-03-26\n",
      "13   2023-04-02\n",
      "14   2023-04-09\n",
      "15   2023-04-16\n",
      "16   2023-04-23\n",
      "17   2023-04-30\n",
      "18   2023-05-07\n",
      "19   2023-05-14\n",
      "20   2023-05-21\n",
      "21   2023-05-28\n",
      "22   2023-06-04\n",
      "23   2023-06-11\n",
      "24   2023-06-18\n",
      "25   2023-06-25\n",
      "26   2023-07-02\n",
      "27   2023-07-09\n",
      "28   2023-07-16\n",
      "29   2023-07-23\n",
      "30   2023-07-30\n",
      "31   2023-08-06\n",
      "32   2023-08-13\n",
      "33   2023-08-20\n",
      "34   2023-08-27\n",
      "35   2023-09-03\n",
      "36   2023-09-10\n",
      "37   2023-09-17\n",
      "38   2023-09-24\n",
      "39   2023-10-01\n",
      "40   2023-10-08\n",
      "41   2023-10-15\n",
      "42   2023-10-22\n",
      "43   2023-10-29\n",
      "44   2023-11-05\n",
      "45   2023-11-12\n",
      "46   2023-11-19\n",
      "47   2023-11-26\n",
      "48   2023-12-03\n",
      "49   2023-12-10\n",
      "50   2023-12-17\n",
      "51   2023-12-24\n",
      "dtype: datetime64[ns]\n"
     ]
    }
   ],
   "source": [
    "\n",
    "all_sundays_of_2023 = ...\n",
    "print(all_sundays_of_2023)"
   ]
  },
  {
   "cell_type": "markdown",
   "id": "28bd3873",
   "metadata": {},
   "source": [
    "## Conclusion \n",
    "    In this  notebook, you have learnt to create pandas series and to perform basic arithmetic operations on them. "
   ]
  }
 ],
 "metadata": {
  "kernelspec": {
   "display_name": "Python 3 (ipykernel)",
   "language": "python",
   "name": "python3"
  },
  "language_info": {
   "codemirror_mode": {
    "name": "ipython",
    "version": 3
   },
   "file_extension": ".py",
   "mimetype": "text/x-python",
   "name": "python",
   "nbconvert_exporter": "python",
   "pygments_lexer": "ipython3",
   "version": "3.9.12"
  }
 },
 "nbformat": 4,
 "nbformat_minor": 5
}

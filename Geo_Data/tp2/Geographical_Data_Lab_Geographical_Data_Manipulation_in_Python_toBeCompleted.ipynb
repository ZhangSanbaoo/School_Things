{
 "cells": [
  {
   "cell_type": "markdown",
   "metadata": {},
   "source": [
    "# **GIS Lab : Geographical data manipulation in Python**"
   ]
  },
  {
   "cell_type": "markdown",
   "metadata": {},
   "source": [
    "Antoine Gademer - 2023"
   ]
  },
  {
   "cell_type": "markdown",
   "metadata": {},
   "source": [
    "**Objectifs** :\n",
    "\n",
    "The objective of this Lab is to show you how to manipulate geographical data (both vector and raster) in Python in order to :\n",
    "1. EXPLORE a dataset, discover link and implications\n",
    "2. PRODUCE a data visualisation in form of an (interactive) map\n",
    "\n",
    "In order to do that we will try to master several common tasks:\n",
    "\n",
    "*PART 1 : Vector data*\n",
    "- Read a vector file (SHP, GPKG, ...), show the attribute table and display the geometry. \n",
    "- Filter entities based on the attributes fields\n",
    "- How to connect to WFS API (remote source of vector data)\n",
    "- Filter entities based on the geometry field\n",
    "- Taking care of CRS compatibility\n",
    "- Display vector data on a map background\n",
    "- Export modified vector data\n",
    "- Add important map element : legenda, scale, (north), title/author/date/sources and Export the map in HTML format\n",
    "\n",
    "*PART 2 : Raster data*\n",
    "- Read a raster file, show the pixel values and display the corresponding image\n",
    "- Display vector data on a map background (Taking care of CRS compatibility and reprojection !)"
   ]
  },
  {
   "cell_type": "markdown",
   "metadata": {},
   "source": [
    "# PART 1 : Vector Data"
   ]
  },
  {
   "cell_type": "markdown",
   "metadata": {},
   "source": [
    "## - Read a vector file (SHP, GPKG, ...), show the attribute table and display the geometry. "
   ]
  },
  {
   "cell_type": "markdown",
   "metadata": {},
   "source": [
    "Vector data are all composed of Point, PolyLines, (Multi-)Polygons. \n",
    "\n",
    "But it exists a lot of file format that encode this information differently. The most popular ones are ArcGIS Shape file (.shp), Geopackages (.gpkg) and Geojson (.json) but their is many others (Mapinfo .MIF, etc.)\n",
    "\n",
    "In return, it also exists several python libraries to read them. [GDAL](https://gdal.org/api/python_bindings.html), [pyshp](https://pypi.org/project/pyshp/), [Geopandas](https://geopandas.org/), [pygis](https://pygis.io), [Leafmap](https://leafmap.org/), [EarthPy](https://earthpy.readthedocs.io/)\n",
    "\n",
    "In this Notebook, we will use ```Geopandas``` that is at a medium level of abstraction (able to tackle many sources of data, not too specific on the task it can manage)."
   ]
  },
  {
   "cell_type": "markdown",
   "metadata": {},
   "source": [
    "☞ Download the dataset on Moodle, unzip it and open ```regions-20190101.shp``` with `geopandas`"
   ]
  },
  {
   "cell_type": "code",
   "execution_count": null,
   "metadata": {},
   "outputs": [],
   "source": [
    "#Your code here\n",
    "%pip install geopandas\n",
    "import geopandas as gpd"
   ]
  },
  {
   "cell_type": "code",
   "execution_count": null,
   "metadata": {},
   "outputs": [],
   "source": [
    "shp_file_path = \"data/Regions/regions-20190101.shp\"\n",
    "gdf = gpd.read_file(shp_file_path)\n",
    "print(gdf.head())"
   ]
  },
  {
   "cell_type": "markdown",
   "metadata": {},
   "source": [
    "☞ Use the  `.plot()` function to plot the geometry of the GeoDataframe"
   ]
  },
  {
   "cell_type": "code",
   "execution_count": null,
   "metadata": {},
   "outputs": [],
   "source": [
    "#Your code here\n",
    "import matplotlib.pyplot as plt\n",
    "gdf.plot()"
   ]
  },
  {
   "cell_type": "markdown",
   "metadata": {},
   "source": [
    "☞ Use the `.crs` attribute to show the information about the **Coordinate Reference System** used by the GeoDataframes"
   ]
  },
  {
   "cell_type": "code",
   "execution_count": null,
   "metadata": {},
   "outputs": [],
   "source": [
    "#Your code here\n",
    "crs_info = gdf.crs\n",
    "print(crs_info)"
   ]
  },
  {
   "cell_type": "markdown",
   "metadata": {},
   "source": [
    "☞ Use the `explore()` function on your GeoDataframe to get an interactive map (using the Leaflet library in background)\n",
    "\n",
    "Explore will try to show all the info contained in the columns as a popup when you click on an entity.\n"
   ]
  },
  {
   "cell_type": "code",
   "execution_count": null,
   "metadata": {},
   "outputs": [],
   "source": [
    "#Your code here\n",
    "%pip install folium\n",
    "%pip install mapclassify\n",
    "import folium"
   ]
  },
  {
   "cell_type": "code",
   "execution_count": null,
   "metadata": {},
   "outputs": [],
   "source": [
    "m = folium.Map(location=[gdf.geometry.centroid.y.mean(), gdf.geometry.centroid.x.mean()], zoom_start=10)\n",
    "for idx, row in gdf.iterrows():\n",
    "    popup = folium.Popup(row.to_string(), max_width=300)\n",
    "    folium.GeoJson(row.geometry.__geo_interface__, popup=popup).add_to(m)\n",
    "m.save(\"interactive_map.html\")\n",
    "gdf.explore()"
   ]
  },
  {
   "cell_type": "markdown",
   "metadata": {},
   "source": [
    "## - Filter entities based on the attributes fields"
   ]
  },
  {
   "cell_type": "markdown",
   "metadata": {},
   "source": [
    "☞ Select the Region Bretagne and show it."
   ]
  },
  {
   "cell_type": "markdown",
   "metadata": {},
   "source": [
    "<details>\n",
    "\n",
    "<summary>Tips</summary>\n",
    "\n",
    "GeoDataframe are basically pandas's Dataframe + a geometry field. You can use the filtering capacities of pandas.\n",
    "```\n",
    "df[df[\"myColumn\"]==\"Value\"] # Select only the rows where the myColumn field equal \"Value\".\n",
    "```\n",
    "\n",
    "</details>"
   ]
  },
  {
   "cell_type": "code",
   "execution_count": null,
   "metadata": {},
   "outputs": [],
   "source": [
    "#Your code here\n",
    "bretagne = gdf[gdf['nom'] == 'Bretagne']\n",
    "bretagne.plot()"
   ]
  },
  {
   "cell_type": "code",
   "execution_count": null,
   "metadata": {},
   "outputs": [],
   "source": [
    "bretagne.explore()"
   ]
  },
  {
   "cell_type": "markdown",
   "metadata": {},
   "source": [
    "## - How to connect to WFS API (remote source of vector data)"
   ]
  },
  {
   "cell_type": "markdown",
   "metadata": {},
   "source": [
    "Geographical Information System have a long history of accessing remote data via APIs. Since 2003, the WFS (Web Feature Service) define an interface protocol to query remote server and accesss vector data.\n",
    "\n",
    "The French National Geographic Institute (IGN) propose a lot of services freely avaiable (More info : https://geoservices.ign.fr/services-web-experts)"
   ]
  },
  {
   "cell_type": "markdown",
   "metadata": {},
   "source": [
    "Example:\n",
    "```\n",
    "https://wxs.ign.fr/topographie/geoportail/wfs?SERVICE=WFS&VERSION=2.0.0&request=GetFeature&OUTPUTFORMAT=application/json&typename=BDTOPO_V3:cours_d_eau&CQL_FILTER=toponyme%20ilike%20%27la%20Loire%27\n",
    "```\n",
    "\n",
    "- `topographie` is the keyword to access the BD TOPO (a collection of vector data on many subject : administrative, rivers, roads, etc.)\n",
    "- `typename=BDTOPO_V3:cours_d_eau` we ask for the `cours_d_eau` (i.e. water stream) layer.\n",
    "- `CQL_FILTER=toponyme ilike \"la Loire\"` we add a filter (i.e. a WHERE condition) on the `toponyme` property. Here we select all the water stream named `la Loire`.\n",
    "\n",
    "Notes : \n",
    "1. the service will send 1000 rows AT MOST\n",
    "2. the `&count=XX` option can limit the number of row returned to XX max.\n",
    "3. if you want to use a joker, you can write `CQL_FILTER=toponyme ilike \"%Loire%\"` (but think to encode it as URL --> `CQL_FILTER=toponyme%20ilike%20%27%25Loire%25%27`. '%25' is the [url encoding](https://www.w3schools.com/tags/ref_urlencode.ASP) of the '%' character).\n",
    "4. you can combine filters with the `and` operator\n"
   ]
  },
  {
   "cell_type": "markdown",
   "metadata": {},
   "source": [
    "**Important note**: Geopandas can read WFS urls with the `read_file()` function 😊"
   ]
  },
  {
   "cell_type": "markdown",
   "metadata": {},
   "source": [
    "☞ Use the previously described url to load a GeoDataframe containing all the water stream called \"la Loire\".\n",
    "\n",
    "Display the content of the GeoDataframe"
   ]
  },
  {
   "cell_type": "code",
   "execution_count": null,
   "metadata": {},
   "outputs": [],
   "source": [
    "#Your code here\n",
    "wfs_url = \"https://wxs.ign.fr/topographie/geoportail/wfs?SERVICE=WFS&VERSION=2.0.0&request=GetFeature&OUTPUTFORMAT=application/json&typename=BDTOPO_V3:cours_d_eau&CQL_FILTER=toponyme%20ilike%20%27la%20Loire%27\"\n",
    "gdf_loire = gpd.read_file(wfs_url)\n",
    "print(gdf_loire)\n",
    "gdf_loire.plot()"
   ]
  },
  {
   "cell_type": "markdown",
   "metadata": {},
   "source": [
    "<details>\n",
    "\n",
    "<summary>Help it says \"Cannot convert Timestamp to JSON when I want to use the `explore()` function!</summary>\n",
    "\n",
    "Behind the curtain, `explore()` is converting your data in GeoJson and the Timestamp type is not convertible.\n",
    "\n",
    "Just skip the problematic columns:\n",
    "```\n",
    "gdf_river.loc[:,~gdf_river.columns.isin(['date_creation', 'date_modification'])].explore()\n",
    "```\n",
    "\n",
    "</details>"
   ]
  },
  {
   "cell_type": "markdown",
   "metadata": {},
   "source": [
    "There seem to be usurpers (or more likely homonyms) in the list.\n",
    "\n",
    "The `length` attribute of the GeoDataframe calculate the length of the polyline of each \"geometry\" field.\n",
    "\n",
    "Important note: the WGS84 CRS gives coordinates in degree. It is not a good projection for geometrical measurement.\n",
    "Geopandas allows you to convert your geometry to a new CRS with the `to_crs()` function."
   ]
  },
  {
   "cell_type": "markdown",
   "metadata": {},
   "source": [
    "☞ \n",
    "- Convert the dataframe to the CRS `EPSG:2154` (Lambert93).\n",
    "- Use the `crs` attribute to see the unit of the coordinates.\n",
    "- Calculate the length **in kilometer** of each river\n",
    "- Save the information as a new field \"Length_in_kilometer\" in the original GeoDataframe\n",
    "- Print the values\n",
    "\n",
    "Question: Which one is the \"right\" one ? (Considering https://en.wikipedia.org/wiki/Loire )"
   ]
  },
  {
   "cell_type": "code",
   "execution_count": null,
   "metadata": {},
   "outputs": [],
   "source": [
    "#Your code here\n",
    "#Your code here\n",
    "gdf_loire = gdf_loire.to_crs(epsg=2154)\n",
    "\n",
    "print(gdf_loire.crs)\n",
    "\n",
    "gdf_loire['Length_in_kilometer'] = gdf_loire['geometry'].length / 1000\n",
    "\n",
    "print(gdf_loire[['toponyme', 'Length_in_kilometer']])\n"
   ]
  },
  {
   "cell_type": "markdown",
   "metadata": {},
   "source": [
    "### - Filter entities based on the geometry field"
   ]
  },
  {
   "cell_type": "markdown",
   "metadata": {},
   "source": [
    "The `intersects` function can be used to filter entities that intersects **a geometrical object**. It return a Series of True/False value based on the fact that each Geometry of the Dataframe intersect of not the geometrical object.\n",
    "\n",
    "*Warning: If you give it two GeoSeries, it will try to test row-by-row (not each row with all the row of the other).*\n",
    "\n",
    "The geometrical object associated to a row is in the `\"geometry\"` field."
   ]
  },
  {
   "cell_type": "markdown",
   "metadata": {},
   "source": [
    "☞ \n",
    "- Extract the geometry of the Loire river\n",
    "- Filter the regions that intersects the Loire river and display them."
   ]
  },
  {
   "cell_type": "code",
   "execution_count": null,
   "metadata": {},
   "outputs": [],
   "source": [
    "#Your code here\n",
    "gdf_loire = gpd.read_file(wfs_url)\n",
    "gdf_loire = gdf_loire[gdf_loire.index==2]\n",
    "loire_geometry = gdf_loire.unary_union\n",
    "intersected_regions = gdf[gdf[\"geometry\"].intersects(loire_geometry)]\n",
    "\n",
    "print(intersected_regions)\n",
    "intersected_regions.plot()"
   ]
  },
  {
   "cell_type": "markdown",
   "metadata": {},
   "source": [
    "## - Taking care of CRS compatibility"
   ]
  },
  {
   "cell_type": "markdown",
   "metadata": {},
   "source": [
    "The `BD_ROUTE_roads.gpkg` is a vector data file from another of IGN product : the BD ROUTE.\n",
    "\n",
    "☞\n",
    "- Load the data with Geopandas\n",
    "- Select the roads that interesects at least one of the previously selected regions\n",
    "\n",
    "Tips: \n",
    "- `unary_union` attribute allows to get the union of all geometry of your GeoDataframe (try a `display()` on it to understand what you have)\n",
    "- `simplify(tolerance=0.1)` would allow you to get a simpler geometry (and a MUCH quicker computation time on the `intersects()`)\n",
    "\n",
    "**⚠** tolerance is in the same unit as the CRS your are using. For WGS84, 0.1° is a good compromise but for Lambert93, 0.1m is not much 😛. Don't hesitate to take a much higher value (5km per ex.)\n",
    "\n",
    "**A good practice is to display the geometry your using before calling `intersects()`**"
   ]
  },
  {
   "cell_type": "markdown",
   "metadata": {},
   "source": [
    "<details>\n",
    "\n",
    "<summary>Tips</summary>\n",
    "\n",
    "Have you check the CRS of the two layers your try to intersect ?\n",
    "\n",
    "Remember `.crs` and `.to_crs()`\n",
    "</details>"
   ]
  },
  {
   "cell_type": "code",
   "execution_count": null,
   "metadata": {},
   "outputs": [],
   "source": [
    "#Your code here\n",
    "region_geometry = intersected_regions.unary_union.simplify(tolerance=5000)\n",
    "region_geometry"
   ]
  },
  {
   "cell_type": "code",
   "execution_count": null,
   "metadata": {},
   "outputs": [],
   "source": [
    "roads_gdf = gpd.read_file(\"data/BD_ROUTE/BD_ROUTE_roads.gpkg\")\n",
    "roads_gdf = roads_gdf.to_crs(gdf.crs)\n",
    "intersected_roads = roads_gdf[roads_gdf.intersects(region_geometry)]\n",
    "intersected_roads"
   ]
  },
  {
   "cell_type": "markdown",
   "metadata": {},
   "source": [
    "## - Display vector data (on a map background)"
   ]
  },
  {
   "cell_type": "markdown",
   "metadata": {},
   "source": [
    "### With matplotlib"
   ]
  },
  {
   "cell_type": "markdown",
   "metadata": {},
   "source": [
    "Your mastery of matplotlib should allow you to combine all the \"plot\"\n",
    "\n",
    "☞ Plot the selected regions,river,roads together\n",
    "\n",
    "- The regions should be grey and only show the boundary (no filling)\n",
    "- The river should be blue\n",
    "- The roads should be brown\n",
    "- Highways ('Autoroute') should be 2pt width and the Nationale roads ('Nationale') 1pt width (look at the \"CLASS_ADM\" field and the `linewidth` plot property)\n",
    "- It should show a legend\n",
    "\n",
    "Tips: the `boundary` attribute of a GeoDataframe return a **polyline** corresponding to the boundary (instead of the original polygon)\n",
    "\n",
    "![The resulting image](./img/final_plot_example.png)"
   ]
  },
  {
   "cell_type": "markdown",
   "metadata": {},
   "source": [
    "<details>\n",
    "\n",
    "<summary>Help : how to combine the plots?</summary>\n",
    "\n",
    "In general, `plot()` allows you pass the axes (`ax=`) where you want to plot !\n",
    "</details>"
   ]
  },
  {
   "cell_type": "markdown",
   "metadata": {},
   "source": [
    "<details>\n",
    "\n",
    "<summary>Help : how do I create a legend?</summary>\n",
    "\n",
    "The `plt.legend()` create the legend of the plot. But you need to have specified the `label` attribute in each of you plots !\n",
    "</details>"
   ]
  },
  {
   "cell_type": "markdown",
   "metadata": {},
   "source": [
    "<details>\n",
    "\n",
    "<summary>Help : how do I differentiate the linewidth based on attribute?</summary>\n",
    "\n",
    "`plot()` is able to do categorical colors by itself (see the `column=` and `cmap=` parameters). But you wont be able to control a lot of parameter (including the `linewidth`).\n",
    "\n",
    "A smart way is to us the `groupBy()` function of Pandas and to plot separatly each group.\n",
    "```\n",
    "linewidthMap = {'Autoroute':2,'Nationale':1} # A dict to store the relation between class and linewidth\n",
    "labelMap = {'Autoroute':'Highways','Nationale':'National'} # A dict to store the relation between class and label\n",
    "# You could have other for color, linestyle, etc.\n",
    "for ctype, data in gdf_roads_intersect.groupby('CLASS_ADM'): # Group by CLASS_ADM\n",
    "    data.plot(ax=ax,\n",
    "              color='brown',label=labelMap[ctype],linewidth=linewidthMap[ctype])\n",
    "```\n",
    "</details>"
   ]
  },
  {
   "cell_type": "code",
   "execution_count": null,
   "metadata": {},
   "outputs": [],
   "source": [
    "from matplotlib import pyplot as plt\n",
    "fig, ax = plt.subplots()\n",
    "#Your code here\n",
    "intersected_regions.boundary.plot(ax=ax, color='grey', label='Regions')\n",
    "gdf_loire.plot(ax=ax, color='blue', label='La Loire')\n",
    "linewidthMap = {'Autoroute': 2, 'Nationale': 1}\n",
    "labelMap = {'Autoroute': 'Highways', 'Nationale': 'National Roads'}\n",
    "\n",
    "for ctype, data in intersected_roads.groupby('CLASS_ADM'):\n",
    "    data.plot(ax=ax, color='brown', label=labelMap[ctype], linewidth=linewidthMap[ctype])\n",
    "ax.legend()\n",
    "plt.show()"
   ]
  },
  {
   "cell_type": "markdown",
   "metadata": {},
   "source": [
    "The results is not bad, but it is not that easy to localize the information.\n",
    "\n",
    "Having a map background (like G..gle Maps or OpenStreetMaps (OSM)) would be a great addition.\n",
    "\n",
    "Having the possibility to pan/zoom around would also be great!"
   ]
  },
  {
   "cell_type": "markdown",
   "metadata": {},
   "source": [
    "### With Folium"
   ]
  },
  {
   "cell_type": "markdown",
   "metadata": {},
   "source": [
    "Leaflet is the javascript engine behind the nice `explore()` function.\n",
    "\n",
    "To combine it the way we have with `plot()`, we need a map object created using `folium` a python binding around Leaflet."
   ]
  },
  {
   "cell_type": "code",
   "execution_count": null,
   "metadata": {},
   "outputs": [],
   "source": [
    "import folium\n",
    "\n",
    "map = folium.Map() # Create the map object\n",
    "\n",
    "map.fit_bounds([[41.333191,-5.1412766] ,  [51.0889911,9.560053]]) # Zooming to France bounding box\n",
    "\n",
    "display(map) # Actually displaying the map"
   ]
  },
  {
   "cell_type": "markdown",
   "metadata": {},
   "source": [
    "Ok. We have our map. How can we add our vector layers?\n",
    "\n",
    "You can pass the `map` object to your `explore()` function (the parameter is called `m=`).\n",
    "```\n",
    "gdf.explore(m=map)\n",
    "```\n",
    "\n",
    "**⚠ Remember that leaflet only works with data in WGS84/EPSG:4326 CRS**\n",
    "\n",
    "You can find all the parameter of the `explore()` function here : https://geopandas.org/en/stable/docs/reference/api/geopandas.GeoDataFrame.explore.html\n",
    "\n",
    "We can point you to several interesting ones:\n",
    "- `color=`\n",
    "- `tooltip=`\n",
    "- `popup=`\n",
    "- `style_kwds=` and in particular : `style_kwds={'fill':False}` and the very powerful : \n",
    "```\n",
    "style_kwds={'style_function':lambda x: {\n",
    "    \"fillColor\": \"#0000ff\"\n",
    "    if x[\"properties\"][\"nom\"] == \"Pays de la Loire\"\n",
    "    else \"#00ff00\"\n",
    "}}\n",
    "```\n",
    "*(You can do practically **any** customization with this lambda function)*"
   ]
  },
  {
   "cell_type": "markdown",
   "metadata": {},
   "source": [
    "☞ Plot on a Folium map the selected regions,river,roads together\n",
    "\n",
    "- The river should be blue\n",
    "- The roads should be brown with the Highways 2pt and National 1pt width (Use `style_function` power or the `groupby` technique)\n",
    "- The regions should be grey and only show the boundary (no filling)\n",
    "- It should show a legend\n",
    "\n",
    "![The result we want to obtain](./img/final_folium_example.png)"
   ]
  },
  {
   "cell_type": "code",
   "execution_count": null,
   "metadata": {},
   "outputs": [],
   "source": [
    "#Your code here\n",
    "intersected_regions= intersected_regions.to_crs(\"EPSG:4326\")\n",
    "gdf_loire = gdf_loire.to_crs(\"EPSG:4326\")\n",
    "if 'date_creation' in gdf_loire.columns or 'date_modification' in gdf_loire.columns:\n",
    "    gdf_loire = gdf_loire.drop(columns=['date_creation', 'date_modification'])\n",
    "intersected_roads = intersected_roads.to_crs(\"EPSG:4326\")\n",
    "m = folium.Map(location=[46.603354, 1.888334], zoom_start=6)\n",
    "folium.GeoJson(gdf_loire, name='Loire', style_function=lambda x: {'color': 'blue'}).add_to(m)\n",
    "for ctype, data in intersected_roads.groupby('CLASS_ADM'):\n",
    "    style = {'color': 'brown', 'weight': 2 if ctype == 'Autoroute' else 1}\n",
    "    folium.GeoJson(data, name=f'Roads - {ctype}', style_function=lambda x, style=style: style).add_to(m)\n",
    "folium.GeoJson(intersected_regions, name='Regions Boundary', style_function=lambda x: {'color': 'gray', 'fillOpacity': 0}).add_to(m)\n",
    "folium.LayerControl().add_to(m)\n",
    "display(m)"
   ]
  },
  {
   "cell_type": "markdown",
   "metadata": {},
   "source": [
    "<details>\n",
    "\n",
    "<summary>Help it says \"Cannot convert Timestamp to JSON!</summary>\n",
    "\n",
    "Timestamp type is not convertible to (Geo)Json.\n",
    "\n",
    "Just skip the problematic columns:\n",
    "```\n",
    "gdf_river.loc[:,~gdf_river.columns.isin(['date_creation', 'date_modification'])].explore()\n",
    "```\n",
    "or in reverse, choose the pertinent column to show (don't forget the `'geometry'` field!):\n",
    "```\n",
    "gdf_river[['toponyme','Length_in_kilometer','geometry']].explore()\n",
    "```\n",
    "\n",
    "</details>"
   ]
  },
  {
   "cell_type": "markdown",
   "metadata": {},
   "source": [
    "<details>\n",
    "\n",
    "<summary>Help : How do I add a legend?</summary>\n",
    "\n",
    "`folium` has a `LayerControl` object for you 😊\n",
    "\n",
    "Just skip the problematic columns:\n",
    "```\n",
    "map.add_child(folium.LayerControl(collapsed=False))\n",
    "```\n",
    "\n",
    "But your GeoJson must have a `name=` attribute set to serve as labels.\n",
    "\n",
    "</details>"
   ]
  },
  {
   "cell_type": "markdown",
   "metadata": {},
   "source": [
    "## - Export modified vector data"
   ]
  },
  {
   "cell_type": "markdown",
   "metadata": {},
   "source": [
    "We you want to save your work and your modified GeoDataframe, it is as simple as calling the `to_file()` function and choosing a vector data file extension : '.gpkg' (counseled) or '.shp' (*remember that you need to send/save all the other files : shx,dbf,etc. along with the shp*)"
   ]
  },
  {
   "cell_type": "markdown",
   "metadata": {},
   "source": [
    "☞ Save your modified GeoDataframes into three GPKG files"
   ]
  },
  {
   "cell_type": "code",
   "execution_count": null,
   "metadata": {},
   "outputs": [],
   "source": [
    "#Your code here\n",
    "gdf_loire.to_file('loire.gpkg', driver='GPKG')\n",
    "intersected_regions.to_file('intersected_regions.gpkg', driver='GPKG')\n",
    "intersected_roads.to_file('intersected_roads.gpkg', driver='GPKG')"
   ]
  },
  {
   "cell_type": "markdown",
   "metadata": {},
   "source": [
    "## - Add important map element : legenda, scale, (north), title/author/date/sources and Export the map in HTML format"
   ]
  },
  {
   "cell_type": "markdown",
   "metadata": {},
   "source": [
    "To be a **valid** map, a map should present a minimum number of information that should **always** be there :\n",
    "- A Title (pertinent in regard of the **goal** of the map)\n",
    "- A legenda\n",
    "- A scale\n",
    "- The author name\n",
    "- The date of creation\n",
    "- The sources (and eventually the date of sources)\n",
    "- A North arrow (if the North is not Up)"
   ]
  },
  {
   "cell_type": "markdown",
   "metadata": {},
   "source": [
    "To add a **scale** to your map, simply use the `control_scale=True` parameter when creating the map.\n",
    "```\n",
    "map = folium.Map(control_scale = True)\n",
    "```"
   ]
  },
  {
   "cell_type": "markdown",
   "metadata": {},
   "source": [
    "To add a textual element like you need to add HTML blocks to your map with the `folium.Element` object.\n",
    "\n",
    "The `addFixedOverlay()` function will help you if you're not a CSS guru 😛"
   ]
  },
  {
   "cell_type": "code",
   "execution_count": null,
   "metadata": {},
   "outputs": [],
   "source": [
    "def addFixedOverlay(map, txtInHTML,cornerRef=\"BL\",position=(50,50),z_index=9999,div_style=\"\"):\n",
    "    switch = {\"BL\":'bottom: {}px; left:{}px;',\n",
    "               \"TL\":'top: {}px; left:{}px;',\n",
    "               \"TR\":'top: {}px; right:{}px;',\n",
    "               \"BR\":'bottom: {}px; right:{}px;',\n",
    "               \"TC\":'top: {}px; left:50%;margin-left:{}px;', # second param should be the half of the width\n",
    "               \"BC\":'bottom: {}px; left:50%;margin-left:{}px;', # second param should be the half of the width\n",
    "             }\n",
    "    \n",
    "    print(switch[cornerRef].format(position[0],position[1]))\n",
    "    overlay_html=\"\"\"\n",
    "<div style=\"position: fixed; {} z-index: {}; background-color: white; padding: 10px; border: 2px solid grey; {} \">\n",
    "{}\n",
    "</div>\n",
    "\"\"\".format(switch[cornerRef].format(position[0],position[1]),z_index,div_style,txtInHTML)\n",
    "    map.get_root().html.add_child(folium.Element(overlay_html))"
   ]
  },
  {
   "cell_type": "markdown",
   "metadata": {},
   "source": [
    "\n",
    "Example:\n",
    "```\n",
    "addFixedOverlay(map,\"<p>Author: A. Gademer. Date: 26/09/2023.</p><p>Sources : IGN&#39s BD TOPO v3 (WFS), IGN&#39s BD ROUTE 2021, OSM Regions shapes</p>\",cornerRef=\"BR\",position=(15,10),div_style=\"max-width:300px;\")\n",
    "```"
   ]
  },
  {
   "cell_type": "markdown",
   "metadata": {},
   "source": [
    "To add have a pretty **legend**, we can add a `folium.LayerControl()` to your map, simply use the `control_scale=True` parameter when creating the map.\n",
    "```\n",
    "map.add_child(folium.LayerControl(collapsed=False)) # You need to call it AFTER adding all your layers.\n",
    "```"
   ]
  },
  {
   "cell_type": "markdown",
   "metadata": {},
   "source": [
    "\n",
    "![Ugly legend](./img/ugly_legend.png)\n",
    "\n",
    "<details>\n",
    "\n",
    "<summary>Help it my legend looks ugly</summary>\n",
    "\n",
    "You should set the `name=` parameter of the `explore()` function.\n",
    "\n",
    "Note that you can pass any HTML code, so you can do pretty legend instead !\n",
    "\n",
    "Example:\n",
    "```\n",
    "gdf_regions.explore(m=map,color=\"grey\",name='<span style=\"color: grey;\">▬</span> Regions (Boundary)')\n",
    "```\n",
    "\n",
    "</details>"
   ]
  },
  {
   "cell_type": "markdown",
   "metadata": {},
   "source": [
    "**Export**: To export the folium map just use:\n",
    "```\n",
    "map.save(\"MYNAME_PART1_map.html\")\n",
    "```\n",
    "\n",
    "But don't forget to check is there is some depencies (images, data) to zip together in the archive you deposit.\n"
   ]
  },
  {
   "cell_type": "markdown",
   "metadata": {},
   "source": [
    "☞ Add a *pertinent* title and a scale to your map (and any other element you achieve) and export your map in HTML."
   ]
  },
  {
   "cell_type": "code",
   "execution_count": null,
   "metadata": {},
   "outputs": [],
   "source": [
    "# Your code here\n",
    "intersected_regions = intersected_regions.to_crs(\"EPSG:4326\")\n",
    "gdf_loire = gdf_loire.to_crs(\"EPSG:4326\")\n",
    "if 'date_creation' in gdf_loire.columns or 'date_modification' in gdf_loire.columns:\n",
    "    gdf_loire = gdf_loire.drop(columns=['date_creation', 'date_modification'])\n",
    "intersected_roads = intersected_roads.to_crs(\"EPSG:4326\")\n",
    "m = folium.Map(location=[46.603354, 1.888334],\n",
    "                zoom_start=6, control_scale=True)\n",
    "title_txt = \"Region contact with loire\"\n",
    "title_html = '''\n",
    "            <h3 align=\"center\" style=\"font-size:16px\"><b>{}</b></h3>\n",
    "            '''.format(title_txt)\n",
    "\n",
    "m.get_root().html.add_child(folium.Element(title_html))\n",
    "author_info = \"<p>Author: W. Haoyu. Date: 29/09/2023.</p><p>Sources : IGN&#39s BD TOPO v3 (WFS), IGN&#39s BD ROUTE 2021, OSM Regions shapes</p>\"\n",
    "addFixedOverlay(m, author_info, cornerRef=\"BR\", position=(\n",
    "    15, 10), div_style=\"max-width:300px;\")\n",
    "folium.GeoJson(gdf_loire, name='Loire', style_function=lambda x: {\n",
    "                'color': 'blue'}).add_to(m)\n",
    "for ctype, data in intersected_roads.groupby('CLASS_ADM'):\n",
    "    style = {'color': 'brown', 'weight': 2 if ctype == 'Autoroute' else 1}\n",
    "    folium.GeoJson(\n",
    "        data, name=f'Roads - {ctype}', style_function=lambda x, style=style: style).add_to(m)\n",
    "folium.GeoJson(intersected_regions, name='Regions Boundary',\n",
    "                style_function=lambda x: {'color': 'gray', 'fillOpacity': 0}).add_to(m)\n",
    "m.add_child(folium.LayerControl(collapsed=False))\n",
    "m.save(\"MyMap.html\")\n",
    "display(m)\n"
   ]
  },
  {
   "cell_type": "markdown",
   "metadata": {},
   "source": [
    "# PART 2 : Raster Data"
   ]
  },
  {
   "cell_type": "markdown",
   "metadata": {},
   "source": [
    "## - Read a raster file, show the pixel values and display the corresponding image"
   ]
  },
  {
   "cell_type": "markdown",
   "metadata": {},
   "source": [
    "`geopandas` is perfect for vector data, but it does not know how to manage raster data.\n",
    "\n",
    "It exists several library for managing raster data : [GDAL](https://gdal.org/api/python_bindings.html), [rasterio](https://rasterio.readthedocs.io), [rioxarray](https://corteva.github.io/rioxarray/), [pygis](https://pygis.io), [Leafmap](https://leafmap.org/), [EarthPy](https://earthpy.readthedocs.io/)\n",
    "\n",
    "In this lab, we will use `rioxarray` that seem to me a good compromise in my tests."
   ]
  },
  {
   "cell_type": "markdown",
   "metadata": {},
   "source": [
    "The main difference between classical image (let say jpg/png/tif) and raster (let say (geo)tif or jp2) is the presence of CRS information.\n",
    "\n",
    "To **open** a raster file we will use the `rioxarray.open_rasterio(filename)` function.\n",
    "\n",
    "You can see the **CRS** of the file with `raster.rio.crs`\n",
    "\n",
    "You can see the **dimensions** of the raster with `raster.shape`\n",
    "\n",
    "You can have the **bounding box** of the raster with `raster.rio.bounds()`\n",
    "\n",
    "You can have more information of the object with `display(raster)`\n",
    "\n",
    "To **plot** the content of the raster, we need to use the `show` function imported from rasterio **on the `raster.data` attribute**:\n",
    "```\n",
    "from rasterio.plot import show\n",
    "show(raster.data)\n",
    "```"
   ]
  },
  {
   "cell_type": "markdown",
   "metadata": {},
   "source": [
    "☞ Open the `La_chapelle_Montinard.tif` raster image and show all the important information (and plot it)."
   ]
  },
  {
   "cell_type": "code",
   "execution_count": null,
   "metadata": {},
   "outputs": [],
   "source": [
    "%pip install rioxarray\n",
    "import rioxarray\n",
    "from rasterio.plot import show"
   ]
  },
  {
   "cell_type": "code",
   "execution_count": null,
   "metadata": {},
   "outputs": [],
   "source": [
    "#Your code here\n",
    "raster = rioxarray.open_rasterio('data/BD_ORTHO/La_chapelle_Montinard.tif')\n",
    "raster.rio.crs\n",
    "raster.shape\n",
    "raster.rio.bounds()\n",
    "show(raster.data)\n",
    "display(raster)"
   ]
  },
  {
   "cell_type": "markdown",
   "metadata": {},
   "source": [
    "You could also use Pillow, but beware that the order of the dimensions are reversed.\n",
    "Pillow want Height, Width, Channels when rioxarray is Channel, Height, Width\n",
    "```\n",
    "from PIL import Image\n",
    "display(Image.fromarray(raster.data.transpose([1,2,0]))) # Height, Width, Channels (rioxarray is Channel, Height, Width)\n",
    "```"
   ]
  },
  {
   "cell_type": "code",
   "execution_count": null,
   "metadata": {},
   "outputs": [],
   "source": [
    "#Your code here\n",
    "from PIL import Image\n",
    "image_data_pillow = raster.data.transpose([1, 2, 0])\n",
    "image_pillow = Image.fromarray(image_data_pillow)\n",
    "display(image_pillow)"
   ]
  },
  {
   "cell_type": "markdown",
   "metadata": {},
   "source": [
    "Side note: The IGN's BD ORTHO offer a 20cm GSD (Ground Sample Distance), i.e 1 pixel = 20cm, a quite neat precision, all over the territory !"
   ]
  },
  {
   "cell_type": "markdown",
   "metadata": {},
   "source": [
    "## - Display vector data on a map background (Taking care of CRS compatibility and reprojection !)"
   ]
  },
  {
   "cell_type": "markdown",
   "metadata": {},
   "source": [
    "Finally, we may want to show it in our Folium map !\n",
    "\n",
    "On the principle it is quite simple:\n",
    "```\n",
    "map.add_child(folium.raster_layers.ImageOverlay(\n",
    "        name=\"Raster image\",\n",
    "        image=image_for_folium,\n",
    "        bounds=bounds_for_folium,\n",
    "                ))\n",
    "```\n",
    "\n",
    "but.... \n",
    "- the image array should be in Height, Width, Channels (like Pillow)\n",
    "- we need to have the bounds coordinates of the image... in [[LonMin, LatMin],[LonMax, LatMax]] format\n",
    "\n",
    "Note : Lon/Lat are the  WSG84/EPSG:4326 coordinates. Check your CRS."
   ]
  },
  {
   "cell_type": "markdown",
   "metadata": {},
   "source": [
    "### A little detour: Converting coordinates with pyproj\n",
    "\n",
    "pyproj is the python library that geopandas is using to manage the CRS. We can use it directly here to convert our EPSG:2154 to EPSG:4326."
   ]
  },
  {
   "cell_type": "code",
   "execution_count": null,
   "metadata": {},
   "outputs": [],
   "source": [
    "epsg_bounds=raster.rio.bounds() # The bounding box of the raster\n",
    "\n",
    "from pyproj import Transformer\n",
    "transformer = Transformer.from_crs(raster.rio.crs, \"EPSG:4326\") # We create a transformer object\n",
    "\n",
    "# And we use it to transform our pair of coordinates.\n",
    "wgs_coord = [ transformer.transform(epsg_bounds[0],epsg_bounds[1]) , transformer.transform(epsg_bounds[2],epsg_bounds[3])  ]\n",
    "\n",
    "#Note that in the end, we should have [[LonMin, LatMin],[LonMax, LatMax]]\n",
    "display(wgs_coord)"
   ]
  },
  {
   "cell_type": "markdown",
   "metadata": {},
   "source": [
    "☞ Now, you should have everything you need to add the raster image to your folium map"
   ]
  },
  {
   "cell_type": "code",
   "execution_count": null,
   "metadata": {},
   "outputs": [],
   "source": [
    "#Your code here\n",
    "import tempfile\n",
    "temp_image_path = tempfile.mktemp(suffix=\".png\")\n",
    "image_pillow.save(temp_image_path, format=\"PNG\")\n",
    "\n",
    "folium.raster_layers.ImageOverlay(\n",
    "    name=\"Raster image\",\n",
    "    image=temp_image_path,\n",
    "    bounds=wgs_coord\n",
    ").add_to(m)\n",
    "display(m)"
   ]
  },
  {
   "cell_type": "markdown",
   "metadata": {},
   "source": [
    "Questions : \n",
    "- What can you sau of the superimposition of the image and the map background?\n",
    "- Does the image have straight angles? Why?"
   ]
  },
  {
   "cell_type": "markdown",
   "metadata": {},
   "source": [
    "It will stack perfectly if the location information is the same.\n",
    "Yes, the image contains right angles. This is because it is a vector graphic representing a building floor plan where straight lines and right angles are critical to accurately depicting the building layout."
   ]
  },
  {
   "cell_type": "markdown",
   "metadata": {},
   "source": [
    "☞ Combine the three previously created vector layers with the raster layer (The raster should be at the bottom).\n",
    "\n",
    "- The map should have all the elements (Title/Legend/etc.)\n",
    "- The map should be zoom to the surroundings of the raster image\n",
    "- The vector should follow the style previously define (grey, blue, brown with various weight, etc.)\n",
    "\n",
    "Save it as an HTML file."
   ]
  },
  {
   "cell_type": "code",
   "execution_count": null,
   "metadata": {},
   "outputs": [],
   "source": [
    "# Your code here\n",
    "m = folium.Map(location=[(wgs_coord[0][0] + wgs_coord[1][0]) / 2, (wgs_coord[0][1] + wgs_coord[1][1]) / 2],\n",
    "                zoom_start=16)\n",
    "\n",
    "folium.GeoJson(intersected_regions, name='Regions Boundary',\n",
    "                style_function=lambda x: {'color': 'gray', 'fillOpacity': 0}).add_to(m)\n",
    "\n",
    "folium.GeoJson(gdf_loire, name='Loire', style_function=lambda x: {'color': 'blue'}).add_to(m)\n",
    "\n",
    "for ctype, data in intersected_roads.groupby('CLASS_ADM'):\n",
    "    style = {'color': 'brown', 'weight': 2 if ctype == 'Autoroute' else 1}\n",
    "    folium.GeoJson(data, name=f'Roads - {ctype}',\n",
    "                    style_function=lambda x, style=style: style).add_to(m)\n",
    "folium.raster_layers.ImageOverlay(\n",
    "    name=\"Raster image\",\n",
    "    image=temp_image_path,\n",
    "    bounds=wgs_coord\n",
    ").add_to(m)\n",
    "title_txt = \"Map Title\"\n",
    "title_html = f'<h3 align=\"center\" style=\"font-size:16px\"><b>{title_txt}</b></h3>'\n",
    "m.get_root().html.add_child(folium.Element(title_html))\n",
    "\n",
    "author_info = \"<p>Author: Wang Haoyu. Date: 29/09/2023.</p>\"\n",
    "addFixedOverlay(m, author_info, cornerRef=\"BR\", position=(15, 10), div_style=\"max-width:300px;\")\n",
    "\n",
    "m.add_child(folium.LayerControl(collapsed=False))\n",
    "m.save(\"combined_map.html\")\n",
    "display(m)"
   ]
  },
  {
   "cell_type": "markdown",
   "metadata": {},
   "source": [
    "# Your deposit will be a zip archive containing your functional HTML map + this notebook **cleared from all cell outputs** (for size consideration)."
   ]
  }
 ],
 "metadata": {
  "kernelspec": {
   "display_name": "Python 3",
   "language": "python",
   "name": "python3"
  },
  "language_info": {
   "codemirror_mode": {
    "name": "ipython",
    "version": 3
   },
   "file_extension": ".py",
   "mimetype": "text/x-python",
   "name": "python",
   "nbconvert_exporter": "python",
   "pygments_lexer": "ipython3",
   "version": "3.9.16"
  },
  "orig_nbformat": 4
 },
 "nbformat": 4,
 "nbformat_minor": 2
}

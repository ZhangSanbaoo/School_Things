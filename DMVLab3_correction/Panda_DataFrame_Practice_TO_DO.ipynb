{
 "cells": [
  {
   "attachments": {},
   "cell_type": "markdown",
   "metadata": {},
   "source": [
    "<img style=\"float: left; padding-right: 0px; width: 145px\" src=\"https://upload.wikimedia.org/wikipedia/fr/thumb/e/e9/EPF_logo_2021.png/524px-EPF_logo_2021.png\"> \n",
    "<br><br>\n",
    "\n",
    "\n",
    "###  <div style=\"text-align: right\">  Data Engineering - P2024 <br> <br>  <time datetime=\"2023-03-07\">2023/03/20</time> <br> <br> <u>Name </u>: RAPADAMNABA Robert </div>\n",
    "<br> \n",
    "\n",
    "\n",
    "\n",
    "#   <center>  Data Manipulation </center>\n"
   ]
  },
  {
   "attachments": {},
   "cell_type": "markdown",
   "metadata": {},
   "source": [
    "#  <center><u>  Laboratory 3 - Part 2 : practice with dataframes</u></center>\n",
    " "
   ]
  },
  {
   "attachments": {},
   "cell_type": "markdown",
   "metadata": {},
   "source": [
    "# Pandas - Practice\n",
    "\n",
    "In this last lab, you are still going to manipulate dataframe with pandas but the goal here is to let you search more by yourself the functions you need to do the exercises."
   ]
  },
  {
   "cell_type": "code",
   "execution_count": 13,
   "metadata": {},
   "outputs": [],
   "source": [
    "import numpy as np\n",
    "import pandas as pd"
   ]
  },
  {
   "attachments": {},
   "cell_type": "markdown",
   "metadata": {},
   "source": [
    "## Exercise 0\n",
    "\n",
    "In this exercise, you have to read the dataset 'diamond.csv' using pandas and save it in a dataframe calle *df_diamonds*. \n",
    "\n",
    "- Then, try to explore the dataset to understand it using pandas. Show me what you did to explore/understand it."
   ]
  },
  {
   "attachments": {},
   "cell_type": "markdown",
   "metadata": {},
   "source": [
    "- Create a dataframe called *user_cols*  consisting in the first 6 rows of *df_diamonds* but with only these columns labels = ['carat', 'cut', 'x', 'y', 'z']. This a subset of the dataframe *df_diamonds*. Print the resulting dataframe"
   ]
  },
  {
   "attachments": {},
   "cell_type": "markdown",
   "metadata": {},
   "source": [
    "# Exercise 1\n",
    "\n",
    "- Create, for the dataframe *df_diamonds*, a new column called 'Quality-color' consisting in the elements of the columns 'cut' and 'color' separated by a coma. Therefore, this column must display the cut (quality) and the color of diamonds separated by a coma. Print the first 5 rows of the resulting dataframe."
   ]
  },
  {
   "attachments": {},
   "cell_type": "markdown",
   "metadata": {},
   "source": [
    "# Exercise 2\n",
    "For the dataframe *df_diamonds*,\n",
    "- Rename column 'color' as 'diamond_color'\n",
    "- Rename column 'clarity' as 'diamond_clarity' and print the first 5 rows of the resulting dataframe"
   ]
  },
  {
   "attachments": {},
   "cell_type": "markdown",
   "metadata": {},
   "source": [
    "# Exercise 3 \n",
    "\n",
    "- Remove the column 'depth' from the dataframe *df_diamonds* and print the first 5 rows of the resulting dataframe"
   ]
  },
  {
   "attachments": {},
   "cell_type": "markdown",
   "metadata": {},
   "source": [
    "# Exercise 4\n",
    "\n",
    "- Create a dataframe called *dataframe_of_big_diamonds* containing  the rows of the dataframe *df_diamonds* where the diamonds have x>5, y>5 and z>5. Print this new dataframe."
   ]
  },
  {
   "attachments": {},
   "cell_type": "markdown",
   "metadata": {},
   "source": [
    "# Exercise 5\n",
    "\n",
    "- Create another dataframe called *good_diamonds* containing  the rows of the dataframe *df_diamonds* for which the diamonds cut are Premium or Ideal. Print this variable"
   ]
  },
  {
   "attachments": {},
   "cell_type": "markdown",
   "metadata": {},
   "source": [
    "# Exercise 6\n",
    "\n",
    "- Using a loop, iterate over *df_diamonds* rows as (index, Series) pairs to display both rows index, columns carat, cut, and price.\n"
   ]
  },
  {
   "attachments": {},
   "cell_type": "markdown",
   "metadata": {},
   "source": [
    "# Exercise 7\n",
    "\n",
    "- Compute the number of diamonds for each cut group in the dataframe *df_diamonds* using the price column."
   ]
  },
  {
   "attachments": {},
   "cell_type": "markdown",
   "metadata": {},
   "source": [
    "- Compute the minimum, the maximum and the mean price for each cut group of the dataframe *df_diamonds* "
   ]
  },
  {
   "attachments": {},
   "cell_type": "markdown",
   "metadata": {},
   "source": [
    "- Compute the minmum, the maximum and count of price and table for each cut group of the dataframe *df_diamonds* . Use `agg()`."
   ]
  },
  {
   "attachments": {},
   "cell_type": "markdown",
   "metadata": {},
   "source": [
    "## Exercice 8\n",
    "- If you want to buy one diamond, wich cut should you buy ? Look for the best quality/Price. Explain what you did."
   ]
  },
  {
   "attachments": {},
   "cell_type": "markdown",
   "metadata": {},
   "source": [
    "## Exercice 9\n",
    "- I would like to know what are the diffrent cuts I can propose to my clients.\n",
    "- Return the number of unique elements and their names."
   ]
  },
  {
   "attachments": {},
   "cell_type": "markdown",
   "metadata": {},
   "source": [
    "## Exercice 10\n",
    "- Use a crosstabulation on columns cut & price of the dataframe *df_diamonds*\n",
    "\n",
    "- Read documentation and play with it."
   ]
  },
  {
   "attachments": {},
   "cell_type": "markdown",
   "metadata": {},
   "source": [
    "## Exercice 11\n",
    "\n",
    "- Display various summary statistics of the columns 'cut' of the DataFrame *df_diamonds*"
   ]
  },
  {
   "attachments": {},
   "cell_type": "markdown",
   "metadata": {},
   "source": [
    "## Exercice 12\n",
    "\n",
    "- Create a histogram of the column 'carat' (distribution of a numerical variable) of the DataFrame *df_diamonds*"
   ]
  },
  {
   "attachments": {},
   "cell_type": "markdown",
   "metadata": {},
   "source": [
    "## Exercice 13\n",
    "- Plot using bar (barplot), the number of each type of diamonds (cuts) in the Dataframe *df_diamonds*"
   ]
  },
  {
   "attachments": {},
   "cell_type": "markdown",
   "metadata": {},
   "source": [
    "## Exercice 14\n",
    "\n",
    "- Create a DataFrame of booleans (True if missing values , False if not missing) from diamonds DataFrame.\n",
    "- Now count the number of missing values"
   ]
  },
  {
   "attachments": {},
   "cell_type": "markdown",
   "metadata": {},
   "source": [
    "## Exercice 15\n",
    "- Set the column 'diamond_color' as the index of diamonds DataFrame."
   ]
  },
  {
   "attachments": {},
   "cell_type": "markdown",
   "metadata": {},
   "source": [
    "- Reset it."
   ]
  },
  {
   "attachments": {},
   "cell_type": "markdown",
   "metadata": {},
   "source": [
    "Conclusion: You are ready to play with data. Good luck!"
   ]
  }
 ],
 "metadata": {
  "kernelspec": {
   "display_name": "base",
   "language": "python",
   "name": "python3"
  },
  "language_info": {
   "codemirror_mode": {
    "name": "ipython",
    "version": 3
   },
   "file_extension": ".py",
   "mimetype": "text/x-python",
   "name": "python",
   "nbconvert_exporter": "python",
   "pygments_lexer": "ipython3",
   "version": "3.9.12"
  },
  "orig_nbformat": 4,
  "vscode": {
   "interpreter": {
    "hash": "fba35677b2d725efedf8456201a17a1e64108c6ceb85b86f6a50c8dc7e15654f"
   }
  }
 },
 "nbformat": 4,
 "nbformat_minor": 2
}

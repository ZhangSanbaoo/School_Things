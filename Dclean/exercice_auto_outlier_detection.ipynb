{
  "cells": [
    {
      "cell_type": "markdown",
      "metadata": {
        "id": "ckLZsjdKaw_E"
      },
      "source": [
        "# Exercise: Automatic outlier removal on meteorological data\n",
        "\n",
        "## Instructions\n",
        "Here you will continue to work with the meteorological data from the previous exercise. This time you will be trying out two \"automatic\" (multivariate) outlier detection methods: [local outlier factor](https://scikit-learn.org/stable/auto_examples/neighbors/plot_lof_outlier_detection.html) and [isolation forest](https://scikit-learn.org/stable/auto_examples/ensemble/plot_isolation_forest.html). \n",
        "\n",
        "1. Load data from the CSV file. \n",
        "2. A technical report on the data mentions that sensor 1's measurements of temperature and humidity are more reliable than sensor 2's. Drop the temperature and humidity columns for sensor 2 (`Temp2` and `hum2`).\n",
        "3. Do a pairplot of the data. There are plenty of moments on which some sensor was malfunctionning. The pairplot may evidentiate suspicious data points.\n",
        "3. This time we will try to filter out outliers on all columns at once. For each method:\n",
        "    - Apply the method to the data. \n",
        "    - Vary the hyperparameters indicated in the instructions for each method.\n",
        "    - Plot the correlation matrix and see the changes on the measured correlations before and after cleaning.\n",
        "    - Repeat the pair plot and note the differences before and after cleaning."
      ]
    },
    {
      "cell_type": "markdown",
      "metadata": {
        "id": "ZdvLYTdcaw_H"
      },
      "source": [
        "# Imports"
      ]
    },
    {
      "cell_type": "code",
      "execution_count": null,
      "metadata": {
        "id": "IjCe_E6iaw_H"
      },
      "outputs": [],
      "source": [
        "import numpy as np\n",
        "import pandas as pd\n",
        "from matplotlib import pyplot as plt\n",
        "\n",
        "import seaborn as sns\n",
        "\n",
        "import plotly.express as px\n",
        "#increase font size of all elements\n",
        "sns.set(font_scale=1.5)\n"
      ]
    },
    {
      "cell_type": "markdown",
      "metadata": {
        "id": "NSf6vKaraw_I"
      },
      "source": [
        "# Load the data"
      ]
    },
    {
      "cell_type": "code",
      "execution_count": null,
      "metadata": {
        "id": "ol7Am0wVaw_I"
      },
      "outputs": [],
      "source": [
        "# read csv file\n",
        "full_data = (pd.read_csv('data/donnee_Station_Meteo.csv', sep=';',\n",
        "                       index_col=1,\n",
        "                       parse_dates=[1])\n",
        "            .dropna(how='all')\n",
        "            .drop(columns=['id',' '])\n",
        "            )\n",
        "display(full_data.info())\n",
        "display(full_data.head())"
      ]
    },
    {
      "cell_type": "markdown",
      "metadata": {
        "id": "Twz0bZtaaw_J"
      },
      "source": [
        "# Select columns of interest"
      ]
    },
    {
      "cell_type": "code",
      "execution_count": null,
      "metadata": {
        "id": "slavwwYwaw_J"
      },
      "outputs": [],
      "source": [
        "data = full_data.drop(columns=['Temp2', 'hum2'])"
      ]
    },
    {
      "cell_type": "markdown",
      "metadata": {
        "id": "9xSxEbolaw_J"
      },
      "source": [
        "# Visualize data points"
      ]
    },
    {
      "cell_type": "code",
      "execution_count": null,
      "metadata": {
        "id": "qifRYbPqaw_K"
      },
      "outputs": [],
      "source": [
        "px.scatter(data_frame=data)"
      ]
    },
    {
      "cell_type": "markdown",
      "metadata": {
        "id": "6UAx1kdMaw_K"
      },
      "source": [
        "# Pair plot\n"
      ]
    },
    {
      "cell_type": "code",
      "execution_count": null,
      "metadata": {
        "id": "Qa5UVjfBaw_K"
      },
      "outputs": [],
      "source": [
        "sns.pairplot(data, diag_kws=dict(stat='proportion', kde=True), aspect=5)"
      ]
    },
    {
      "cell_type": "markdown",
      "metadata": {
        "id": "K2Q-wY8eaw_K"
      },
      "source": [
        "# Method 1: Local Outlier Factor\n",
        "\n",
        "Check out the documentation: [`sklearn.neighbors.LocalOutlierFactor`](https://scikit-learn.org/stable/modules/generated/sklearn.neighbors.LocalOutlierFactor.html)\n",
        "\n",
        "Try different values for the following parameters:\n",
        "- n_neighbors : try 20 (default) and 40\n",
        "- contamination: try auto, 0.1, 0.01\n",
        "\n",
        "Then check their effects on the max and min values for each column. Organize your results in a table or plot.\n",
        "\n",
        "Finally, plot the resulting correlation matrix after cleaning. Do you have a different result than when you use simple univariate methods?\n"
      ]
    },
    {
      "cell_type": "code",
      "execution_count": null,
      "metadata": {
        "id": "5I11dfZfaw_K"
      },
      "outputs": [],
      "source": [
        "from sklearn.neighbors import LocalOutlierFactor\n",
        "\n",
        "estimator = LocalOutlierFactor()\n",
        "\n",
        "estimator.fit(data)"
      ]
    },
    {
      "cell_type": "markdown",
      "metadata": {
        "id": "H_ZuU1R8aw_L"
      },
      "source": [
        "# Method 2: Isolation Forest\n",
        "\n",
        "Check out the documentation: [`sklearn.ensemble.IsolationForest`](https://scikit-learn.org/stable/modules/generated/sklearn.ensemble.IsolationForest.html)\n",
        "\n",
        "Try different values for the following parameters:\n",
        "- n_estimators: try 100 (default) and 300\n",
        "- contamination: try auto, 0.1, 0.01\n",
        "\n",
        "Then check their effects on the max and min values for each column. Organize your results in a table or plot.\n",
        "\n",
        "Finally, plot the resulting correlation matrix after cleaning. Do you have a different result than when you use simple univariate methods?\n"
      ]
    },
    {
      "cell_type": "code",
      "execution_count": null,
      "metadata": {
        "id": "UGv5EV16aw_L"
      },
      "outputs": [],
      "source": [
        "from sklearn.ensemble import IsolationForest\n",
        "\n",
        "estimator = IsolationForest(random_state=42)\n",
        "\n",
        "estimator.fit(data)"
      ]
    }
  ],
  "metadata": {
    "kernelspec": {
      "display_name": "ml-latest",
      "language": "python",
      "name": "python3"
    },
    "language_info": {
      "codemirror_mode": {
        "name": "ipython",
        "version": 3
      },
      "file_extension": ".py",
      "mimetype": "text/x-python",
      "name": "python",
      "nbconvert_exporter": "python",
      "pygments_lexer": "ipython3",
      "version": "3.10.5"
    },
    "orig_nbformat": 4,
    "colab": {
      "provenance": []
    }
  },
  "nbformat": 4,
  "nbformat_minor": 0
}
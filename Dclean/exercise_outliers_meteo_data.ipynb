{
  "cells": [
    {
      "cell_type": "markdown",
      "metadata": {
        "id": "MW3Y-sgGFeHq"
      },
      "source": [
        "# Exercise: Simple outlier removal on meteorological data\n",
        "## Instructions\n",
        "1. Load the data from the csv file\n",
        "2. We are going to look at data retrived from \"sensor 2\", which measures temperature, humidity and pressure (columns `Temp2`, `Pression` and `hum2`). Create a new dataframe containing only these columns.\n",
        "3. Use `plotly.express` to plot the points in each column. Use `px.scatter` to see only the available points without connecting lines. Zoom around and notice how the time frequency of the measuremnts is variable. Note many dates have no measurements registered. Do you see hints of outlier presence? \n",
        "4. Plot histograms and use the `describe` function to visualize some statistics. Do you see hints of outlier presence?\n",
        "5. Plot each column using boxplots (using `pandas.DataFrame.plot(kind='box',...)`). Do you see any outliers in the plots?\n",
        "6. Try changing the whiskers limits using the parameter `whis`, and observe the difference in the number of outliers detected. Repeat the plot for the following thresholds:\n",
        "    - +- 3 IQR\n",
        "    - bottom 5% / top 95%\n",
        "    - bottom 1% / top 99%\n",
        "    - bottom 0.5% / top 99.5%\n",
        "7. Based on the previous thresholds, use a simple method to remove some of the outliers. \n",
        "    - Select apropriate tresholds for each column\n",
        "    - You can just remove them (with a mask) or use winsorizing (`pd.clip`). \n",
        "    - Save the clean data to a **new** dataframe, **do not overwrite the previous one**.\n",
        "8. To exemplify the effect of removing outliers, you are going to plot a heatmat representing the correlation matrix of these columns. \n",
        "    - Repeat the plot for the data with and without outliers. \n",
        "    - Did you observe major changes in the correlation indexes? \n",
        "    - You can use the following code to plot the correlation heatmap:\n",
        "        ``` python\n",
        "        sns.heatmap(data.corr(),\n",
        "                    vmin=-1, vmax=1,\n",
        "                    annot=True, fmt=\".2f\", cmap='coolwarm',\n",
        "                    mask=np.tri(data.shape[1], k=-1).T)\n",
        "        ```\n",
        "\n",
        "\n",
        "\n",
        "## Useful documentation\n",
        "- [Plotly express `scatter`](https://plotly.com/python-api-reference/generated/plotly.express.scatter.html)\n",
        "- [Pandas `DataFrame.plot(kind=...)`](https://pandas.pydata.org/docs/reference/api/pandas.DataFrame.plot.html)\n",
        "- [Matplotlib `hist`](https://matplotlib.org/3.1.1/api/_as_gen/matplotlib.pyplot.hist.html)\n",
        "- [Seaborn `histplot`](https://seaborn.pydata.org/generated/seaborn.histplot.html)\n",
        "- [Matplotlib `boxplot`](https://matplotlib.org/3.1.1/api/_as_gen/matplotlib.pyplot.boxplot.html)\n",
        "- [Seaborn `boxplot`](https://seaborn.pydata.org/generated/seaborn.boxplot.html)\n",
        "- [Pandas `DataFrame.clip`](https://pandas.pydata.org/docs/reference/api/pandas.DataFrame.clip.html)"
      ]
    },
    {
      "cell_type": "markdown",
      "metadata": {
        "id": "UDp5y-3sFeHu"
      },
      "source": [
        "# Imports"
      ]
    },
    {
      "cell_type": "code",
      "execution_count": 1,
      "metadata": {
        "id": "oUPdrAFgFeHv"
      },
      "outputs": [],
      "source": [
        "import numpy as np\n",
        "import pandas as pd\n",
        "from matplotlib import pyplot as plt\n",
        "\n",
        "import seaborn as sns\n",
        "\n",
        "import plotly.express as px\n",
        "#increase font size of all elements\n",
        "sns.set(font_scale=1.5)\n"
      ]
    },
    {
      "cell_type": "markdown",
      "metadata": {
        "id": "0HO7OS4rFeHw"
      },
      "source": [
        "# Load the data"
      ]
    },
    {
      "cell_type": "code",
      "execution_count": 2,
      "metadata": {},
      "outputs": [
        {
          "name": "stdout",
          "output_type": "stream",
          "text": [
            "<class 'pandas.core.frame.DataFrame'>\n",
            "DatetimeIndex: 3036 entries, 2018-06-22 12:00:52 to 2022-01-31 07:08:40\n",
            "Data columns (total 20 columns):\n",
            " #   Column         Non-Null Count  Dtype  \n",
            "---  ------         --------------  -----  \n",
            " 0   id             3036 non-null   int64  \n",
            " 1   Temp1          3036 non-null   float64\n",
            " 2   hum1           3036 non-null   float64\n",
            " 3   Pression       3036 non-null   float64\n",
            " 4   Temp2          3036 non-null   float64\n",
            " 5   hum2           3036 non-null   float64\n",
            " 6   Conc_Stand_1   3036 non-null   int64  \n",
            " 7   Conc_Stand_25  3036 non-null   int64  \n",
            " 8   Conc_Stand_10  3036 non-null   int64  \n",
            " 9   Conc_Env_1     3036 non-null   int64  \n",
            " 10  Conc_Env_25    3036 non-null   int64  \n",
            " 11  Conc_Env_10    3036 non-null   int64  \n",
            " 12  Part_03        3036 non-null   int64  \n",
            " 13  Part_05        3036 non-null   int64  \n",
            " 14  Part_1         3036 non-null   int64  \n",
            " 15  Part_25        3036 non-null   int64  \n",
            " 16  Part_5         3036 non-null   int64  \n",
            " 17  Part_50        3036 non-null   int64  \n",
            " 18  Lum            3036 non-null   int64  \n",
            " 19                 3036 non-null   object \n",
            "dtypes: float64(5), int64(14), object(1)\n",
            "memory usage: 498.1+ KB\n"
          ]
        },
        {
          "data": {
            "text/plain": [
              "None"
            ]
          },
          "metadata": {},
          "output_type": "display_data"
        },
        {
          "data": {
            "text/html": [
              "<div>\n",
              "<style scoped>\n",
              "    .dataframe tbody tr th:only-of-type {\n",
              "        vertical-align: middle;\n",
              "    }\n",
              "\n",
              "    .dataframe tbody tr th {\n",
              "        vertical-align: top;\n",
              "    }\n",
              "\n",
              "    .dataframe thead th {\n",
              "        text-align: right;\n",
              "    }\n",
              "</style>\n",
              "<table border=\"1\" class=\"dataframe\">\n",
              "  <thead>\n",
              "    <tr style=\"text-align: right;\">\n",
              "      <th></th>\n",
              "      <th>id</th>\n",
              "      <th>Temp1</th>\n",
              "      <th>hum1</th>\n",
              "      <th>Pression</th>\n",
              "      <th>Temp2</th>\n",
              "      <th>hum2</th>\n",
              "      <th>Conc_Stand_1</th>\n",
              "      <th>Conc_Stand_25</th>\n",
              "      <th>Conc_Stand_10</th>\n",
              "      <th>Conc_Env_1</th>\n",
              "      <th>Conc_Env_25</th>\n",
              "      <th>Conc_Env_10</th>\n",
              "      <th>Part_03</th>\n",
              "      <th>Part_05</th>\n",
              "      <th>Part_1</th>\n",
              "      <th>Part_25</th>\n",
              "      <th>Part_5</th>\n",
              "      <th>Part_50</th>\n",
              "      <th>Lum</th>\n",
              "      <th></th>\n",
              "    </tr>\n",
              "    <tr>\n",
              "      <th>time</th>\n",
              "      <th></th>\n",
              "      <th></th>\n",
              "      <th></th>\n",
              "      <th></th>\n",
              "      <th></th>\n",
              "      <th></th>\n",
              "      <th></th>\n",
              "      <th></th>\n",
              "      <th></th>\n",
              "      <th></th>\n",
              "      <th></th>\n",
              "      <th></th>\n",
              "      <th></th>\n",
              "      <th></th>\n",
              "      <th></th>\n",
              "      <th></th>\n",
              "      <th></th>\n",
              "      <th></th>\n",
              "      <th></th>\n",
              "      <th></th>\n",
              "    </tr>\n",
              "  </thead>\n",
              "  <tbody>\n",
              "    <tr>\n",
              "      <th>2018-06-22 12:00:52</th>\n",
              "      <td>1</td>\n",
              "      <td>28.70</td>\n",
              "      <td>41.45</td>\n",
              "      <td>1011.88</td>\n",
              "      <td>29.07</td>\n",
              "      <td>50.52</td>\n",
              "      <td>6</td>\n",
              "      <td>10</td>\n",
              "      <td>22</td>\n",
              "      <td>6</td>\n",
              "      <td>10</td>\n",
              "      <td>22</td>\n",
              "      <td>0</td>\n",
              "      <td>0</td>\n",
              "      <td>0</td>\n",
              "      <td>0</td>\n",
              "      <td>0</td>\n",
              "      <td>0</td>\n",
              "      <td>51</td>\n",
              "      <td></td>\n",
              "    </tr>\n",
              "    <tr>\n",
              "      <th>2018-06-22 12:05:59</th>\n",
              "      <td>2</td>\n",
              "      <td>26.67</td>\n",
              "      <td>44.21</td>\n",
              "      <td>1011.90</td>\n",
              "      <td>26.63</td>\n",
              "      <td>53.92</td>\n",
              "      <td>6</td>\n",
              "      <td>9</td>\n",
              "      <td>9</td>\n",
              "      <td>6</td>\n",
              "      <td>9</td>\n",
              "      <td>9</td>\n",
              "      <td>1164</td>\n",
              "      <td>366</td>\n",
              "      <td>50</td>\n",
              "      <td>3</td>\n",
              "      <td>0</td>\n",
              "      <td>0</td>\n",
              "      <td>54</td>\n",
              "      <td></td>\n",
              "    </tr>\n",
              "    <tr>\n",
              "      <th>2018-06-22 12:11:05</th>\n",
              "      <td>3</td>\n",
              "      <td>25.63</td>\n",
              "      <td>46.44</td>\n",
              "      <td>1011.81</td>\n",
              "      <td>26.34</td>\n",
              "      <td>54.95</td>\n",
              "      <td>6</td>\n",
              "      <td>8</td>\n",
              "      <td>10</td>\n",
              "      <td>6</td>\n",
              "      <td>8</td>\n",
              "      <td>10</td>\n",
              "      <td>1164</td>\n",
              "      <td>340</td>\n",
              "      <td>37</td>\n",
              "      <td>5</td>\n",
              "      <td>2</td>\n",
              "      <td>0</td>\n",
              "      <td>22</td>\n",
              "      <td></td>\n",
              "    </tr>\n",
              "    <tr>\n",
              "      <th>2018-06-22 12:16:12</th>\n",
              "      <td>4</td>\n",
              "      <td>24.88</td>\n",
              "      <td>50.00</td>\n",
              "      <td>1011.77</td>\n",
              "      <td>26.07</td>\n",
              "      <td>57.26</td>\n",
              "      <td>7</td>\n",
              "      <td>8</td>\n",
              "      <td>9</td>\n",
              "      <td>7</td>\n",
              "      <td>8</td>\n",
              "      <td>9</td>\n",
              "      <td>1245</td>\n",
              "      <td>367</td>\n",
              "      <td>45</td>\n",
              "      <td>3</td>\n",
              "      <td>1</td>\n",
              "      <td>0</td>\n",
              "      <td>9</td>\n",
              "      <td></td>\n",
              "    </tr>\n",
              "    <tr>\n",
              "      <th>2018-06-22 12:21:19</th>\n",
              "      <td>5</td>\n",
              "      <td>24.95</td>\n",
              "      <td>49.12</td>\n",
              "      <td>1011.67</td>\n",
              "      <td>26.01</td>\n",
              "      <td>56.83</td>\n",
              "      <td>4</td>\n",
              "      <td>6</td>\n",
              "      <td>6</td>\n",
              "      <td>4</td>\n",
              "      <td>6</td>\n",
              "      <td>6</td>\n",
              "      <td>1182</td>\n",
              "      <td>332</td>\n",
              "      <td>28</td>\n",
              "      <td>2</td>\n",
              "      <td>0</td>\n",
              "      <td>0</td>\n",
              "      <td>11</td>\n",
              "      <td></td>\n",
              "    </tr>\n",
              "  </tbody>\n",
              "</table>\n",
              "</div>"
            ],
            "text/plain": [
              "                     id  Temp1   hum1  Pression  Temp2   hum2  Conc_Stand_1  \\\n",
              "time                                                                          \n",
              "2018-06-22 12:00:52   1  28.70  41.45   1011.88  29.07  50.52             6   \n",
              "2018-06-22 12:05:59   2  26.67  44.21   1011.90  26.63  53.92             6   \n",
              "2018-06-22 12:11:05   3  25.63  46.44   1011.81  26.34  54.95             6   \n",
              "2018-06-22 12:16:12   4  24.88  50.00   1011.77  26.07  57.26             7   \n",
              "2018-06-22 12:21:19   5  24.95  49.12   1011.67  26.01  56.83             4   \n",
              "\n",
              "                     Conc_Stand_25  Conc_Stand_10  Conc_Env_1  Conc_Env_25  \\\n",
              "time                                                                         \n",
              "2018-06-22 12:00:52             10             22           6           10   \n",
              "2018-06-22 12:05:59              9              9           6            9   \n",
              "2018-06-22 12:11:05              8             10           6            8   \n",
              "2018-06-22 12:16:12              8              9           7            8   \n",
              "2018-06-22 12:21:19              6              6           4            6   \n",
              "\n",
              "                     Conc_Env_10  Part_03  Part_05  Part_1  Part_25  Part_5  \\\n",
              "time                                                                          \n",
              "2018-06-22 12:00:52           22        0        0       0        0       0   \n",
              "2018-06-22 12:05:59            9     1164      366      50        3       0   \n",
              "2018-06-22 12:11:05           10     1164      340      37        5       2   \n",
              "2018-06-22 12:16:12            9     1245      367      45        3       1   \n",
              "2018-06-22 12:21:19            6     1182      332      28        2       0   \n",
              "\n",
              "                     Part_50  Lum     \n",
              "time                                  \n",
              "2018-06-22 12:00:52        0   51     \n",
              "2018-06-22 12:05:59        0   54     \n",
              "2018-06-22 12:11:05        0   22     \n",
              "2018-06-22 12:16:12        0    9     \n",
              "2018-06-22 12:21:19        0   11     "
            ]
          },
          "metadata": {},
          "output_type": "display_data"
        }
      ],
      "source": [
        "import urllib.request\n",
        "\n",
        "url = 'https://raw.githubusercontent.com/EPF-MDE/data-cleaning/main/Outliers/data/donnee_Station_Meteo.csv'\n",
        "filename = 'meteo_data.csv'\n",
        "\n",
        "# Download the file and save it to the local disk\n",
        "urllib.request.urlretrieve(url, filename)\n",
        "\n",
        "# Load the file into a Pandas DataFrame\n",
        "full_data = pd.read_csv(filename, sep=';',index_col=1,parse_dates=[1])\n",
        "display(full_data.info())\n",
        "display(full_data.head())"
      ]
    },
    {
      "cell_type": "markdown",
      "metadata": {
        "id": "pan3ASzFFeHy"
      },
      "source": [
        "# Select columns of interest"
      ]
    },
    {
      "cell_type": "code",
      "execution_count": 3,
      "metadata": {
        "id": "S0Ea0NYGFeHy"
      },
      "outputs": [
        {
          "data": {
            "text/html": [
              "<div>\n",
              "<style scoped>\n",
              "    .dataframe tbody tr th:only-of-type {\n",
              "        vertical-align: middle;\n",
              "    }\n",
              "\n",
              "    .dataframe tbody tr th {\n",
              "        vertical-align: top;\n",
              "    }\n",
              "\n",
              "    .dataframe thead th {\n",
              "        text-align: right;\n",
              "    }\n",
              "</style>\n",
              "<table border=\"1\" class=\"dataframe\">\n",
              "  <thead>\n",
              "    <tr style=\"text-align: right;\">\n",
              "      <th></th>\n",
              "      <th>Temp2</th>\n",
              "      <th>Pression</th>\n",
              "      <th>hum2</th>\n",
              "    </tr>\n",
              "    <tr>\n",
              "      <th>time</th>\n",
              "      <th></th>\n",
              "      <th></th>\n",
              "      <th></th>\n",
              "    </tr>\n",
              "  </thead>\n",
              "  <tbody>\n",
              "    <tr>\n",
              "      <th>2018-06-22 12:00:52</th>\n",
              "      <td>29.07</td>\n",
              "      <td>1011.88</td>\n",
              "      <td>50.52</td>\n",
              "    </tr>\n",
              "    <tr>\n",
              "      <th>2018-06-22 12:05:59</th>\n",
              "      <td>26.63</td>\n",
              "      <td>1011.90</td>\n",
              "      <td>53.92</td>\n",
              "    </tr>\n",
              "    <tr>\n",
              "      <th>2018-06-22 12:11:05</th>\n",
              "      <td>26.34</td>\n",
              "      <td>1011.81</td>\n",
              "      <td>54.95</td>\n",
              "    </tr>\n",
              "    <tr>\n",
              "      <th>2018-06-22 12:16:12</th>\n",
              "      <td>26.07</td>\n",
              "      <td>1011.77</td>\n",
              "      <td>57.26</td>\n",
              "    </tr>\n",
              "    <tr>\n",
              "      <th>2018-06-22 12:21:19</th>\n",
              "      <td>26.01</td>\n",
              "      <td>1011.67</td>\n",
              "      <td>56.83</td>\n",
              "    </tr>\n",
              "    <tr>\n",
              "      <th>...</th>\n",
              "      <td>...</td>\n",
              "      <td>...</td>\n",
              "      <td>...</td>\n",
              "    </tr>\n",
              "    <tr>\n",
              "      <th>2022-01-23 15:23:36</th>\n",
              "      <td>12.63</td>\n",
              "      <td>1023.85</td>\n",
              "      <td>100.00</td>\n",
              "    </tr>\n",
              "    <tr>\n",
              "      <th>2022-01-23 15:24:06</th>\n",
              "      <td>12.60</td>\n",
              "      <td>1023.82</td>\n",
              "      <td>100.00</td>\n",
              "    </tr>\n",
              "    <tr>\n",
              "      <th>2022-01-24 14:45:46</th>\n",
              "      <td>15.50</td>\n",
              "      <td>1025.13</td>\n",
              "      <td>100.00</td>\n",
              "    </tr>\n",
              "    <tr>\n",
              "      <th>2022-01-26 15:42:28</th>\n",
              "      <td>129.37</td>\n",
              "      <td>369.48</td>\n",
              "      <td>0.00</td>\n",
              "    </tr>\n",
              "    <tr>\n",
              "      <th>2022-01-31 07:08:40</th>\n",
              "      <td>6.97</td>\n",
              "      <td>1018.44</td>\n",
              "      <td>100.00</td>\n",
              "    </tr>\n",
              "  </tbody>\n",
              "</table>\n",
              "<p>3036 rows × 3 columns</p>\n",
              "</div>"
            ],
            "text/plain": [
              "                      Temp2  Pression    hum2\n",
              "time                                         \n",
              "2018-06-22 12:00:52   29.07   1011.88   50.52\n",
              "2018-06-22 12:05:59   26.63   1011.90   53.92\n",
              "2018-06-22 12:11:05   26.34   1011.81   54.95\n",
              "2018-06-22 12:16:12   26.07   1011.77   57.26\n",
              "2018-06-22 12:21:19   26.01   1011.67   56.83\n",
              "...                     ...       ...     ...\n",
              "2022-01-23 15:23:36   12.63   1023.85  100.00\n",
              "2022-01-23 15:24:06   12.60   1023.82  100.00\n",
              "2022-01-24 14:45:46   15.50   1025.13  100.00\n",
              "2022-01-26 15:42:28  129.37    369.48    0.00\n",
              "2022-01-31 07:08:40    6.97   1018.44  100.00\n",
              "\n",
              "[3036 rows x 3 columns]"
            ]
          },
          "execution_count": 3,
          "metadata": {},
          "output_type": "execute_result"
        }
      ],
      "source": [
        "data_interest = full_data[['Temp2', 'Pression', 'hum2']].copy()\n",
        "data_interest"
      ]
    },
    {
      "cell_type": "markdown",
      "metadata": {
        "id": "tWczCyXcFeHy"
      },
      "source": [
        "# Visualize data points"
      ]
    },
    {
      "cell_type": "code",
      "execution_count": null,
      "metadata": {
        "id": "O1cB4siSFeHz"
      },
      "outputs": [],
      "source": []
    },
    {
      "cell_type": "markdown",
      "metadata": {
        "id": "VaBxS_3dFeHz"
      },
      "source": [
        "# Plot histograms\n"
      ]
    },
    {
      "cell_type": "code",
      "execution_count": null,
      "metadata": {
        "id": "ghB7_mzsFeHz"
      },
      "outputs": [],
      "source": []
    },
    {
      "cell_type": "markdown",
      "metadata": {
        "id": "8c6bJaXYFeH0"
      },
      "source": [
        "# Print basic statistics wtih `describe`\n"
      ]
    },
    {
      "cell_type": "code",
      "execution_count": null,
      "metadata": {
        "id": "SvbNY7LSFeH0"
      },
      "outputs": [],
      "source": []
    },
    {
      "cell_type": "markdown",
      "metadata": {
        "id": "mPdw7_r7FeH0"
      },
      "source": [
        "# Plot box-plots\n"
      ]
    },
    {
      "cell_type": "markdown",
      "metadata": {
        "id": "2iEbe2-fFeH0"
      },
      "source": [
        "### Cut-out at +- 1.5 IQR"
      ]
    },
    {
      "cell_type": "code",
      "execution_count": null,
      "metadata": {
        "id": "VEY5g0lJFeH0"
      },
      "outputs": [],
      "source": []
    },
    {
      "cell_type": "markdown",
      "metadata": {
        "id": "i0NzLQ5IFeH1"
      },
      "source": [
        "### Cut-out at 5%/95%"
      ]
    },
    {
      "cell_type": "code",
      "execution_count": null,
      "metadata": {
        "id": "WtIPeDVaFeH1"
      },
      "outputs": [],
      "source": []
    },
    {
      "cell_type": "markdown",
      "metadata": {
        "id": "izn08WoTFeH1"
      },
      "source": [
        "### Cut-out at 1%/99%"
      ]
    },
    {
      "cell_type": "code",
      "execution_count": null,
      "metadata": {
        "id": "WTZ87gyqFeH1"
      },
      "outputs": [],
      "source": []
    },
    {
      "cell_type": "markdown",
      "metadata": {
        "id": "PfqWGFlyFeH1"
      },
      "source": [
        "### Cut-out at 0.5%/99.5%"
      ]
    },
    {
      "cell_type": "code",
      "execution_count": null,
      "metadata": {
        "id": "KMYzVS1TFeH1"
      },
      "outputs": [],
      "source": []
    },
    {
      "cell_type": "markdown",
      "metadata": {
        "id": "5PY3kc3yFeH2"
      },
      "source": [
        "# Use a simple method to remove outliers"
      ]
    },
    {
      "cell_type": "code",
      "execution_count": null,
      "metadata": {
        "id": "KEk6wRICFeH2"
      },
      "outputs": [],
      "source": []
    },
    {
      "cell_type": "markdown",
      "metadata": {
        "id": "Ckm2cvulFeH2"
      },
      "source": [
        "# Plot column correlation with outliers"
      ]
    },
    {
      "cell_type": "code",
      "execution_count": null,
      "metadata": {
        "id": "T9yuzQTmFeH2"
      },
      "outputs": [],
      "source": []
    },
    {
      "cell_type": "markdown",
      "metadata": {
        "id": "Sl5W6CbPFeH2"
      },
      "source": [
        "# Plot column correlation after removing outliers"
      ]
    },
    {
      "cell_type": "code",
      "execution_count": null,
      "metadata": {
        "id": "RAc3zAECFeH2"
      },
      "outputs": [],
      "source": []
    }
  ],
  "metadata": {
    "colab": {
      "provenance": []
    },
    "kernelspec": {
      "display_name": "ml-latest",
      "language": "python",
      "name": "python3"
    },
    "language_info": {
      "codemirror_mode": {
        "name": "ipython",
        "version": 3
      },
      "file_extension": ".py",
      "mimetype": "text/x-python",
      "name": "python",
      "nbconvert_exporter": "python",
      "pygments_lexer": "ipython3",
      "version": "3.9.16"
    },
    "orig_nbformat": 4,
    "vscode": {
      "interpreter": {
        "hash": "1bede9cc09fadb76754e231ea17b3d1b4d36d88785eed308e26382b97c73c356"
      }
    }
  },
  "nbformat": 4,
  "nbformat_minor": 0
}

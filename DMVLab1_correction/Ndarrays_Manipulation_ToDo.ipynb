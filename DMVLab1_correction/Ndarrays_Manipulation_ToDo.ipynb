{
 "cells": [
  {
   "cell_type": "markdown",
   "id": "a2c55a6c",
   "metadata": {},
   "source": [
    "<img style=\"float: left; padding-right: 0px; width: 145px\" src=\"https://upload.wikimedia.org/wikipedia/fr/thumb/e/e9/EPF_logo_2021.png/524px-EPF_logo_2021.png\"> \n",
    "<br><br>\n",
    "\n",
    "\n",
    "###  <div style=\"text-align: right\">  Data Engineering - P2024 <br> <br>  <time datetime=\"2023-02-28\">2023/02/28 </time> <br> <br> <u>Name </u>: RAPADAMNABA Robert </div>\n",
    "<br> \n",
    "\n",
    "\n",
    "\n",
    "#   <center>  Data Manipulation </center>\n"
   ]
  },
  {
   "cell_type": "markdown",
   "id": "43c66b6c",
   "metadata": {},
   "source": [
    "#  <center><u>  Laboratory 1 - Part 2  : Manipulation of Ndarrays </u></center>"
   ]
  },
  {
   "cell_type": "markdown",
   "id": "exclusive-exploration",
   "metadata": {},
   "source": [
    "!pip install jyquickhelper"
   ]
  },
  {
   "cell_type": "code",
   "execution_count": 83,
   "id": "3bc9eb6b",
   "metadata": {},
   "outputs": [
    {
     "data": {
      "text/html": [
       "<div id=\"my_id_menu_nb\">run previous cell, wait for 2 seconds</div>\n",
       "<script>\n",
       "function repeat_indent_string(n){\n",
       "    var a = \"\" ;\n",
       "    for ( ; n > 0 ; --n)\n",
       "        a += \"    \";\n",
       "    return a;\n",
       "}\n",
       "// look up into all sections and builds an automated menu //\n",
       "var update_menu_string = function(begin, lfirst, llast, sformat, send, keep_item, begin_format, end_format) {\n",
       "    var anchors = document.getElementsByClassName(\"section\");\n",
       "    if (anchors.length == 0) {\n",
       "        anchors = document.getElementsByClassName(\"text_cell_render rendered_html\");\n",
       "    }\n",
       "    var i,t;\n",
       "    var text_menu = begin;\n",
       "    var text_memo = \"<pre>\\nlength:\" + anchors.length + \"\\n\";\n",
       "    var ind = \"\";\n",
       "    var memo_level = 1;\n",
       "    var href;\n",
       "    var tags = [];\n",
       "    var main_item = 0;\n",
       "    var format_open = 0;\n",
       "    for (i = 0; i <= llast; i++)\n",
       "        tags.push(\"h\" + i);\n",
       "\n",
       "    for (i = 0; i < anchors.length; i++) {\n",
       "        text_memo += \"**\" + anchors[i].id + \"--\\n\";\n",
       "\n",
       "        var child = null;\n",
       "        for(t = 0; t < tags.length; t++) {\n",
       "            var r = anchors[i].getElementsByTagName(tags[t]);\n",
       "            if (r.length > 0) {\n",
       "child = r[0];\n",
       "break;\n",
       "            }\n",
       "        }\n",
       "        if (child == null) {\n",
       "            text_memo += \"null\\n\";\n",
       "            continue;\n",
       "        }\n",
       "        if (anchors[i].hasAttribute(\"id\")) {\n",
       "            // when converted in RST\n",
       "            href = anchors[i].id;\n",
       "            text_memo += \"#1-\" + href;\n",
       "            // passer à child suivant (le chercher)\n",
       "        }\n",
       "        else if (child.hasAttribute(\"id\")) {\n",
       "            // in a notebook\n",
       "            href = child.id;\n",
       "            text_memo += \"#2-\" + href;\n",
       "        }\n",
       "        else {\n",
       "            text_memo += \"#3-\" + \"*\" + \"\\n\";\n",
       "            continue;\n",
       "        }\n",
       "        var title = child.textContent;\n",
       "        var level = parseInt(child.tagName.substring(1,2));\n",
       "\n",
       "        text_memo += \"--\" + level + \"?\" + lfirst + \"--\" + title + \"\\n\";\n",
       "\n",
       "        if ((level < lfirst) || (level > llast)) {\n",
       "            continue ;\n",
       "        }\n",
       "        if (title.endsWith('¶')) {\n",
       "            title = title.substring(0,title.length-1).replace(\"<\", \"&lt;\")\n",
       "         .replace(\">\", \"&gt;\").replace(\"&\", \"&amp;\");\n",
       "        }\n",
       "        if (title.length == 0) {\n",
       "            continue;\n",
       "        }\n",
       "\n",
       "        while (level < memo_level) {\n",
       "            text_menu += end_format + \"</ul>\\n\";\n",
       "            format_open -= 1;\n",
       "            memo_level -= 1;\n",
       "        }\n",
       "        if (level == lfirst) {\n",
       "            main_item += 1;\n",
       "        }\n",
       "        if (keep_item != -1 && main_item != keep_item + 1) {\n",
       "            // alert(main_item + \" - \" + level + \" - \" + keep_item);\n",
       "            continue;\n",
       "        }\n",
       "        while (level > memo_level) {\n",
       "            text_menu += \"<ul>\\n\";\n",
       "            memo_level += 1;\n",
       "        }\n",
       "        text_menu += repeat_indent_string(level-2);\n",
       "        text_menu += begin_format + sformat.replace(\"__HREF__\", href).replace(\"__TITLE__\", title);\n",
       "        format_open += 1;\n",
       "    }\n",
       "    while (1 < memo_level) {\n",
       "        text_menu += end_format + \"</ul>\\n\";\n",
       "        memo_level -= 1;\n",
       "        format_open -= 1;\n",
       "    }\n",
       "    text_menu += send;\n",
       "    //text_menu += \"\\n\" + text_memo;\n",
       "\n",
       "    while (format_open > 0) {\n",
       "        text_menu += end_format;\n",
       "        format_open -= 1;\n",
       "    }\n",
       "    return text_menu;\n",
       "};\n",
       "var update_menu = function() {\n",
       "    var sbegin = \"\";\n",
       "    var sformat = '<a href=\"#__HREF__\">__TITLE__</a>';\n",
       "    var send = \"\";\n",
       "    var begin_format = '<li>';\n",
       "    var end_format = '</li>';\n",
       "    var keep_item = -1;\n",
       "    var text_menu = update_menu_string(sbegin, 2, 4, sformat, send, keep_item,\n",
       "       begin_format, end_format);\n",
       "    var menu = document.getElementById(\"my_id_menu_nb\");\n",
       "    menu.innerHTML=text_menu;\n",
       "};\n",
       "window.setTimeout(update_menu,2000);\n",
       "            </script>"
      ],
      "text/plain": [
       "<IPython.core.display.HTML object>"
      ]
     },
     "execution_count": 83,
     "metadata": {},
     "output_type": "execute_result"
    }
   ],
   "source": [
    "from jyquickhelper import add_notebook_menu\n",
    "add_notebook_menu()"
   ]
  },
  {
   "cell_type": "markdown",
   "id": "ff8f6ea0",
   "metadata": {},
   "source": [
    "In this lab, we are going to learn how to create, manipulate and use arrays. \n",
    "\n",
    "You can find the documentation here: https://numpy.org/doc/stable/reference/generated/numpy.array.html"
   ]
  },
  {
   "cell_type": "code",
   "execution_count": 36,
   "id": "instant-transition",
   "metadata": {},
   "outputs": [],
   "source": [
    "import numpy as np"
   ]
  },
  {
   "cell_type": "markdown",
   "id": "adverse-price",
   "metadata": {},
   "source": [
    "### Exercise 1 : Indexing  (Accessing/changing specific elements)\n",
    "\n",
    "In this exercise we are going to learn how to access/retrieve, change specific elements from an array. For this exercise, we will use the matrix 1 below"
   ]
  },
  {
   "cell_type": "code",
   "execution_count": 54,
   "id": "unlikely-beads",
   "metadata": {},
   "outputs": [
    {
     "data": {
      "text/plain": [
       "array([[ 1,  2,  3,  4,  5,  6,  7,  8,  9, 10],\n",
       "       [11, 12, 13, 14, 15, 16, 17, 18, 19, 20],\n",
       "       [21, 22, 23, 24, 25, 26, 27, 28, 29, 30],\n",
       "       [31, 32, 33, 34, 35, 36, 37, 38, 39, 40],\n",
       "       [41, 42, 43, 44, 45, 46, 47, 48, 49, 50]], dtype=int8)"
      ]
     },
     "execution_count": 54,
     "metadata": {},
     "output_type": "execute_result"
    }
   ],
   "source": [
    "matrix_1=np.linspace(1,50,dtype='int8')\n",
    "matrix_1=matrix_1.reshape(5,10) # returns the array with a modified shape\n",
    "matrix_1\n"
   ]
  },
  {
   "cell_type": "markdown",
   "id": "improving-hundred",
   "metadata": {},
   "source": [
    "- Retrieve the element in the **third row** and **fifth column** of the matrix below."
   ]
  },
  {
   "cell_type": "code",
   "execution_count": 38,
   "id": "relative-campbell",
   "metadata": {},
   "outputs": [
    {
     "data": {
      "text/plain": [
       "25"
      ]
     },
     "execution_count": 38,
     "metadata": {},
     "output_type": "execute_result"
    }
   ],
   "source": [
    "Q1 = ..."
   ]
  },
  {
   "cell_type": "markdown",
   "id": "fatty-learning",
   "metadata": {},
   "source": [
    "- Retrieve the **last element** of the **last row**."
   ]
  },
  {
   "cell_type": "code",
   "execution_count": 39,
   "id": "breeding-madness",
   "metadata": {},
   "outputs": [
    {
     "data": {
      "text/plain": [
       "50"
      ]
     },
     "execution_count": 39,
     "metadata": {},
     "output_type": "execute_result"
    }
   ],
   "source": [
    "Q2 = ...\n",
    "Q2"
   ]
  },
  {
   "cell_type": "markdown",
   "id": "british-roman",
   "metadata": {},
   "source": [
    "- Retrieve the **penultimate element** of the rows and the **6th element** of the columns."
   ]
  },
  {
   "cell_type": "code",
   "execution_count": 40,
   "id": "international-single",
   "metadata": {},
   "outputs": [
    {
     "data": {
      "text/plain": [
       "36"
      ]
     },
     "execution_count": 40,
     "metadata": {},
     "output_type": "execute_result"
    }
   ],
   "source": [
    "Q3 = ...\n",
    "Q3"
   ]
  },
  {
   "cell_type": "markdown",
   "id": "authorized-vacation",
   "metadata": {},
   "source": [
    "### Exercise 2 : Slicing\n",
    "\n",
    "In this exercise we are going to learn how to retrieve a part of an array. For this exercise, we will use the matrix 2."
   ]
  },
  {
   "cell_type": "code",
   "execution_count": 61,
   "id": "rough-declaration",
   "metadata": {},
   "outputs": [
    {
     "data": {
      "text/plain": [
       "array([[ 1,  2,  3,  4,  5,  6,  7,  8,  9, 10],\n",
       "       [11, 12, 13, 14, 15, 16, 17, 18, 19, 20],\n",
       "       [21, 22, 23, 24, 25, 26, 27, 28, 29, 30],\n",
       "       [31, 32, 33, 34, 35, 36, 37, 38, 39, 40],\n",
       "       [41, 42, 43, 44, 45, 46, 47, 48, 49, 50],\n",
       "       [51, 52, 53, 54, 55, 56, 57, 58, 59, 60],\n",
       "       [61, 62, 63, 64, 65, 66, 67, 68, 69, 70],\n",
       "       [71, 72, 73, 74, 75, 76, 77, 78, 79, 80]], dtype=int8)"
      ]
     },
     "execution_count": 61,
     "metadata": {},
     "output_type": "execute_result"
    }
   ],
   "source": [
    "matrix_2=np.linspace(1,80,num=80, dtype= 'int8')\n",
    "matrix_2=matrix_2.reshape((8,10)) # returns the array with a modified shape\n",
    "matrix_2"
   ]
  },
  {
   "cell_type": "markdown",
   "id": "eb98a0ac",
   "metadata": {},
   "source": [
    "- Perform a **slicing** by retrieving only the elements from the **3rd row** "
   ]
  },
  {
   "cell_type": "code",
   "execution_count": 77,
   "id": "f289e6cf",
   "metadata": {},
   "outputs": [
    {
     "data": {
      "text/plain": [
       "array([21, 22, 23, 24, 25, 26, 27, 28, 29, 30], dtype=int8)"
      ]
     },
     "execution_count": 77,
     "metadata": {},
     "output_type": "execute_result"
    }
   ],
   "source": [
    "Q1=...\n",
    "Q1"
   ]
  },
  {
   "cell_type": "markdown",
   "id": "1d6d4967",
   "metadata": {},
   "source": [
    "- Perform a **slicing** by retrieving only the elements from the **last colomn**"
   ]
  },
  {
   "cell_type": "code",
   "execution_count": 76,
   "id": "cbe2ea88",
   "metadata": {},
   "outputs": [
    {
     "data": {
      "text/plain": [
       "array([10, 20, 30, 40, 50, 60, 70, 80], dtype=int8)"
      ]
     },
     "execution_count": 76,
     "metadata": {},
     "output_type": "execute_result"
    }
   ],
   "source": [
    "Q2=m...\n",
    "Q2"
   ]
  },
  {
   "cell_type": "code",
   "execution_count": 80,
   "id": "94821aca",
   "metadata": {},
   "outputs": [
    {
     "data": {
      "text/plain": [
       "array([10, 20, 30, 40, 50, 60, 70, 80], dtype=int8)"
      ]
     },
     "execution_count": 80,
     "metadata": {},
     "output_type": "execute_result"
    }
   ],
   "source": [
    "#Or\n",
    "Q2=...\n",
    "Q2"
   ]
  },
  {
   "cell_type": "markdown",
   "id": "accomplished-savannah",
   "metadata": {},
   "source": [
    "- Perform a **slicing** by retrieving the elements from the **3rd row** to the **penultimate row excluded**."
   ]
  },
  {
   "cell_type": "code",
   "execution_count": 36,
   "id": "serial-syria",
   "metadata": {},
   "outputs": [
    {
     "data": {
      "text/plain": [
       "array([[21, 22, 23, 24, 25, 26, 27, 28, 29, 30],\n",
       "       [31, 32, 33, 34, 35, 36, 37, 38, 39, 40],\n",
       "       [41, 42, 43, 44, 45, 46, 47, 48, 49, 50],\n",
       "       [51, 52, 53, 54, 55, 56, 57, 58, 59, 60]])"
      ]
     },
     "execution_count": 36,
     "metadata": {},
     "output_type": "execute_result"
    }
   ],
   "source": [
    "Q1 = ..."
   ]
  },
  {
   "cell_type": "code",
   "execution_count": 37,
   "id": "biblical-ensemble",
   "metadata": {},
   "outputs": [
    {
     "data": {
      "text/plain": [
       "array([[21, 22, 23, 24, 25, 26, 27, 28, 29, 30],\n",
       "       [31, 32, 33, 34, 35, 36, 37, 38, 39, 40],\n",
       "       [41, 42, 43, 44, 45, 46, 47, 48, 49, 50],\n",
       "       [51, 52, 53, 54, 55, 56, 57, 58, 59, 60]])"
      ]
     },
     "execution_count": 37,
     "metadata": {},
     "output_type": "execute_result"
    }
   ],
   "source": [
    "# Or \n",
    "Q1 = ...\n",
    "Q1"
   ]
  },
  {
   "cell_type": "markdown",
   "id": "sonic-banana",
   "metadata": {},
   "source": [
    "- Perform a **slicing** by retrieving the elements in the **5th column** from the **5th row to the 6th row included**."
   ]
  },
  {
   "cell_type": "code",
   "execution_count": 38,
   "id": "imported-checkout",
   "metadata": {},
   "outputs": [
    {
     "data": {
      "text/plain": [
       "array([45, 55])"
      ]
     },
     "execution_count": 38,
     "metadata": {},
     "output_type": "execute_result"
    }
   ],
   "source": [
    "Q2 = ...\n",
    "Q2"
   ]
  },
  {
   "cell_type": "markdown",
   "id": "underlying-secret",
   "metadata": {},
   "source": [
    "- Perform a **slicing** from the **second row to the fourth row excluded** and from the **third column** to the **eighth column excluded** at the same time."
   ]
  },
  {
   "cell_type": "code",
   "execution_count": 39,
   "id": "taken-drive",
   "metadata": {},
   "outputs": [
    {
     "data": {
      "text/plain": [
       "array([[13, 14, 15, 16, 17, 18],\n",
       "       [23, 24, 25, 26, 27, 28],\n",
       "       [33, 34, 35, 36, 37, 38]])"
      ]
     },
     "execution_count": 39,
     "metadata": {},
     "output_type": "execute_result"
    }
   ],
   "source": [
    "Q3 = ...\n",
    "Q3"
   ]
  },
  {
   "cell_type": "markdown",
   "id": "brilliant-kenya",
   "metadata": {},
   "source": [
    "- Perform a **slicing** by retrieving the elements in the **3rd row** from the **3rd to the 7th column included**."
   ]
  },
  {
   "cell_type": "code",
   "execution_count": 82,
   "id": "functional-universe",
   "metadata": {},
   "outputs": [
    {
     "data": {
      "text/plain": [
       "array([23, 24, 25, 26, 27], dtype=int8)"
      ]
     },
     "execution_count": 82,
     "metadata": {},
     "output_type": "execute_result"
    }
   ],
   "source": [
    "Q4 = ...\n",
    "Q4"
   ]
  },
  {
   "cell_type": "markdown",
   "id": "greatest-thumb",
   "metadata": {},
   "source": [
    "### Exercise 3: Slicing\n",
    "\n",
    "In this exercise we are going to learn how to retrieve element from an array by using the index. For this exercise, we will use the matrix 3."
   ]
  },
  {
   "cell_type": "code",
   "execution_count": 41,
   "id": "conventional-andrews",
   "metadata": {},
   "outputs": [],
   "source": [
    "matrix_3 = np.array([[1,2,3,4,5,6,7,8,9,10],\n",
    "                    [11,12,13,14,15,16,17,18,19,20],\n",
    "                    [21,22,23,24,25,26,27,28,29,30],\n",
    "                    [31,32,33,34,35,36,37,38,39,40],\n",
    "                    [41,42,43,44,45,46,47,48,49,50],\n",
    "                    [51,52,53,54,55,56,57,58,59,60],\n",
    "                    [61,62,63,64,65,66,67,68,69,70],\n",
    "                    [71,72,73,74,75,76,77,78,79,80],\n",
    "                    [81,82,83,84,85,86,87,88,89,90],\n",
    "                    [91,92,93,94,95,96,97,98,99,100]])"
   ]
  },
  {
   "cell_type": "markdown",
   "id": "characteristic-plenty",
   "metadata": {},
   "source": [
    "- Retrieve all elements where there columns **and** rows indexes are **even**"
   ]
  },
  {
   "cell_type": "code",
   "execution_count": 42,
   "id": "biological-hybrid",
   "metadata": {},
   "outputs": [
    {
     "data": {
      "text/plain": [
       "array([[ 1,  3,  5,  7,  9],\n",
       "       [21, 23, 25, 27, 29],\n",
       "       [41, 43, 45, 47, 49],\n",
       "       [61, 63, 65, 67, 69],\n",
       "       [81, 83, 85, 87, 89]])"
      ]
     },
     "execution_count": 42,
     "metadata": {},
     "output_type": "execute_result"
    }
   ],
   "source": [
    "Q1 = ...\n",
    "Q1"
   ]
  },
  {
   "cell_type": "markdown",
   "id": "nonprofit-prompt",
   "metadata": {},
   "source": [
    "Note : The 0 is not mandatory in the brackets."
   ]
  },
  {
   "cell_type": "markdown",
   "id": "fleet-square",
   "metadata": {},
   "source": [
    "- Retrieve every element of the rows **with a step of 3**."
   ]
  },
  {
   "cell_type": "code",
   "execution_count": 43,
   "id": "incoming-union",
   "metadata": {},
   "outputs": [
    {
     "data": {
      "text/plain": [
       "array([[  1,   4,   7,  10],\n",
       "       [ 11,  14,  17,  20],\n",
       "       [ 21,  24,  27,  30],\n",
       "       [ 31,  34,  37,  40],\n",
       "       [ 41,  44,  47,  50],\n",
       "       [ 51,  54,  57,  60],\n",
       "       [ 61,  64,  67,  70],\n",
       "       [ 71,  74,  77,  80],\n",
       "       [ 81,  84,  87,  90],\n",
       "       [ 91,  94,  97, 100]])"
      ]
     },
     "execution_count": 43,
     "metadata": {},
     "output_type": "execute_result"
    }
   ],
   "source": [
    "Q2 = ...\n",
    "Q2"
   ]
  },
  {
   "cell_type": "markdown",
   "id": "affiliated-nicaragua",
   "metadata": {},
   "source": [
    "- Slicing from **the 1st to the 5th row included** and from the **6th column to the last included**. Retrieve the rows with a step of 2 and the columns with a step of 1."
   ]
  },
  {
   "cell_type": "code",
   "execution_count": 44,
   "id": "veterinary-orlando",
   "metadata": {},
   "outputs": [
    {
     "data": {
      "text/plain": [
       "array([[ 6,  7,  8,  9, 10],\n",
       "       [26, 27, 28, 29, 30],\n",
       "       [46, 47, 48, 49, 50]])"
      ]
     },
     "execution_count": 44,
     "metadata": {},
     "output_type": "execute_result"
    }
   ],
   "source": [
    "Q3 = ...\n",
    "Q3"
   ]
  },
  {
   "cell_type": "markdown",
   "id": "extraordinary-budapest",
   "metadata": {},
   "source": [
    "### Exercise 4: Changing elements\n",
    "\n",
    "In this exercise we are going to learn how to modify elements from an array. For this exercise, we will use the vector 4."
   ]
  },
  {
   "cell_type": "code",
   "execution_count": 45,
   "id": "congressional-antigua",
   "metadata": {},
   "outputs": [],
   "source": [
    "vector_4 = ..."
   ]
  },
  {
   "cell_type": "markdown",
   "id": "interstate-scoop",
   "metadata": {},
   "source": [
    "- Assign the **value 5** to the **index 3** of vector_4. You should get :"
   ]
  },
  {
   "cell_type": "markdown",
   "id": "7cf57c23",
   "metadata": {},
   "source": [
    "[ 1,  2,  3,  5,  5,  6,  7,  8,  9, 10, 11, 12, 13]"
   ]
  },
  {
   "cell_type": "code",
   "execution_count": 46,
   "id": "worthy-genome",
   "metadata": {},
   "outputs": [
    {
     "data": {
      "text/plain": [
       "array([ 1,  2,  3,  5,  5,  6,  7,  8,  9, 10, 11, 12, 13])"
      ]
     },
     "execution_count": 46,
     "metadata": {},
     "output_type": "execute_result"
    }
   ],
   "source": [
    "...\n",
    "vector_4"
   ]
  },
  {
   "cell_type": "markdown",
   "id": "atmospheric-characterization",
   "metadata": {},
   "source": [
    "- Assign the **value 9** to the **last index** of vector_4."
   ]
  },
  {
   "cell_type": "code",
   "execution_count": 47,
   "id": "sporting-combination",
   "metadata": {},
   "outputs": [
    {
     "data": {
      "text/plain": [
       "array([ 1,  2,  3,  5,  5,  6,  7,  8,  9, 10, 11, 12,  9])"
      ]
     },
     "execution_count": 47,
     "metadata": {},
     "output_type": "execute_result"
    }
   ],
   "source": [
    "...\n",
    "vector_4"
   ]
  },
  {
   "cell_type": "markdown",
   "id": "spanish-equipment",
   "metadata": {},
   "source": [
    "### Exercise 5: Changing elements\n",
    "\n",
    "In this exercise we are going to learn how to modify elements from an array. For this exercise, we will use the matrix_5."
   ]
  },
  {
   "cell_type": "code",
   "execution_count": 48,
   "id": "advisory-roberts",
   "metadata": {},
   "outputs": [],
   "source": [
    "matrix_5 = np.array([[0,0,0,0,0], \n",
    "                    [2,2,2,2,-2], \n",
    "                    [3,3,3,3,-3], \n",
    "                    [4,4,4,4,-4], \n",
    "                    [5,6,6,6,-5]])"
   ]
  },
  {
   "cell_type": "markdown",
   "id": "disturbed-startup",
   "metadata": {},
   "source": [
    "- Assign the **value 1** to the whole first row"
   ]
  },
  {
   "cell_type": "code",
   "execution_count": 49,
   "id": "recent-constant",
   "metadata": {},
   "outputs": [
    {
     "data": {
      "text/plain": [
       "array([[ 1,  1,  1,  1,  1],\n",
       "       [ 2,  2,  2,  2, -2],\n",
       "       [ 3,  3,  3,  3, -3],\n",
       "       [ 4,  4,  4,  4, -4],\n",
       "       [ 5,  6,  6,  6, -5]])"
      ]
     },
     "execution_count": 49,
     "metadata": {},
     "output_type": "execute_result"
    }
   ],
   "source": [
    "...\n",
    "matrix_5"
   ]
  },
  {
   "cell_type": "markdown",
   "id": "numeric-eclipse",
   "metadata": {},
   "source": [
    "- Assign to the **last column increasing values ​​starting with the value 1**."
   ]
  },
  {
   "cell_type": "code",
   "execution_count": 50,
   "id": "duplicate-scheme",
   "metadata": {},
   "outputs": [
    {
     "data": {
      "text/plain": [
       "array([[1, 1, 1, 1, 1],\n",
       "       [2, 2, 2, 2, 2],\n",
       "       [3, 3, 3, 3, 3],\n",
       "       [4, 4, 4, 4, 4],\n",
       "       [5, 6, 6, 6, 5]])"
      ]
     },
     "execution_count": 50,
     "metadata": {},
     "output_type": "execute_result"
    }
   ],
   "source": [
    "...\n",
    "matrix_5"
   ]
  },
  {
   "cell_type": "markdown",
   "id": "circular-missouri",
   "metadata": {},
   "source": [
    "- Assign the **value 5** to the elements in the **last row** and to the **columns going from index 1 to index 3 inclusive**."
   ]
  },
  {
   "cell_type": "code",
   "execution_count": 51,
   "id": "heard-vertex",
   "metadata": {},
   "outputs": [
    {
     "data": {
      "text/plain": [
       "array([[1, 1, 1, 1, 1],\n",
       "       [2, 2, 2, 2, 2],\n",
       "       [3, 3, 3, 3, 3],\n",
       "       [4, 4, 4, 4, 4],\n",
       "       [5, 5, 5, 5, 5]])"
      ]
     },
     "execution_count": 51,
     "metadata": {},
     "output_type": "execute_result"
    }
   ],
   "source": [
    "...\n",
    "matrix_5"
   ]
  },
  {
   "cell_type": "markdown",
   "id": "9c375d3a",
   "metadata": {},
   "source": [
    "### Exercise 5: Shape Manipulation\n",
    "\n",
    "In this exercise we are going to learn how to change the shape of an array and how to stack together different arrays. For this exercise, we will use the following matrices: matrix_6, matrix_7, and matrix_8."
   ]
  },
  {
   "cell_type": "code",
   "execution_count": 94,
   "id": "8dd9aa58",
   "metadata": {},
   "outputs": [
    {
     "name": "stdout",
     "output_type": "stream",
     "text": [
      "Matrix 6 is :\n",
      " [[ 1  2  3  4]\n",
      " [ 5  6  7  8]\n",
      " [ 9 10 11 12]]\n",
      "Matrix 7 is :\n",
      " [[ 1  3  5]\n",
      " [ 7  9 11]\n",
      " [13 15 18]]\n",
      "Matrix 8 is :\n",
      " [[ 2  4  6]\n",
      " [ 8 10 12]]\n"
     ]
    }
   ],
   "source": [
    "matrix_6=np.linspace(1,12,num=12, dtype= 'int8')\n",
    "matrix_6=matrix_6.reshape((3,4)) # returns the array with a modified shape\n",
    "print(\"Matrix 6 is :\\n\",matrix_6)\n",
    "\n",
    "matrix_7=np.linspace(1,18,num=9, dtype= 'int8')\n",
    "matrix_7=matrix_7.reshape((3,3)) # returns the array with a modified shape\n",
    "print(\"Matrix 7 is :\\n\",matrix_7)\n",
    "\n",
    "matrix_8=np.linspace(2,12,num=6, dtype= 'int8')\n",
    "matrix_8=matrix_8.reshape((2,3)) # returns the array with a modified shape\n",
    "print(\"Matrix 8 is :\\n\",matrix_8)"
   ]
  },
  {
   "cell_type": "markdown",
   "id": "bbd90d93",
   "metadata": {},
   "source": [
    "  - Use the `ravel()` method to change matrix_6 in a flattened array (1D array)"
   ]
  },
  {
   "cell_type": "code",
   "execution_count": 95,
   "id": "926924bf",
   "metadata": {},
   "outputs": [
    {
     "data": {
      "text/plain": [
       "array([ 1,  2,  3,  4,  5,  6,  7,  8,  9, 10, 11, 12], dtype=int8)"
      ]
     },
     "execution_count": 95,
     "metadata": {},
     "output_type": "execute_result"
    }
   ],
   "source": [
    "Flattened_array1=...\n",
    "Flattened_array1"
   ]
  },
  {
   "cell_type": "markdown",
   "id": "d2347b2c",
   "metadata": {},
   "source": [
    "  - Use the `flatten()` method to change matrix_6 in a flattened array (1D array)"
   ]
  },
  {
   "cell_type": "code",
   "execution_count": 96,
   "id": "77ff8071",
   "metadata": {},
   "outputs": [
    {
     "data": {
      "text/plain": [
       "array([ 1,  2,  3,  4,  5,  6,  7,  8,  9, 10, 11, 12], dtype=int8)"
      ]
     },
     "execution_count": 96,
     "metadata": {},
     "output_type": "execute_result"
    }
   ],
   "source": [
    "Flattened_array2=...\n",
    "Flattened_array2"
   ]
  },
  {
   "cell_type": "markdown",
   "id": "640bf1c9",
   "metadata": {},
   "source": [
    "  - Use the `reshape()` method to change Flattened_array2 in an array with shape (6,2)"
   ]
  },
  {
   "cell_type": "code",
   "execution_count": 98,
   "id": "095d7f8e",
   "metadata": {},
   "outputs": [
    {
     "data": {
      "text/plain": [
       "array([[ 1,  2],\n",
       "       [ 3,  4],\n",
       "       [ 5,  6],\n",
       "       [ 7,  8],\n",
       "       [ 9, 10],\n",
       "       [11, 12]], dtype=int8)"
      ]
     },
     "execution_count": 98,
     "metadata": {},
     "output_type": "execute_result"
    }
   ],
   "source": [
    "Reshaped_array=...\n",
    "Reshaped_array"
   ]
  },
  {
   "cell_type": "markdown",
   "id": "c6bb340c",
   "metadata": {},
   "source": [
    "- Use the swapaxes() method to interchange the two axes of the Reshaped_array."
   ]
  },
  {
   "cell_type": "code",
   "execution_count": 99,
   "id": "0ce1516c",
   "metadata": {},
   "outputs": [
    {
     "data": {
      "text/plain": [
       "array([[ 1,  3,  5,  7,  9, 11],\n",
       "       [ 2,  4,  6,  8, 10, 12]], dtype=int8)"
      ]
     },
     "execution_count": 99,
     "metadata": {},
     "output_type": "execute_result"
    }
   ],
   "source": [
    "Swapaxed_array=...\n",
    "Swapaxed_array"
   ]
  },
  {
   "cell_type": "markdown",
   "id": "c37a82cb",
   "metadata": {},
   "source": [
    "- Use the `vstack()`, `hstack()` and `concatenate()` methods to stack matrix_6, matrix_7, and matrix_8 together along different axes if it possible.\n"
   ]
  },
  {
   "cell_type": "code",
   "execution_count": 102,
   "id": "e97f2e42",
   "metadata": {},
   "outputs": [],
   "source": [
    "..."
   ]
  }
 ],
 "metadata": {
  "kernelspec": {
   "display_name": "data_e",
   "language": "python",
   "name": "python3"
  },
  "language_info": {
   "codemirror_mode": {
    "name": "ipython",
    "version": 3
   },
   "file_extension": ".py",
   "mimetype": "text/x-python",
   "name": "python",
   "nbconvert_exporter": "python",
   "pygments_lexer": "ipython3",
   "version": "3.8.16"
  },
  "vscode": {
   "interpreter": {
    "hash": "2343a28521b25afaa9f30c70150d0790506461ec8c9ec2d72ca0cd493dbe10d4"
   }
  }
 },
 "nbformat": 4,
 "nbformat_minor": 5
}

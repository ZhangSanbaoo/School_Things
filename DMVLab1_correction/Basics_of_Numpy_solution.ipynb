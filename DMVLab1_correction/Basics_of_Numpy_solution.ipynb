{
 "cells": [
  {
   "cell_type": "markdown",
   "id": "12abac04",
   "metadata": {},
   "source": [
    "<img style=\"float: left; padding-right: 0px; width: 145px\" src=\"https://upload.wikimedia.org/wikipedia/fr/thumb/e/e9/EPF_logo_2021.png/524px-EPF_logo_2021.png\"> \n",
    "<br><br>\n",
    "\n",
    "\n",
    "###  <div style=\"text-align: right\">  Data Engineering - P2024 <br> <br>  <time datetime=\"2023-02-28\">2023/02/28 </time> <br> <br> <u>Name </u>: RAPADAMNABA Robert </div>\n",
    "<br> \n",
    "\n",
    "\n",
    "\n",
    "#   <center>  Data Manipulation </center>\n",
    "\n",
    "\n"
   ]
  },
  {
   "cell_type": "markdown",
   "id": "3b0c8947",
   "metadata": {},
   "source": [
    "#  <center><u>  Laboratory 1 - Part 1  : Basics of NumPy </u></center>\n",
    " "
   ]
  },
  {
   "cell_type": "code",
   "execution_count": null,
   "id": "01d3dac6",
   "metadata": {},
   "outputs": [],
   "source": [
    "!pip install jyquickhelper"
   ]
  },
  {
   "cell_type": "code",
   "execution_count": 1,
   "id": "845f49f6",
   "metadata": {},
   "outputs": [
    {
     "data": {
      "text/html": [
       "<div id=\"my_id_menu_nb\">run previous cell, wait for 2 seconds</div>\n",
       "<script>\n",
       "function repeat_indent_string(n){\n",
       "    var a = \"\" ;\n",
       "    for ( ; n > 0 ; --n)\n",
       "        a += \"    \";\n",
       "    return a;\n",
       "}\n",
       "// look up into all sections and builds an automated menu //\n",
       "var update_menu_string = function(begin, lfirst, llast, sformat, send, keep_item, begin_format, end_format) {\n",
       "    var anchors = document.getElementsByClassName(\"section\");\n",
       "    if (anchors.length == 0) {\n",
       "        anchors = document.getElementsByClassName(\"text_cell_render rendered_html\");\n",
       "    }\n",
       "    var i,t;\n",
       "    var text_menu = begin;\n",
       "    var text_memo = \"<pre>\\nlength:\" + anchors.length + \"\\n\";\n",
       "    var ind = \"\";\n",
       "    var memo_level = 1;\n",
       "    var href;\n",
       "    var tags = [];\n",
       "    var main_item = 0;\n",
       "    var format_open = 0;\n",
       "    for (i = 0; i <= llast; i++)\n",
       "        tags.push(\"h\" + i);\n",
       "\n",
       "    for (i = 0; i < anchors.length; i++) {\n",
       "        text_memo += \"**\" + anchors[i].id + \"--\\n\";\n",
       "\n",
       "        var child = null;\n",
       "        for(t = 0; t < tags.length; t++) {\n",
       "            var r = anchors[i].getElementsByTagName(tags[t]);\n",
       "            if (r.length > 0) {\n",
       "child = r[0];\n",
       "break;\n",
       "            }\n",
       "        }\n",
       "        if (child == null) {\n",
       "            text_memo += \"null\\n\";\n",
       "            continue;\n",
       "        }\n",
       "        if (anchors[i].hasAttribute(\"id\")) {\n",
       "            // when converted in RST\n",
       "            href = anchors[i].id;\n",
       "            text_memo += \"#1-\" + href;\n",
       "            // passer à child suivant (le chercher)\n",
       "        }\n",
       "        else if (child.hasAttribute(\"id\")) {\n",
       "            // in a notebook\n",
       "            href = child.id;\n",
       "            text_memo += \"#2-\" + href;\n",
       "        }\n",
       "        else {\n",
       "            text_memo += \"#3-\" + \"*\" + \"\\n\";\n",
       "            continue;\n",
       "        }\n",
       "        var title = child.textContent;\n",
       "        var level = parseInt(child.tagName.substring(1,2));\n",
       "\n",
       "        text_memo += \"--\" + level + \"?\" + lfirst + \"--\" + title + \"\\n\";\n",
       "\n",
       "        if ((level < lfirst) || (level > llast)) {\n",
       "            continue ;\n",
       "        }\n",
       "        if (title.endsWith('¶')) {\n",
       "            title = title.substring(0,title.length-1).replace(\"<\", \"&lt;\")\n",
       "         .replace(\">\", \"&gt;\").replace(\"&\", \"&amp;\");\n",
       "        }\n",
       "        if (title.length == 0) {\n",
       "            continue;\n",
       "        }\n",
       "\n",
       "        while (level < memo_level) {\n",
       "            text_menu += end_format + \"</ul>\\n\";\n",
       "            format_open -= 1;\n",
       "            memo_level -= 1;\n",
       "        }\n",
       "        if (level == lfirst) {\n",
       "            main_item += 1;\n",
       "        }\n",
       "        if (keep_item != -1 && main_item != keep_item + 1) {\n",
       "            // alert(main_item + \" - \" + level + \" - \" + keep_item);\n",
       "            continue;\n",
       "        }\n",
       "        while (level > memo_level) {\n",
       "            text_menu += \"<ul>\\n\";\n",
       "            memo_level += 1;\n",
       "        }\n",
       "        text_menu += repeat_indent_string(level-2);\n",
       "        text_menu += begin_format + sformat.replace(\"__HREF__\", href).replace(\"__TITLE__\", title);\n",
       "        format_open += 1;\n",
       "    }\n",
       "    while (1 < memo_level) {\n",
       "        text_menu += end_format + \"</ul>\\n\";\n",
       "        memo_level -= 1;\n",
       "        format_open -= 1;\n",
       "    }\n",
       "    text_menu += send;\n",
       "    //text_menu += \"\\n\" + text_memo;\n",
       "\n",
       "    while (format_open > 0) {\n",
       "        text_menu += end_format;\n",
       "        format_open -= 1;\n",
       "    }\n",
       "    return text_menu;\n",
       "};\n",
       "var update_menu = function() {\n",
       "    var sbegin = \"\";\n",
       "    var sformat = '<a href=\"#__HREF__\">__TITLE__</a>';\n",
       "    var send = \"\";\n",
       "    var begin_format = '<li>';\n",
       "    var end_format = '</li>';\n",
       "    var keep_item = -1;\n",
       "    var text_menu = update_menu_string(sbegin, 2, 4, sformat, send, keep_item,\n",
       "       begin_format, end_format);\n",
       "    var menu = document.getElementById(\"my_id_menu_nb\");\n",
       "    menu.innerHTML=text_menu;\n",
       "};\n",
       "window.setTimeout(update_menu,2000);\n",
       "            </script>"
      ],
      "text/plain": [
       "<IPython.core.display.HTML object>"
      ]
     },
     "execution_count": 1,
     "metadata": {},
     "output_type": "execute_result"
    }
   ],
   "source": [
    "from jyquickhelper import add_notebook_menu\n",
    "add_notebook_menu()"
   ]
  },
  {
   "cell_type": "markdown",
   "id": "4ad0f5e6",
   "metadata": {},
   "source": [
    "## I. Getting started with NumPy\n",
    "\n",
    "In this lab we are going to learn how to use the NumPy package. NumPy or Numerical Python, is a Python library for numerical computation. This fundamental package for scientific computing in Python allows us to build **multidimensional array** object.\n",
    "\n",
    "You can find more details about NumPy and its function in this documentation : [Python Numpy](https://numpy.org/) \n",
    "\n",
    "The very first step for using Numpy is <font color='red'>to install and import it </font>; after doing that we will be able to call it and work with it.\n"
   ]
  },
  {
   "cell_type": "markdown",
   "id": "83b67d0a",
   "metadata": {},
   "source": [
    "### <div class=\"alert-info\"> 1. Installing NumPy </div>"
   ]
  },
  {
   "cell_type": "markdown",
   "id": "86c0ea90",
   "metadata": {},
   "source": [
    "To install NumPy, I strongly recommend using a scientific Python distribution. If you’re looking for the full instructions for  installing NumPy on your operating system, see [Installing NumPy](https://numpy.org/install/)."
   ]
  },
  {
   "cell_type": "code",
   "execution_count": 17,
   "id": "22f8b73f",
   "metadata": {},
   "outputs": [
    {
     "name": "stdout",
     "output_type": "stream",
     "text": [
      "Requirement already satisfied: numpy in c:\\users\\rrapadamnaba\\miniconda3\\lib\\site-packages (1.22.3)\n"
     ]
    }
   ],
   "source": [
    "!pip install numpy"
   ]
  },
  {
   "cell_type": "markdown",
   "id": "e60cd197",
   "metadata": {},
   "source": [
    "or"
   ]
  },
  {
   "cell_type": "markdown",
   "id": "4635e30e",
   "metadata": {},
   "source": [
    "If you already have Python, you can install NumPy with:"
   ]
  },
  {
   "cell_type": "code",
   "execution_count": 3,
   "id": "9e7b6806",
   "metadata": {},
   "outputs": [
    {
     "name": "stdout",
     "output_type": "stream",
     "text": [
      "Collecting package metadata (current_repodata.json): / ^C\n",
      "\\ \n",
      "Note: you may need to restart the kernel to use updated packages.\n"
     ]
    }
   ],
   "source": [
    "conda install numpy"
   ]
  },
  {
   "cell_type": "markdown",
   "id": "1d920de0",
   "metadata": {},
   "source": [
    "If you don’t have Python yet, you might want to consider using [Anaconda](https://www.anaconda.com/). It’s the easiest way to get started. The good thing about getting this distribution is the fact that you don’t need to worry too much about separately installing NumPy or any of the major packages that you’ll be using for your data analyses, like pandas, Scikit-Learn, etc."
   ]
  },
  {
   "cell_type": "markdown",
   "id": "5fa06cea",
   "metadata": {},
   "source": [
    "### <div class=\"alert-info\"> 2. How to import NumPy and know the version </div>"
   ]
  },
  {
   "cell_type": "markdown",
   "id": "25e2914f",
   "metadata": {},
   "source": [
    "To access NumPy and its functions import it in your Python code like this:"
   ]
  },
  {
   "cell_type": "code",
   "execution_count": 2,
   "id": "6e3da977",
   "metadata": {},
   "outputs": [],
   "source": [
    "# The standard way to import NumPy is :\n",
    "\n",
    "import numpy as np\n"
   ]
  },
  {
   "cell_type": "markdown",
   "id": "968a1b21",
   "metadata": {},
   "source": [
    "The imported name is shortened to <font color='red'>np</font> for better readability of code using NumPy. **This is a widely adopted convention that you should follow so that anyone working with your code can easily understand it.**"
   ]
  },
  {
   "cell_type": "code",
   "execution_count": 3,
   "id": "788a06be",
   "metadata": {},
   "outputs": [
    {
     "data": {
      "text/plain": [
       "'1.24.2'"
      ]
     },
     "execution_count": 3,
     "metadata": {},
     "output_type": "execute_result"
    }
   ],
   "source": [
    "# After importing numpy under the name np, to know your version of numpy, type np.__version__\n",
    "np.__version__"
   ]
  },
  {
   "cell_type": "markdown",
   "id": "e9932b4b",
   "metadata": {},
   "source": [
    "## II. Creating a NumPy Array\n",
    "\n",
    "There are MANY ways to instantiate a NumPy array. We will cover the most common ones below. [Docs here cover more constructors](https://docs.scipy.org/doc/numpy-1.13.0/reference/routines.array-creation.html).\n",
    "- Pass in a list to the `array()` constructor\n",
    "- Use the `arange` function, similar to the range function but used for NumPy arrays. Uses arguments, (**start, stop+1, step**).\n",
    "- Use `linspace` to create an array of n equally spaced values. Uses arguments (**start, stop, number of items**).\n",
    "- Create an array empty, full of ones or zeros, or full of any fill value. Uses argument (**shape**) in the form of a tuple.  \n",
    "\n",
    "You can pass in `dtype` as an optional argument for any of these. This is especially useful if you want to limit memory usage for a very large array of small integers because int8 and int16 use much less space than the default int32."
   ]
  },
  {
   "cell_type": "markdown",
   "id": "1aeab608",
   "metadata": {},
   "source": [
    "### 1. Exercise 1 : Creating NumPy arrays by passing in other Python structures(such as, lists, tuples) to the `array()` constructor\n",
    "As said before, the core data structure behind Numpy is the ***N-dimensional*** [Numpy Array](https://docs.scipy.org/doc/numpy/reference/generated/numpy.ndarray.html) or [Numpy ndarray](https://numpy.org/doc/stable/reference/generated/numpy.ndarray.html). In this exercise we are going to learn how to build a basic array. Look into the documention for help. \n"
   ]
  },
  {
   "cell_type": "markdown",
   "id": "ba2b9692",
   "metadata": {},
   "source": [
    "#### <center> a. <u>Creating 0D arrays:  scalars</u></center>\n",
    "\n",
    "Create **two scalars** called *scalar_1* and *scalar_2* using the `array()` constructor of NumPy, one assigned 7 and the other one assigned 8. Those scalars must be arrays of **dimension 0**. Then create another scalar using the standard/usual way. The latter will be an integer variable called *scalar_3* also assigned 7.\n",
    "\n",
    "- After doing that use the function `type()`to print the type of these 3 scalars to ensure that they are objects from the good class. What do you notice?\n",
    "\n",
    "- Then print the first 2 scalars together with the following attibutes : \n",
    "   -  their **dimension** (i.e., the number of axes/dimensions of these arrays or the length of the shape tuple) and their **shape** (i.e., a tuple of these array dimensions), \n",
    "   -  their **size** (i.e, the total number of elements of each array. This is equal to the product of the elements of shape)\n",
    "   -  the **data-type** of these arrays' elements and the **size in bytes** of each element of the array\n",
    "   -  the **total bytes** consumed by the elements of the array."
   ]
  },
  {
   "cell_type": "code",
   "execution_count": 4,
   "id": "86d34740",
   "metadata": {},
   "outputs": [
    {
     "name": "stdout",
     "output_type": "stream",
     "text": [
      "Scalar 1 is  7  and it is from  <class 'numpy.ndarray'> .\n",
      "Scalar 2 is  8  and it is from  <class 'numpy.ndarray'> .\n",
      "Scalar 3 is  7  and it is from  <class 'int'> .\n",
      "Scalar 1 is  7 ; its shape is : () ; its dimension is : 0 .\n",
      "Scalar 2 is  8 ; its shape is : () ; its dimension is : 0 .\n",
      "Comparison between length of tuple and ndim  True .\n",
      "Scalar 1 is  7 ; its size is : 1 .\n",
      "Scalar 2 is  8 ; its size is : 1 .\n",
      "Scalar 1 is  7 ; its elements are of type : int64 ; the size in bytes of each element of the array is : 8 .\n",
      "Scalar 2 is  8 ; its elements are of type : int64 ; the size in bytes of each element of the array is : 8 .\n",
      "Scalar 1 is  7 and the total bytes consumed by the elements of the array is: 8 .\n",
      "Scalar 2 is  8 and the total bytes consumed by the elements of the array is : 8 .\n"
     ]
    }
   ],
   "source": [
    "#TO DO\n",
    "scalar_1 = np.array(7)\n",
    "scalar_2 = np.array(8)\n",
    "scalar_3=7\n",
    "\n",
    "#The type() function allows to print the type of these scalars \n",
    "print(\"Scalar 1 is \",scalar_1, \" and it is from \",type(scalar_1),\".\")\n",
    "print(\"Scalar 2 is \",scalar_2, \" and it is from \",type(scalar_2),\".\")\n",
    "print(\"Scalar 3 is \",scalar_3, \" and it is from \",type(scalar_3),\".\")\n",
    "\n",
    "#The attibutes ndim and shape allow to print the dimensions and the shapes of the arrays, respectively.\n",
    "print(\"Scalar 1 is \",scalar_1,\"; its shape is :\", scalar_1.shape, \"; its dimension is :\", scalar_1.ndim,\".\")\n",
    "print(\"Scalar 2 is \",scalar_2,\"; its shape is :\", scalar_2.shape, \"; its dimension is :\", scalar_2.ndim,\".\")\n",
    "\n",
    "#The dimensions of an array is also the length of the shape tuple. Therefore ndim can be printed using this information.\n",
    "print(\"Comparison between length of tuple and ndim \",len(scalar_1.shape)== scalar_1.ndim,\".\")\n",
    "\n",
    "#The attibute size  allows to print the number of elements  of the arrays.\n",
    "print(\"Scalar 1 is \",scalar_1,\"; its size is :\", scalar_1.size,\".\")\n",
    "print(\"Scalar 2 is \",scalar_2,\"; its size is :\", scalar_2.size,\".\")\n",
    "\n",
    "#The attibutes dtype, and itemsize allow to print the data-type of the arrays' elements, \n",
    "# and the length of one array element in bytes, respectively. \n",
    "print(\"Scalar 1 is \",scalar_1,\"; its elements are of type :\", scalar_1.dtype, \"; the size in bytes of each element of the array is :\", scalar_1.itemsize,\".\")\n",
    "print(\"Scalar 2 is \",scalar_2,\"; its elements are of type :\", scalar_2.dtype, \"; the size in bytes of each element of the array is :\", scalar_2.itemsize,\".\")\n",
    "\n",
    "# The attribute nbytes allows to print the total bytes consumed by the elements of the arrays.\n",
    "print(\"Scalar 1 is \",scalar_1,\"and the total bytes consumed by the elements of the array is:\", scalar_1.nbytes, \".\")\n",
    "print(\"Scalar 2 is \",scalar_2,\"and the total bytes consumed by the elements of the array is :\", scalar_2.nbytes,\".\")"
   ]
  },
  {
   "cell_type": "markdown",
   "id": "7293804a",
   "metadata": {},
   "source": [
    "<div class=\"alert-danger\">\n",
    "     <b><u>Note</u>:<br>\n",
    "    -  </b> The variables <i>scalar_1</i> and <i>scalar_2</i> are objects from the class \"<b>ndarray</b>\" with values array(7) and array(8) respectively, while <i>scalar_3</i> which is an integer containing the value 7 is an object instantiated from the class \"<b>int</b>\".</div> <br>\n",
    "\n",
    "<div class=\"alert-danger\"> \n",
    "    -  Here we can see that the shape is only '( )' because our array has a dimension of 0.</div>"
   ]
  },
  {
   "cell_type": "markdown",
   "id": "f7faa480",
   "metadata": {},
   "source": [
    "#### <center> b. <u>Creating 1D arrays:  vectors</u></center>\n",
    "Now, let's create a longer array. Create **two vectors** called *vector_1* and *vector_2* whose values ​​are [1, 2, 3] and [3, 2, 1] using the `array()` constructor of NumPy. Those vectors must be of **dimension 1**. Just like before \n",
    "- print the type of these vectors to ensure that they are objects from  `<class 'numpy.ndarray'>`\n",
    "- print these vectors together with the following attibutes : \n",
    "   -  their **dimension** (i.e., the number of axes/dimensions of these arrays or the length of the shape tuple) and their **shape** (i.e., a tuple of these array dimensions), \n",
    "   -  their **size** (i.e, the total number of elements of each array. This is equal to the product of the elements of shape)\n",
    "   -  the **data-type** of these arrays' elements and the **size in bytes** of each element of the array\n",
    "   -  the **total bytes** consumed by the elements of the array."
   ]
  },
  {
   "cell_type": "code",
   "execution_count": 131,
   "id": "2f7d0d95",
   "metadata": {},
   "outputs": [
    {
     "name": "stdout",
     "output_type": "stream",
     "text": [
      "Vector 1 is  [1 2 3]  and it is from  <class 'numpy.ndarray'> .\n",
      "Vector 2 is  [3 2 1]  and it is from  <class 'numpy.ndarray'> .\n",
      "Vector 1 is  [1 2 3] ; its shape is : (3,) ; its dimension is : 1 .\n",
      "Vector 2 is  [3 2 1] ; its shape is : (3,) ; its dimension is : 1 .\n",
      "Comparison between length of tuple and ndim  True .\n",
      "Vector 1 is  [1 2 3] ; its size is : 3 .\n",
      "Vector 2 is  [3 2 1] ; its size is : 3 .\n",
      "Vector 1 is  [1 2 3] ; its elements are of type : int32 ; the size in bytes of each element of the array is : 4 .\n",
      "Vector 2 is  [3 2 1] ; its elements are of type : int32 ; the size in bytes of each element of the array is : 4 .\n",
      "Vector 1 is  [1 2 3] and the total bytes consumed by the elements of the array is: 12 .\n",
      "Vector 2 is  [3 2 1] and the total bytes consumed by the elements of the array is : 12 .\n"
     ]
    }
   ],
   "source": [
    "#TO DO\n",
    "vector_1 = np.array([1,2,3])\n",
    "vector_2 = np.array([3,2,1])\n",
    "\n",
    "#The type() function allows to print the type \n",
    "print(\"Vector 1 is \",vector_1, \" and it is from \",type(vector_1),\".\")\n",
    "print(\"Vector 2 is \",vector_2, \" and it is from \",type(vector_2),\".\")\n",
    "#The attibutes ndim and shape allow to print the dimensions and the shapes of the arrays, respectively.\n",
    "print(\"Vector 1 is \",vector_1,\"; its shape is :\", vector_1.shape, \"; its dimension is :\", vector_1.ndim,\".\")\n",
    "print(\"Vector 2 is \",vector_2,\"; its shape is :\", vector_2.shape, \"; its dimension is :\", vector_2.ndim,\".\")\n",
    "#The dimensions of an array is also the length of the shape tuple. Therefore ndim can be printed using this information.\n",
    "print(\"Comparison between length of tuple and ndim \",len(vector_1.shape)== vector_1.ndim,\".\")\n",
    "\n",
    "#The attibute size  allows to print the number of elements  of the arrays.\n",
    "print(\"Vector 1 is \",vector_1,\"; its size is :\", vector_1.size,\".\")\n",
    "print(\"Vector 2 is \",vector_2,\"; its size is :\", vector_2.size,\".\")\n",
    "#The attibutes dtype, and itemsize allow to print the data-type of the arrays' elements, \n",
    "# and the length of one array element in bytes, respectively. \n",
    "print(\"Vector 1 is \",vector_1,\"; its elements are of type :\", vector_1.dtype, \"; the size in bytes of each element of the array is :\", vector_1.itemsize,\".\")\n",
    "print(\"Vector 2 is \",vector_2,\"; its elements are of type :\", vector_2.dtype, \"; the size in bytes of each element of the array is :\", vector_2.itemsize,\".\")\n",
    "# The attribute nbytes allows to print the total bytes consumed by the elements of the arrays.\n",
    "print(\"Vector 1 is \",vector_1,\"and the total bytes consumed by the elements of the array is:\", vector_1.nbytes, \".\")\n",
    "print(\"Vector 2 is \",vector_2,\"and the total bytes consumed by the elements of the array is :\", vector_2.nbytes,\".\")"
   ]
  },
  {
   "cell_type": "markdown",
   "id": "11bfcdcc",
   "metadata": {},
   "source": [
    "<div class=\"alert-danger\"> Here, the shape is '(3, )'. This means that there is 3 columns. There is nothing after the coma because it's only one dimentional, so their is only one line.</div>"
   ]
  },
  {
   "cell_type": "markdown",
   "id": "e799045f",
   "metadata": {},
   "source": [
    "#### <center> c. <u>Creating 2D arrays:  matrices</u></center>\n",
    "Now, lets create multidimensional arrays. Create **three matrices** called *matrix_1*, *matrix_2* and *matrix_3*  of dimension 3x2,  2x2, and 3x2, respectively where the rows for *matrix_1* are [1, 2], [3, 4] and [5, 6],  those for *matrix_2* are [7, 8] and [9, 0], and those for *matrix_3* consist of the lists [1, 2.0, -1],[5, 1, 3], and of the tuple (1+1j, 3., -1+2j). Those matrices must be of **dimension 2**. Just like before \n",
    "- print the type of these matrices to ensure that they are objects from  `<class 'numpy.ndarray'>`\n",
    "- print these matrices together with the following attibutes : \n",
    "   -  their **dimension** (i.e., the number of axes/dimensions of these arrays or the length of the shape tuple) and their **shape** (i.e., a tuple of these array dimensions), \n",
    "   -  their **size** (i.e, the total number of elements of each array. This is equal to the product of the elements of shape)\n",
    "   -  the **data-type** of these arrays' elements and the **size in bytes** of each element of the array\n",
    "   -  the **total bytes** consumed by the elements of the array."
   ]
  },
  {
   "cell_type": "code",
   "execution_count": 132,
   "id": "cb842ef3",
   "metadata": {},
   "outputs": [
    {
     "name": "stdout",
     "output_type": "stream",
     "text": [
      "Matrix 1 is \n",
      " [[1 2]\n",
      " [3 4]\n",
      " [5 6]] \n",
      " and it is from  <class 'numpy.ndarray'> .\n",
      "Matrix 2 is \n",
      " [[7 8]\n",
      " [9 0]] \n",
      " and it is from  <class 'numpy.ndarray'> .\n",
      "Matrix 3 is \n",
      " [[ 1.+0.j  2.+0.j -1.+0.j]\n",
      " [ 5.+0.j  1.+0.j  3.+0.j]\n",
      " [ 1.+1.j  3.+0.j -1.+2.j]] \n",
      " and it is from  <class 'numpy.ndarray'> .\n",
      "Matrix 1 is \n",
      " [[1 2]\n",
      " [3 4]\n",
      " [5 6]] ;\n",
      " its shape is : (3, 2) ; its dimension is : 2 .\n",
      "Matrix 2 is \n",
      " [[7 8]\n",
      " [9 0]] ;\n",
      " its shape is : (2, 2) ; its dimension is : 2 .\n",
      "Matrix 3 is \n",
      " [[ 1.+0.j  2.+0.j -1.+0.j]\n",
      " [ 5.+0.j  1.+0.j  3.+0.j]\n",
      " [ 1.+1.j  3.+0.j -1.+2.j]] ;\n",
      " its shape is : (3, 3) ; its dimension is : 2 .\n",
      "Comparison between length of tuple and ndim  True .\n",
      "Matrix 1 is \n",
      " [[1 2]\n",
      " [3 4]\n",
      " [5 6]] ;\n",
      " its size is : 6 .\n",
      "Matrix 2 is \n",
      " [[7 8]\n",
      " [9 0]] ;\n",
      " its size is : 4 .\n",
      "Matrix 3 is \n",
      " [[ 1.+0.j  2.+0.j -1.+0.j]\n",
      " [ 5.+0.j  1.+0.j  3.+0.j]\n",
      " [ 1.+1.j  3.+0.j -1.+2.j]] ;\n",
      " its size is : 9 .\n",
      "Matrix 1 is \n",
      " [[1 2]\n",
      " [3 4]\n",
      " [5 6]] ;\n",
      " its elements are of type : int32 ; the size in bytes of each element of the array is : 4 .\n",
      "Matrix 2 is \n",
      " [[7 8]\n",
      " [9 0]] ;\n",
      " its elements are of type : int32 ; the size in bytes of each element of the array is : 4 .\n",
      "Matrix 3 is \n",
      " [[ 1.+0.j  2.+0.j -1.+0.j]\n",
      " [ 5.+0.j  1.+0.j  3.+0.j]\n",
      " [ 1.+1.j  3.+0.j -1.+2.j]] ;\n",
      " its elements are of type : complex128 ; the size in bytes of each element of the array is : 16 .\n",
      "Matrix 1 is \n",
      " [[1 2]\n",
      " [3 4]\n",
      " [5 6]] \n",
      " and the total bytes consumed by the elements of the array is: 24 .\n",
      "Matrix 2 is \n",
      " [[7 8]\n",
      " [9 0]] \n",
      " and the total bytes consumed by the elements of the array is : 16 .\n",
      "Matrix 2 is \n",
      " [[ 1.+0.j  2.+0.j -1.+0.j]\n",
      " [ 5.+0.j  1.+0.j  3.+0.j]\n",
      " [ 1.+1.j  3.+0.j -1.+2.j]] \n",
      " and the total bytes consumed by the elements of the array is : 144 .\n"
     ]
    }
   ],
   "source": [
    "#TO DO\n",
    "matrix_1 = np.array([[1,2],[3,4],[5,6]])\n",
    "matrix_2 = np.array([[7,8],[9,0]])\n",
    "matrix_3=np.array([[1,2.0,-1],[5,1,3],(1+1j,3.,-1+2j)])# note mix of tuple and lists,and types\n",
    "#The type() function allows to print the type \n",
    "print(\"Matrix 1 is \\n\",matrix_1, \"\\n and it is from \",type(matrix_1),\".\")\n",
    "print(\"Matrix 2 is \\n\",matrix_2, \"\\n and it is from \",type(matrix_2),\".\")\n",
    "print(\"Matrix 3 is \\n\",matrix_3, \"\\n and it is from \",type(matrix_3),\".\")\n",
    "#The attibutes ndim and shape allow to print the dimensions and the shapes of the arrays, respectively.\n",
    "print(\"Matrix 1 is \\n\",matrix_1,\";\\n its shape is :\", matrix_1.shape, \"; its dimension is :\", matrix_1.ndim,\".\")\n",
    "print(\"Matrix 2 is \\n\",matrix_2,\";\\n its shape is :\", matrix_2.shape, \"; its dimension is :\", matrix_2.ndim,\".\")\n",
    "print(\"Matrix 3 is \\n\",matrix_3,\";\\n its shape is :\", matrix_3.shape, \"; its dimension is :\", matrix_3.ndim,\".\")\n",
    "#The dimensions of an array is also the length of the shape tuple. Therefore ndim can be printed using this information.\n",
    "print(\"Comparison between length of tuple and ndim \",len(matrix_1.shape)== matrix_1.ndim,\".\")\n",
    "\n",
    "#The attibute size  allows to print the number of elements  of the arrays.\n",
    "print(\"Matrix 1 is \\n\",matrix_1,\";\\n its size is :\", matrix_1.size,\".\")\n",
    "print(\"Matrix 2 is \\n\",matrix_2,\";\\n its size is :\", matrix_2.size,\".\")\n",
    "print(\"Matrix 3 is \\n\",matrix_3,\";\\n its size is :\", matrix_3.size,\".\")\n",
    "#The attibutes dtype, and itemsize allow to print the data-type of the arrays' elements, \n",
    "# and the length of one array element in bytes, respectively. \n",
    "print(\"Matrix 1 is \\n\",matrix_1,\";\\n its elements are of type :\", matrix_1.dtype, \"; the size in bytes of each element of the array is :\", matrix_1.itemsize,\".\")\n",
    "print(\"Matrix 2 is \\n\",matrix_2,\";\\n its elements are of type :\", matrix_2.dtype, \"; the size in bytes of each element of the array is :\", matrix_2.itemsize,\".\")\n",
    "print(\"Matrix 3 is \\n\",matrix_3,\";\\n its elements are of type :\", matrix_3.dtype, \"; the size in bytes of each element of the array is :\", matrix_3.itemsize,\".\")\n",
    "# The attribute nbytes allows to print the total bytes consumed by the elements of the arrays.\n",
    "print(\"Matrix 1 is \\n\",matrix_1,\"\\n and the total bytes consumed by the elements of the array is:\", matrix_1.nbytes,\".\")\n",
    "print(\"Matrix 2 is \\n\",matrix_2,\"\\n and the total bytes consumed by the elements of the array is :\", matrix_2.nbytes,\".\")\n",
    "print(\"Matrix 2 is \\n\",matrix_3,\"\\n and the total bytes consumed by the elements of the array is :\", matrix_3.nbytes,\".\")"
   ]
  },
  {
   "cell_type": "markdown",
   "id": "7ea5e490",
   "metadata": {},
   "source": [
    "<div class=\"alert-danger\"> The shapes (n, m) tell us that there is n rows and m columns.</div>"
   ]
  },
  {
   "cell_type": "markdown",
   "id": "ba03a8e5",
   "metadata": {},
   "source": [
    "### 2. Exercise 2 : Creating numpy arrays from built-in funtions\n",
    " In the previous exercise we have seen how to build a basic array by converting Python array_like Objects to NumPy Arrays using the `array`constructor. Now, we are going to learn how to use built-in functions in NumPy to create arrays from scracth. NumPy has over 40 built-in functions for creating arrays as laid out in the [Array creation routines](https://numpy.org/doc/stable/reference/routines.array-creation.html#routines-array-creation). These functions can be split into roughly three categories, based on the dimension of the array they create: \n",
    " \n",
    "\n",
    "    1D arrays\n",
    "\n",
    "    2D arrays\n",
    "\n",
    "    ndarrays\n",
    "Look into the documention for help."
   ]
  },
  {
   "cell_type": "markdown",
   "id": "294d74b2",
   "metadata": {},
   "source": [
    "#### <center> a. <u> 1D array creation functions</u></center>\n",
    "\n",
    "Create **two vectors** called *vector_3* and *vector_4* using the built-in function  [numpy.arange](https://numpy.org/doc/stable/reference/generated/numpy.arange.html#numpy.arange) and the built_in function [numpy.linspace](https://numpy.org/doc/stable/reference/generated/numpy.linspace.html#numpy.linspace), respectively. *vector_3* contains odd numbers from 1 to 19 and *vector_4* contains 11 equally spaced samples in the closed interval [0, 1.0]  and the size of spacing between samples (the step).\n",
    "\n",
    "- After doing that print both vectors together with their **dimension** and their **shape**. \n"
   ]
  },
  {
   "cell_type": "code",
   "execution_count": 133,
   "id": "731d9075",
   "metadata": {},
   "outputs": [],
   "source": [
    "# useful to evaluate function at lots of points"
   ]
  },
  {
   "cell_type": "code",
   "execution_count": 134,
   "id": "bb931f63",
   "metadata": {},
   "outputs": [
    {
     "name": "stdout",
     "output_type": "stream",
     "text": [
      "Vector 3 is the odd numbers from 1 to 19: [ 1  3  5  7  9 11 13 15 17 19]\n",
      "The dimension of Vector 3 is : 1 and its shape is : (10,)\n",
      "Vector 4 is the odd numbers from 1 to 19: [0.  0.1 0.2 0.3 0.4 0.5 0.6 0.7 0.8 0.9 1. ]\n",
      "The dimension of Vector 4 is : 1 and its shape is : (11,)\n"
     ]
    }
   ],
   "source": [
    "#`arange(start, stop, step)` allows to generate values  within the half-open interval [start, stop), with spacing between values given by step.\n",
    "vector_3=np.arange(1,20,2)\n",
    "print(\"Vector 3 is the odd numbers from 1 to 19:\",vector_3)\n",
    "print(\"The dimension of Vector 3 is :\", vector_3.ndim, \"and its shape is :\", vector_3.shape)\n",
    "\n",
    "#linspace(start, stop, num=11, endpoint=True) allows to generate num equally spaced samples in the closed interval [start, stop] \n",
    "# or the half-open interval [start, stop) (depending on whether endpoint is True or False).\n",
    "vector_4=np.linspace(0, 1.0, num=11)\n",
    "print(\"Vector 4 is the odd numbers from 1 to 19:\",vector_4)\n",
    "print(\"The dimension of Vector 4 is :\", vector_4.ndim, \"and its shape is :\", vector_4.shape)"
   ]
  },
  {
   "cell_type": "markdown",
   "id": "a50151ac",
   "metadata": {},
   "source": [
    "<div class=\"alert-danger\"> The advantage of the constructor `linspace(start, stop, num=11, endpoint=True)` is that you guarantee the number of elements and the starting and end point. The previous constructor `arange(start, stop, step)` will not include the value stop.</div>"
   ]
  },
  {
   "cell_type": "markdown",
   "id": "6746d97e",
   "metadata": {},
   "source": [
    "#### <center> b. <u>  2D array creation functions</u></center>\n",
    "The 2D array creation functions e.g. [numpy.eye](https://numpy.org/doc/stable/reference/generated/numpy.eye.html#numpy.eye), and [numpy.diag](https://numpy.org/doc/stable/reference/generated/numpy.diag.html#numpy.diag) define properties of special matrices represented as 2D arrays.\n",
    "\n",
    "\n",
    "- Create a 2-D array called *TwoD_identity_matrix* of shape (3,3) with ones on the main diagonal and zeros elsewhere using the function `numpy.eye`\n",
    "- Create a 2-D array called *Upper_diagonal_identity_matrix* of shape (3,3) with ones on the first upper diagonal and zeros elsewhere using the function `numpy.eye`\n",
    "- Create a 2-D array called *Lower_diagonal_identity_matrix* of shape (3,3) with ones on the first lower diagonal and zeros elsewhere using the function `numpy.eye`\n",
    "- Create an array called *Diagonal_element_of_matrix3* containing the main diagonal elements of matrix_3 using the function `numpy.diag`\n",
    "- Create an array called *Upper_Diagonal_element_of_matrix3* containing the first upper diagonal elements of matrix_3 using the function `numpy.diag`\n",
    "- Create an array called *Lower_Diagonal_element_of_matrix3* containing the first lower diagonal elements of matrix_3 using the function `numpy.diag`\n",
    "- Create an array called *New_Diagonal_of_matrix3* with the main diagonal elements of matrix_3 on the main diagonal and zeros elsewhere using the function `numpy.diag`\n",
    "- After doing that print all matrices together with their **dimension** and their **shape**.\n",
    "    "
   ]
  },
  {
   "cell_type": "code",
   "execution_count": 135,
   "id": "5d375b91",
   "metadata": {},
   "outputs": [
    {
     "name": "stdout",
     "output_type": "stream",
     "text": [
      "The 2-D identity matrix of shape (3,3) is :\n",
      " [[1. 0. 0.]\n",
      " [0. 1. 0.]\n",
      " [0. 0. 1.]]\n",
      "The dimension of the 2-D identity matrix is : 2 and its shape is : (3, 3)\n",
      "The 2-D first upper diagonal identity matrix of shape (3,3) is :\n",
      " [[0. 1. 0.]\n",
      " [0. 0. 1.]\n",
      " [0. 0. 0.]]\n",
      "The dimension of 2-D first upper diagonal identity matrix is : 2 and its shape is : (3, 3)\n",
      "The 2-D first lower diagonal identity matrix of shape (3,3) is :\n",
      " [[0. 0. 0.]\n",
      " [1. 0. 0.]\n",
      " [0. 1. 0.]]\n",
      "The dimension of 2-D first lower diagonal identity matrix is : 2 and its shape is : (3, 3)\n",
      "The matrix 3 is: \n",
      " [[ 1.+0.j  2.+0.j -1.+0.j]\n",
      " [ 5.+0.j  1.+0.j  3.+0.j]\n",
      " [ 1.+1.j  3.+0.j -1.+2.j]]\n",
      "The diagonal elements of matrix 3 are :\n",
      " [ 1.+0.j  1.+0.j -1.+2.j]\n",
      "The array with the diagonal elements of matrix 3 is of dimension : 1 and its shape is : (3,)\n",
      "The array with the first upper diagonal elements of matrix_3 is :\n",
      " [2.+0.j 3.+0.j]\n",
      "The array with the first upper diagonal elements of matrix_3 is of dimension : 1 and its shape is : (2,)\n",
      "The array with the first lower diagonal elements of matrix_3 is :\n",
      " [5.+0.j 3.+0.j]\n",
      "The array with the first lower diagonal elements of matrix_3 is of dimension : 1 and its shape is : (2,)\n",
      "The New Diagonal matrix with the main diagonal elements of matrix_3 on the main diagonal and zeros elsewhere is :\n",
      " [[ 1.+0.j  0.+0.j  0.+0.j]\n",
      " [ 0.+0.j  1.+0.j  0.+0.j]\n",
      " [ 0.+0.j  0.+0.j -1.+2.j]]\n",
      "The New Diagonal matrix is of dimension : 2 and its shape is : (3, 3)\n"
     ]
    }
   ],
   "source": [
    "\n",
    "TwoD_identity_matrix=np.eye(3)\n",
    "print(\"The 2-D identity matrix of shape (3,3) is :\\n\", TwoD_identity_matrix)\n",
    "print(\"The dimension of the 2-D identity matrix is :\", TwoD_identity_matrix.ndim, \"and its shape is :\", TwoD_identity_matrix.shape)\n",
    "\n",
    "Upper_diagonal_identity_matrix=np.eye(3, k=1)\n",
    "print(\"The 2-D first upper diagonal identity matrix of shape (3,3) is :\\n\", Upper_diagonal_identity_matrix)\n",
    "print(\"The dimension of 2-D first upper diagonal identity matrix is :\", Upper_diagonal_identity_matrix.ndim, \"and its shape is :\", Upper_diagonal_identity_matrix.shape)\n",
    "\n",
    "Lower_diagonal_identity_matrix=np.eye(3, k=-1)\n",
    "print(\"The 2-D first lower diagonal identity matrix of shape (3,3) is :\\n\", Lower_diagonal_identity_matrix)\n",
    "print(\"The dimension of 2-D first lower diagonal identity matrix is :\", Lower_diagonal_identity_matrix.ndim, \"and its shape is :\", Lower_diagonal_identity_matrix.shape)\n",
    "\n",
    "print(\"The matrix 3 is: \\n\", matrix_3)\n",
    "Diagonal_element_of_matrix3=np.diag(matrix_3)\n",
    "print(\"The diagonal elements of matrix 3 are :\\n\", Diagonal_element_of_matrix3)\n",
    "print(\"The array with the diagonal elements of matrix 3 is of dimension :\", Diagonal_element_of_matrix3.ndim, \"and its shape is :\", Diagonal_element_of_matrix3.shape)\n",
    "\n",
    "Upper_Diagonal_element_of_matrix3=np.diag(matrix_3, k=1)\n",
    "print(\"The array with the first upper diagonal elements of matrix_3 is :\\n\", Upper_Diagonal_element_of_matrix3)\n",
    "print(\"The array with the first upper diagonal elements of matrix_3 is of dimension :\", Upper_Diagonal_element_of_matrix3.ndim, \"and its shape is :\", Upper_Diagonal_element_of_matrix3.shape)\n",
    "\n",
    "Lower_Diagonal_element_of_matrix3=np.diag(matrix_3, k=-1)\n",
    "print(\"The array with the first lower diagonal elements of matrix_3 is :\\n\", Lower_Diagonal_element_of_matrix3)\n",
    "print(\"The array with the first lower diagonal elements of matrix_3 is of dimension :\", Lower_Diagonal_element_of_matrix3.ndim, \"and its shape is :\", Lower_Diagonal_element_of_matrix3.shape)\n",
    "\n",
    "New_Diagonal_of_matrix3=np.diag(Diagonal_element_of_matrix3)\n",
    "print(\"The New Diagonal matrix with the main diagonal elements of matrix_3 on the main diagonal and zeros elsewhere is :\\n\", New_Diagonal_of_matrix3)\n",
    "print(\"The New Diagonal matrix is of dimension :\", New_Diagonal_of_matrix3.ndim, \"and its shape is :\", New_Diagonal_of_matrix3.shape)\n"
   ]
  },
  {
   "cell_type": "markdown",
   "id": "e0f1bdcc",
   "metadata": {},
   "source": [
    "#### <center> c. <u>  General ndarray creation functions</u></center>\n",
    "The ndarray creation functions e.g. [numpy.ones](https://numpy.org/doc/stable/reference/generated/numpy.ones.html#numpy.ones),  [numpy.zeros](https://numpy.org/doc/stable/reference/generated/numpy.zeros.html#numpy.zeros), and [random](https://numpy.org/doc/stable/reference/random/generated/numpy.random.Generator.random.html#numpy.random.Generator.random) define arrays based upon the desired shape. The ndarray creation functions can create arrays with any dimension by specifying how many dimensions and length along that dimension in a tuple or list.\n",
    "\n",
    "\n",
    "- Create a 1-D array called *OneD_full_of_ones* of shape (5,) using the function `numpy.ones`\n",
    "- Create a 2-D array called *TwoD_full_of_ones* of shape (5,3) using the function `numpy.ones`\n",
    "- Create a 3-D array called *ThreeD_full_of_ones* of shape (5,3,2) using the function `numpy.ones`\n",
    "\n",
    "- Create a 1-D array called *OneD_full_of_zeros* of shape (5,) using the function `numpy.zeros`\n",
    "- Create a 2-D array called *TwoD_full_of_zeros* of shape (5,3) using the function `numpy.zeros`\n",
    "- Create a 3-D array called *ThreeD_full_of_zeros* of shape (5,3,2) using the function `numpy.zeros`\n",
    "\n",
    "- Create a 1-D array called *OneD_Random_between_zero_and_one* of shape (5,) using the function `numpy.random` and `default_rng`\n",
    "- Create a 2-D array called *TwoD_Random_between_zero_and_one* of shape (5,3) using the function `numpy.random` and `default_rng`\n",
    "- Create a 3-D array called *ThreeD_Random_between_zero_and_one* of shape (5,3,2) using the function `numpy.random` and `default_rng`\n",
    "\n",
    "- After doing that print all arrays together with their **dimension** and their **shape**.\n"
   ]
  },
  {
   "cell_type": "code",
   "execution_count": 136,
   "id": "a5800620",
   "metadata": {},
   "outputs": [
    {
     "name": "stdout",
     "output_type": "stream",
     "text": [
      "The 1-D array of shape (5,) and filled with 1 values  :\n",
      " [1. 1. 1. 1. 1.]\n",
      "The dimension of the 1-D array of shape (5,) and filled with 1 values is : 1 and its shape is : (5,)\n",
      "The 2-D array of shape (5,3) and filled with 1 values  :\n",
      " [[1. 1. 1.]\n",
      " [1. 1. 1.]\n",
      " [1. 1. 1.]\n",
      " [1. 1. 1.]\n",
      " [1. 1. 1.]]\n",
      "The dimension of the 2-D array of shape (5,3) and filled with 1 values is : 2 and its shape is : (5, 3)\n",
      "The 3-D array of shape (5,3,2) and filled with 1 values  :\n",
      " [[[1. 1.]\n",
      "  [1. 1.]\n",
      "  [1. 1.]]\n",
      "\n",
      " [[1. 1.]\n",
      "  [1. 1.]\n",
      "  [1. 1.]]\n",
      "\n",
      " [[1. 1.]\n",
      "  [1. 1.]\n",
      "  [1. 1.]]\n",
      "\n",
      " [[1. 1.]\n",
      "  [1. 1.]\n",
      "  [1. 1.]]\n",
      "\n",
      " [[1. 1.]\n",
      "  [1. 1.]\n",
      "  [1. 1.]]]\n",
      "The dimension of the 3-D array of shape (5,3,2) and filled with 1 values is : 3 and its shape is : (5, 3, 2)\n",
      "The 1-D array of shape (5,) and filled with 0 values  :\n",
      " [0. 0. 0. 0. 0.]\n",
      "The dimension of the 1-D array of shape (5,) and filled with 0 values is : 1 and its shape is : (5,)\n",
      "The 2-D array of shape (5,3) and filled with 0 values  :\n",
      " [[0. 0. 0.]\n",
      " [0. 0. 0.]\n",
      " [0. 0. 0.]\n",
      " [0. 0. 0.]\n",
      " [0. 0. 0.]]\n",
      "The dimension of the 2-D array of shape (5,3) and filled with 0 values is : 2 and its shape is : (5, 3)\n",
      "The 3-D array of shape (5,3,2) and filled with 0 values  :\n",
      " [[[0. 0.]\n",
      "  [0. 0.]\n",
      "  [0. 0.]]\n",
      "\n",
      " [[0. 0.]\n",
      "  [0. 0.]\n",
      "  [0. 0.]]\n",
      "\n",
      " [[0. 0.]\n",
      "  [0. 0.]\n",
      "  [0. 0.]]\n",
      "\n",
      " [[0. 0.]\n",
      "  [0. 0.]\n",
      "  [0. 0.]]\n",
      "\n",
      " [[0. 0.]\n",
      "  [0. 0.]\n",
      "  [0. 0.]]]\n",
      "The dimension of the 3-D array of shape (5,3,2) and filled with 0 values is : 3 and its shape is : (5, 3, 2)\n",
      "The 1-D array of shape (5,) and filled with random numbers between 0 and 1  :\n",
      " [0. 0. 0. 0. 0.]\n",
      "The dimension of the 1-D array of shape (5,) and filled with random numbers between 0 and 1 is : 1 and its shape is : (5,)\n",
      "The 2-D array of shape (5,3) and filled with random numbers between 0 and 1  :\n",
      " [[0.77395605 0.43887844 0.85859792]\n",
      " [0.69736803 0.09417735 0.97562235]\n",
      " [0.7611397  0.78606431 0.12811363]\n",
      " [0.45038594 0.37079802 0.92676499]\n",
      " [0.64386512 0.82276161 0.4434142 ]]\n",
      "The dimension of the 2-D array of shape (5,3) and filled with random numbers between 0 and 1 is : 2 and its shape is : (5, 3)\n",
      "The 3-D array of shape (5,3,2) and filled with random numbers between 0 and 1  :\n",
      " [[[0.77395605 0.43887844]\n",
      "  [0.85859792 0.69736803]\n",
      "  [0.09417735 0.97562235]]\n",
      "\n",
      " [[0.7611397  0.78606431]\n",
      "  [0.12811363 0.45038594]\n",
      "  [0.37079802 0.92676499]]\n",
      "\n",
      " [[0.64386512 0.82276161]\n",
      "  [0.4434142  0.22723872]\n",
      "  [0.55458479 0.06381726]]\n",
      "\n",
      " [[0.82763117 0.6316644 ]\n",
      "  [0.75808774 0.35452597]\n",
      "  [0.97069802 0.89312112]]\n",
      "\n",
      " [[0.7783835  0.19463871]\n",
      "  [0.466721   0.04380377]\n",
      "  [0.15428949 0.68304895]]]\n",
      "The dimension of the 3-D array of shape (5,3,2) and filled with random numbers between 0 and 1 is : 3 and its shape is : (5, 3, 2)\n",
      "[0. 0. 0. 0. 0.]\n",
      "[[0. 0. 0.]\n",
      " [0. 0. 0.]\n",
      " [0. 0. 0.]\n",
      " [0. 0. 0.]\n",
      " [0. 0. 0.]]\n",
      "[1. 1. 1. 1. 1.]\n",
      "[[1. 1. 1.]\n",
      " [1. 1. 1.]]\n",
      "[1.13000564e-271 2.81517017e-092]\n",
      "[[6.23042070e-307 4.67296746e-307 1.69121096e-306 7.56602523e-307]\n",
      " [7.56593017e-307 8.01092457e-307 1.11258922e-306 1.37961302e-306]\n",
      " [1.05699242e-307 8.01097889e-307 1.78020169e-306 7.56601165e-307]\n",
      " [1.02359984e-306 1.33510679e-306 2.22522597e-306 1.33511018e-306]\n",
      " [6.23057689e-307 1.02360120e-306 8.45559303e-307 8.06613465e-308]\n",
      " [6.89810244e-307 1.22387550e-307 2.22522596e-306 3.47740438e-245]]\n",
      "[[1 1 1]\n",
      " [1 1 1]]\n",
      "[88 88 88 88]\n",
      "[[6 6 6]\n",
      " [6 6 6]\n",
      " [6 6 6]\n",
      " [6 6 6]]\n",
      "[[[5 5]\n",
      "  [5 5]\n",
      "  [5 5]]\n",
      "\n",
      " [[5 5]\n",
      "  [5 5]\n",
      "  [5 5]]\n",
      "\n",
      " [[5 5]\n",
      "  [5 5]\n",
      "  [5 5]]\n",
      "\n",
      " [[5 5]\n",
      "  [5 5]\n",
      "  [5 5]]]\n",
      "[[1. 0. 0. 0.]\n",
      " [0. 1. 0. 0.]\n",
      " [0. 0. 1. 0.]\n",
      " [0. 0. 0. 1.]]\n"
     ]
    }
   ],
   "source": [
    "OneD_full_of_ones=np.ones((5,))\n",
    "print(\"The 1-D array of shape (5,) and filled with 1 values  :\\n\", OneD_full_of_ones)\n",
    "print(\"The dimension of the 1-D array of shape (5,) and filled with 1 values is :\", OneD_full_of_ones.ndim, \"and its shape is :\", OneD_full_of_ones.shape)\n",
    "\n",
    "TwoD_full_of_ones=np.ones((5,3))\n",
    "print(\"The 2-D array of shape (5,3) and filled with 1 values  :\\n\", TwoD_full_of_ones)\n",
    "print(\"The dimension of the 2-D array of shape (5,3) and filled with 1 values is :\", TwoD_full_of_ones.ndim, \"and its shape is :\", TwoD_full_of_ones.shape)\n",
    "\n",
    "ThreeD_full_of_ones=np.ones((5,3,2))\n",
    "print(\"The 3-D array of shape (5,3,2) and filled with 1 values  :\\n\", ThreeD_full_of_ones)\n",
    "print(\"The dimension of the 3-D array of shape (5,3,2) and filled with 1 values is :\", ThreeD_full_of_ones.ndim, \"and its shape is :\", ThreeD_full_of_ones.shape)\n",
    "\n",
    "OneD_full_of_zeros=np.zeros((5,))\n",
    "print(\"The 1-D array of shape (5,) and filled with 0 values  :\\n\", OneD_full_of_zeros)\n",
    "print(\"The dimension of the 1-D array of shape (5,) and filled with 0 values is :\", OneD_full_of_zeros.ndim, \"and its shape is :\", OneD_full_of_zeros.shape)\n",
    "\n",
    "TwoD_full_of_zeros=np.zeros((5,3))\n",
    "print(\"The 2-D array of shape (5,3) and filled with 0 values  :\\n\", TwoD_full_of_zeros)\n",
    "print(\"The dimension of the 2-D array of shape (5,3) and filled with 0 values is :\", TwoD_full_of_zeros.ndim, \"and its shape is :\", TwoD_full_of_zeros.shape)\n",
    "\n",
    "ThreeD_full_of_zeros=np.zeros((5,3,2))\n",
    "print(\"The 3-D array of shape (5,3,2) and filled with 0 values  :\\n\", ThreeD_full_of_zeros)\n",
    "print(\"The dimension of the 3-D array of shape (5,3,2) and filled with 0 values is :\", ThreeD_full_of_zeros.ndim, \"and its shape is :\", ThreeD_full_of_zeros.shape)\n",
    "\n",
    "from numpy.random import default_rng\n",
    "\n",
    "OneD_Random_between_zero_and_one= default_rng(42).random((5,))\n",
    "\n",
    "print(\"The 1-D array of shape (5,) and filled with random numbers between 0 and 1  :\\n\", OneD_full_of_zeros)\n",
    "print(\"The dimension of the 1-D array of shape (5,) and filled with random numbers between 0 and 1 is :\", OneD_full_of_zeros.ndim, \"and its shape is :\", OneD_full_of_zeros.shape)\n",
    "\n",
    "TwoD_Random_between_zero_and_one= default_rng(42).random((5,3))\n",
    "\n",
    "print(\"The 2-D array of shape (5,3) and filled with random numbers between 0 and 1  :\\n\", TwoD_Random_between_zero_and_one)\n",
    "print(\"The dimension of the 2-D array of shape (5,3) and filled with random numbers between 0 and 1 is :\", TwoD_Random_between_zero_and_one.ndim, \"and its shape is :\", TwoD_Random_between_zero_and_one.shape)\n",
    "\n",
    "ThreeD_Random_between_zero_and_one= default_rng(42).random((5,3,2))\n",
    "\n",
    "print(\"The 3-D array of shape (5,3,2) and filled with random numbers between 0 and 1  :\\n\", ThreeD_Random_between_zero_and_one)\n",
    "print(\"The dimension of the 3-D array of shape (5,3,2) and filled with random numbers between 0 and 1 is :\", ThreeD_Random_between_zero_and_one.ndim, \"and its shape is :\", ThreeD_Random_between_zero_and_one.shape)\n",
    "\n",
    "\n",
    "OneD_full_of_ones = np.ones((5,))\n",
    "TwoD_full_of_ones = np.ones((2, 3))\n",
    "print(OneD_full_of_zeros)\n",
    "print(TwoD_full_of_zeros)\n",
    "print(OneD_full_of_ones)\n",
    "print(TwoD_full_of_ones)\n",
    "# Create an empty array with 2 elements\n",
    "# creates an array whose initial content is random and depends on the state of the memory.\n",
    "OneD_empty=np.empty(2) \n",
    "print(OneD_empty)\n",
    "TwoD_empty=np.empty((6,4)) \n",
    "print(TwoD_empty)\n",
    "a = np.ones((2, 3), dtype=np.int16)\n",
    "print(a)\n",
    "\n",
    "OneD_full_of_any_fill_value = np.full((4,), 88)\n",
    "TwoD_full_of_any_fill_value= np.full((4,3), 6)\n",
    "ThreeD_full_of_any_fill_value= np.full((4,3,2), 5)\n",
    "\n",
    "print(OneD_full_of_any_fill_value)\n",
    "print(TwoD_full_of_any_fill_value)\n",
    "print(ThreeD_full_of_any_fill_value)\n",
    "\n",
    "#np.eye()\n",
    "TwoD_identity_matrix=np.eye(4)\n",
    "print(OneD_identity_matrix)\n",
    "#np.random.randn(shape)"
   ]
  },
  {
   "cell_type": "markdown",
   "id": "159ea5a9",
   "metadata": {},
   "source": [
    "## III. Exercise 3: Basic operations with arrays\n",
    "\n",
    "In this exercise we are going to learn how to do the basics operations with arrays. Look into the documention for help.\n",
    "\n",
    "To do the calculations, we are going to reuse the numpy elements we created before.\n"
   ]
  },
  {
   "cell_type": "markdown",
   "id": "7b93d99e",
   "metadata": {},
   "source": [
    "### 1. Calculation on scalars\n",
    "Add up, subtract, multiply and divide *scalar_1* and *scalar_2*. Only use numpy functions."
   ]
  },
  {
   "cell_type": "code",
   "execution_count": 137,
   "id": "0f793e90",
   "metadata": {},
   "outputs": [
    {
     "name": "stdout",
     "output_type": "stream",
     "text": [
      "Addition : 15\n",
      "Substraction : -1\n",
      "Multiplication : 56\n",
      "Division : 0.875\n"
     ]
    }
   ],
   "source": [
    "#Addition\n",
    "scalar_add = np.add(scalar_1, scalar_2)\n",
    "print(\"Addition :\",scalar_add)\n",
    "\n",
    "#Substraction\n",
    "scalar_sub = np.subtract(scalar_1, scalar_2) \n",
    "print(\"Substraction :\",scalar_sub)\n",
    "\n",
    "#Multiplication\n",
    "scalar_mult = np.multiply(scalar_1, scalar_2)\n",
    "print(\"Multiplication :\",scalar_mult)\n",
    "\n",
    "#Division\n",
    "scalar_div = np.divide(scalar_1, scalar_2)\n",
    "print(\"Division :\",scalar_div)"
   ]
  },
  {
   "cell_type": "markdown",
   "id": "327d8c84",
   "metadata": {},
   "source": [
    "### 2. Calculation on vectors\n",
    "Do the same for the vectors :\n",
    "Add up, subtract, multiply and divide vector_1 and vector_2. Only use numpy functions."
   ]
  },
  {
   "cell_type": "code",
   "execution_count": 138,
   "id": "1f5fdb2f",
   "metadata": {},
   "outputs": [
    {
     "name": "stdout",
     "output_type": "stream",
     "text": [
      "Vector 1 : [1 2 3] Vector 2 : [3 2 1]\n",
      "Addition : [4 4 4]\n",
      "Substraction : [-2  0  2]\n",
      "Multiplication : [3 4 3]\n",
      "Division : [0.33333333 1.         3.        ]\n"
     ]
    }
   ],
   "source": [
    "#TO DO\n",
    "print(\"Vector 1 :\",vector_1,\"Vector 2 :\",vector_2)\n",
    "\n",
    "#Addition\n",
    "vector_add = np.add(vector_1, vector_2) \n",
    "print(\"Addition :\",vector_add)\n",
    "\n",
    "#Substraction\n",
    "vector_sub = np.subtract(vector_1, vector_2) \n",
    "print(\"Substraction :\",vector_sub)\n",
    "\n",
    "#Multiplication\n",
    "vector_mult = np.multiply(vector_1, vector_2) \n",
    "print(\"Multiplication :\",vector_mult)\n",
    "\n",
    "#Division\n",
    "vector_div = np.divide(vector_1, vector_2) \n",
    "print(\"Division :\",vector_div)"
   ]
  },
  {
   "cell_type": "markdown",
   "id": "d2b58935",
   "metadata": {},
   "source": [
    "### 3. Calculation on matrices\n",
    "\n",
    "For the matrix, compute the sum, the difference, the multiplication and the division of *New_Diagonal_of_matrix3* an *matrix_3* and also compute the transpose and the inverse of matrix_3. Only use numpy functions."
   ]
  },
  {
   "cell_type": "code",
   "execution_count": 139,
   "id": "99ae0dac",
   "metadata": {},
   "outputs": [
    {
     "name": "stdout",
     "output_type": "stream",
     "text": [
      "Matrix 3 :\n",
      " [[ 1.+0.j  2.+0.j -1.+0.j]\n",
      " [ 5.+0.j  1.+0.j  3.+0.j]\n",
      " [ 1.+1.j  3.+0.j -1.+2.j]] \n",
      " New Diagonal matrix from matrix 3  :\n",
      " [[ 1.+0.j  0.+0.j  0.+0.j]\n",
      " [ 0.+0.j  1.+0.j  0.+0.j]\n",
      " [ 0.+0.j  0.+0.j -1.+2.j]]\n",
      "Addition :\n",
      " [[ 2.+0.j  2.+0.j -1.+0.j]\n",
      " [ 5.+0.j  2.+0.j  3.+0.j]\n",
      " [ 1.+1.j  3.+0.j -2.+4.j]]\n",
      "Substraction :\n",
      " [[ 0.+0.j -2.+0.j  1.+0.j]\n",
      " [-5.+0.j  0.+0.j -3.+0.j]\n",
      " [-1.-1.j -3.+0.j  0.+0.j]]\n",
      "Multiplication :\n",
      " [[ 1.+0.j  0.+0.j -0.+0.j]\n",
      " [ 0.+0.j  1.+0.j  0.+0.j]\n",
      " [ 0.+0.j  0.+0.j -3.-4.j]]\n",
      "Division :\n",
      " [[ 1.+0.j  0.+0.j -0.-0.j]\n",
      " [ 0.+0.j  1.+0.j  0.+0.j]\n",
      " [ 0.+0.j  0.+0.j  1.+0.j]]\n"
     ]
    }
   ],
   "source": [
    "#TO DO\n",
    "print(\"Matrix 3 :\\n\",matrix_3,\"\\n New Diagonal matrix from matrix 3  :\\n\",New_Diagonal_of_matrix3)\n",
    "\n",
    "#Addition\n",
    "matrix_add = np.add(New_Diagonal_of_matrix3,matrix_3)\n",
    "print(\"Addition :\\n\",matrix_add)\n",
    "\n",
    "#Substraction\n",
    "matrix_sub = np.subtract(New_Diagonal_of_matrix3,matrix_3)\n",
    "print(\"Substraction :\\n\",matrix_sub)\n",
    "\n",
    "#Multiplication\n",
    "matrix_mult = np.multiply(New_Diagonal_of_matrix3,matrix_3)\n",
    "print(\"Multiplication :\\n\",matrix_mult)\n",
    "\n",
    "#Division\n",
    "matrix_div = np.divide(New_Diagonal_of_matrix3,matrix_3)\n",
    "print(\"Division :\\n\",matrix_div)"
   ]
  },
  {
   "cell_type": "code",
   "execution_count": 140,
   "id": "3af9b117",
   "metadata": {},
   "outputs": [
    {
     "name": "stdout",
     "output_type": "stream",
     "text": [
      "Matrix 3 :\n",
      " [[ 1.+0.j  2.+0.j -1.+0.j]\n",
      " [ 5.+0.j  1.+0.j  3.+0.j]\n",
      " [ 1.+1.j  3.+0.j -1.+2.j]]\n",
      "Transpose : \n",
      " [[ 1.+0.j  5.+0.j  1.+1.j]\n",
      " [ 2.+0.j  1.+0.j  3.+0.j]\n",
      " [-1.+0.j  3.+0.j -1.+2.j]]\n",
      "Inverse : \n",
      " [[ 0.31351351-0.68108108j  0.28108108+0.11351351j -0.3027027 +0.41621622j]\n",
      " [ 0.07027027+0.77837838j -0.17837838-0.12972973j  0.34594595-0.47567568j]\n",
      " [-0.54594595+0.87567568j -0.07567568-0.14594595j  0.38918919-0.53513514j]]\n"
     ]
    }
   ],
   "source": [
    "#TO DO\n",
    "#matrix_3=np.array([[1,2,3],[4,5,6],[7,8,9]])\n",
    "print(\"Matrix 3 :\\n\",matrix_3)\n",
    "\n",
    "#Transpose\n",
    "matrix_tran = np.transpose(matrix_3)\n",
    "print(\"Transpose : \\n\",matrix_tran)\n",
    "\n",
    "#Inverse\n",
    "matrix_inv = np.linalg.inv(matrix_3)\n",
    "print(\"Inverse : \\n\",matrix_inv)"
   ]
  },
  {
   "cell_type": "markdown",
   "id": "686810af",
   "metadata": {},
   "source": [
    "## Conclusion \n",
    "    In this first lab, you learnt to create different types of arrays and to perform basic arithmetic operations on them. You saw that arithmetic operators on arrays apply elementwise. A new array is created and filled with the result. Another important thing we have seen  that these arithmetic functions are working in the same way on each type of arrays and that there are also specific functions (for the matrices for example)."
   ]
  },
  {
   "cell_type": "code",
   "execution_count": null,
   "id": "dcb8e4c7",
   "metadata": {},
   "outputs": [],
   "source": []
  }
 ],
 "metadata": {
  "kernelspec": {
   "display_name": "data_e",
   "language": "python",
   "name": "python3"
  },
  "language_info": {
   "codemirror_mode": {
    "name": "ipython",
    "version": 3
   },
   "file_extension": ".py",
   "mimetype": "text/x-python",
   "name": "python",
   "nbconvert_exporter": "python",
   "pygments_lexer": "ipython3",
   "version": "3.8.16"
  },
  "vscode": {
   "interpreter": {
    "hash": "2343a28521b25afaa9f30c70150d0790506461ec8c9ec2d72ca0cd493dbe10d4"
   }
  }
 },
 "nbformat": 4,
 "nbformat_minor": 5
}

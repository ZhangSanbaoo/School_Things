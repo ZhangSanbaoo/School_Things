{
 "cells": [
  {
   "cell_type": "markdown",
   "id": "82274b6d",
   "metadata": {},
   "source": [
    "<img style=\"float: left; padding-right: 0px; width: 145px\" src=\"https://upload.wikimedia.org/wikipedia/fr/thumb/e/e9/EPF_logo_2021.png/524px-EPF_logo_2021.png\"> \n",
    "<br><br>\n",
    "\n",
    "\n",
    "###  <div style=\"text-align: right\">  Data Engineering - P2024 <br> <br>  <time datetime=\"2023-02-28\">2023/02/28 </time> <br> <br> <u>Name </u>: RAPADAMNABA Robert </div>\n",
    "<br> \n",
    "\n",
    "\n",
    "\n",
    "#   <center>  Data Manipulation </center>\n",
    "\n",
    "\n"
   ]
  },
  {
   "cell_type": "markdown",
   "id": "6c65931e",
   "metadata": {},
   "source": [
    "#  <center><u>  Laboratory 1 - Part 1  : Basics of NumPy </u></center>\n",
    " "
   ]
  },
  {
   "cell_type": "code",
   "execution_count": null,
   "id": "51687acc",
   "metadata": {},
   "outputs": [],
   "source": [
    "!pip install jyquickhelper"
   ]
  },
  {
   "cell_type": "code",
   "execution_count": 1,
   "id": "a8ad06bb",
   "metadata": {},
   "outputs": [
    {
     "data": {
      "text/html": [
       "<div id=\"my_id_menu_nb\">run previous cell, wait for 2 seconds</div>\n",
       "<script>\n",
       "function repeat_indent_string(n){\n",
       "    var a = \"\" ;\n",
       "    for ( ; n > 0 ; --n)\n",
       "        a += \"    \";\n",
       "    return a;\n",
       "}\n",
       "// look up into all sections and builds an automated menu //\n",
       "var update_menu_string = function(begin, lfirst, llast, sformat, send, keep_item, begin_format, end_format) {\n",
       "    var anchors = document.getElementsByClassName(\"section\");\n",
       "    if (anchors.length == 0) {\n",
       "        anchors = document.getElementsByClassName(\"text_cell_render rendered_html\");\n",
       "    }\n",
       "    var i,t;\n",
       "    var text_menu = begin;\n",
       "    var text_memo = \"<pre>\\nlength:\" + anchors.length + \"\\n\";\n",
       "    var ind = \"\";\n",
       "    var memo_level = 1;\n",
       "    var href;\n",
       "    var tags = [];\n",
       "    var main_item = 0;\n",
       "    var format_open = 0;\n",
       "    for (i = 0; i <= llast; i++)\n",
       "        tags.push(\"h\" + i);\n",
       "\n",
       "    for (i = 0; i < anchors.length; i++) {\n",
       "        text_memo += \"**\" + anchors[i].id + \"--\\n\";\n",
       "\n",
       "        var child = null;\n",
       "        for(t = 0; t < tags.length; t++) {\n",
       "            var r = anchors[i].getElementsByTagName(tags[t]);\n",
       "            if (r.length > 0) {\n",
       "child = r[0];\n",
       "break;\n",
       "            }\n",
       "        }\n",
       "        if (child == null) {\n",
       "            text_memo += \"null\\n\";\n",
       "            continue;\n",
       "        }\n",
       "        if (anchors[i].hasAttribute(\"id\")) {\n",
       "            // when converted in RST\n",
       "            href = anchors[i].id;\n",
       "            text_memo += \"#1-\" + href;\n",
       "            // passer à child suivant (le chercher)\n",
       "        }\n",
       "        else if (child.hasAttribute(\"id\")) {\n",
       "            // in a notebook\n",
       "            href = child.id;\n",
       "            text_memo += \"#2-\" + href;\n",
       "        }\n",
       "        else {\n",
       "            text_memo += \"#3-\" + \"*\" + \"\\n\";\n",
       "            continue;\n",
       "        }\n",
       "        var title = child.textContent;\n",
       "        var level = parseInt(child.tagName.substring(1,2));\n",
       "\n",
       "        text_memo += \"--\" + level + \"?\" + lfirst + \"--\" + title + \"\\n\";\n",
       "\n",
       "        if ((level < lfirst) || (level > llast)) {\n",
       "            continue ;\n",
       "        }\n",
       "        if (title.endsWith('¶')) {\n",
       "            title = title.substring(0,title.length-1).replace(\"<\", \"&lt;\")\n",
       "         .replace(\">\", \"&gt;\").replace(\"&\", \"&amp;\");\n",
       "        }\n",
       "        if (title.length == 0) {\n",
       "            continue;\n",
       "        }\n",
       "\n",
       "        while (level < memo_level) {\n",
       "            text_menu += end_format + \"</ul>\\n\";\n",
       "            format_open -= 1;\n",
       "            memo_level -= 1;\n",
       "        }\n",
       "        if (level == lfirst) {\n",
       "            main_item += 1;\n",
       "        }\n",
       "        if (keep_item != -1 && main_item != keep_item + 1) {\n",
       "            // alert(main_item + \" - \" + level + \" - \" + keep_item);\n",
       "            continue;\n",
       "        }\n",
       "        while (level > memo_level) {\n",
       "            text_menu += \"<ul>\\n\";\n",
       "            memo_level += 1;\n",
       "        }\n",
       "        text_menu += repeat_indent_string(level-2);\n",
       "        text_menu += begin_format + sformat.replace(\"__HREF__\", href).replace(\"__TITLE__\", title);\n",
       "        format_open += 1;\n",
       "    }\n",
       "    while (1 < memo_level) {\n",
       "        text_menu += end_format + \"</ul>\\n\";\n",
       "        memo_level -= 1;\n",
       "        format_open -= 1;\n",
       "    }\n",
       "    text_menu += send;\n",
       "    //text_menu += \"\\n\" + text_memo;\n",
       "\n",
       "    while (format_open > 0) {\n",
       "        text_menu += end_format;\n",
       "        format_open -= 1;\n",
       "    }\n",
       "    return text_menu;\n",
       "};\n",
       "var update_menu = function() {\n",
       "    var sbegin = \"\";\n",
       "    var sformat = '<a href=\"#__HREF__\">__TITLE__</a>';\n",
       "    var send = \"\";\n",
       "    var begin_format = '<li>';\n",
       "    var end_format = '</li>';\n",
       "    var keep_item = -1;\n",
       "    var text_menu = update_menu_string(sbegin, 2, 4, sformat, send, keep_item,\n",
       "       begin_format, end_format);\n",
       "    var menu = document.getElementById(\"my_id_menu_nb\");\n",
       "    menu.innerHTML=text_menu;\n",
       "};\n",
       "window.setTimeout(update_menu,2000);\n",
       "            </script>"
      ],
      "text/plain": [
       "<IPython.core.display.HTML object>"
      ]
     },
     "execution_count": 1,
     "metadata": {},
     "output_type": "execute_result"
    }
   ],
   "source": [
    "from jyquickhelper import add_notebook_menu\n",
    "add_notebook_menu()"
   ]
  },
  {
   "cell_type": "markdown",
   "id": "4ad0f5e6",
   "metadata": {},
   "source": [
    "## I. Getting started with NumPy\n",
    "\n",
    "In this lab we are going to learn how to use the NumPy package. NumPy or Numerical Python, is a Python library for numerical computation. This fundamental package for scientific computing in Python allows us to build **multidimensional array** object.\n",
    "\n",
    "You can find more details about NumPy and its function in this documentation : [Python Numpy](https://numpy.org/) \n",
    "\n",
    "The very first step for using Numpy is <font color='red'>to install and import it </font>; after doing that we will be able to call it and work with it.\n"
   ]
  },
  {
   "cell_type": "markdown",
   "id": "19a12190",
   "metadata": {},
   "source": [
    "### <div class=\"alert-info\"> 1. Installing NumPy </div>"
   ]
  },
  {
   "cell_type": "markdown",
   "id": "d1a01471",
   "metadata": {},
   "source": [
    "To install NumPy, I strongly recommend using a scientific Python distribution. If you’re looking for the full instructions for  installing NumPy on your operating system, see [Installing NumPy](https://numpy.org/install/)."
   ]
  },
  {
   "cell_type": "code",
   "execution_count": 17,
   "id": "5c738f17",
   "metadata": {},
   "outputs": [
    {
     "name": "stdout",
     "output_type": "stream",
     "text": [
      "Requirement already satisfied: numpy in c:\\users\\rrapadamnaba\\miniconda3\\lib\\site-packages (1.22.3)\n"
     ]
    }
   ],
   "source": [
    "!pip install numpy"
   ]
  },
  {
   "cell_type": "markdown",
   "id": "9d51dfba",
   "metadata": {},
   "source": [
    "or"
   ]
  },
  {
   "cell_type": "markdown",
   "id": "a4b2a270",
   "metadata": {},
   "source": [
    "If you already have Python, you can install NumPy with:"
   ]
  },
  {
   "cell_type": "code",
   "execution_count": 16,
   "id": "bd802451",
   "metadata": {},
   "outputs": [
    {
     "name": "stdout",
     "output_type": "stream",
     "text": [
      "^C\n",
      "\n",
      "Note: you may need to restart the kernel to use updated packages.\n"
     ]
    }
   ],
   "source": [
    "conda install numpy"
   ]
  },
  {
   "cell_type": "markdown",
   "id": "d7a05bae",
   "metadata": {},
   "source": [
    "If you don’t have Python yet, you might want to consider using [Anaconda](https://www.anaconda.com/). It’s the easiest way to get started. The good thing about getting this distribution is the fact that you don’t need to worry too much about separately installing NumPy or any of the major packages that you’ll be using for your data analyses, like pandas, Scikit-Learn, etc."
   ]
  },
  {
   "cell_type": "markdown",
   "id": "b0701ecd",
   "metadata": {},
   "source": [
    "### <div class=\"alert-info\"> 2. How to import NumPy and know the version </div>"
   ]
  },
  {
   "cell_type": "markdown",
   "id": "11ea87a5",
   "metadata": {},
   "source": [
    "To access NumPy and its functions import it in your Python code like this:"
   ]
  },
  {
   "cell_type": "code",
   "execution_count": 2,
   "id": "6e3da977",
   "metadata": {},
   "outputs": [],
   "source": [
    "# The standard way to import NumPy is :\n",
    "\n",
    "import numpy as np \n"
   ]
  },
  {
   "cell_type": "markdown",
   "id": "220e3edb",
   "metadata": {},
   "source": [
    "The imported name is shortened to <font color='red'>np</font> for better readability of code using NumPy. **This is a widely adopted convention that you should follow so that anyone working with your code can easily understand it.**"
   ]
  },
  {
   "cell_type": "code",
   "execution_count": 4,
   "id": "788a06be",
   "metadata": {},
   "outputs": [
    {
     "data": {
      "text/plain": [
       "'1.24.2'"
      ]
     },
     "execution_count": 4,
     "metadata": {},
     "output_type": "execute_result"
    }
   ],
   "source": [
    "# After importing numpy under the name np, to know your version of numpy, type np.__version__\n",
    "np.__version__"
   ]
  },
  {
   "cell_type": "markdown",
   "id": "4d865974",
   "metadata": {},
   "source": [
    "## II. Creating a NumPy Array\n",
    "\n",
    "There are MANY ways to instantiate a NumPy array. We will cover the most common ones below. [Docs here cover more constructors](https://docs.scipy.org/doc/numpy-1.13.0/reference/routines.array-creation.html).\n",
    "- Pass in a list to the `array()` constructor\n",
    "- Use the `arange` function, similar to the range function but used for NumPy arrays. Uses arguments, (**start, stop+1, step**).\n",
    "- Use `linspace` to create an array of n equally spaced values. Uses arguments (**start, stop, number of items**).\n",
    "- Create an array empty, full of ones or zeros, or full of any fill value. Uses argument (**shape**) in the form of a tuple.  \n",
    "\n",
    "You can pass in `dtype` as an optional argument for any of these. This is especially useful if you want to limit memory usage for a very large array of small integers because int8 and int16 use much less space than the default int32."
   ]
  },
  {
   "cell_type": "markdown",
   "id": "f92d73fc",
   "metadata": {},
   "source": [
    "### 1. Exercise 1 : Creating NumPy arrays by passing in other Python structures(such as, lists, tuples) to the `array()` constructor\n",
    "As said before, the core data structure behind Numpy is the ***N-dimensional*** [Numpy Array](https://docs.scipy.org/doc/numpy/reference/generated/numpy.ndarray.html) or [Numpy ndarray](https://numpy.org/doc/stable/reference/generated/numpy.ndarray.html). In this exercise we are going to learn how to build a basic array. Look into the documention for help. \n"
   ]
  },
  {
   "cell_type": "markdown",
   "id": "4434bb67",
   "metadata": {},
   "source": [
    "#### <center> a. <u>Creating 0D arrays:  scalars</u></center>\n",
    "\n",
    "Create **two scalars** called *scalar_1* and *scalar_2* using the `array()` constructor of NumPy, one assigned 7 and the other one assigned 8. Those scalars must be arrays of **dimension 0**. Then create another scalar using the standard/usual way. The latter will be an integer variable called *scalar_3* also assigned 7.\n",
    "\n",
    "- After doing that use the function `type()`to print the type of these 3 scalars to ensure that they are objects from the good class. What do you notice?\n",
    "\n",
    "- Then print the first 2 scalars together with the following attibutes : \n",
    "   -  their **dimension** (i.e., the number of axes/dimensions of these arrays or the length of the shape tuple) and their **shape** (i.e., a tuple of these array dimensions), \n",
    "   -  their **size** (i.e, the total number of elements of each array. This is equal to the product of the elements of shape)\n",
    "   -  the **data-type** of these arrays' elements and the **size in bytes** of each element of the array\n",
    "   -  the **total bytes** consumed by the elements of the array."
   ]
  },
  {
   "cell_type": "code",
   "execution_count": 16,
   "id": "36f08aa6",
   "metadata": {},
   "outputs": [
    {
     "name": "stdout",
     "output_type": "stream",
     "text": [
      "type of scalar_3 is:  <class 'int'>\n",
      "type, dimension, size, data type, total bytes of  7  is:  <class 'numpy.ndarray'> 0 1 int64 8 8\n",
      "type, dimension, size, data type, total bytes of  8  is:  <class 'numpy.ndarray'> 0 1 int64 8 8\n"
     ]
    }
   ],
   "source": [
    "# TO DO\n",
    "scalar_1 = np.array(7)\n",
    "scalar_2 = np.array(8)\n",
    "scalar_3 = 7\n",
    "test = [scalar_1, scalar_2]\n",
    "print(\"type of scalar_3 is: \", type(scalar_3))\n",
    "for i in test:\n",
    "    print(\"the type, dimension, size, data type, total bytes of %s is: %s,%s, %s, %s, %s.\" %(i,type(i), i.ndim, i.size, i.dtype, i.nbytes))\n"
   ]
  },
  {
   "cell_type": "markdown",
   "id": "83fd3bad",
   "metadata": {},
   "source": [
    "#### <center> b. <u>Creating 1D arrays:  vectors</u></center>\n",
    "Now, let's create a longer array. Create **two vectors** called *vector_1* and *vector_2* whose values ​​are [1, 2, 3] and [3, 2, 1] using the `array()` constructor of NumPy. Those vectors must be of **dimension 1**. Just like before \n",
    "- print the type of these vectors to ensure that they are objects from  `<class 'numpy.ndarray'>`\n",
    "- print these vectors together with the following attibutes : \n",
    "   -  their **dimension** (i.e., the number of axes/dimensions of these arrays or the length of the shape tuple) and their **shape** (i.e., a tuple of these array dimensions), \n",
    "   -  their **size** (i.e, the total number of elements of each array. This is equal to the product of the elements of shape)\n",
    "   -  the **data-type** of these arrays' elements and the **size in bytes** of each element of the array\n",
    "   -  the **total bytes** consumed by the elements of the array."
   ]
  },
  {
   "cell_type": "code",
   "execution_count": 21,
   "id": "c0a10ed3",
   "metadata": {},
   "outputs": [
    {
     "name": "stdout",
     "output_type": "stream",
     "text": [
      "the dimension, size, data type, total bytes of [1 2 3] is: 1, 3, int64, 24.\n",
      "the dimension, size, data type, total bytes of [3 2 1] is: 1, 3, int64, 24.\n"
     ]
    }
   ],
   "source": [
    "#TO DO\n",
    "vector_1 = np.array([1,2,3])\n",
    "vector_2 = np.array([3,2,1])\n",
    "for i in (vector_1,vector_2):\n",
    "    print(\"the type, dimension, size, data type, total bytes of %s is: %s,%s, %s, %s, %s.\" %(i,type(i), i.ndim, i.size, i.dtype, i.nbytes))"
   ]
  },
  {
   "cell_type": "markdown",
   "id": "0af6b1e5",
   "metadata": {},
   "source": [
    "#### <center> c. <u>Creating 2D arrays:  matrices</u></center>\n",
    "Now, lets create multidimensional arrays. Create **three matrices** called *matrix_1*, *matrix_2* and *matrix_3*  of dimension 3x2,  2x2, and 3x2, respectively where the rows for *matrix_1* are [1, 2], [3, 4] and [5, 6],  those for *matrix_2* are [7, 8] and [9, 0], and those for *matrix_3* consist of the lists [1, 2.0, -1],[5, 1, 3], and of the tuple (1+1j, 3., -1+2j). Those matrices must be of **dimension 2**. Just like before \n",
    "- print the type of these matrices to ensure that they are objects from  `<class 'numpy.ndarray'>`\n",
    "- print these matrices together with the following attibutes : \n",
    "   -  their **dimension** (i.e., the number of axes/dimensions of these arrays or the length of the shape tuple) and their **shape** (i.e., a tuple of these array dimensions), \n",
    "   -  their **size** (i.e, the total number of elements of each array. This is equal to the product of the elements of shape)\n",
    "   -  the **data-type** of these arrays' elements and the **size in bytes** of each element of the array\n",
    "   -  the **total bytes** consumed by the elements of the array."
   ]
  },
  {
   "cell_type": "code",
   "execution_count": 33,
   "id": "4d743a0a",
   "metadata": {},
   "outputs": [
    {
     "name": "stdout",
     "output_type": "stream",
     "text": [
      "the type, dimension, size, data type, total bytes of [[1 2]\n",
      " [3 4]\n",
      " [5 6]] is: <class 'numpy.ndarray'>,2, 6, int64, 48.\n",
      "the type, dimension, size, data type, total bytes of [[7 8]\n",
      " [9 0]] is: <class 'numpy.ndarray'>,2, 4, int64, 32.\n",
      "the type, dimension, size, data type, total bytes of [[ 1.+0.j  2.+0.j -1.+0.j]\n",
      " [ 5.+0.j  1.+0.j  3.+0.j]\n",
      " [ 1.+1.j  3.+0.j -1.+2.j]] is: <class 'numpy.ndarray'>,2, 9, complex128, 144.\n"
     ]
    }
   ],
   "source": [
    "# TO DO\n",
    "matrix_1 = np.array([[1, 2], [3, 4], [5, 6]])\n",
    "matrix_2 = np.array([[7, 8],[9, 0]])\n",
    "matrix_3 = np.array([[1, 2.0, -1], [5, 1, 3], [1+1j, 3.0, -1+2j]])  # note mix of tuple and lists,and types\n",
    "for i in (matrix_1, matrix_2, matrix_3):\n",
    "    print(\"the type, dimension, size, data type, total bytes of %s is: %s,%s, %s, %s, %s.\" %(i,type(i), i.ndim, i.size, i.dtype, i.nbytes))"
   ]
  },
  {
   "cell_type": "markdown",
   "id": "67d5e0ca",
   "metadata": {},
   "source": [
    "### 2. Exercise 2 : Creating numpy arrays from built-in funtions\n",
    " In the previous exercise we have seen how to build a basic array by converting Python array_like Objects to NumPy Arrays using the `array`constructor. Now, we are going to learn how to use built-in functions in NumPy to create arrays from scracth. NumPy has over 40 built-in functions for creating arrays as laid out in the [Array creation routines](https://numpy.org/doc/stable/reference/routines.array-creation.html#routines-array-creation). These functions can be split into roughly three categories, based on the dimension of the array they create: \n",
    " \n",
    "\n",
    "    1D arrays\n",
    "\n",
    "    2D arrays\n",
    "\n",
    "    ndarrays\n",
    "Look into the documention for help."
   ]
  },
  {
   "cell_type": "markdown",
   "id": "41ff1185",
   "metadata": {},
   "source": [
    "#### <center> a. <u> 1D array creation functions</u></center>\n",
    "\n",
    "Create **two vectors** called *vector_3* and *vector_4* using the built-in function  [numpy.arange](https://numpy.org/doc/stable/reference/generated/numpy.arange.html#numpy.arange) and the built_in function [numpy.linspace](https://numpy.org/doc/stable/reference/generated/numpy.linspace.html#numpy.linspace), respectively. *vector_3* contains odd numbers from 1 to 19 and *vector_4* contains 11 equally spaced samples in the closed interval [0, 1.0]  and the size of spacing between samples (the step).\n",
    "\n",
    "- After doing that print both vectors together with their **dimension** and their **shape**. \n"
   ]
  },
  {
   "cell_type": "code",
   "execution_count": 44,
   "id": "1f8e143b",
   "metadata": {},
   "outputs": [
    {
     "name": "stdout",
     "output_type": "stream",
     "text": [
      "[ 1  2  3  4  5  6  7  8  9 10 11 12 13 14 15 16 17 18 19]'s dimension is 1 and it's shape is (19,)\n",
      "[0.  0.1 0.2 0.3 0.4 0.5 0.6 0.7 0.8 0.9 1. ]'s dimension is 1 and it's shape is (11,)\n"
     ]
    }
   ],
   "source": [
    "vector_3=np.arange(1,20,1)\n",
    "vector_4=np.linspace(0,1.0,11)\n",
    "for i in (vector_3,vector_4):\n",
    "    print(\"%s's dimension is %s and it's shape is %s\"%(i, i.ndim, i.shape))"
   ]
  },
  {
   "cell_type": "markdown",
   "id": "10ac7334",
   "metadata": {},
   "source": [
    "#### <center> b. <u>  2D array creation functions</u></center>\n",
    "The 2D array creation functions e.g. [numpy.eye](https://numpy.org/doc/stable/reference/generated/numpy.eye.html#numpy.eye), and [numpy.diag](https://numpy.org/doc/stable/reference/generated/numpy.diag.html#numpy.diag) define properties of special matrices represented as 2D arrays.\n",
    "\n",
    "\n",
    "- Create a 2-D array called *TwoD_identity_matrix* of shape (3,3) with ones on the main diagonal and zeros elsewhere using the function `numpy.eye`\n",
    "- Create a 2-D array called *Upper_diagonal_identity_matrix* of shape (3,3) with ones on the first upper diagonal and zeros elsewhere using the function `numpy.eye`\n",
    "- Create a 2-D array called *Lower_diagonal_identity_matrix* of shape (3,3) with ones on the first lower diagonal and zeros elsewhere using the function `numpy.eye`\n",
    "- Create an array called *Diagonal_element_of_matrix3* containing the main diagonal elements of matrix_3 using the function `numpy.diag`\n",
    "- Create an array called *Upper_Diagonal_element_of_matrix3* containing the first upper diagonal elements of matrix_3 using the function `numpy.diag`\n",
    "- Create an array called *Lower_Diagonal_element_of_matrix3* containing the first lower diagonal elements of matrix_3 using the function `numpy.diag`\n",
    "- Create an array called *New_Diagonal_of_matrix3* with the main diagonal elements of matrix_3 on the main diagonal and zeros elsewhere using the function `numpy.diag`\n",
    "- After doing that print all matrices together with their **dimension** and their **shape**.\n",
    "    "
   ]
  },
  {
   "cell_type": "code",
   "execution_count": 46,
   "id": "4dc453ee",
   "metadata": {},
   "outputs": [
    {
     "name": "stdout",
     "output_type": "stream",
     "text": [
      "[[1. 0. 0.]\n",
      " [0. 1. 0.]\n",
      " [0. 0. 1.]]     2     (3, 3)\n",
      "[[0. 1. 0.]\n",
      " [0. 0. 1.]\n",
      " [0. 0. 0.]]     2     (3, 3)\n",
      "[[0. 0. 0.]\n",
      " [1. 0. 0.]\n",
      " [0. 1. 0.]]     2     (3, 3)\n",
      "[ 1.+0.j  1.+0.j -1.+2.j]     1     (3,)\n",
      "[2.+0.j 3.+0.j]     1     (2,)\n",
      "[5.+0.j 3.+0.j]     1     (2,)\n",
      "[[ 1.+0.j  0.+0.j  0.+0.j]\n",
      " [ 0.+0.j  1.+0.j  0.+0.j]\n",
      " [ 0.+0.j  0.+0.j -1.+2.j]]     2     (3, 3)\n"
     ]
    }
   ],
   "source": [
    "\n",
    "TwoD_identity_matrix=np.eye(3)\n",
    "\n",
    "\n",
    "Upper_diagonal_identity_matrix=np.eye(3,k=1)\n",
    "\n",
    "\n",
    "Lower_diagonal_identity_matrix=np.eye(3,k=-1)\n",
    "\n",
    "\n",
    "\n",
    "Diagonal_element_of_matrix3=np.diag(matrix_3)\n",
    "\n",
    "\n",
    "Upper_Diagonal_element_of_matrix3=np.diag(matrix_3, k=1)\n",
    "\n",
    "Lower_Diagonal_element_of_matrix3=np.diag(matrix_3, k=-1)\n",
    "\n",
    "New_Diagonal_of_matrix3=np.diag(Diagonal_element_of_matrix3)\n",
    "\n",
    "for i in (TwoD_identity_matrix,Upper_diagonal_identity_matrix,Lower_diagonal_identity_matrix,Diagonal_element_of_matrix3,Upper_Diagonal_element_of_matrix3,Lower_Diagonal_element_of_matrix3,New_Diagonal_of_matrix3):\n",
    "    print(i,\"   \",i.ndim,\"   \",i.shape)\n"
   ]
  },
  {
   "cell_type": "markdown",
   "id": "9332d019",
   "metadata": {},
   "source": [
    "#### <center> c. <u>  General ndarray creation functions</u></center>\n",
    "The ndarray creation functions e.g. [numpy.ones](https://numpy.org/doc/stable/reference/generated/numpy.ones.html#numpy.ones),  [numpy.zeros](https://numpy.org/doc/stable/reference/generated/numpy.zeros.html#numpy.zeros), and [random](https://numpy.org/doc/stable/reference/random/generated/numpy.random.Generator.random.html#numpy.random.Generator.random) define arrays based upon the desired shape. The ndarray creation functions can create arrays with any dimension by specifying how many dimensions and length along that dimension in a tuple or list.\n",
    "\n",
    "\n",
    "- Create a 1-D array called *OneD_full_of_ones* of shape (5,) using the function `numpy.ones`\n",
    "- Create a 2-D array called *TwoD_full_of_ones* of shape (5,3) using the function `numpy.ones`\n",
    "- Create a 3-D array called *ThreeD_full_of_ones* of shape (5,3,2) using the function `numpy.ones`\n",
    "\n",
    "- Create a 1-D array called *OneD_full_of_zeros* of shape (5,) using the function `numpy.zeros`\n",
    "- Create a 2-D array called *TwoD_full_of_zeros* of shape (5,3) using the function `numpy.zeros`\n",
    "- Create a 3-D array called *ThreeD_full_of_zeros* of shape (5,3,2) using the function `numpy.zeros`\n",
    "\n",
    "- Create a 1-D array called *OneD_Random_between_zero_and_one* of shape (5,) using the function `numpy.random` and `default_rng`\n",
    "- Create a 2-D array called *TwoD_Random_between_zero_and_one* of shape (5,3) using the function `numpy.random` and `default_rng`\n",
    "- Create a 3-D array called *ThreeD_Random_between_zero_and_one* of shape (5,3,2) using the function `numpy.random` and `default_rng`\n",
    "\n",
    "- After doing that print all arrays together with their **dimension** and their **shape**.\n"
   ]
  },
  {
   "cell_type": "code",
   "execution_count": 49,
   "id": "06e2951c",
   "metadata": {},
   "outputs": [
    {
     "name": "stdout",
     "output_type": "stream",
     "text": [
      "[1. 1. 1. 1. 1.]     1     (5,)\n",
      "[[1. 1. 1.]\n",
      " [1. 1. 1.]\n",
      " [1. 1. 1.]\n",
      " [1. 1. 1.]\n",
      " [1. 1. 1.]]     2     (5, 3)\n",
      "[[[1. 1.]\n",
      "  [1. 1.]\n",
      "  [1. 1.]]\n",
      "\n",
      " [[1. 1.]\n",
      "  [1. 1.]\n",
      "  [1. 1.]]\n",
      "\n",
      " [[1. 1.]\n",
      "  [1. 1.]\n",
      "  [1. 1.]]\n",
      "\n",
      " [[1. 1.]\n",
      "  [1. 1.]\n",
      "  [1. 1.]]\n",
      "\n",
      " [[1. 1.]\n",
      "  [1. 1.]\n",
      "  [1. 1.]]]     3     (5, 3, 2)\n",
      "[0. 0. 0. 0. 0.]     1     (5,)\n",
      "[[0. 0. 0.]\n",
      " [0. 0. 0.]\n",
      " [0. 0. 0.]\n",
      " [0. 0. 0.]\n",
      " [0. 0. 0.]]     2     (5, 3)\n",
      "[[[0. 0.]\n",
      "  [0. 0.]\n",
      "  [0. 0.]]\n",
      "\n",
      " [[0. 0.]\n",
      "  [0. 0.]\n",
      "  [0. 0.]]\n",
      "\n",
      " [[0. 0.]\n",
      "  [0. 0.]\n",
      "  [0. 0.]]\n",
      "\n",
      " [[0. 0.]\n",
      "  [0. 0.]\n",
      "  [0. 0.]]\n",
      "\n",
      " [[0. 0.]\n",
      "  [0. 0.]\n",
      "  [0. 0.]]]     3     (5, 3, 2)\n",
      "[0.83525602 0.42516661 0.60447417 0.72269396 0.50296472]     1     (5,)\n",
      "[[0.25513321 0.52848036 0.95667394]\n",
      " [0.59834377 0.43586085 0.06472966]\n",
      " [0.3716759  0.12811882 0.1469383 ]\n",
      " [0.80612531 0.13346602 0.88009546]\n",
      " [0.69925937 0.74008629 0.04030021]]     2     (5, 3)\n",
      "[[[0.13859927 0.11613254]\n",
      "  [0.22575022 0.65031941]\n",
      "  [0.64745227 0.91904034]]\n",
      "\n",
      " [[0.22711192 0.24458279]\n",
      "  [0.06011471 0.38404298]\n",
      "  [0.83744851 0.05601192]]\n",
      "\n",
      " [[0.04663434 0.71954391]\n",
      "  [0.5542773  0.64679289]\n",
      "  [0.81457371 0.47856493]]\n",
      "\n",
      " [[0.88676138 0.65098608]\n",
      "  [0.9089102  0.60352779]\n",
      "  [0.35595832 0.64047254]]\n",
      "\n",
      " [[0.51930655 0.30978052]\n",
      "  [0.88640213 0.15361847]\n",
      "  [0.7247273  0.93359172]]]     3     (5, 3, 2)\n"
     ]
    }
   ],
   "source": [
    "OneD_full_of_ones=np.ones(5)\n",
    "\n",
    "\n",
    "TwoD_full_of_ones=np.ones((5,3))\n",
    "\n",
    "\n",
    "ThreeD_full_of_ones=np.ones((5,3,2))\n",
    "\n",
    "\n",
    "OneD_full_of_zeros=np.zeros(5)\n",
    "\n",
    "\n",
    "TwoD_full_of_zeros=np.zeros((5,3))\n",
    "\n",
    "\n",
    "ThreeD_full_of_zeros=np.zeros((5,3,2))\n",
    "\n",
    "\n",
    "from numpy.random import default_rng\n",
    "\n",
    "OneD_Random_between_zero_and_one= default_rng().random(5)\n",
    "\n",
    "\n",
    "\n",
    "TwoD_Random_between_zero_and_one= default_rng().random((5,3))\n",
    "\n",
    "\n",
    "ThreeD_Random_between_zero_and_one= default_rng().random((5,3,2))\n",
    "\n",
    "for i in (OneD_full_of_ones,TwoD_full_of_ones,ThreeD_full_of_ones,OneD_full_of_zeros,TwoD_full_of_zeros,ThreeD_full_of_zeros,OneD_Random_between_zero_and_one,TwoD_Random_between_zero_and_one,ThreeD_Random_between_zero_and_one):\n",
    "    print(i,\"   \",i.ndim,\"   \",i.shape)\n",
    "\n"
   ]
  },
  {
   "cell_type": "markdown",
   "id": "7b5a29c3",
   "metadata": {},
   "source": [
    "## III. Exercise 3: Basic operations with arrays\n",
    "\n",
    "In this exercise we are going to learn how to do the basics operations with arrays. Look into the documention for help.\n",
    "\n",
    "To do the calculations, we are going to reuse the numpy elements we created before.\n"
   ]
  },
  {
   "cell_type": "markdown",
   "id": "3b7780a7",
   "metadata": {},
   "source": [
    "### 1. Calculation on scalars\n",
    "Add up, subtract, multiply and divide *scalar_1* and *scalar_2*. Only use numpy functions."
   ]
  },
  {
   "cell_type": "code",
   "execution_count": 50,
   "id": "4f31a4c6",
   "metadata": {},
   "outputs": [
    {
     "name": "stdout",
     "output_type": "stream",
     "text": [
      "Addition : 15\n",
      "Substraction : -1\n",
      "Multiplication : 56\n",
      "Division : 0.875\n"
     ]
    }
   ],
   "source": [
    "#Addition\n",
    "scalar_add = np.add(scalar_1,scalar_2)\n",
    "print(\"Addition :\",scalar_add)\n",
    "\n",
    "#Substraction\n",
    "scalar_sub = np.subtract(scalar_1,scalar_2)\n",
    "print(\"Substraction :\",scalar_sub)\n",
    "\n",
    "#Multiplication\n",
    "scalar_mult = np.multiply(scalar_1,scalar_2)\n",
    "print(\"Multiplication :\",scalar_mult)\n",
    "\n",
    "#Division\n",
    "scalar_div = np.divide(scalar_1,scalar_2)\n",
    "print(\"Division :\",scalar_div)"
   ]
  },
  {
   "cell_type": "markdown",
   "id": "0c7da94f",
   "metadata": {},
   "source": [
    "### 2. Calculation on vectors\n",
    "Do the same for the vectors :\n",
    "Add up, subtract, multiply and divide vector_1 and vector_2. Only use numpy functions."
   ]
  },
  {
   "cell_type": "code",
   "execution_count": 52,
   "id": "968cd5a1",
   "metadata": {},
   "outputs": [
    {
     "name": "stdout",
     "output_type": "stream",
     "text": [
      "Vector 1 : [1 2 3] Vector 2 : [3 2 1]\n",
      "Addition : [4 4 4]\n",
      "Substraction : [-2  0  2]\n",
      "Multiplication : [3 4 3]\n",
      "Division : [0.33333333 1.         3.        ]\n"
     ]
    }
   ],
   "source": [
    "#TO DO\n",
    "print(\"Vector 1 :\",vector_1,\"Vector 2 :\",vector_2)\n",
    "\n",
    "#Addition\n",
    "vector_add = np.add(vector_1,vector_2)\n",
    "print(\"Addition :\",vector_add)\n",
    "\n",
    "#Substraction\n",
    "vector_sub = np.subtract(vector_1,vector_2)\n",
    "print(\"Substraction :\",vector_sub)\n",
    "\n",
    "#Multiplication\n",
    "vector_mult = np.multiply(vector_1,vector_2)\n",
    "print(\"Multiplication :\",vector_mult)\n",
    "\n",
    "#Division\n",
    "vector_div = np.divide(vector_1,vector_2)\n",
    "print(\"Division :\",vector_div)"
   ]
  },
  {
   "cell_type": "markdown",
   "id": "80623e2a",
   "metadata": {},
   "source": [
    "### 3. Calculation on matrices\n",
    "\n",
    "For the matrix, compute the sum, the difference, the multiplication and the division of *New_Diagonal_of_matrix3* an *matrix_3* and also,  using only Numpy functions, print:\n",
    " - the transpose and the inverse of matrix_3. \n",
    " - the sum of each column of matrix_3\n",
    " - the minimum of each row of matrix_3\n",
    " - the cumulative sum along each row of matrix_3\n",
    " - the exponential of New_Diagonal_of_matrix3\n",
    " "
   ]
  },
  {
   "cell_type": "code",
   "execution_count": 63,
   "id": "3de533e0",
   "metadata": {},
   "outputs": [
    {
     "name": "stdout",
     "output_type": "stream",
     "text": [
      "Matrix 3 :\n",
      " [[ 1.+0.j  2.+0.j -1.+0.j]\n",
      " [ 5.+0.j  1.+0.j  3.+0.j]\n",
      " [ 1.+1.j  3.+0.j -1.+2.j]] \n",
      " New Diagonal matrix from matrix 3  :\n",
      " [[ 1.+0.j  0.+0.j  0.+0.j]\n",
      " [ 0.+0.j  1.+0.j  0.+0.j]\n",
      " [ 0.+0.j  0.+0.j -1.+2.j]]\n",
      "Transpose: \n",
      " [[ 1.+0.j  5.+0.j  1.+1.j]\n",
      " [ 2.+0.j  1.+0.j  3.+0.j]\n",
      " [-1.+0.j  3.+0.j -1.+2.j]] \n",
      "Inverse: \n",
      " [[ 0.31351351-0.68108108j  0.28108108+0.11351351j -0.3027027 +0.41621622j]\n",
      " [ 0.07027027+0.77837838j -0.17837838-0.12972973j  0.34594595-0.47567568j]\n",
      " [-0.54594595+0.87567568j -0.07567568-0.14594595j  0.38918919-0.53513514j]] \n",
      "Sum:  [7.+1.j 6.+0.j 1.+2.j] \n",
      "Minimum:  [-1.+0.j  1.+0.j -1.+2.j] \n",
      "Exponential:  [[ 2.71828183+0.j          1.        +0.j          1.        +0.j        ]\n",
      " [ 1.        +0.j          2.71828183+0.j          1.        +0.j        ]\n",
      " [ 1.        +0.j          1.        +0.j         -0.15309187+0.33451183j]]\n",
      "Addition :\n",
      " [[ 2.+0.j  2.+0.j -1.+0.j]\n",
      " [ 5.+0.j  2.+0.j  3.+0.j]\n",
      " [ 1.+1.j  3.+0.j -2.+4.j]]\n",
      "Substraction :\n",
      " [[ 0.+0.j  2.+0.j -1.+0.j]\n",
      " [ 5.+0.j  0.+0.j  3.+0.j]\n",
      " [ 1.+1.j  3.+0.j  0.+0.j]]\n",
      "Multiplication :\n",
      " [[ 1.+0.j  0.+0.j -0.+0.j]\n",
      " [ 0.+0.j  1.+0.j  0.+0.j]\n",
      " [ 0.+0.j  0.+0.j -3.-4.j]]\n",
      "Division :\n",
      " [[  1. +0.j  inf+nanj -inf+nanj]\n",
      " [ inf+nanj   1. +0.j  inf+nanj]\n",
      " [ inf+infj  inf+nanj   1. +0.j]]\n"
     ]
    },
    {
     "name": "stderr",
     "output_type": "stream",
     "text": [
      "/tmp/ipykernel_2730/3736361751.py:17: RuntimeWarning: divide by zero encountered in divide\n",
      "  matrix_div = np.divide(matrix_3,New_Diagonal_of_matrix3)\n",
      "/tmp/ipykernel_2730/3736361751.py:17: RuntimeWarning: invalid value encountered in divide\n",
      "  matrix_div = np.divide(matrix_3,New_Diagonal_of_matrix3)\n"
     ]
    }
   ],
   "source": [
    "#TO DO\n",
    "print(\"Matrix 3 :\\n\",matrix_3,\"\\n New Diagonal matrix from matrix 3  :\\n\",New_Diagonal_of_matrix3)\n",
    "\n",
    "#Addition\n",
    "matrix_add = np.add(matrix_3,New_Diagonal_of_matrix3)\n",
    "print(\"Addition :\\n\",matrix_add)\n",
    "\n",
    "#Substraction\n",
    "matrix_sub = np.subtract(matrix_3,New_Diagonal_of_matrix3)\n",
    "print(\"Substraction :\\n\",matrix_sub)\n",
    "\n",
    "#Multiplication\n",
    "matrix_mult = np.multiply(matrix_3,New_Diagonal_of_matrix3)\n",
    "print(\"Multiplication :\\n\",matrix_mult)\n",
    "\n",
    "#Division\n",
    "matrix_div = np.divide(matrix_3,New_Diagonal_of_matrix3)\n",
    "print(\"Division :\\n\",matrix_div)"
   ]
  },
  {
   "cell_type": "code",
   "execution_count": 64,
   "id": "c9c8fef8",
   "metadata": {},
   "outputs": [
    {
     "name": "stdout",
     "output_type": "stream",
     "text": [
      "Matrix 3 :\n",
      " [[ 1.+0.j  2.+0.j -1.+0.j]\n",
      " [ 5.+0.j  1.+0.j  3.+0.j]\n",
      " [ 1.+1.j  3.+0.j -1.+2.j]]\n",
      "Transpose : \n",
      " [[ 1.+0.j  5.+0.j  1.+1.j]\n",
      " [ 2.+0.j  1.+0.j  3.+0.j]\n",
      " [-1.+0.j  3.+0.j -1.+2.j]]\n",
      "Inverse : \n",
      " [[ 0.31351351-0.68108108j  0.28108108+0.11351351j -0.3027027 +0.41621622j]\n",
      " [ 0.07027027+0.77837838j -0.17837838-0.12972973j  0.34594595-0.47567568j]\n",
      " [-0.54594595+0.87567568j -0.07567568-0.14594595j  0.38918919-0.53513514j]]\n",
      "The sum of each column of matrix 3 is : \n",
      " [7.+1.j 6.+0.j 1.+2.j]\n",
      "The minimum of each row of matrix 3 is : \n",
      " [-1.+0.j  1.+0.j -1.+2.j]\n",
      "The cumulative sum along each row of matrix 3 is : \n",
      " [[1.+0.j 3.+0.j 2.+0.j]\n",
      " [5.+0.j 6.+0.j 9.+0.j]\n",
      " [1.+1.j 4.+1.j 3.+3.j]]\n",
      "Exponential:  [[ 2.71828183+0.j          1.        +0.j          1.        +0.j        ]\n",
      " [ 1.        +0.j          2.71828183+0.j          1.        +0.j        ]\n",
      " [ 1.        +0.j          1.        +0.j         -0.15309187+0.33451183j]]\n"
     ]
    }
   ],
   "source": [
    "#TO DO\n",
    "print(\"Matrix 3 :\\n\",matrix_3)\n",
    "\n",
    "#Transpose\n",
    "matrix_tran = np.transpose(matrix_3)\n",
    "print(\"Transpose : \\n\",matrix_tran)\n",
    "\n",
    "#Inverse\n",
    "matrix_inv = np.linalg.inv(matrix_3)\n",
    "print(\"Inverse : \\n\",matrix_inv)\n",
    "#sum of each column of matrix_3\n",
    "column_sum=np.sum(matrix_3,axis=0)\n",
    "print(\"The sum of each column of matrix 3 is : \\n\",column_sum)\n",
    "#min of each row of matrix_3\n",
    "\n",
    "min_of_rows=np.min(matrix_3,axis=1)\n",
    "print(\"The minimum of each row of matrix 3 is : \\n\",min_of_rows)\n",
    "#the cumulative sum along each row of matrix_3\n",
    "cumulative_sum_of_rows=np.cumsum(matrix_3,axis=1)\n",
    "print(\"The cumulative sum along each row of matrix 3 is : \\n\",cumulative_sum_of_rows)\n",
    "\n",
    "#the exponential of New_Diagonal_of_matrix3\n",
    "print(\"Exponential: \",np.exp(New_Diagonal_of_matrix3))\n",
    "\n"
   ]
  },
  {
   "cell_type": "markdown",
   "id": "28bd3873",
   "metadata": {},
   "source": [
    "## Conclusion \n",
    "    In this first lab, you have learnt to create different types of arrays and to perform basic arithmetic operations on them. You have seen that arithmetic operators on arrays apply elementwise. A new array is created and filled with the result. Another important thing we have seen  that these arithmetic functions are working in the same way on each type of arrays and that there are also specific functions (for the matrices for example)."
   ]
  },
  {
   "cell_type": "code",
   "execution_count": null,
   "id": "d8df9391",
   "metadata": {},
   "outputs": [],
   "source": []
  }
 ],
 "metadata": {
  "kernelspec": {
   "display_name": "data_e",
   "language": "python",
   "name": "python3"
  },
  "language_info": {
   "codemirror_mode": {
    "name": "ipython",
    "version": 3
   },
   "file_extension": ".py",
   "mimetype": "text/x-python",
   "name": "python",
   "nbconvert_exporter": "python",
   "pygments_lexer": "ipython3",
   "version": "3.8.16"
  },
  "vscode": {
   "interpreter": {
    "hash": "2343a28521b25afaa9f30c70150d0790506461ec8c9ec2d72ca0cd493dbe10d4"
   }
  }
 },
 "nbformat": 4,
 "nbformat_minor": 5
}

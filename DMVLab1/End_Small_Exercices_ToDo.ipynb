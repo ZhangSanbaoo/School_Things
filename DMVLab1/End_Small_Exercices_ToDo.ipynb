{
 "cells": [
  {
   "cell_type": "markdown",
   "id": "c79771f9",
   "metadata": {},
   "source": [
    "<img style=\"float: left; padding-right: 0px; width: 145px\" src=\"https://upload.wikimedia.org/wikipedia/fr/thumb/e/e9/EPF_logo_2021.png/524px-EPF_logo_2021.png\"> \n",
    "<br><br>\n",
    "\n",
    "\n",
    "###  <div style=\"text-align: right\">  Data Engineering - P2024 <br> <br>  <time datetime=\"2023-02-28\">2023/02/28 </time> <br> <br> <u>Name </u>: RAPADAMNABA Robert </div>\n",
    "<br> \n",
    "\n",
    "\n",
    "\n",
    "#   <center>  Data Manipulation </center>"
   ]
  },
  {
   "cell_type": "markdown",
   "id": "living-minority",
   "metadata": {},
   "source": [
    "#  <center><u>  Laboratory 1 - Part 3  : Manipulation of Ndarrays </u></center>\n",
    "\n",
    "In this lab, we are going to learn how to use the different fonctions that can be used with Ndarrays. \n",
    "\n",
    "You can find the documentation on internet. The link of each function will be at the beginning of the exercise."
   ]
  },
  {
   "cell_type": "code",
   "execution_count": 1,
   "id": "24eefaf7",
   "metadata": {},
   "outputs": [
    {
     "name": "stdout",
     "output_type": "stream",
     "text": [
      "Collecting jyquickhelper\n",
      "  Using cached jyquickhelper-0.4.220-py3-none-any.whl (1.5 MB)\n",
      "Requirement already satisfied: ipython in /home/zhangsanbao/miniforge3/envs/data_e/lib/python3.9/site-packages (from jyquickhelper) (8.11.0)\n",
      "Collecting notebook\n",
      "  Downloading notebook-6.5.3-py3-none-any.whl (529 kB)\n",
      "\u001b[2K     \u001b[90m━━━━━━━━━━━━━━━━━━━━━━━━━━━━━━━━━━━━━━━\u001b[0m \u001b[32m529.7/529.7 kB\u001b[0m \u001b[31m5.3 MB/s\u001b[0m eta \u001b[36m0:00:00\u001b[0ma \u001b[36m0:00:01\u001b[0m\n",
      "\u001b[?25hCollecting jupyter\n",
      "  Using cached jupyter-1.0.0-py2.py3-none-any.whl (2.7 kB)\n",
      "Requirement already satisfied: matplotlib-inline in /home/zhangsanbao/miniforge3/envs/data_e/lib/python3.9/site-packages (from ipython->jyquickhelper) (0.1.6)\n",
      "Requirement already satisfied: traitlets>=5 in /home/zhangsanbao/miniforge3/envs/data_e/lib/python3.9/site-packages (from ipython->jyquickhelper) (5.9.0)\n",
      "Requirement already satisfied: pygments>=2.4.0 in /home/zhangsanbao/miniforge3/envs/data_e/lib/python3.9/site-packages (from ipython->jyquickhelper) (2.14.0)\n",
      "Requirement already satisfied: backcall in /home/zhangsanbao/miniforge3/envs/data_e/lib/python3.9/site-packages (from ipython->jyquickhelper) (0.2.0)\n",
      "Requirement already satisfied: pickleshare in /home/zhangsanbao/miniforge3/envs/data_e/lib/python3.9/site-packages (from ipython->jyquickhelper) (0.7.5)\n",
      "Requirement already satisfied: stack-data in /home/zhangsanbao/miniforge3/envs/data_e/lib/python3.9/site-packages (from ipython->jyquickhelper) (0.6.2)\n",
      "Requirement already satisfied: pexpect>4.3 in /home/zhangsanbao/miniforge3/envs/data_e/lib/python3.9/site-packages (from ipython->jyquickhelper) (4.8.0)\n",
      "Requirement already satisfied: decorator in /home/zhangsanbao/miniforge3/envs/data_e/lib/python3.9/site-packages (from ipython->jyquickhelper) (5.1.1)\n",
      "Requirement already satisfied: jedi>=0.16 in /home/zhangsanbao/miniforge3/envs/data_e/lib/python3.9/site-packages (from ipython->jyquickhelper) (0.18.2)\n",
      "Requirement already satisfied: prompt-toolkit!=3.0.37,<3.1.0,>=3.0.30 in /home/zhangsanbao/miniforge3/envs/data_e/lib/python3.9/site-packages (from ipython->jyquickhelper) (3.0.38)\n",
      "Requirement already satisfied: ipykernel in /home/zhangsanbao/miniforge3/envs/data_e/lib/python3.9/site-packages (from jupyter->jyquickhelper) (5.5.5)\n",
      "Collecting ipywidgets\n",
      "  Using cached ipywidgets-8.0.4-py3-none-any.whl (137 kB)\n",
      "Collecting jupyter-console\n",
      "  Downloading jupyter_console-6.6.3-py3-none-any.whl (24 kB)\n",
      "Collecting qtconsole\n",
      "  Using cached qtconsole-5.4.0-py3-none-any.whl (121 kB)\n",
      "Collecting nbconvert\n",
      "  Using cached nbconvert-7.2.9-py3-none-any.whl (274 kB)\n",
      "Collecting terminado>=0.8.3\n",
      "  Using cached terminado-0.17.1-py3-none-any.whl (17 kB)\n",
      "Requirement already satisfied: tornado>=6.1 in /home/zhangsanbao/miniforge3/envs/data_e/lib/python3.9/site-packages (from notebook->jyquickhelper) (6.2)\n",
      "Collecting Send2Trash>=1.8.0\n",
      "  Using cached Send2Trash-1.8.0-py3-none-any.whl (18 kB)\n",
      "Collecting argon2-cffi\n",
      "  Using cached argon2_cffi-21.3.0-py3-none-any.whl (14 kB)\n",
      "Collecting jinja2\n",
      "  Using cached Jinja2-3.1.2-py3-none-any.whl (133 kB)\n",
      "Requirement already satisfied: ipython-genutils in /home/zhangsanbao/miniforge3/envs/data_e/lib/python3.9/site-packages (from notebook->jyquickhelper) (0.2.0)\n",
      "Collecting nbclassic>=0.4.7\n",
      "  Downloading nbclassic-0.5.3-py3-none-any.whl (10.0 MB)\n",
      "\u001b[2K     \u001b[90m━━━━━━━━━━━━━━━━━━━━━━━━━━━━━━━━━━━━━━━━\u001b[0m \u001b[32m10.0/10.0 MB\u001b[0m \u001b[31m4.1 MB/s\u001b[0m eta \u001b[36m0:00:00\u001b[0m00:01\u001b[0m0:01\u001b[0m\n",
      "\u001b[?25hRequirement already satisfied: jupyter-core>=4.6.1 in /home/zhangsanbao/miniforge3/envs/data_e/lib/python3.9/site-packages (from notebook->jyquickhelper) (5.2.0)\n",
      "Collecting prometheus-client\n",
      "  Using cached prometheus_client-0.16.0-py3-none-any.whl (122 kB)\n",
      "Collecting nest-asyncio>=1.5\n",
      "  Using cached nest_asyncio-1.5.6-py3-none-any.whl (5.2 kB)\n",
      "Collecting nbformat\n",
      "  Using cached nbformat-5.7.3-py3-none-any.whl (78 kB)\n",
      "Requirement already satisfied: jupyter-client>=5.3.4 in /home/zhangsanbao/miniforge3/envs/data_e/lib/python3.9/site-packages (from notebook->jyquickhelper) (8.0.3)\n",
      "Requirement already satisfied: pyzmq>=17 in /home/zhangsanbao/miniforge3/envs/data_e/lib/python3.9/site-packages (from notebook->jyquickhelper) (25.0.0)\n",
      "Requirement already satisfied: parso<0.9.0,>=0.8.0 in /home/zhangsanbao/miniforge3/envs/data_e/lib/python3.9/site-packages (from jedi>=0.16->ipython->jyquickhelper) (0.8.3)\n",
      "Requirement already satisfied: python-dateutil>=2.8.2 in /home/zhangsanbao/miniforge3/envs/data_e/lib/python3.9/site-packages (from jupyter-client>=5.3.4->notebook->jyquickhelper) (2.8.2)\n",
      "Requirement already satisfied: importlib-metadata>=4.8.3 in /home/zhangsanbao/miniforge3/envs/data_e/lib/python3.9/site-packages (from jupyter-client>=5.3.4->notebook->jyquickhelper) (6.0.0)\n",
      "Requirement already satisfied: platformdirs>=2.5 in /home/zhangsanbao/miniforge3/envs/data_e/lib/python3.9/site-packages (from jupyter-core>=4.6.1->notebook->jyquickhelper) (3.1.0)\n",
      "Collecting notebook-shim>=0.1.0\n",
      "  Using cached notebook_shim-0.2.2-py3-none-any.whl (13 kB)\n",
      "Collecting jupyter-server>=1.8\n",
      "  Downloading jupyter_server-2.4.0-py3-none-any.whl (366 kB)\n",
      "\u001b[2K     \u001b[90m━━━━━━━━━━━━━━━━━━━━━━━━━━━━━━━━━━━━━━━\u001b[0m \u001b[32m366.7/366.7 kB\u001b[0m \u001b[31m4.2 MB/s\u001b[0m eta \u001b[36m0:00:00\u001b[0ma \u001b[36m0:00:01\u001b[0m\n",
      "\u001b[?25hCollecting mistune<3,>=2.0.3\n",
      "  Using cached mistune-2.0.5-py2.py3-none-any.whl (24 kB)\n",
      "Collecting nbclient>=0.5.0\n",
      "  Using cached nbclient-0.7.2-py3-none-any.whl (71 kB)\n",
      "Collecting defusedxml\n",
      "  Using cached defusedxml-0.7.1-py2.py3-none-any.whl (25 kB)\n",
      "Requirement already satisfied: packaging in /home/zhangsanbao/miniforge3/envs/data_e/lib/python3.9/site-packages (from nbconvert->jupyter->jyquickhelper) (23.0)\n",
      "Collecting tinycss2\n",
      "  Using cached tinycss2-1.2.1-py3-none-any.whl (21 kB)\n",
      "Collecting bleach\n",
      "  Using cached bleach-6.0.0-py3-none-any.whl (162 kB)\n",
      "Collecting pandocfilters>=1.4.1\n",
      "  Using cached pandocfilters-1.5.0-py2.py3-none-any.whl (8.7 kB)\n",
      "Collecting jupyterlab-pygments\n",
      "  Using cached jupyterlab_pygments-0.2.2-py2.py3-none-any.whl (21 kB)\n",
      "Collecting beautifulsoup4\n",
      "  Using cached beautifulsoup4-4.11.2-py3-none-any.whl (129 kB)\n",
      "Collecting markupsafe>=2.0\n",
      "  Downloading MarkupSafe-2.1.2-cp39-cp39-manylinux_2_17_x86_64.manylinux2014_x86_64.whl (25 kB)\n",
      "Collecting jsonschema>=2.6\n",
      "  Using cached jsonschema-4.17.3-py3-none-any.whl (90 kB)\n",
      "Collecting fastjsonschema\n",
      "  Using cached fastjsonschema-2.16.3-py3-none-any.whl (23 kB)\n",
      "Requirement already satisfied: ptyprocess>=0.5 in /home/zhangsanbao/miniforge3/envs/data_e/lib/python3.9/site-packages (from pexpect>4.3->ipython->jyquickhelper) (0.7.0)\n",
      "Requirement already satisfied: wcwidth in /home/zhangsanbao/miniforge3/envs/data_e/lib/python3.9/site-packages (from prompt-toolkit!=3.0.37,<3.1.0,>=3.0.30->ipython->jyquickhelper) (0.2.6)\n",
      "Collecting argon2-cffi-bindings\n",
      "  Using cached argon2_cffi_bindings-21.2.0-cp36-abi3-manylinux_2_17_x86_64.manylinux2014_x86_64.whl (86 kB)\n",
      "Collecting jupyterlab-widgets~=3.0\n",
      "  Using cached jupyterlab_widgets-3.0.5-py3-none-any.whl (384 kB)\n",
      "Collecting widgetsnbextension~=4.0\n",
      "  Using cached widgetsnbextension-4.0.5-py3-none-any.whl (2.0 MB)\n",
      "Collecting ipykernel\n",
      "  Downloading ipykernel-6.21.3-py3-none-any.whl (149 kB)\n",
      "\u001b[2K     \u001b[90m━━━━━━━━━━━━━━━━━━━━━━━━━━━━━━━━━━━━━━━\u001b[0m \u001b[32m149.4/149.4 kB\u001b[0m \u001b[31m3.1 MB/s\u001b[0m eta \u001b[36m0:00:00\u001b[0ma \u001b[36m0:00:01\u001b[0m\n",
      "\u001b[?25hCollecting psutil\n",
      "  Using cached psutil-5.9.4-cp36-abi3-manylinux_2_12_x86_64.manylinux2010_x86_64.manylinux_2_17_x86_64.manylinux2014_x86_64.whl (280 kB)\n",
      "Collecting comm>=0.1.1\n",
      "  Using cached comm-0.1.2-py3-none-any.whl (6.5 kB)\n",
      "Collecting debugpy>=1.6.5\n",
      "  Downloading debugpy-1.6.6-cp39-cp39-manylinux_2_17_x86_64.manylinux2014_x86_64.whl (3.1 MB)\n",
      "\u001b[2K     \u001b[90m━━━━━━━━━━━━━━━━━━━━━━━━━━━━━━━━━━━━━━━━\u001b[0m \u001b[32m3.1/3.1 MB\u001b[0m \u001b[31m4.2 MB/s\u001b[0m eta \u001b[36m0:00:00\u001b[0m00:01\u001b[0m00:01\u001b[0m\n",
      "\u001b[?25hCollecting qtpy>=2.0.1\n",
      "  Using cached QtPy-2.3.0-py3-none-any.whl (83 kB)\n",
      "Requirement already satisfied: pure-eval in /home/zhangsanbao/miniforge3/envs/data_e/lib/python3.9/site-packages (from stack-data->ipython->jyquickhelper) (0.2.2)\n",
      "Requirement already satisfied: asttokens>=2.1.0 in /home/zhangsanbao/miniforge3/envs/data_e/lib/python3.9/site-packages (from stack-data->ipython->jyquickhelper) (2.2.1)\n",
      "Requirement already satisfied: executing>=1.2.0 in /home/zhangsanbao/miniforge3/envs/data_e/lib/python3.9/site-packages (from stack-data->ipython->jyquickhelper) (1.2.0)\n",
      "Requirement already satisfied: six in /home/zhangsanbao/miniforge3/envs/data_e/lib/python3.9/site-packages (from asttokens>=2.1.0->stack-data->ipython->jyquickhelper) (1.16.0)\n",
      "Requirement already satisfied: zipp>=0.5 in /home/zhangsanbao/miniforge3/envs/data_e/lib/python3.9/site-packages (from importlib-metadata>=4.8.3->jupyter-client>=5.3.4->notebook->jyquickhelper) (3.15.0)\n",
      "Collecting pyrsistent!=0.17.0,!=0.17.1,!=0.17.2,>=0.14.0\n",
      "  Using cached pyrsistent-0.19.3-py3-none-any.whl (57 kB)\n",
      "Collecting attrs>=17.4.0\n",
      "  Using cached attrs-22.2.0-py3-none-any.whl (60 kB)\n",
      "Collecting jupyter-events>=0.4.0\n",
      "  Using cached jupyter_events-0.6.3-py3-none-any.whl (18 kB)\n",
      "Collecting jupyter-server-terminals\n",
      "  Using cached jupyter_server_terminals-0.4.4-py3-none-any.whl (13 kB)\n",
      "Collecting websocket-client\n",
      "  Using cached websocket_client-1.5.1-py3-none-any.whl (55 kB)\n",
      "Collecting anyio>=3.1.0\n",
      "  Using cached anyio-3.6.2-py3-none-any.whl (80 kB)\n",
      "Collecting cffi>=1.0.1\n",
      "  Downloading cffi-1.15.1-cp39-cp39-manylinux_2_17_x86_64.manylinux2014_x86_64.whl (441 kB)\n",
      "\u001b[2K     \u001b[90m━━━━━━━━━━━━━━━━━━━━━━━━━━━━━━━━━━━━━\u001b[0m \u001b[32m441.2/441.2 kB\u001b[0m \u001b[31m817.3 kB/s\u001b[0m eta \u001b[36m0:00:00\u001b[0m00:01\u001b[0m00:01\u001b[0m\n",
      "\u001b[?25hCollecting soupsieve>1.2\n",
      "  Using cached soupsieve-2.4-py3-none-any.whl (37 kB)\n",
      "Collecting webencodings\n",
      "  Using cached webencodings-0.5.1-py2.py3-none-any.whl (11 kB)\n",
      "Collecting idna>=2.8\n",
      "  Using cached idna-3.4-py3-none-any.whl (61 kB)\n",
      "Collecting sniffio>=1.1\n",
      "  Using cached sniffio-1.3.0-py3-none-any.whl (10 kB)\n",
      "Collecting pycparser\n",
      "  Using cached pycparser-2.21-py2.py3-none-any.whl (118 kB)\n",
      "Collecting pyyaml>=5.3\n",
      "  Downloading PyYAML-6.0-cp39-cp39-manylinux_2_5_x86_64.manylinux1_x86_64.manylinux_2_12_x86_64.manylinux2010_x86_64.whl (661 kB)\n",
      "\u001b[2K     \u001b[90m━━━━━━━━━━━━━━━━━━━━━━━━━━━━━━━━━━━━━━━\u001b[0m \u001b[32m661.8/661.8 kB\u001b[0m \u001b[31m1.4 MB/s\u001b[0m eta \u001b[36m0:00:00\u001b[0m00:01\u001b[0m00:01\u001b[0m\n",
      "\u001b[?25hCollecting rfc3339-validator\n",
      "  Using cached rfc3339_validator-0.1.4-py2.py3-none-any.whl (3.5 kB)\n",
      "Collecting rfc3986-validator>=0.1.1\n",
      "  Using cached rfc3986_validator-0.1.1-py2.py3-none-any.whl (4.2 kB)\n",
      "Collecting python-json-logger>=2.0.4\n",
      "  Using cached python_json_logger-2.0.7-py3-none-any.whl (8.1 kB)\n",
      "Collecting webcolors>=1.11\n",
      "  Using cached webcolors-1.12-py3-none-any.whl (9.9 kB)\n",
      "Collecting jsonpointer>1.13\n",
      "  Using cached jsonpointer-2.3-py2.py3-none-any.whl (7.8 kB)\n",
      "Collecting uri-template\n",
      "  Using cached uri_template-1.2.0-py3-none-any.whl (10 kB)\n",
      "Collecting isoduration\n",
      "  Using cached isoduration-20.11.0-py3-none-any.whl (11 kB)\n",
      "Collecting fqdn\n",
      "  Using cached fqdn-1.5.1-py3-none-any.whl (9.1 kB)\n",
      "Collecting arrow>=0.15.0\n",
      "  Using cached arrow-1.2.3-py3-none-any.whl (66 kB)\n",
      "Installing collected packages: webencodings, Send2Trash, mistune, fastjsonschema, widgetsnbextension, websocket-client, webcolors, uri-template, tinycss2, terminado, soupsieve, sniffio, rfc3986-validator, rfc3339-validator, qtpy, pyyaml, python-json-logger, pyrsistent, pycparser, psutil, prometheus-client, pandocfilters, nest-asyncio, markupsafe, jupyterlab-widgets, jupyterlab-pygments, jsonpointer, idna, fqdn, defusedxml, debugpy, comm, bleach, attrs, jupyter-server-terminals, jsonschema, jinja2, cffi, beautifulsoup4, arrow, anyio, nbformat, isoduration, argon2-cffi-bindings, nbclient, ipykernel, argon2-cffi, qtconsole, nbconvert, jupyter-events, jupyter-console, ipywidgets, jupyter-server, notebook-shim, nbclassic, notebook, jupyter, jyquickhelper\n",
      "  Attempting uninstall: ipykernel\n",
      "    Found existing installation: ipykernel 5.5.5\n",
      "    Uninstalling ipykernel-5.5.5:\n",
      "      Successfully uninstalled ipykernel-5.5.5\n",
      "Successfully installed Send2Trash-1.8.0 anyio-3.6.2 argon2-cffi-21.3.0 argon2-cffi-bindings-21.2.0 arrow-1.2.3 attrs-22.2.0 beautifulsoup4-4.11.2 bleach-6.0.0 cffi-1.15.1 comm-0.1.2 debugpy-1.6.6 defusedxml-0.7.1 fastjsonschema-2.16.3 fqdn-1.5.1 idna-3.4 ipykernel-6.21.3 ipywidgets-8.0.4 isoduration-20.11.0 jinja2-3.1.2 jsonpointer-2.3 jsonschema-4.17.3 jupyter-1.0.0 jupyter-console-6.6.3 jupyter-events-0.6.3 jupyter-server-2.4.0 jupyter-server-terminals-0.4.4 jupyterlab-pygments-0.2.2 jupyterlab-widgets-3.0.5 jyquickhelper-0.4.220 markupsafe-2.1.2 mistune-2.0.5 nbclassic-0.5.3 nbclient-0.7.2 nbconvert-7.2.9 nbformat-5.7.3 nest-asyncio-1.5.6 notebook-6.5.3 notebook-shim-0.2.2 pandocfilters-1.5.0 prometheus-client-0.16.0 psutil-5.9.4 pycparser-2.21 pyrsistent-0.19.3 python-json-logger-2.0.7 pyyaml-6.0 qtconsole-5.4.0 qtpy-2.3.0 rfc3339-validator-0.1.4 rfc3986-validator-0.1.1 sniffio-1.3.0 soupsieve-2.4 terminado-0.17.1 tinycss2-1.2.1 uri-template-1.2.0 webcolors-1.12 webencodings-0.5.1 websocket-client-1.5.1 widgetsnbextension-4.0.5\n"
     ]
    }
   ],
   "source": [
    "!pip install jyquickhelper"
   ]
  },
  {
   "cell_type": "code",
   "execution_count": 4,
   "id": "ca52d2b7",
   "metadata": {},
   "outputs": [
    {
     "data": {
      "text/html": [
       "<div id=\"my_id_menu_nb\">run previous cell, wait for 2 seconds</div>\n",
       "<script>\n",
       "function repeat_indent_string(n){\n",
       "    var a = \"\" ;\n",
       "    for ( ; n > 0 ; --n)\n",
       "        a += \"    \";\n",
       "    return a;\n",
       "}\n",
       "// look up into all sections and builds an automated menu //\n",
       "var update_menu_string = function(begin, lfirst, llast, sformat, send, keep_item, begin_format, end_format) {\n",
       "    var anchors = document.getElementsByClassName(\"section\");\n",
       "    if (anchors.length == 0) {\n",
       "        anchors = document.getElementsByClassName(\"text_cell_render rendered_html\");\n",
       "    }\n",
       "    var i,t;\n",
       "    var text_menu = begin;\n",
       "    var text_memo = \"<pre>\\nlength:\" + anchors.length + \"\\n\";\n",
       "    var ind = \"\";\n",
       "    var memo_level = 1;\n",
       "    var href;\n",
       "    var tags = [];\n",
       "    var main_item = 0;\n",
       "    var format_open = 0;\n",
       "    for (i = 0; i <= llast; i++)\n",
       "        tags.push(\"h\" + i);\n",
       "\n",
       "    for (i = 0; i < anchors.length; i++) {\n",
       "        text_memo += \"**\" + anchors[i].id + \"--\\n\";\n",
       "\n",
       "        var child = null;\n",
       "        for(t = 0; t < tags.length; t++) {\n",
       "            var r = anchors[i].getElementsByTagName(tags[t]);\n",
       "            if (r.length > 0) {\n",
       "child = r[0];\n",
       "break;\n",
       "            }\n",
       "        }\n",
       "        if (child == null) {\n",
       "            text_memo += \"null\\n\";\n",
       "            continue;\n",
       "        }\n",
       "        if (anchors[i].hasAttribute(\"id\")) {\n",
       "            // when converted in RST\n",
       "            href = anchors[i].id;\n",
       "            text_memo += \"#1-\" + href;\n",
       "            // passer à child suivant (le chercher)\n",
       "        }\n",
       "        else if (child.hasAttribute(\"id\")) {\n",
       "            // in a notebook\n",
       "            href = child.id;\n",
       "            text_memo += \"#2-\" + href;\n",
       "        }\n",
       "        else {\n",
       "            text_memo += \"#3-\" + \"*\" + \"\\n\";\n",
       "            continue;\n",
       "        }\n",
       "        var title = child.textContent;\n",
       "        var level = parseInt(child.tagName.substring(1,2));\n",
       "\n",
       "        text_memo += \"--\" + level + \"?\" + lfirst + \"--\" + title + \"\\n\";\n",
       "\n",
       "        if ((level < lfirst) || (level > llast)) {\n",
       "            continue ;\n",
       "        }\n",
       "        if (title.endsWith('¶')) {\n",
       "            title = title.substring(0,title.length-1).replace(\"<\", \"&lt;\")\n",
       "         .replace(\">\", \"&gt;\").replace(\"&\", \"&amp;\");\n",
       "        }\n",
       "        if (title.length == 0) {\n",
       "            continue;\n",
       "        }\n",
       "\n",
       "        while (level < memo_level) {\n",
       "            text_menu += end_format + \"</ul>\\n\";\n",
       "            format_open -= 1;\n",
       "            memo_level -= 1;\n",
       "        }\n",
       "        if (level == lfirst) {\n",
       "            main_item += 1;\n",
       "        }\n",
       "        if (keep_item != -1 && main_item != keep_item + 1) {\n",
       "            // alert(main_item + \" - \" + level + \" - \" + keep_item);\n",
       "            continue;\n",
       "        }\n",
       "        while (level > memo_level) {\n",
       "            text_menu += \"<ul>\\n\";\n",
       "            memo_level += 1;\n",
       "        }\n",
       "        text_menu += repeat_indent_string(level-2);\n",
       "        text_menu += begin_format + sformat.replace(\"__HREF__\", href).replace(\"__TITLE__\", title);\n",
       "        format_open += 1;\n",
       "    }\n",
       "    while (1 < memo_level) {\n",
       "        text_menu += end_format + \"</ul>\\n\";\n",
       "        memo_level -= 1;\n",
       "        format_open -= 1;\n",
       "    }\n",
       "    text_menu += send;\n",
       "    //text_menu += \"\\n\" + text_memo;\n",
       "\n",
       "    while (format_open > 0) {\n",
       "        text_menu += end_format;\n",
       "        format_open -= 1;\n",
       "    }\n",
       "    return text_menu;\n",
       "};\n",
       "var update_menu = function() {\n",
       "    var sbegin = \"\";\n",
       "    var sformat = '<a href=\"#__HREF__\">__TITLE__</a>';\n",
       "    var send = \"\";\n",
       "    var begin_format = '<li>';\n",
       "    var end_format = '</li>';\n",
       "    var keep_item = -1;\n",
       "    var text_menu = update_menu_string(sbegin, 2, 4, sformat, send, keep_item,\n",
       "       begin_format, end_format);\n",
       "    var menu = document.getElementById(\"my_id_menu_nb\");\n",
       "    menu.innerHTML=text_menu;\n",
       "};\n",
       "window.setTimeout(update_menu,2000);\n",
       "            </script>"
      ],
      "text/plain": [
       "<IPython.core.display.HTML object>"
      ]
     },
     "execution_count": 4,
     "metadata": {},
     "output_type": "execute_result"
    }
   ],
   "source": [
    "from jyquickhelper import add_notebook_menu\n",
    "add_notebook_menu()"
   ]
  },
  {
   "cell_type": "code",
   "execution_count": 5,
   "id": "digital-russia",
   "metadata": {},
   "outputs": [],
   "source": [
    "import numpy as np\n",
    "import pandas as pd"
   ]
  },
  {
   "cell_type": "markdown",
   "id": "36bc9b7a",
   "metadata": {},
   "source": [
    "\n",
    "\n",
    "### Exercise 1: The `argsort()` function\n",
    "\n",
    "In this exercise we are going to learn how to retrieve the index of values. For this exercise, we will use vector_1"
   ]
  },
  {
   "cell_type": "code",
   "execution_count": 6,
   "id": "ab294f5f",
   "metadata": {},
   "outputs": [],
   "source": [
    "vector_1 = np.array([24, 27, 30, 29, 18, 14])"
   ]
  },
  {
   "cell_type": "markdown",
   "id": "0e126af3",
   "metadata": {},
   "source": [
    "- Create an array that represents the rank of each item of the given array vector_1 following a decreasing schema.\n",
    "\n",
    "Have a look on [`argsort()`function](https://numpy.org/doc/stable/reference/generated/numpy.argsort.html)"
   ]
  },
  {
   "cell_type": "code",
   "execution_count": 7,
   "id": "359d754f",
   "metadata": {},
   "outputs": [
    {
     "name": "stdout",
     "output_type": "stream",
     "text": [
      "[24 27 30 29 18 14]\n",
      "[2 3 1 0 4 5]\n"
     ]
    }
   ],
   "source": [
    "Q1 = np.argsort(vector_1)[::-1]\n",
    "print(vector_1)\n",
    "print(Q1)"
   ]
  },
  {
   "cell_type": "markdown",
   "id": "49b48f13",
   "metadata": {},
   "source": [
    "- Create an array that gives back the array by decreasing number using Q1 from the previous question."
   ]
  },
  {
   "cell_type": "code",
   "execution_count": 8,
   "id": "f28b4e9b",
   "metadata": {},
   "outputs": [
    {
     "name": "stdout",
     "output_type": "stream",
     "text": [
      "[30 29 27 24 18 14]\n"
     ]
    }
   ],
   "source": [
    "Q2 = vector_1[Q1]\n",
    "print(Q2)"
   ]
  },
  {
   "cell_type": "markdown",
   "id": "positive-begin",
   "metadata": {},
   "source": [
    "### Exercise 2 : The  `empty_like` and `copy` functions\n",
    "\n",
    "In this exercise we are going to learn how to use `empty_like` and `copy` functions. To do this, we are going to use matrix_2."
   ]
  },
  {
   "cell_type": "code",
   "execution_count": 9,
   "id": "53651e39",
   "metadata": {},
   "outputs": [
    {
     "data": {
      "text/plain": [
       "array([[ 1,  2,  3,  4,  5,  6,  7,  8,  9, 10],\n",
       "       [11, 12, 13, 14, 15, 16, 17, 18, 19, 20],\n",
       "       [21, 22, 23, 24, 25, 26, 27, 28, 29, 30],\n",
       "       [31, 32, 33, 34, 35, 36, 37, 38, 39, 40],\n",
       "       [41, 42, 43, 44, 45, 46, 47, 48, 49, 50],\n",
       "       [51, 52, 53, 54, 55, 56, 57, 58, 59, 60],\n",
       "       [61, 62, 63, 64, 65, 66, 67, 68, 69, 70],\n",
       "       [71, 72, 73, 74, 75, 76, 77, 78, 79, 80]], dtype=int8)"
      ]
     },
     "execution_count": 9,
     "metadata": {},
     "output_type": "execute_result"
    }
   ],
   "source": [
    "matrix_2 =np.linspace(1,80,num=80, dtype='int8')\n",
    "matrix_2=matrix_2.reshape(8,10)\n",
    "matrix_2\n"
   ]
  },
  {
   "cell_type": "markdown",
   "id": "f8bfe8de",
   "metadata": {},
   "source": [
    "- Create an array with the same shape and type as matrix_2. \n",
    "Use the function empty_like. Look at the documentation : https://numpy.org/doc/stable/reference/generated/numpy.empty_like.html"
   ]
  },
  {
   "cell_type": "code",
   "execution_count": 10,
   "id": "fedc891b",
   "metadata": {},
   "outputs": [
    {
     "name": "stdout",
     "output_type": "stream",
     "text": [
      "Size of matrix_2 80\n",
      "Size of the array like matrix 2 is 80\n",
      "[[ 50  86 -60  81  -1  85   0   0   0   0]\n",
      " [  0   0   0   0   0   0   0   0   0   0]\n",
      " [  0   0   0   0   0   0   0   0   0   0]\n",
      " [  0   0   0   0   0   0   0   0   0   0]\n",
      " [ 53 102 100  55  52  49 100 102  45  97]\n",
      " [100  52  53  45  52  48  57  54  45  98]\n",
      " [ 48  49  56  45  52  57  48 101 102  56]\n",
      " [ 51  49  50  48  51  54   0   0   0   0]]\n"
     ]
    }
   ],
   "source": [
    "array_like_matrix2 = np.empty_like(matrix_2,dtype='int8')\n",
    "print(\"Size of matrix_2\", matrix_2.size)\n",
    "print(\"Size of the array like matrix 2 is\", array_like_matrix2.size)\n",
    "print(array_like_matrix2)"
   ]
  },
  {
   "cell_type": "markdown",
   "id": "0ae51c34",
   "metadata": {},
   "source": [
    "You can see that when you create an array this way, the function is putting random number in the array."
   ]
  },
  {
   "cell_type": "markdown",
   "id": "8827388c",
   "metadata": {},
   "source": [
    "- Copy matrix_2 into array_like_matrix2. \n",
    "\n",
    "Use the function copy. Look at the documentation : \n",
    "https://numpy.org/doc/stable/reference/generated/numpy.copy.html"
   ]
  },
  {
   "cell_type": "code",
   "execution_count": 11,
   "id": "a7b2c1f6",
   "metadata": {},
   "outputs": [
    {
     "data": {
      "text/plain": [
       "array([[ 1,  2,  3,  4,  5,  6,  7,  8,  9, 10],\n",
       "       [11, 12, 13, 14, 15, 16, 17, 18, 19, 20],\n",
       "       [21, 22, 23, 24, 25, 26, 27, 28, 29, 30],\n",
       "       [31, 32, 33, 34, 35, 36, 37, 38, 39, 40],\n",
       "       [41, 42, 43, 44, 45, 46, 47, 48, 49, 50],\n",
       "       [51, 52, 53, 54, 55, 56, 57, 58, 59, 60],\n",
       "       [61, 62, 63, 64, 65, 66, 67, 68, 69, 70],\n",
       "       [71, 72, 73, 74, 75, 76, 77, 78, 79, 80]], dtype=int8)"
      ]
     },
     "execution_count": 11,
     "metadata": {},
     "output_type": "execute_result"
    }
   ],
   "source": [
    "array_like_matrix2 = np.array(matrix_2,copy=True)\n",
    "array_like_matrix2"
   ]
  },
  {
   "cell_type": "markdown",
   "id": "plastic-alias",
   "metadata": {},
   "source": [
    "### Exercise 3 :Boolean indexing\n",
    "\n",
    "In this exercise we are going to learn how to use the `where` function. To illustrate this, we are going to use vector_3."
   ]
  },
  {
   "cell_type": "code",
   "execution_count": 12,
   "id": "f04a85e9",
   "metadata": {},
   "outputs": [
    {
     "data": {
      "text/plain": [
       "dtype('int64')"
      ]
     },
     "execution_count": 12,
     "metadata": {},
     "output_type": "execute_result"
    }
   ],
   "source": [
    "vector_3 = np.array([1, 7, 3, 4, 10, 17, 14, 29, 13])\n",
    "vector_3.dtype"
   ]
  },
  {
   "attachments": {},
   "cell_type": "markdown",
   "id": "ad0c7a86",
   "metadata": {},
   "source": [
    " - Print all of the values in vector_3 that are less than 6"
   ]
  },
  {
   "cell_type": "code",
   "execution_count": 13,
   "id": "52c40316",
   "metadata": {},
   "outputs": [
    {
     "name": "stdout",
     "output_type": "stream",
     "text": [
      "[1 3 4]\n"
     ]
    }
   ],
   "source": [
    "six_down= vector_3[np.where(vector_3 < 6)]\n",
    "print(six_down)"
   ]
  },
  {
   "cell_type": "markdown",
   "id": "0c80e89b",
   "metadata": {},
   "source": [
    "- select elements in vector_3 that are divisible by 3"
   ]
  },
  {
   "cell_type": "code",
   "execution_count": 14,
   "id": "1571c7c8",
   "metadata": {},
   "outputs": [
    {
     "name": "stdout",
     "output_type": "stream",
     "text": [
      "[3]\n"
     ]
    }
   ],
   "source": [
    "Divisible_by_3=vector_3[np.where(vector_3%3==0)]\n",
    "print(Divisible_by_3)"
   ]
  },
  {
   "attachments": {},
   "cell_type": "markdown",
   "id": "be26b21d",
   "metadata": {},
   "source": [
    "- select elements that satisfy these 2 conditions: (vector_3 > 2) and (vector_3 < 11)"
   ]
  },
  {
   "cell_type": "code",
   "execution_count": 15,
   "id": "5eb386a8",
   "metadata": {},
   "outputs": [
    {
     "name": "stdout",
     "output_type": "stream",
     "text": [
      "[ 7  3  4 10]\n"
     ]
    }
   ],
   "source": [
    "Two_conditions_and = vector_3[np.where((vector_3>2)&(vector_3<11))]\n",
    "print(Two_conditions_and)"
   ]
  },
  {
   "cell_type": "code",
   "execution_count": 16,
   "id": "6b0a8762",
   "metadata": {},
   "outputs": [
    {
     "name": "stdout",
     "output_type": "stream",
     "text": [
      "[ 7 10 17 14 29 13]\n"
     ]
    }
   ],
   "source": [
    "six_up1=vector_3[np.where((vector_3==6)|(vector_3>6))]\n",
    "print(six_up1)"
   ]
  },
  {
   "cell_type": "markdown",
   "id": "c7f9811c",
   "metadata": {},
   "source": [
    "- Use of the logical operators `|` in order to return boolean values that specify whether or not the values in vector_3  are equal to or greater than 6 ."
   ]
  },
  {
   "cell_type": "code",
   "execution_count": 17,
   "id": "d72a15c2",
   "metadata": {},
   "outputs": [
    {
     "name": "stdout",
     "output_type": "stream",
     "text": [
      "[False  True False False  True  True  True  True  True]\n"
     ]
    }
   ],
   "source": [
    "#or\n",
    "six_up2 = np.where((vector_3==6)|(vector_3>6),True,False)\n",
    "print(six_up2)"
   ]
  },
  {
   "cell_type": "markdown",
   "id": "ebb25f08",
   "metadata": {},
   "source": [
    "- Create an array that returns the indexes of the numbers between 7 and 20, 20 included and 7 excluded.\n",
    "\n",
    "Look at the documentation of [`np.where`](https://numpy.org/doc/stable/reference/generated/numpy.where.html) "
   ]
  },
  {
   "cell_type": "code",
   "execution_count": 18,
   "id": "subjective-minister",
   "metadata": {},
   "outputs": [
    {
     "name": "stdout",
     "output_type": "stream",
     "text": [
      "The indexes of the number between 7 and 20 are :  [[4 5 6 8]] int64\n"
     ]
    }
   ],
   "source": [
    "indexes_by_where = np.array(np.where((vector_3>7)&(vector_3<=20)))\n",
    "print(\"The indexes of the number between 7 and 20 are : \",indexes_by_where,indexes_by_where.dtype)"
   ]
  },
  {
   "cell_type": "markdown",
   "id": "1bad6107",
   "metadata": {},
   "source": [
    "- Return the value of the number at those indexes."
   ]
  },
  {
   "cell_type": "code",
   "execution_count": 32,
   "id": "607bf04e",
   "metadata": {},
   "outputs": [
    {
     "data": {
      "text/plain": [
       "array([10, 17, 14, 13])"
      ]
     },
     "execution_count": 32,
     "metadata": {},
     "output_type": "execute_result"
    }
   ],
   "source": [
    "#TO DO\n",
    "array_using_indexes_by_where = np.array([vector_3[x] for x in indexes_by_where[0]])\n",
    "array_using_indexes_by_where"
   ]
  },
  {
   "cell_type": "markdown",
   "id": "b6849716",
   "metadata": {},
   "source": [
    "- Bonus : On the image below, perform a slicing to keep only half of the image (in its center) and replace all pixels > 150 by pixels = 255"
   ]
  },
  {
   "cell_type": "code",
   "execution_count": 33,
   "id": "d08022ef",
   "metadata": {},
   "outputs": [
    {
     "name": "stderr",
     "output_type": "stream",
     "text": [
      "<ipython-input-33-a051ac6dc76e>:3: DeprecationWarning: scipy.misc.face has been deprecated in SciPy v1.10.0; and will be completely removed in SciPy v1.12.0. Dataset methods have moved into the scipy.datasets module. Use scipy.datasets.face instead.\n",
      "  face = misc.face(gray=True)\n"
     ]
    },
    {
     "data": {
      "text/plain": [
       "<Figure size 640x480 with 1 Axes>"
      ]
     },
     "metadata": {},
     "output_type": "display_data"
    },
    {
     "data": {
      "text/plain": [
       "(768, 1024)"
      ]
     },
     "execution_count": 33,
     "metadata": {},
     "output_type": "execute_result"
    }
   ],
   "source": [
    "from scipy import misc\n",
    "import matplotlib.pyplot as plt\n",
    "face = misc.face(gray=True)\n",
    "plt.imshow(face, cmap=plt.cm.gray)\n",
    "plt.show()\n",
    "face.shape"
   ]
  },
  {
   "cell_type": "code",
   "execution_count": 34,
   "id": "4dda0d27",
   "metadata": {},
   "outputs": [
    {
     "data": {
      "text/plain": [
       "<Figure size 640x480 with 1 Axes>"
      ]
     },
     "metadata": {},
     "output_type": "display_data"
    }
   ],
   "source": [
    "x, y = face.shape\n",
    "\n",
    "# Replace all pixels > 150 by pixels = 255 using boolean indexing\n",
    "zoom_face = face[x//4:3*x//4, y//4:3*y//4]\n",
    "zoom_face[zoom_face > 150] = 255\n",
    "\n",
    "# Display the final image\n",
    "plt.imshow(zoom_face, cmap=plt.cm.gray)\n",
    "plt.show()"
   ]
  },
  {
   "cell_type": "markdown",
   "id": "eee83c50",
   "metadata": {},
   "source": [
    "### Exercise 4 : Broadcasting\n",
    "\n",
    "    In this exercise we are going to learn how to carry out an operation between an array and a single number (also called an operation between a vector and a scalar) or between arrays of two different sizes. To illustrate this, we are going to use the following arrays .\n"
   ]
  },
  {
   "cell_type": "code",
   "execution_count": 35,
   "id": "b4e1e7ec",
   "metadata": {},
   "outputs": [],
   "source": [
    "matrix_A = np.ones((2, 3))\n",
    "scalar_B = 3\n",
    "matrix_2_1_A = np.ones((2, 1))\n",
    "matrix_2_2_B = np.ones((2, 2))\n",
    "matrix_1_2_C = np.ones((1, 2))"
   ]
  },
  {
   "cell_type": "markdown",
   "id": "bcbbd527",
   "metadata": {},
   "source": [
    "- print the result of :\n",
    "  - sum between matrix_A and scalar_B, \n",
    "  - sum between matrix_A and matrix_2_1_A,\n",
    "  - sum between matrix_2_1_A and matrix_2_2_B\n",
    "  - sum between matrix_1_2_C and matrix_2_2_B,"
   ]
  },
  {
   "cell_type": "code",
   "execution_count": 36,
   "id": "024a0902",
   "metadata": {},
   "outputs": [
    {
     "name": "stdout",
     "output_type": "stream",
     "text": [
      "[[4. 4. 4.]\n",
      " [4. 4. 4.]] \n",
      "\n",
      "[[2. 2. 2.]\n",
      " [2. 2. 2.]] \n",
      "\n",
      "[[2. 2.]\n",
      " [2. 2.]] \n",
      "\n",
      "[[2. 2.]\n",
      " [2. 2.]] \n",
      "\n"
     ]
    }
   ],
   "source": [
    "print(np.add(matrix_A,scalar_B),\"\\n\")\n",
    "print(np.add(matrix_A,matrix_2_1_A),\"\\n\")\n",
    "print(np.add(matrix_2_1_A,matrix_2_2_B),\"\\n\")\n",
    "print(np.add(matrix_1_2_C,matrix_2_2_B),\"\\n\")"
   ]
  },
  {
   "cell_type": "markdown",
   "id": "ad156c1f",
   "metadata": {},
   "source": [
    " - What happens if you try ton compute the sum of matrix_A and matrix_2_2_B?"
   ]
  },
  {
   "cell_type": "code",
   "execution_count": 37,
   "id": "f2589f21",
   "metadata": {},
   "outputs": [
    {
     "ename": "ValueError",
     "evalue": "operands could not be broadcast together with shapes (2,3) (2,2) ",
     "output_type": "error",
     "traceback": [
      "\u001b[0;31m---------------------------------------------------------------------------\u001b[0m",
      "\u001b[0;31mValueError\u001b[0m                                Traceback (most recent call last)",
      "Cell \u001b[0;32mIn[37], line 1\u001b[0m\n\u001b[0;32m----> 1\u001b[0m \u001b[39mprint\u001b[39m(np\u001b[39m.\u001b[39;49madd(matrix_A,matrix_2_2_B))\n",
      "\u001b[0;31mValueError\u001b[0m: operands could not be broadcast together with shapes (2,3) (2,2) "
     ]
    }
   ],
   "source": [
    "print(np.add(matrix_A,matrix_2_2_B))"
   ]
  },
  {
   "cell_type": "markdown",
   "id": "binary-genome",
   "metadata": {},
   "source": [
    "### Exercise 5 : The `shuffle` function\n",
    "\n",
    "In this exercise we are going to learn how to use the shuffle function. To illustrate this, we are going to use the matrix student."
   ]
  },
  {
   "cell_type": "code",
   "execution_count": 38,
   "id": "e7846ebe",
   "metadata": {},
   "outputs": [],
   "source": [
    "student = np.array([['student_id', 'Class', 'Name'],\n",
    "              ['01', 'V', 'Debby Pramod'],\n",
    "              ['02', 'V', 'Artemiy Ellie'],\n",
    "              ['03', 'V', 'Baptist Kamal'],\n",
    "              ['04', 'V', 'Lavanya Davide'],\n",
    "              ['05', 'V', 'Fulton Antwan'],\n",
    "              ['06', 'V', 'Euanthe Sandeep'],\n",
    "              ['07', 'V', 'Endzela Sanda'],\n",
    "              ['08', 'V', 'Victoire Waman'],\n",
    "              ['09', 'V', 'Briar Nur'],\n",
    "              ['10', 'V', 'Rose Lykos']])"
   ]
  },
  {
   "cell_type": "markdown",
   "id": "ca4b0dfa",
   "metadata": {},
   "source": [
    "- Take the matrix student and shuffle the array rows from 3rd to 9th.\n",
    "\n",
    "Look at the documentation of np.random.shuffle :\n",
    "https://numpy.org/doc/stable/reference/random/generated/numpy.random.shuffle.html"
   ]
  },
  {
   "cell_type": "code",
   "execution_count": 39,
   "id": "promising-confusion",
   "metadata": {},
   "outputs": [
    {
     "name": "stdout",
     "output_type": "stream",
     "text": [
      "[['10' 'V' 'Rose Lykos']\n",
      " ['09' 'V' 'Briar Nur']\n",
      " ['06' 'V' 'Euanthe Sandeep']\n",
      " ['01' 'V' 'Debby Pramod']\n",
      " ['03' 'V' 'Baptist Kamal']\n",
      " ['02' 'V' 'Artemiy Ellie']\n",
      " ['05' 'V' 'Fulton Antwan']\n",
      " ['08' 'V' 'Victoire Waman']\n",
      " ['student_id' 'Class' 'Name']\n",
      " ['07' 'V' 'Endzela Sanda']\n",
      " ['04' 'V' 'Lavanya Davide']]\n"
     ]
    }
   ],
   "source": [
    "np.random.shuffle(student)\n",
    "print(student)"
   ]
  },
  {
   "cell_type": "markdown",
   "id": "3a75aae3",
   "metadata": {},
   "source": [
    "### Exercise 6 : The `startswith` function\n",
    "\n",
    "In this exercise we are going to learn how to use the `startswith` function. To illustrate this, we are going to use the matrix student2."
   ]
  },
  {
   "cell_type": "code",
   "execution_count": 40,
   "id": "422d0922",
   "metadata": {},
   "outputs": [],
   "source": [
    "student2 =  np.array([['01', 'V', 'Debby Pramod', 30.21],\n",
    " ['02', 'V', 'Artemiy Ellie', 29.32],\n",
    " ['03', 'V', 'Baptist Kamal', 31.00],\n",
    " ['04', 'V', 'Lavanya Davide', 30.22],\n",
    " ['05', 'V', 'Fulton Antwan', 30.21],\n",
    " ['06', 'V', 'Euanthe Sandeep', 31.00],\n",
    " ['07', 'V', 'Endzela Sanda', 32.00],\n",
    " ['08', 'V', 'Victoire Waman', 29.21],\n",
    " ['09', 'E', 'Briar Nur', 30.00],\n",
    " ['10', 'V', 'Rose Lykos', 32.00]])"
   ]
  },
  {
   "cell_type": "markdown",
   "id": "158dae21",
   "metadata": {},
   "source": [
    "- Create an array with the elements starting with a \"E\" character.\n",
    "\n",
    "Look at the documentation of np.char.startswith :\n",
    "https://numpy.org/doc/stable/reference/generated/numpy.char.startswith.html"
   ]
  },
  {
   "cell_type": "code",
   "execution_count": 41,
   "id": "a6a207d9",
   "metadata": {},
   "outputs": [
    {
     "name": "stdout",
     "output_type": "stream",
     "text": [
      "['Euanthe Sandeep' 'Endzela Sanda' 'E']\n"
     ]
    }
   ],
   "source": [
    "result = student2[np.where(np.char.startswith(student2,'E'))]\n",
    "print(result)"
   ]
  },
  {
   "cell_type": "markdown",
   "id": "9098b18a",
   "metadata": {},
   "source": [
    "- Extract all the rows to compute the student mean weight starting with the caracter \"E\", \"D\" and \"F\". ( Check for the type of the weight)\n",
    "\n",
    "Look at the documentation of astype : \n",
    "https://pandas.pydata.org/pandas-docs/stable/reference/api/pandas.DataFrame.astype.html"
   ]
  },
  {
   "cell_type": "code",
   "execution_count": 42,
   "id": "4cad120d",
   "metadata": {},
   "outputs": [
    {
     "name": "stdout",
     "output_type": "stream",
     "text": [
      "\n",
      "Total weight, where student name starting with E 31.5\n",
      "\n",
      "Total weight, where student name starting with D 30.21\n",
      "\n",
      "Total weight, where student name starting with F 30.21\n"
     ]
    }
   ],
   "source": [
    "lineE = student2[np.where(np.char.startswith(student2[:,2],'E'))]\n",
    "characterE = np.mean(lineE[:,3].astype(float))\n",
    "print(\"\\nTotal weight, where student name starting with E\", characterE)\n",
    "\n",
    "lineD = student2[np.where(np.char.startswith(student2[:,2],'D'))]\n",
    "characterD = np.mean(lineD[:,3].astype(float))\n",
    "print(\"\\nTotal weight, where student name starting with D\", characterD)\n",
    "\n",
    "lineF = student2[np.where(np.char.startswith(student2[:,2],'F'))]\n",
    "characterF = np.mean(lineF[:,3].astype(float))\n",
    "print(\"\\nTotal weight, where student name starting with F\", characterF)"
   ]
  },
  {
   "cell_type": "markdown",
   "id": "863be2c6",
   "metadata": {},
   "source": [
    "### Exercice 7: Missing values\n",
    "\n",
    "In this exerice, we are going to get data from a csv to an array and then to manipulate missing values. To do that, we are going to use the csv 'Iris.csv' that give information about flowers and the size of its different caracteristics. You can see more of this dataset on Kaggle : https://www.kaggle.com/datasets/saurabh00007/iriscsv\n",
    "\n",
    "- Import the data\n",
    "\n",
    "Look at the documentation of genfromtxt : \n",
    "https://numpy.org/doc/stable/reference/generated/numpy.genfromtxt.html"
   ]
  },
  {
   "cell_type": "code",
   "execution_count": 43,
   "id": "d8a1bfa3",
   "metadata": {},
   "outputs": [
    {
     "data": {
      "text/plain": [
       "array([[5.1, 3.5, 1.4, 0.2],\n",
       "       [4.9, 3. , 1.4, 0.2],\n",
       "       [4.7, 3.2, 1.3, 0.2],\n",
       "       [4.6, 3.1, 1.5, 0.2],\n",
       "       [5. , 3.6, 1.4, 0.2],\n",
       "       [5.4, 3.9, 1.7, 0.4],\n",
       "       [4.6, 3.4, 1.4, 0.3],\n",
       "       [5. , 3.4, 1.5, 0.2],\n",
       "       [4.4, 2.9, 1.4, 0.2],\n",
       "       [4.9, 3.1, 1.5, 0.1],\n",
       "       [5.4, 3.7, 1.5, 0.2],\n",
       "       [4.8, 3.4, 1.6, 0.2],\n",
       "       [4.8, 3. , 1.4, 0.1],\n",
       "       [4.3, 3. , 1.1, 0.1],\n",
       "       [5.8, 4. , 1.2, 0.2],\n",
       "       [5.7, 4.4, 1.5, 0.4],\n",
       "       [5.4, 3.9, 1.3, 0.4],\n",
       "       [5.1, 3.5, 1.4, 0.3],\n",
       "       [5.7, 3.8, 1.7, 0.3],\n",
       "       [5.1, 3.8, 1.5, 0.3],\n",
       "       [5.4, 3.4, 1.7, 0.2],\n",
       "       [5.1, 3.7, 1.5, 0.4],\n",
       "       [4.6, 3.6, 1. , 0.2],\n",
       "       [5.1, 3.3, 1.7, 0.5],\n",
       "       [4.8, 3.4, 1.9, 0.2],\n",
       "       [5. , 3. , 1.6, 0.2],\n",
       "       [5. , 3.4, 1.6, 0.4],\n",
       "       [5.2, 3.5, 1.5, 0.2],\n",
       "       [5.2, 3.4, 1.4, 0.2],\n",
       "       [4.7, 3.2, 1.6, 0.2],\n",
       "       [4.8, 3.1, 1.6, 0.2],\n",
       "       [5.4, 3.4, 1.5, 0.4],\n",
       "       [5.2, 4.1, 1.5, 0.1],\n",
       "       [5.5, 4.2, 1.4, 0.2],\n",
       "       [4.9, 3.1, 1.5, 0.1],\n",
       "       [5. , 3.2, 1.2, 0.2],\n",
       "       [5.5, 3.5, 1.3, 0.2],\n",
       "       [4.9, 3.1, 1.5, 0.1],\n",
       "       [4.4, 3. , 1.3, 0.2],\n",
       "       [5.1, 3.4, 1.5, 0.2],\n",
       "       [5. , 3.5, 1.3, 0.3],\n",
       "       [4.5, 2.3, 1.3, 0.3],\n",
       "       [4.4, 3.2, 1.3, 0.2],\n",
       "       [5. , 3.5, 1.6, 0.6],\n",
       "       [5.1, 3.8, 1.9, 0.4],\n",
       "       [4.8, 3. , 1.4, 0.3],\n",
       "       [5.1, 3.8, 1.6, 0.2],\n",
       "       [4.6, 3.2, 1.4, 0.2],\n",
       "       [5.3, 3.7, 1.5, 0.2],\n",
       "       [5. , 3.3, 1.4, 0.2],\n",
       "       [7. , 3.2, 4.7, 1.4],\n",
       "       [6.4, 3.2, 4.5, 1.5],\n",
       "       [6.9, 3.1, 4.9, 1.5],\n",
       "       [5.5, 2.3, 4. , 1.3],\n",
       "       [6.5, 2.8, 4.6, 1.5],\n",
       "       [5.7, 2.8, 4.5, 1.3],\n",
       "       [6.3, 3.3, 4.7, 1.6],\n",
       "       [4.9, 2.4, 3.3, 1. ],\n",
       "       [6.6, 2.9, 4.6, 1.3],\n",
       "       [5.2, 2.7, 3.9, 1.4],\n",
       "       [5. , 2. , 3.5, 1. ],\n",
       "       [5.9, 3. , 4.2, 1.5],\n",
       "       [6. , 2.2, 4. , 1. ],\n",
       "       [6.1, 2.9, 4.7, 1.4],\n",
       "       [5.6, 2.9, 3.6, 1.3],\n",
       "       [6.7, 3.1, 4.4, 1.4],\n",
       "       [5.6, 3. , 4.5, 1.5],\n",
       "       [5.8, 2.7, 4.1, 1. ],\n",
       "       [6.2, 2.2, 4.5, 1.5],\n",
       "       [5.6, 2.5, 3.9, 1.1],\n",
       "       [5.9, 3.2, 4.8, 1.8],\n",
       "       [6.1, 2.8, 4. , 1.3],\n",
       "       [6.3, 2.5, 4.9, 1.5],\n",
       "       [6.1, 2.8, 4.7, 1.2],\n",
       "       [6.4, 2.9, 4.3, 1.3],\n",
       "       [6.6, 3. , 4.4, 1.4],\n",
       "       [6.8, 2.8, 4.8, 1.4],\n",
       "       [6.7, 3. , 5. , 1.7],\n",
       "       [6. , 2.9, 4.5, 1.5],\n",
       "       [5.7, 2.6, 3.5, 1. ],\n",
       "       [5.5, 2.4, 3.8, 1.1],\n",
       "       [5.5, 2.4, 3.7, 1. ],\n",
       "       [5.8, 2.7, 3.9, 1.2],\n",
       "       [6. , 2.7, 5.1, 1.6],\n",
       "       [5.4, 3. , 4.5, 1.5],\n",
       "       [6. , 3.4, 4.5, 1.6],\n",
       "       [6.7, 3.1, 4.7, 1.5],\n",
       "       [6.3, 2.3, 4.4, 1.3],\n",
       "       [5.6, 3. , 4.1, 1.3],\n",
       "       [5.5, 2.5, 4. , 1.3],\n",
       "       [5.5, 2.6, 4.4, 1.2],\n",
       "       [6.1, 3. , 4.6, 1.4],\n",
       "       [5.8, 2.6, 4. , 1.2],\n",
       "       [5. , 2.3, 3.3, 1. ],\n",
       "       [5.6, 2.7, 4.2, 1.3],\n",
       "       [5.7, 3. , 4.2, 1.2],\n",
       "       [5.7, 2.9, 4.2, 1.3],\n",
       "       [6.2, 2.9, 4.3, 1.3],\n",
       "       [5.1, 2.5, 3. , 1.1],\n",
       "       [5.7, 2.8, 4.1, 1.3],\n",
       "       [6.3, 3.3, 6. , 2.5],\n",
       "       [5.8, 2.7, 5.1, 1.9],\n",
       "       [7.1, 3. , 5.9, 2.1],\n",
       "       [6.3, 2.9, 5.6, 1.8],\n",
       "       [6.5, 3. , 5.8, 2.2],\n",
       "       [7.6, 3. , 6.6, 2.1],\n",
       "       [4.9, 2.5, 4.5, 1.7],\n",
       "       [7.3, 2.9, 6.3, 1.8],\n",
       "       [6.7, 2.5, 5.8, 1.8],\n",
       "       [7.2, 3.6, 6.1, 2.5],\n",
       "       [6.5, 3.2, 5.1, 2. ],\n",
       "       [6.4, 2.7, 5.3, 1.9],\n",
       "       [6.8, 3. , 5.5, 2.1],\n",
       "       [5.7, 2.5, 5. , 2. ],\n",
       "       [5.8, 2.8, 5.1, 2.4],\n",
       "       [6.4, 3.2, 5.3, 2.3],\n",
       "       [6.5, 3. , 5.5, 1.8],\n",
       "       [7.7, 3.8, 6.7, 2.2],\n",
       "       [7.7, 2.6, 6.9, 2.3],\n",
       "       [6. , 2.2, 5. , 1.5],\n",
       "       [6.9, 3.2, 5.7, 2.3],\n",
       "       [5.6, 2.8, 4.9, 2. ],\n",
       "       [7.7, 2.8, 6.7, 2. ],\n",
       "       [6.3, 2.7, 4.9, 1.8],\n",
       "       [6.7, 3.3, 5.7, 2.1],\n",
       "       [7.2, 3.2, 6. , 1.8],\n",
       "       [6.2, 2.8, 4.8, 1.8],\n",
       "       [6.1, 3. , 4.9, 1.8],\n",
       "       [6.4, 2.8, 5.6, 2.1],\n",
       "       [7.2, 3. , 5.8, 1.6],\n",
       "       [7.4, 2.8, 6.1, 1.9],\n",
       "       [7.9, 3.8, 6.4, 2. ],\n",
       "       [6.4, 2.8, 5.6, 2.2],\n",
       "       [6.3, 2.8, 5.1, 1.5],\n",
       "       [6.1, 2.6, 5.6, 1.4],\n",
       "       [7.7, 3. , 6.1, 2.3],\n",
       "       [6.3, 3.4, 5.6, 2.4],\n",
       "       [6.4, 3.1, 5.5, 1.8],\n",
       "       [6. , 3. , 4.8, 1.8],\n",
       "       [6.9, 3.1, 5.4, 2.1],\n",
       "       [6.7, 3.1, 5.6, 2.4],\n",
       "       [6.9, 3.1, 5.1, 2.3],\n",
       "       [5.8, 2.7, 5.1, 1.9],\n",
       "       [6.8, 3.2, 5.9, 2.3],\n",
       "       [6.7, 3.3, 5.7, 2.5],\n",
       "       [6.7, 3. , 5.2, 2.3],\n",
       "       [6.3, 2.5, 5. , 1.9],\n",
       "       [6.5, 3. , 5.2, 2. ],\n",
       "       [6.2, 3.4, 5.4, 2.3],\n",
       "       [5.9, 3. , 5.1, 1.8]])"
      ]
     },
     "execution_count": 43,
     "metadata": {},
     "output_type": "execute_result"
    }
   ],
   "source": [
    "iris_data = np.genfromtxt('Iris.csv',delimiter=',',dtype='float',usecols=[1, 2, 3, 4],skip_header=1)\n",
    "iris_data\n"
   ]
  },
  {
   "cell_type": "markdown",
   "id": "03015ef3",
   "metadata": {},
   "source": [
    "- Find the number of missing values in the file\n",
    "\n",
    "Look at the documentation of isnan : \n",
    "https://numpy.org/doc/stable/reference/generated/numpy.isnan.html"
   ]
  },
  {
   "cell_type": "code",
   "execution_count": 44,
   "id": "e63f6702",
   "metadata": {},
   "outputs": [
    {
     "name": "stdout",
     "output_type": "stream",
     "text": [
      "0\n"
     ]
    }
   ],
   "source": [
    "missingvalues = np.isnan(iris_data).sum()\n",
    "print(missingvalues)"
   ]
  },
  {
   "cell_type": "markdown",
   "id": "7337731d",
   "metadata": {},
   "source": [
    "- Find the number of missing values in the first column 'SepalWidthCm'"
   ]
  },
  {
   "cell_type": "code",
   "execution_count": 45,
   "id": "340876fa",
   "metadata": {},
   "outputs": [
    {
     "name": "stdout",
     "output_type": "stream",
     "text": [
      "0\n"
     ]
    }
   ],
   "source": [
    "missingvalues2 = np.isnan(iris_data[:,2]).sum()\n",
    "print(missingvalues2)"
   ]
  },
  {
   "cell_type": "markdown",
   "id": "db1c0c03",
   "metadata": {},
   "source": [
    "- Find the position of all the missing values in the first column"
   ]
  },
  {
   "cell_type": "code",
   "execution_count": 46,
   "id": "f2419dc5",
   "metadata": {},
   "outputs": [
    {
     "name": "stdout",
     "output_type": "stream",
     "text": [
      "(array([], dtype=int64),)\n"
     ]
    }
   ],
   "source": [
    "missingposition = np.where(np.isnan(iris_data[:, 0]))\n",
    "print(missingposition)"
   ]
  },
  {
   "cell_type": "markdown",
   "id": "a70a3201",
   "metadata": {},
   "source": [
    "### Exercise 8 : Correlation between columns\n",
    "\n",
    "In this exercice, we are going to learn how to calculate the correlation between two columns. To do that, we are going to use an otherdataset which is 'diabetes.csv' that gives information about people having diabete. You can see more of this dataset on Kaggle : https://www.kaggle.com/datasets/saurabh00007/diabetescsv\n",
    "\n",
    "- As the exercise before, import the dataset thanks to numpy"
   ]
  },
  {
   "cell_type": "code",
   "execution_count": 47,
   "id": "065a0a53",
   "metadata": {},
   "outputs": [
    {
     "data": {
      "text/plain": [
       "array([[  6.   , 148.   ,  72.   , ...,   0.627,  50.   ,   1.   ],\n",
       "       [  1.   ,  85.   ,  66.   , ...,   0.351,  31.   ,   0.   ],\n",
       "       [  8.   , 183.   ,  64.   , ...,   0.672,  32.   ,   1.   ],\n",
       "       ...,\n",
       "       [  5.   , 121.   ,  72.   , ...,   0.245,  30.   ,   0.   ],\n",
       "       [  1.   , 126.   ,  60.   , ...,   0.349,  47.   ,   1.   ],\n",
       "       [  1.   ,  93.   ,  70.   , ...,   0.315,  23.   ,   0.   ]])"
      ]
     },
     "execution_count": 47,
     "metadata": {},
     "output_type": "execute_result"
    }
   ],
   "source": [
    "diabetes_data = np.genfromtxt('diabetes.csv', delimiter=',', dtype='float', skip_header=1)\n",
    "\n",
    "diabetes_data\n"
   ]
  },
  {
   "attachments": {},
   "cell_type": "markdown",
   "id": "f212f8f9",
   "metadata": {},
   "source": [
    "- Find the correlation between Pregnncies (1st column) and BMI (5th column)."
   ]
  },
  {
   "cell_type": "code",
   "execution_count": 48,
   "id": "424f11d6",
   "metadata": {},
   "outputs": [
    {
     "data": {
      "text/plain": [
       "array([[1.        , 0.01768309],\n",
       "       [0.01768309, 1.        ]])"
      ]
     },
     "execution_count": 48,
     "metadata": {},
     "output_type": "execute_result"
    }
   ],
   "source": [
    "corr_diabete = np.corrcoef(diabetes_data[:,0], diabetes_data[:,5])\n",
    "corr_diabete\n"
   ]
  }
 ],
 "metadata": {
  "kernelspec": {
   "display_name": "data_e",
   "language": "python",
   "name": "python3"
  },
  "language_info": {
   "codemirror_mode": {
    "name": "ipython",
    "version": 3
   },
   "file_extension": ".py",
   "mimetype": "text/x-python",
   "name": "python",
   "nbconvert_exporter": "python",
   "pygments_lexer": "ipython3",
   "version": "3.9.16"
  },
  "vscode": {
   "interpreter": {
    "hash": "2343a28521b25afaa9f30c70150d0790506461ec8c9ec2d72ca0cd493dbe10d4"
   }
  }
 },
 "nbformat": 4,
 "nbformat_minor": 5
}

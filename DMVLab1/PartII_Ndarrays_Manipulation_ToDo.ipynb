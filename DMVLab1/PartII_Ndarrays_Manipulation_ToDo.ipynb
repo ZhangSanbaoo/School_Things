{
 "cells": [
  {
   "cell_type": "markdown",
   "id": "a2c55a6c",
   "metadata": {},
   "source": [
    "<img style=\"float: left; padding-right: 0px; width: 145px\" src=\"https://upload.wikimedia.org/wikipedia/fr/thumb/e/e9/EPF_logo_2021.png/524px-EPF_logo_2021.png\"> \n",
    "<br><br>\n",
    "\n",
    "\n",
    "###  <div style=\"text-align: right\">  Data Engineering - P2024 <br> <br>  <time datetime=\"2023-02-28\">2023/02/28 </time> <br> <br> <u>Name </u>: RAPADAMNABA Robert </div>\n",
    "<br> \n",
    "\n",
    "\n",
    "\n",
    "#   <center>  Data Manipulation </center>\n"
   ]
  },
  {
   "cell_type": "markdown",
   "id": "43c66b6c",
   "metadata": {},
   "source": [
    "#  <center><u>  Laboratory 1 - Part 2  : Manipulation of Ndarrays </u></center>"
   ]
  },
  {
   "cell_type": "code",
   "execution_count": 4,
   "id": "59bc4e27",
   "metadata": {},
   "outputs": [
    {
     "name": "stdout",
     "output_type": "stream",
     "text": [
      "Requirement already satisfied: jyquickhelper in c:\\users\\rrapadamnaba\\miniconda3\\lib\\site-packages (0.4.220)\n",
      "Requirement already satisfied: ipython in c:\\users\\rrapadamnaba\\miniconda3\\lib\\site-packages (from jyquickhelper) (8.3.0)\n",
      "Requirement already satisfied: notebook in c:\\users\\rrapadamnaba\\miniconda3\\lib\\site-packages (from jyquickhelper) (6.4.11)\n",
      "Requirement already satisfied: jupyter in c:\\users\\rrapadamnaba\\miniconda3\\lib\\site-packages (from jyquickhelper) (1.0.0)\n",
      "Requirement already satisfied: backcall in c:\\users\\rrapadamnaba\\miniconda3\\lib\\site-packages (from ipython->jyquickhelper) (0.2.0)\n",
      "Requirement already satisfied: prompt-toolkit!=3.0.0,!=3.0.1,<3.1.0,>=2.0.0 in c:\\users\\rrapadamnaba\\miniconda3\\lib\\site-packages (from ipython->jyquickhelper) (3.0.20)\n",
      "Requirement already satisfied: traitlets>=5 in c:\\users\\rrapadamnaba\\miniconda3\\lib\\site-packages (from ipython->jyquickhelper) (5.1.1)\n",
      "Requirement already satisfied: pickleshare in c:\\users\\rrapadamnaba\\miniconda3\\lib\\site-packages (from ipython->jyquickhelper) (0.7.5)\n",
      "Requirement already satisfied: matplotlib-inline in c:\\users\\rrapadamnaba\\miniconda3\\lib\\site-packages (from ipython->jyquickhelper) (0.1.2)\n",
      "Requirement already satisfied: colorama in c:\\users\\rrapadamnaba\\miniconda3\\lib\\site-packages (from ipython->jyquickhelper) (0.4.4)\n",
      "Requirement already satisfied: stack-data in c:\\users\\rrapadamnaba\\miniconda3\\lib\\site-packages (from ipython->jyquickhelper) (0.2.0)\n",
      "Requirement already satisfied: decorator in c:\\users\\rrapadamnaba\\miniconda3\\lib\\site-packages (from ipython->jyquickhelper) (5.1.1)\n",
      "Requirement already satisfied: setuptools>=18.5 in c:\\users\\rrapadamnaba\\miniconda3\\lib\\site-packages (from ipython->jyquickhelper) (61.2.0)\n",
      "Requirement already satisfied: pygments>=2.4.0 in c:\\users\\rrapadamnaba\\miniconda3\\lib\\site-packages (from ipython->jyquickhelper) (2.11.2)\n",
      "Requirement already satisfied: jedi>=0.16 in c:\\users\\rrapadamnaba\\miniconda3\\lib\\site-packages (from ipython->jyquickhelper) (0.18.1)\n",
      "Requirement already satisfied: qtconsole in c:\\users\\rrapadamnaba\\miniconda3\\lib\\site-packages (from jupyter->jyquickhelper) (5.3.1)\n",
      "Requirement already satisfied: nbconvert in c:\\users\\rrapadamnaba\\miniconda3\\lib\\site-packages (from jupyter->jyquickhelper) (6.4.4)\n",
      "Requirement already satisfied: ipywidgets in c:\\users\\rrapadamnaba\\miniconda3\\lib\\site-packages (from jupyter->jyquickhelper) (7.6.5)\n",
      "Requirement already satisfied: ipykernel in c:\\users\\rrapadamnaba\\miniconda3\\lib\\site-packages (from jupyter->jyquickhelper) (6.9.1)\n",
      "Requirement already satisfied: jupyter-console in c:\\users\\rrapadamnaba\\miniconda3\\lib\\site-packages (from jupyter->jyquickhelper) (6.4.3)\n",
      "Requirement already satisfied: tornado>=6.1 in c:\\users\\rrapadamnaba\\miniconda3\\lib\\site-packages (from notebook->jyquickhelper) (6.1)\n",
      "Requirement already satisfied: terminado>=0.8.3 in c:\\users\\rrapadamnaba\\miniconda3\\lib\\site-packages (from notebook->jyquickhelper) (0.13.1)\n",
      "Requirement already satisfied: argon2-cffi in c:\\users\\rrapadamnaba\\miniconda3\\lib\\site-packages (from notebook->jyquickhelper) (21.3.0)\n",
      "Requirement already satisfied: ipython-genutils in c:\\users\\rrapadamnaba\\miniconda3\\lib\\site-packages (from notebook->jyquickhelper) (0.2.0)\n",
      "Requirement already satisfied: nest-asyncio>=1.5 in c:\\users\\rrapadamnaba\\miniconda3\\lib\\site-packages (from notebook->jyquickhelper) (1.5.5)\n",
      "Requirement already satisfied: Send2Trash>=1.8.0 in c:\\users\\rrapadamnaba\\miniconda3\\lib\\site-packages (from notebook->jyquickhelper) (1.8.0)\n",
      "Requirement already satisfied: jinja2 in c:\\users\\rrapadamnaba\\miniconda3\\lib\\site-packages (from notebook->jyquickhelper) (3.0.3)\n",
      "Requirement already satisfied: prometheus-client in c:\\users\\rrapadamnaba\\miniconda3\\lib\\site-packages (from notebook->jyquickhelper) (0.13.1)\n",
      "Requirement already satisfied: pyzmq>=17 in c:\\users\\rrapadamnaba\\miniconda3\\lib\\site-packages (from notebook->jyquickhelper) (22.3.0)\n",
      "Requirement already satisfied: jupyter-core>=4.6.1 in c:\\users\\rrapadamnaba\\miniconda3\\lib\\site-packages (from notebook->jyquickhelper) (4.10.0)\n",
      "Requirement already satisfied: nbformat in c:\\users\\rrapadamnaba\\miniconda3\\lib\\site-packages (from notebook->jyquickhelper) (5.3.0)\n",
      "Requirement already satisfied: jupyter-client>=5.3.4 in c:\\users\\rrapadamnaba\\miniconda3\\lib\\site-packages (from notebook->jyquickhelper) (7.2.2)\n",
      "Requirement already satisfied: parso<0.9.0,>=0.8.0 in c:\\users\\rrapadamnaba\\miniconda3\\lib\\site-packages (from jedi>=0.16->ipython->jyquickhelper) (0.8.3)\n",
      "Requirement already satisfied: entrypoints in c:\\users\\rrapadamnaba\\miniconda3\\lib\\site-packages (from jupyter-client>=5.3.4->notebook->jyquickhelper) (0.4)\n",
      "Requirement already satisfied: python-dateutil>=2.8.2 in c:\\users\\rrapadamnaba\\miniconda3\\lib\\site-packages (from jupyter-client>=5.3.4->notebook->jyquickhelper) (2.8.2)\n",
      "Requirement already satisfied: pywin32>=1.0 in c:\\users\\rrapadamnaba\\miniconda3\\lib\\site-packages (from jupyter-core>=4.6.1->notebook->jyquickhelper) (302)\n",
      "Requirement already satisfied: mistune<2,>=0.8.1 in c:\\users\\rrapadamnaba\\miniconda3\\lib\\site-packages (from nbconvert->jupyter->jyquickhelper) (0.8.4)\n",
      "Requirement already satisfied: pandocfilters>=1.4.1 in c:\\users\\rrapadamnaba\\miniconda3\\lib\\site-packages (from nbconvert->jupyter->jyquickhelper) (1.5.0)\n",
      "Requirement already satisfied: bleach in c:\\users\\rrapadamnaba\\miniconda3\\lib\\site-packages (from nbconvert->jupyter->jyquickhelper) (4.1.0)\n",
      "Requirement already satisfied: nbclient<0.6.0,>=0.5.0 in c:\\users\\rrapadamnaba\\miniconda3\\lib\\site-packages (from nbconvert->jupyter->jyquickhelper) (0.5.13)\n",
      "Requirement already satisfied: beautifulsoup4 in c:\\users\\rrapadamnaba\\miniconda3\\lib\\site-packages (from nbconvert->jupyter->jyquickhelper) (4.11.1)\n",
      "Requirement already satisfied: jupyterlab-pygments in c:\\users\\rrapadamnaba\\miniconda3\\lib\\site-packages (from nbconvert->jupyter->jyquickhelper) (0.1.2)\n",
      "Requirement already satisfied: defusedxml in c:\\users\\rrapadamnaba\\miniconda3\\lib\\site-packages (from nbconvert->jupyter->jyquickhelper) (0.7.1)\n",
      "Requirement already satisfied: testpath in c:\\users\\rrapadamnaba\\miniconda3\\lib\\site-packages (from nbconvert->jupyter->jyquickhelper) (0.6.0)\n",
      "Requirement already satisfied: MarkupSafe>=2.0 in c:\\users\\rrapadamnaba\\miniconda3\\lib\\site-packages (from jinja2->notebook->jyquickhelper) (2.1.1)\n",
      "Requirement already satisfied: jsonschema>=2.6 in c:\\users\\rrapadamnaba\\miniconda3\\lib\\site-packages (from nbformat->notebook->jyquickhelper) (4.4.0)\n",
      "Requirement already satisfied: fastjsonschema in c:\\users\\rrapadamnaba\\miniconda3\\lib\\site-packages (from nbformat->notebook->jyquickhelper) (2.15.1)\n",
      "Requirement already satisfied: wcwidth in c:\\users\\rrapadamnaba\\miniconda3\\lib\\site-packages (from prompt-toolkit!=3.0.0,!=3.0.1,<3.1.0,>=2.0.0->ipython->jyquickhelper) (0.2.5)\n",
      "Requirement already satisfied: pywinpty>=1.1.0 in c:\\users\\rrapadamnaba\\miniconda3\\lib\\site-packages (from terminado>=0.8.3->notebook->jyquickhelper) (2.0.2)\n",
      "Requirement already satisfied: argon2-cffi-bindings in c:\\users\\rrapadamnaba\\miniconda3\\lib\\site-packages (from argon2-cffi->notebook->jyquickhelper) (21.2.0)\n",
      "Requirement already satisfied: debugpy<2.0,>=1.0.0 in c:\\users\\rrapadamnaba\\miniconda3\\lib\\site-packages (from ipykernel->jupyter->jyquickhelper) (1.5.1)\n",
      "Requirement already satisfied: jupyterlab-widgets>=1.0.0 in c:\\users\\rrapadamnaba\\miniconda3\\lib\\site-packages (from ipywidgets->jupyter->jyquickhelper) (1.0.0)\n",
      "Requirement already satisfied: widgetsnbextension~=3.5.0 in c:\\users\\rrapadamnaba\\miniconda3\\lib\\site-packages (from ipywidgets->jupyter->jyquickhelper) (3.5.2)\n",
      "Requirement already satisfied: qtpy>=2.0.1 in c:\\users\\rrapadamnaba\\miniconda3\\lib\\site-packages (from qtconsole->jupyter->jyquickhelper) (2.0.1)\n",
      "Requirement already satisfied: asttokens in c:\\users\\rrapadamnaba\\miniconda3\\lib\\site-packages (from stack-data->ipython->jyquickhelper) (2.0.5)\n",
      "Requirement already satisfied: executing in c:\\users\\rrapadamnaba\\miniconda3\\lib\\site-packages (from stack-data->ipython->jyquickhelper) (0.8.3)\n",
      "Requirement already satisfied: pure-eval in c:\\users\\rrapadamnaba\\miniconda3\\lib\\site-packages (from stack-data->ipython->jyquickhelper) (0.2.2)\n",
      "Requirement already satisfied: pyrsistent!=0.17.0,!=0.17.1,!=0.17.2,>=0.14.0 in c:\\users\\rrapadamnaba\\miniconda3\\lib\\site-packages (from jsonschema>=2.6->nbformat->notebook->jyquickhelper) (0.18.0)\n",
      "Requirement already satisfied: attrs>=17.4.0 in c:\\users\\rrapadamnaba\\miniconda3\\lib\\site-packages (from jsonschema>=2.6->nbformat->notebook->jyquickhelper) (21.4.0)\n",
      "Requirement already satisfied: six>=1.5 in c:\\users\\rrapadamnaba\\miniconda3\\lib\\site-packages (from python-dateutil>=2.8.2->jupyter-client>=5.3.4->notebook->jyquickhelper) (1.16.0)\n",
      "Requirement already satisfied: packaging in c:\\users\\rrapadamnaba\\miniconda3\\lib\\site-packages (from qtpy>=2.0.1->qtconsole->jupyter->jyquickhelper) (21.3)\n",
      "Requirement already satisfied: cffi>=1.0.1 in c:\\users\\rrapadamnaba\\miniconda3\\lib\\site-packages (from argon2-cffi-bindings->argon2-cffi->notebook->jyquickhelper) (1.15.0)\n",
      "Requirement already satisfied: soupsieve>1.2 in c:\\users\\rrapadamnaba\\miniconda3\\lib\\site-packages (from beautifulsoup4->nbconvert->jupyter->jyquickhelper) (2.3.1)\n",
      "Requirement already satisfied: webencodings in c:\\users\\rrapadamnaba\\miniconda3\\lib\\site-packages (from bleach->nbconvert->jupyter->jyquickhelper) (0.5.1)\n",
      "Requirement already satisfied: pycparser in c:\\users\\rrapadamnaba\\miniconda3\\lib\\site-packages (from cffi>=1.0.1->argon2-cffi-bindings->argon2-cffi->notebook->jyquickhelper) (2.21)\n",
      "Requirement already satisfied: pyparsing!=3.0.5,>=2.0.2 in c:\\users\\rrapadamnaba\\miniconda3\\lib\\site-packages (from packaging->qtpy>=2.0.1->qtconsole->jupyter->jyquickhelper) (3.0.4)\n"
     ]
    }
   ],
   "source": [
    "!pip install jyquickhelper"
   ]
  },
  {
   "cell_type": "code",
   "execution_count": 49,
   "id": "3bc9eb6b",
   "metadata": {},
   "outputs": [
    {
     "data": {
      "text/html": [
       "<div id=\"my_id_menu_nb\">run previous cell, wait for 2 seconds</div>\n",
       "<script>\n",
       "function repeat_indent_string(n){\n",
       "    var a = \"\" ;\n",
       "    for ( ; n > 0 ; --n)\n",
       "        a += \"    \";\n",
       "    return a;\n",
       "}\n",
       "// look up into all sections and builds an automated menu //\n",
       "var update_menu_string = function(begin, lfirst, llast, sformat, send, keep_item, begin_format, end_format) {\n",
       "    var anchors = document.getElementsByClassName(\"section\");\n",
       "    if (anchors.length == 0) {\n",
       "        anchors = document.getElementsByClassName(\"text_cell_render rendered_html\");\n",
       "    }\n",
       "    var i,t;\n",
       "    var text_menu = begin;\n",
       "    var text_memo = \"<pre>\\nlength:\" + anchors.length + \"\\n\";\n",
       "    var ind = \"\";\n",
       "    var memo_level = 1;\n",
       "    var href;\n",
       "    var tags = [];\n",
       "    var main_item = 0;\n",
       "    var format_open = 0;\n",
       "    for (i = 0; i <= llast; i++)\n",
       "        tags.push(\"h\" + i);\n",
       "\n",
       "    for (i = 0; i < anchors.length; i++) {\n",
       "        text_memo += \"**\" + anchors[i].id + \"--\\n\";\n",
       "\n",
       "        var child = null;\n",
       "        for(t = 0; t < tags.length; t++) {\n",
       "            var r = anchors[i].getElementsByTagName(tags[t]);\n",
       "            if (r.length > 0) {\n",
       "child = r[0];\n",
       "break;\n",
       "            }\n",
       "        }\n",
       "        if (child == null) {\n",
       "            text_memo += \"null\\n\";\n",
       "            continue;\n",
       "        }\n",
       "        if (anchors[i].hasAttribute(\"id\")) {\n",
       "            // when converted in RST\n",
       "            href = anchors[i].id;\n",
       "            text_memo += \"#1-\" + href;\n",
       "            // passer à child suivant (le chercher)\n",
       "        }\n",
       "        else if (child.hasAttribute(\"id\")) {\n",
       "            // in a notebook\n",
       "            href = child.id;\n",
       "            text_memo += \"#2-\" + href;\n",
       "        }\n",
       "        else {\n",
       "            text_memo += \"#3-\" + \"*\" + \"\\n\";\n",
       "            continue;\n",
       "        }\n",
       "        var title = child.textContent;\n",
       "        var level = parseInt(child.tagName.substring(1,2));\n",
       "\n",
       "        text_memo += \"--\" + level + \"?\" + lfirst + \"--\" + title + \"\\n\";\n",
       "\n",
       "        if ((level < lfirst) || (level > llast)) {\n",
       "            continue ;\n",
       "        }\n",
       "        if (title.endsWith('¶')) {\n",
       "            title = title.substring(0,title.length-1).replace(\"<\", \"&lt;\")\n",
       "         .replace(\">\", \"&gt;\").replace(\"&\", \"&amp;\");\n",
       "        }\n",
       "        if (title.length == 0) {\n",
       "            continue;\n",
       "        }\n",
       "\n",
       "        while (level < memo_level) {\n",
       "            text_menu += end_format + \"</ul>\\n\";\n",
       "            format_open -= 1;\n",
       "            memo_level -= 1;\n",
       "        }\n",
       "        if (level == lfirst) {\n",
       "            main_item += 1;\n",
       "        }\n",
       "        if (keep_item != -1 && main_item != keep_item + 1) {\n",
       "            // alert(main_item + \" - \" + level + \" - \" + keep_item);\n",
       "            continue;\n",
       "        }\n",
       "        while (level > memo_level) {\n",
       "            text_menu += \"<ul>\\n\";\n",
       "            memo_level += 1;\n",
       "        }\n",
       "        text_menu += repeat_indent_string(level-2);\n",
       "        text_menu += begin_format + sformat.replace(\"__HREF__\", href).replace(\"__TITLE__\", title);\n",
       "        format_open += 1;\n",
       "    }\n",
       "    while (1 < memo_level) {\n",
       "        text_menu += end_format + \"</ul>\\n\";\n",
       "        memo_level -= 1;\n",
       "        format_open -= 1;\n",
       "    }\n",
       "    text_menu += send;\n",
       "    //text_menu += \"\\n\" + text_memo;\n",
       "\n",
       "    while (format_open > 0) {\n",
       "        text_menu += end_format;\n",
       "        format_open -= 1;\n",
       "    }\n",
       "    return text_menu;\n",
       "};\n",
       "var update_menu = function() {\n",
       "    var sbegin = \"\";\n",
       "    var sformat = '<a href=\"#__HREF__\">__TITLE__</a>';\n",
       "    var send = \"\";\n",
       "    var begin_format = '<li>';\n",
       "    var end_format = '</li>';\n",
       "    var keep_item = -1;\n",
       "    var text_menu = update_menu_string(sbegin, 2, 4, sformat, send, keep_item,\n",
       "       begin_format, end_format);\n",
       "    var menu = document.getElementById(\"my_id_menu_nb\");\n",
       "    menu.innerHTML=text_menu;\n",
       "};\n",
       "window.setTimeout(update_menu,2000);\n",
       "            </script>"
      ],
      "text/plain": [
       "<IPython.core.display.HTML object>"
      ]
     },
     "execution_count": 49,
     "metadata": {},
     "output_type": "execute_result"
    }
   ],
   "source": [
    "from jyquickhelper import add_notebook_menu\n",
    "add_notebook_menu()"
   ]
  },
  {
   "cell_type": "markdown",
   "id": "ff8f6ea0",
   "metadata": {},
   "source": [
    "In this lab, we are going to learn how to create, manipulate and use arrays. \n",
    "\n",
    "You can find the documentation here: https://numpy.org/doc/stable/reference/generated/numpy.array.html"
   ]
  },
  {
   "cell_type": "code",
   "execution_count": 6,
   "id": "instant-transition",
   "metadata": {},
   "outputs": [],
   "source": [
    "import numpy as np"
   ]
  },
  {
   "cell_type": "markdown",
   "id": "adverse-price",
   "metadata": {},
   "source": [
    "### Exercise 1 : Indexing  (Accessing/changing specific elements)\n",
    "\n",
    "In this exercise we are going to learn how to access/retrieve, change specific elements from an array. For this exercise, we will use the matrix 1 below"
   ]
  },
  {
   "cell_type": "code",
   "execution_count": 7,
   "id": "unlikely-beads",
   "metadata": {},
   "outputs": [
    {
     "data": {
      "text/plain": [
       "array([[ 1,  2,  3,  4,  5,  6,  7,  8,  9, 10],\n",
       "       [11, 12, 13, 14, 15, 16, 17, 18, 19, 20],\n",
       "       [21, 22, 23, 24, 25, 26, 27, 28, 29, 30],\n",
       "       [31, 32, 33, 34, 35, 36, 37, 38, 39, 40],\n",
       "       [41, 42, 43, 44, 45, 46, 47, 48, 49, 50]], dtype=int8)"
      ]
     },
     "execution_count": 7,
     "metadata": {},
     "output_type": "execute_result"
    }
   ],
   "source": [
    "matrix_1=np.linspace(1,50,dtype='int8')\n",
    "matrix_1=matrix_1.reshape(5,10) # returns the array with a modified shape\n",
    "matrix_1"
   ]
  },
  {
   "cell_type": "markdown",
   "id": "improving-hundred",
   "metadata": {},
   "source": [
    "- Retrieve the element in the **third row** and **fifth column** of the matrix below."
   ]
  },
  {
   "cell_type": "code",
   "execution_count": 8,
   "id": "relative-campbell",
   "metadata": {},
   "outputs": [
    {
     "data": {
      "text/plain": [
       "25"
      ]
     },
     "execution_count": 8,
     "metadata": {},
     "output_type": "execute_result"
    }
   ],
   "source": [
    "#TO DO\n",
    "element_row3_column5 = ...\n",
    "element_row3_column5"
   ]
  },
  {
   "cell_type": "markdown",
   "id": "fatty-learning",
   "metadata": {},
   "source": [
    "- Retrieve the **last element** of the **last row**."
   ]
  },
  {
   "cell_type": "code",
   "execution_count": 9,
   "id": "breeding-madness",
   "metadata": {},
   "outputs": [
    {
     "data": {
      "text/plain": [
       "50"
      ]
     },
     "execution_count": 9,
     "metadata": {},
     "output_type": "execute_result"
    }
   ],
   "source": [
    "#TO DO\n",
    "last_element_of_last_row = ...\n",
    "last_element_of_last_row"
   ]
  },
  {
   "cell_type": "markdown",
   "id": "british-roman",
   "metadata": {},
   "source": [
    "- Retrieve the **element**  in the **penultimate row** and the **6th column**."
   ]
  },
  {
   "cell_type": "code",
   "execution_count": 10,
   "id": "international-single",
   "metadata": {},
   "outputs": [
    {
     "data": {
      "text/plain": [
       "36"
      ]
     },
     "execution_count": 10,
     "metadata": {},
     "output_type": "execute_result"
    }
   ],
   "source": [
    "#TO DO\n",
    "element_penultimateRow_column6 = ...\n",
    "element_penultimateRow_column6"
   ]
  },
  {
   "cell_type": "markdown",
   "id": "authorized-vacation",
   "metadata": {},
   "source": [
    "### Exercise 2 : Slicing 1\n",
    "\n",
    "In this exercise we are going to learn how to retrieve a part of an array. For this exercise, we will use the matrix 2."
   ]
  },
  {
   "cell_type": "code",
   "execution_count": 11,
   "id": "rough-declaration",
   "metadata": {},
   "outputs": [
    {
     "data": {
      "text/plain": [
       "array([[ 1,  2,  3,  4,  5,  6,  7,  8,  9, 10],\n",
       "       [11, 12, 13, 14, 15, 16, 17, 18, 19, 20],\n",
       "       [21, 22, 23, 24, 25, 26, 27, 28, 29, 30],\n",
       "       [31, 32, 33, 34, 35, 36, 37, 38, 39, 40],\n",
       "       [41, 42, 43, 44, 45, 46, 47, 48, 49, 50],\n",
       "       [51, 52, 53, 54, 55, 56, 57, 58, 59, 60],\n",
       "       [61, 62, 63, 64, 65, 66, 67, 68, 69, 70],\n",
       "       [71, 72, 73, 74, 75, 76, 77, 78, 79, 80]], dtype=int8)"
      ]
     },
     "execution_count": 11,
     "metadata": {},
     "output_type": "execute_result"
    }
   ],
   "source": [
    "matrix_2=np.linspace(1,80,num=80, dtype= 'int8')\n",
    "matrix_2=matrix_2.reshape((8,10)) # returns the array with a modified shape\n",
    "matrix_2"
   ]
  },
  {
   "cell_type": "markdown",
   "id": "eb98a0ac",
   "metadata": {},
   "source": [
    "- Perform a **slicing** by retrieving only the elements of the **3rd row** "
   ]
  },
  {
   "cell_type": "code",
   "execution_count": 12,
   "id": "f289e6cf",
   "metadata": {},
   "outputs": [
    {
     "data": {
      "text/plain": [
       "array([21, 22, 23, 24, 25, 26, 27, 28, 29, 30], dtype=int8)"
      ]
     },
     "execution_count": 12,
     "metadata": {},
     "output_type": "execute_result"
    }
   ],
   "source": [
    "#TO DO\n",
    "element_of_the_thirdRow=...\n",
    "element_of_the_thirdRow"
   ]
  },
  {
   "cell_type": "markdown",
   "id": "1d6d4967",
   "metadata": {},
   "source": [
    "- Perform a **slicing** by retrieving only the elements of the **last colomn**"
   ]
  },
  {
   "cell_type": "code",
   "execution_count": 13,
   "id": "cbe2ea88",
   "metadata": {},
   "outputs": [
    {
     "data": {
      "text/plain": [
       "array([10, 20, 30, 40, 50, 60, 70, 80], dtype=int8)"
      ]
     },
     "execution_count": 13,
     "metadata": {},
     "output_type": "execute_result"
    }
   ],
   "source": [
    "#TO DO\n",
    "#using shape\n",
    "element_of_the_lastColumn1=...\n",
    "element_of_the_lastColumn1"
   ]
  },
  {
   "cell_type": "code",
   "execution_count": 14,
   "id": "94821aca",
   "metadata": {},
   "outputs": [
    {
     "data": {
      "text/plain": [
       "array([10, 20, 30, 40, 50, 60, 70, 80], dtype=int8)"
      ]
     },
     "execution_count": 14,
     "metadata": {},
     "output_type": "execute_result"
    }
   ],
   "source": [
    "#TO DO\n",
    "#Or without using shape\n",
    "element_of_the_lastColumn2=...\n",
    "element_of_the_lastColumn2"
   ]
  },
  {
   "cell_type": "markdown",
   "id": "accomplished-savannah",
   "metadata": {},
   "source": [
    "- Perform a **slicing** by retrieving the elements from the **3rd row** to the **penultimate row excluded**."
   ]
  },
  {
   "cell_type": "code",
   "execution_count": 15,
   "id": "serial-syria",
   "metadata": {},
   "outputs": [
    {
     "data": {
      "text/plain": [
       "array([[21, 22, 23, 24, 25, 26, 27, 28, 29, 30],\n",
       "       [31, 32, 33, 34, 35, 36, 37, 38, 39, 40],\n",
       "       [41, 42, 43, 44, 45, 46, 47, 48, 49, 50],\n",
       "       [51, 52, 53, 54, 55, 56, 57, 58, 59, 60]], dtype=int8)"
      ]
     },
     "execution_count": 15,
     "metadata": {},
     "output_type": "execute_result"
    }
   ],
   "source": [
    "#TO DO\n",
    "element_from_row3_to_penultimateRow_excluded1= ...\n",
    "element_from_row3_to_penultimateRow_excluded1"
   ]
  },
  {
   "cell_type": "code",
   "execution_count": 16,
   "id": "biblical-ensemble",
   "metadata": {},
   "outputs": [
    {
     "data": {
      "text/plain": [
       "array([[21, 22, 23, 24, 25, 26, 27, 28, 29, 30],\n",
       "       [31, 32, 33, 34, 35, 36, 37, 38, 39, 40],\n",
       "       [41, 42, 43, 44, 45, 46, 47, 48, 49, 50],\n",
       "       [51, 52, 53, 54, 55, 56, 57, 58, 59, 60]], dtype=int8)"
      ]
     },
     "execution_count": 16,
     "metadata": {},
     "output_type": "execute_result"
    }
   ],
   "source": [
    "#TO DO\n",
    "# Or \n",
    "element_from_row3_to_penultimateRow_excluded2= ...\n",
    "element_from_row3_to_penultimateRow_excluded2"
   ]
  },
  {
   "cell_type": "markdown",
   "id": "sonic-banana",
   "metadata": {},
   "source": [
    "- Perform a **slicing** by retrieving the elements in the **5th column** from the **5th row to the 6th row included**."
   ]
  },
  {
   "cell_type": "code",
   "execution_count": 17,
   "id": "imported-checkout",
   "metadata": {},
   "outputs": [
    {
     "data": {
      "text/plain": [
       "array([45, 55], dtype=int8)"
      ]
     },
     "execution_count": 17,
     "metadata": {},
     "output_type": "execute_result"
    }
   ],
   "source": [
    "#TO DO\n",
    "elements_column5_rows5_6 = ...\n",
    "elements_column5_rows5_6"
   ]
  },
  {
   "cell_type": "markdown",
   "id": "underlying-secret",
   "metadata": {},
   "source": [
    "- Perform a **slicing** from the **second row to the fourth row excluded** and from the **third column** to the **eighth column excluded** at the same time."
   ]
  },
  {
   "cell_type": "code",
   "execution_count": 18,
   "id": "taken-drive",
   "metadata": {},
   "outputs": [
    {
     "data": {
      "text/plain": [
       "array([[13, 14, 15, 16, 17],\n",
       "       [23, 24, 25, 26, 27],\n",
       "       [33, 34, 35, 36, 37]], dtype=int8)"
      ]
     },
     "execution_count": 18,
     "metadata": {},
     "output_type": "execute_result"
    }
   ],
   "source": [
    "#TO DO\n",
    "elements_Rows2_4included_Columns3_8excluded = ...\n",
    "elements_Rows2_4included_Columns3_8excluded"
   ]
  },
  {
   "cell_type": "markdown",
   "id": "brilliant-kenya",
   "metadata": {},
   "source": [
    "- Perform a **slicing** by retrieving the elements in the **3rd row** from the **3rd to the 7th column included**."
   ]
  },
  {
   "cell_type": "code",
   "execution_count": 19,
   "id": "functional-universe",
   "metadata": {},
   "outputs": [
    {
     "data": {
      "text/plain": [
       "array([23, 24, 25, 26, 27], dtype=int8)"
      ]
     },
     "execution_count": 19,
     "metadata": {},
     "output_type": "execute_result"
    }
   ],
   "source": [
    "#TO DO\n",
    "elements_Row3_columns3_7included = ...\n",
    "elements_Row3_columns3_7included"
   ]
  },
  {
   "cell_type": "markdown",
   "id": "greatest-thumb",
   "metadata": {},
   "source": [
    "### Exercise 3: Slicing 2\n",
    "\n",
    "In this exercise we are going to learn how to retrieve element from an array by using the index. For this exercise, we will use the matrix 3."
   ]
  },
  {
   "cell_type": "code",
   "execution_count": 20,
   "id": "conventional-andrews",
   "metadata": {},
   "outputs": [
    {
     "data": {
      "text/plain": [
       "array([[  1,   2,   3,   4,   5,   6,   7,   8,   9,  10],\n",
       "       [ 11,  12,  13,  14,  15,  16,  17,  18,  19,  20],\n",
       "       [ 21,  22,  23,  24,  25,  26,  27,  28,  29,  30],\n",
       "       [ 31,  32,  33,  34,  35,  36,  37,  38,  39,  40],\n",
       "       [ 41,  42,  43,  44,  45,  46,  47,  48,  49,  50],\n",
       "       [ 51,  52,  53,  54,  55,  56,  57,  58,  59,  60],\n",
       "       [ 61,  62,  63,  64,  65,  66,  67,  68,  69,  70],\n",
       "       [ 71,  72,  73,  74,  75,  76,  77,  78,  79,  80],\n",
       "       [ 81,  82,  83,  84,  85,  86,  87,  88,  89,  90],\n",
       "       [ 91,  92,  93,  94,  95,  96,  97,  98,  99, 100]], dtype=int8)"
      ]
     },
     "execution_count": 20,
     "metadata": {},
     "output_type": "execute_result"
    }
   ],
   "source": [
    "matrix_3=np.linspace(1,100, num=100,  dtype='int8')\n",
    "matrix_3=matrix_3.reshape((10,10))\n",
    "matrix_3\n"
   ]
  },
  {
   "cell_type": "markdown",
   "id": "characteristic-plenty",
   "metadata": {},
   "source": [
    "- Retrieve all elements for which **columns and rows indexes** are **even**"
   ]
  },
  {
   "cell_type": "code",
   "execution_count": 21,
   "id": "biological-hybrid",
   "metadata": {},
   "outputs": [
    {
     "data": {
      "text/plain": [
       "array([[ 1,  3,  5,  7,  9],\n",
       "       [21, 23, 25, 27, 29],\n",
       "       [41, 43, 45, 47, 49],\n",
       "       [61, 63, 65, 67, 69],\n",
       "       [81, 83, 85, 87, 89]], dtype=int8)"
      ]
     },
     "execution_count": 21,
     "metadata": {},
     "output_type": "execute_result"
    }
   ],
   "source": [
    "#TO DO\n",
    "elements_with_even_indexes_forRows_Columns = ...\n",
    "elements_with_even_indexes_forRows_Columns"
   ]
  },
  {
   "cell_type": "markdown",
   "id": "nonprofit-prompt",
   "metadata": {},
   "source": [
    "**Note** : The 0 is not mandatory in the brackets (See the next answer)."
   ]
  },
  {
   "cell_type": "markdown",
   "id": "fleet-square",
   "metadata": {},
   "source": [
    "- Retrieve every element of the rows **with a step of 3**."
   ]
  },
  {
   "cell_type": "code",
   "execution_count": 22,
   "id": "incoming-union",
   "metadata": {},
   "outputs": [
    {
     "data": {
      "text/plain": [
       "array([[  1,   4,   7,  10],\n",
       "       [ 11,  14,  17,  20],\n",
       "       [ 21,  24,  27,  30],\n",
       "       [ 31,  34,  37,  40],\n",
       "       [ 41,  44,  47,  50],\n",
       "       [ 51,  54,  57,  60],\n",
       "       [ 61,  64,  67,  70],\n",
       "       [ 71,  74,  77,  80],\n",
       "       [ 81,  84,  87,  90],\n",
       "       [ 91,  94,  97, 100]], dtype=int8)"
      ]
     },
     "execution_count": 22,
     "metadata": {},
     "output_type": "execute_result"
    }
   ],
   "source": [
    "#TO DO\n",
    "AllRows_with_step_of_three= ...\n",
    "AllRows_with_step_of_three"
   ]
  },
  {
   "cell_type": "markdown",
   "id": "affiliated-nicaragua",
   "metadata": {},
   "source": [
    "- Slicing from **the 1st to the 5th row included** and from the **6th column to the last included**. Retrieve the **rows with a step of 2** and the **columns with a step of 1**."
   ]
  },
  {
   "cell_type": "code",
   "execution_count": 23,
   "id": "veterinary-orlando",
   "metadata": {},
   "outputs": [
    {
     "data": {
      "text/plain": [
       "array([[ 6,  7,  8,  9, 10],\n",
       "       [26, 27, 28, 29, 30],\n",
       "       [46, 47, 48, 49, 50]], dtype=int8)"
      ]
     },
     "execution_count": 23,
     "metadata": {},
     "output_type": "execute_result"
    }
   ],
   "source": [
    "#TO DO\n",
    "Elements_Rows1_5_step2_And_Columns6_last_step1= ...\n",
    "Elements_Rows1_5_step2_And_Columns6_last_step1"
   ]
  },
  {
   "cell_type": "markdown",
   "id": "extraordinary-budapest",
   "metadata": {},
   "source": [
    "### Exercise 4: Changing elements of a vector\n",
    "\n",
    "In this exercise we are going to learn how to modify elements from an array (a vector). For this exercise, we will use the vector 4."
   ]
  },
  {
   "cell_type": "code",
   "execution_count": 24,
   "id": "congressional-antigua",
   "metadata": {},
   "outputs": [],
   "source": [
    "vector_4 = np.array([1,2,3,4,5,6,7,8,9,10,11,12,13])"
   ]
  },
  {
   "cell_type": "markdown",
   "id": "interstate-scoop",
   "metadata": {},
   "source": [
    "- Assign the **value 5** to the **index 3** of vector_4. You should get :"
   ]
  },
  {
   "cell_type": "markdown",
   "id": "7cf57c23",
   "metadata": {},
   "source": [
    "[ 1,  2,  3,  5,  5,  6,  7,  8,  9, 10, 11, 12, 13]"
   ]
  },
  {
   "cell_type": "code",
   "execution_count": 25,
   "id": "worthy-genome",
   "metadata": {},
   "outputs": [
    {
     "name": "stdout",
     "output_type": "stream",
     "text": [
      "[ 1  2  3  5  5  6  7  8  9 10 11 12 13]\n"
     ]
    }
   ],
   "source": [
    "#TO DO\n",
    "...\n",
    "print(vector_4)"
   ]
  },
  {
   "cell_type": "markdown",
   "id": "atmospheric-characterization",
   "metadata": {},
   "source": [
    "- Assign the **value 9** to the **last index** of vector_4."
   ]
  },
  {
   "cell_type": "code",
   "execution_count": 26,
   "id": "sporting-combination",
   "metadata": {},
   "outputs": [
    {
     "name": "stdout",
     "output_type": "stream",
     "text": [
      "[ 1  2  3  5  5  6  7  8  9 10 11 12  9]\n"
     ]
    }
   ],
   "source": [
    "#TO DO\n",
    "...\n",
    "print(vector_4)"
   ]
  },
  {
   "cell_type": "markdown",
   "id": "spanish-equipment",
   "metadata": {},
   "source": [
    "### Exercise 5: Changing elements of a matrix\n",
    "\n",
    "In this exercise we are going to learn how to modify elements from an array (a matrix). For this exercise, we will use the matrix_5."
   ]
  },
  {
   "cell_type": "code",
   "execution_count": 27,
   "id": "advisory-roberts",
   "metadata": {},
   "outputs": [],
   "source": [
    "matrix_5 = np.array([[0,0,0,0,0], \n",
    "                    [2,2,2,2,-2], \n",
    "                    [3,3,3,3,-3], \n",
    "                    [4,4,4,4,-4], \n",
    "                    [5,6,6,6,-5]])"
   ]
  },
  {
   "cell_type": "markdown",
   "id": "disturbed-startup",
   "metadata": {},
   "source": [
    "- Assign the **value 1** to the whole first row"
   ]
  },
  {
   "cell_type": "code",
   "execution_count": 28,
   "id": "recent-constant",
   "metadata": {},
   "outputs": [
    {
     "data": {
      "text/plain": [
       "array([[ 1,  1,  1,  1,  1],\n",
       "       [ 2,  2,  2,  2, -2],\n",
       "       [ 3,  3,  3,  3, -3],\n",
       "       [ 4,  4,  4,  4, -4],\n",
       "       [ 5,  6,  6,  6, -5]])"
      ]
     },
     "execution_count": 28,
     "metadata": {},
     "output_type": "execute_result"
    }
   ],
   "source": [
    "#TO DO\n",
    "...\n",
    "matrix_5"
   ]
  },
  {
   "cell_type": "markdown",
   "id": "numeric-eclipse",
   "metadata": {},
   "source": [
    "- Assign to the **last column consecutive increasing values ​​starting with the value 1**."
   ]
  },
  {
   "cell_type": "code",
   "execution_count": 29,
   "id": "duplicate-scheme",
   "metadata": {},
   "outputs": [
    {
     "data": {
      "text/plain": [
       "array([[1, 1, 1, 1, 1],\n",
       "       [2, 2, 2, 2, 2],\n",
       "       [3, 3, 3, 3, 3],\n",
       "       [4, 4, 4, 4, 4],\n",
       "       [5, 6, 6, 6, 5]])"
      ]
     },
     "execution_count": 29,
     "metadata": {},
     "output_type": "execute_result"
    }
   ],
   "source": [
    "#TO DO\n",
    "...\n",
    "matrix_5"
   ]
  },
  {
   "cell_type": "markdown",
   "id": "circular-missouri",
   "metadata": {},
   "source": [
    "- Assign the **value 5** to the elements in the **last row** and to the **columns going from index 1 to index 3 inclusive**."
   ]
  },
  {
   "cell_type": "code",
   "execution_count": 30,
   "id": "heard-vertex",
   "metadata": {},
   "outputs": [
    {
     "data": {
      "text/plain": [
       "array([[1, 1, 1, 1, 1],\n",
       "       [2, 2, 2, 2, 2],\n",
       "       [3, 3, 3, 3, 3],\n",
       "       [4, 4, 4, 4, 4],\n",
       "       [5, 5, 5, 5, 5]])"
      ]
     },
     "execution_count": 30,
     "metadata": {},
     "output_type": "execute_result"
    }
   ],
   "source": [
    "#TO DO\n",
    "...\n",
    "matrix_5"
   ]
  },
  {
   "cell_type": "markdown",
   "id": "9c375d3a",
   "metadata": {},
   "source": [
    "### Exercise 6: Shape Manipulation and matrices concatenation\n",
    "\n",
    "In this exercise we are going to learn how to change the shape of an array and how to stack together different arrays. For this exercise, we will use the following matrices: matrix_6, matrix_7, and matrix_8."
   ]
  },
  {
   "cell_type": "code",
   "execution_count": 31,
   "id": "8dd9aa58",
   "metadata": {},
   "outputs": [
    {
     "name": "stdout",
     "output_type": "stream",
     "text": [
      "Matrix 6 is :\n",
      " [[ 1  2  3  4]\n",
      " [ 5  6  7  8]\n",
      " [ 9 10 11 12]]\n",
      "Matrix 7 is :\n",
      " [[ 1  3  5]\n",
      " [ 7  9 11]\n",
      " [13 15 18]]\n",
      "Matrix 8 is :\n",
      " [[ 2  4  6]\n",
      " [ 8 10 12]]\n"
     ]
    }
   ],
   "source": [
    "matrix_6=np.linspace(1,12,num=12, dtype= 'int8')\n",
    "matrix_6=matrix_6.reshape((3,4)) # returns the array with a modified shape\n",
    "print(\"Matrix 6 is :\\n\",matrix_6)\n",
    "\n",
    "matrix_7=np.linspace(1,18,num=9, dtype= 'int8')\n",
    "matrix_7=matrix_7.reshape((3,3)) # returns the array with a modified shape\n",
    "print(\"Matrix 7 is :\\n\",matrix_7)\n",
    "\n",
    "matrix_8=np.linspace(2,12,num=6, dtype= 'int8')\n",
    "matrix_8=matrix_8.reshape((2,3)) # returns the array with a modified shape\n",
    "print(\"Matrix 8 is :\\n\",matrix_8)"
   ]
  },
  {
   "cell_type": "markdown",
   "id": "bbd90d93",
   "metadata": {},
   "source": [
    "  - Use the `ravel()` method to change matrix_6 in a flattened array (1D array)"
   ]
  },
  {
   "cell_type": "code",
   "execution_count": 32,
   "id": "926924bf",
   "metadata": {},
   "outputs": [
    {
     "data": {
      "text/plain": [
       "array([ 1,  2,  3,  4,  5,  6,  7,  8,  9, 10, 11, 12], dtype=int8)"
      ]
     },
     "execution_count": 32,
     "metadata": {},
     "output_type": "execute_result"
    }
   ],
   "source": [
    "#TO DO\n",
    "Flattened_matrix6_1=...\n",
    "Flattened_matrix6_1"
   ]
  },
  {
   "cell_type": "markdown",
   "id": "d2347b2c",
   "metadata": {},
   "source": [
    "  - Use the `flatten()` method to change matrix_6 in a flattened array (1D array)"
   ]
  },
  {
   "cell_type": "code",
   "execution_count": 33,
   "id": "77ff8071",
   "metadata": {},
   "outputs": [
    {
     "data": {
      "text/plain": [
       "array([ 1,  2,  3,  4,  5,  6,  7,  8,  9, 10, 11, 12], dtype=int8)"
      ]
     },
     "execution_count": 33,
     "metadata": {},
     "output_type": "execute_result"
    }
   ],
   "source": [
    "#TO DO\n",
    "Flattened_matrix6_2=...\n",
    "Flattened_matrix6_2"
   ]
  },
  {
   "cell_type": "markdown",
   "id": "640bf1c9",
   "metadata": {},
   "source": [
    "  - Use the `reshape()` method to change Flattened_matrix6_2 in an array with shape (6,2)"
   ]
  },
  {
   "cell_type": "code",
   "execution_count": 34,
   "id": "095d7f8e",
   "metadata": {},
   "outputs": [
    {
     "name": "stdout",
     "output_type": "stream",
     "text": [
      " the reshape matrix is :\n",
      " [[ 1  2]\n",
      " [ 3  4]\n",
      " [ 5  6]\n",
      " [ 7  8]\n",
      " [ 9 10]\n",
      " [11 12]] \n",
      " and its shape is  (6, 2)\n"
     ]
    }
   ],
   "source": [
    "#TO DO\n",
    "Reshaped_Flattened_matrix6_2=...\n",
    "print(\" the reshape matrix is :\\n\",Reshaped_Flattened_matrix6_2,\"\\n and its shape is \",Reshaped_Flattened_matrix6_2.shape) \n"
   ]
  },
  {
   "cell_type": "markdown",
   "id": "c6bb340c",
   "metadata": {},
   "source": [
    "- Use the swapaxes() method to interchange the two axes of the Reshaped_Flattened_matrix6_2."
   ]
  },
  {
   "cell_type": "code",
   "execution_count": 35,
   "id": "0ce1516c",
   "metadata": {},
   "outputs": [
    {
     "data": {
      "text/plain": [
       "array([[ 1,  3,  5,  7,  9, 11],\n",
       "       [ 2,  4,  6,  8, 10, 12]], dtype=int8)"
      ]
     },
     "execution_count": 35,
     "metadata": {},
     "output_type": "execute_result"
    }
   ],
   "source": [
    "#TO DO\n",
    "Swapaxed_array1=...\n",
    "Swapaxed_array1"
   ]
  },
  {
   "cell_type": "code",
   "execution_count": 36,
   "id": "6673a8f6",
   "metadata": {},
   "outputs": [
    {
     "data": {
      "text/plain": [
       "array([[ 1,  3,  5,  7,  9, 11],\n",
       "       [ 2,  4,  6,  8, 10, 12]], dtype=int8)"
      ]
     },
     "execution_count": 36,
     "metadata": {},
     "output_type": "execute_result"
    }
   ],
   "source": [
    "#TO DO\n",
    "#Or\n",
    "Swapaxed_array2=...\n",
    "Swapaxed_array2"
   ]
  },
  {
   "cell_type": "markdown",
   "id": "c37a82cb",
   "metadata": {},
   "source": [
    "- Use the `vstack()`, `hstack()` and `concatenate()` methods to stack matrix_6, matrix_7, and matrix_8 together along different axes if it possible.\n"
   ]
  },
  {
   "cell_type": "markdown",
   "id": "ed922da1",
   "metadata": {},
   "source": [
    "### Exercise 7: Other interesting functions to be explored"
   ]
  },
  {
   "cell_type": "markdown",
   "id": "c0fa0732",
   "metadata": {},
   "source": [
    "These interesting methods could be aslo explored: <br><br>\n",
    "    - `dstack` : Stack arrays in sequence depth wise (along third dimension).<br><br>\n",
    "    - `array_split`: Split an array into multiple sub-arrays of equal or near-equal size.<br><br>\n",
    "    - `split` :  Split array into a list of multiple sub-arrays of equal size.<br><br>\n",
    "    - `hsplit` : Split array into multiple sub-arrays horizontally (column wise).<br><br>\n",
    "    - `vsplit` : Split array into multiple sub-arrays vertically (row wise).<br><br>\n",
    "    - `dsplit` : Split array into multiple sub-arrays along the 3rd axis (depth).<br><br>\n"
   ]
  },
  {
   "cell_type": "markdown",
   "id": "cbe617d9",
   "metadata": {},
   "source": [
    "### Conclusion \n",
    "    In this second notebook, you have learnt to use indexing/slicing and many built-in functions to manipulate Numpy arrays."
   ]
  }
 ],
 "metadata": {
  "kernelspec": {
   "display_name": "Python 3 (ipykernel)",
   "language": "python",
   "name": "python3"
  },
  "language_info": {
   "codemirror_mode": {
    "name": "ipython",
    "version": 3
   },
   "file_extension": ".py",
   "mimetype": "text/x-python",
   "name": "python",
   "nbconvert_exporter": "python",
   "pygments_lexer": "ipython3",
   "version": "3.9.12"
  },
  "vscode": {
   "interpreter": {
    "hash": "776d7ad68df33c02523f42d6793972ed70fc01a65c9322907aee65b959c2fd69"
   }
  }
 },
 "nbformat": 4,
 "nbformat_minor": 5
}

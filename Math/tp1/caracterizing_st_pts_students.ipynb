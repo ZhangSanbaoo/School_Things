{
 "cells": [
  {
   "cell_type": "code",
   "execution_count": 2,
   "metadata": {},
   "outputs": [
    {
     "name": "stderr",
     "output_type": "stream",
     "text": [
      "/tmp/ipykernel_1599/455203922.py:7: MatplotlibDeprecationWarning: The seaborn styles shipped by Matplotlib are deprecated since 3.6, as they no longer correspond to the styles shipped by seaborn. However, they will remain available as 'seaborn-v0_8-<style>'. Alternatively, directly use the seaborn API instead.\n",
      "  plt.style.use('seaborn-colorblind')\n",
      "/tmp/ipykernel_1599/455203922.py:8: MatplotlibDeprecationWarning: The seaborn styles shipped by Matplotlib are deprecated since 3.6, as they no longer correspond to the styles shipped by seaborn. However, they will remain available as 'seaborn-v0_8-<style>'. Alternatively, directly use the seaborn API instead.\n",
      "  plt.style.use('seaborn-talk')\n"
     ]
    }
   ],
   "source": [
    "import numpy as np\n",
    "import sympy as sp\n",
    "from sympy.solvers import solve\n",
    "import matplotlib.pyplot as plt\n",
    "%matplotlib inline\n",
    "\n",
    "plt.style.use('seaborn-colorblind')\n",
    "plt.style.use('seaborn-talk')\n"
   ]
  },
  {
   "attachments": {},
   "cell_type": "markdown",
   "metadata": {},
   "source": [
    "# Characterizing stationary points\n",
    "This notebook uses a symbolical calculation tool (`sympy`) to take the gradient of a function $f$ and find it's stationary points. Later, it computes the Hessian of $f$ to characterize these stationary points. You are to complete the code in order to characterize the found stationary points correctly.\n",
    "\n"
   ]
  },
  {
   "attachments": {},
   "cell_type": "markdown",
   "metadata": {},
   "source": [
    "## Declaring the function $f$\n",
    "We will examine the following 3rd dregree function in R²:"
   ]
  },
  {
   "cell_type": "code",
   "execution_count": 3,
   "metadata": {},
   "outputs": [
    {
     "data": {
      "text/latex": [
       "$\\displaystyle x^{3} - 2 x^{2} y + 4 x y^{2} - 4 x - 8 y^{3} + 8 y$"
      ],
      "text/plain": [
       "x**3 - 2*x**2*y + 4*x*y**2 - 4*x - 8*y**3 + 8*y"
      ]
     },
     "execution_count": 3,
     "metadata": {},
     "output_type": "execute_result"
    }
   ],
   "source": [
    "x, y = sp.symbols('x y')\n",
    "f = x**3 - 8*y**3 - 2*(x**2)*y + 4*x*(y**2) -4*x +8*y\n",
    "f"
   ]
  },
  {
   "attachments": {},
   "cell_type": "markdown",
   "metadata": {},
   "source": [
    "Tip: you may try the same notebook with other functions later. All you need to do is write your function `f` using `x`  and `y`  as variables, and expressing any arithmetic operations in regular python language."
   ]
  },
  {
   "attachments": {},
   "cell_type": "markdown",
   "metadata": {},
   "source": [
    "## $\\vec\\nabla f$: Gradient of f \n",
    "We'll use `sympy`'s function `diff`:"
   ]
  },
  {
   "cell_type": "code",
   "execution_count": 4,
   "metadata": {},
   "outputs": [
    {
     "data": {
      "text/latex": [
       "$\\displaystyle \\left[\\begin{matrix}3 x^{2} - 4 x y + 4 y^{2} - 4\\\\- 2 x^{2} + 8 x y - 24 y^{2} + 8\\end{matrix}\\right]$"
      ],
      "text/plain": [
       "Matrix([\n",
       "[  3*x**2 - 4*x*y + 4*y**2 - 4],\n",
       "[-2*x**2 + 8*x*y - 24*y**2 + 8]])"
      ]
     },
     "execution_count": 4,
     "metadata": {},
     "output_type": "execute_result"
    }
   ],
   "source": [
    "grad = sp.Matrix([sp.diff(f, var) for var in [x,y]])\n",
    "grad"
   ]
  },
  {
   "attachments": {},
   "cell_type": "markdown",
   "metadata": {},
   "source": [
    "## Stationary points\n",
    "\n",
    "To find them, we need to solve for $\\vec\\nabla f = \\vec0$. To do so, we use `sympy`'s function `nonlinsolve`:"
   ]
  },
  {
   "cell_type": "code",
   "execution_count": 5,
   "metadata": {},
   "outputs": [
    {
     "data": {
      "text/latex": [
       "$\\displaystyle \\left\\{\\left( - \\sqrt{2}, \\  - \\frac{\\sqrt{2}}{2}\\right), \\left( \\sqrt{2}, \\  \\frac{\\sqrt{2}}{2}\\right), \\left( - \\frac{\\sqrt{6}}{3}, \\  \\frac{\\sqrt{6}}{6}\\right), \\left( \\frac{\\sqrt{6}}{3}, \\  - \\frac{\\sqrt{6}}{6}\\right)\\right\\}$"
      ],
      "text/plain": [
       "{(-sqrt(2), -sqrt(2)/2), (sqrt(2), sqrt(2)/2), (-sqrt(6)/3, sqrt(6)/6), (sqrt(6)/3, -sqrt(6)/6)}"
      ]
     },
     "execution_count": 5,
     "metadata": {},
     "output_type": "execute_result"
    }
   ],
   "source": [
    "st_points = sp.nonlinsolve(grad, (x,y))\n",
    "st_points"
   ]
  },
  {
   "attachments": {},
   "cell_type": "markdown",
   "metadata": {},
   "source": [
    "## Characterizing stationary points"
   ]
  },
  {
   "attachments": {},
   "cell_type": "markdown",
   "metadata": {},
   "source": [
    "### $\\vec\\nabla^2 f = H_f$: Hessian of f\n",
    "We use `diff` again to take the second derivatives. Remember we need to take second derivatives with respecto to `x` and `y`, for each element in the gradient vector."
   ]
  },
  {
   "cell_type": "code",
   "execution_count": 6,
   "metadata": {},
   "outputs": [
    {
     "data": {
      "text/latex": [
       "$\\displaystyle \\left[\\begin{matrix}6 x - 4 y & - 4 x + 8 y\\\\- 4 x + 8 y & 8 x - 48 y\\end{matrix}\\right]$"
      ],
      "text/plain": [
       "Matrix([\n",
       "[ 6*x - 4*y, -4*x + 8*y],\n",
       "[-4*x + 8*y, 8*x - 48*y]])"
      ]
     },
     "execution_count": 6,
     "metadata": {},
     "output_type": "execute_result"
    }
   ],
   "source": [
    "hess = sp.Matrix([[sp.diff(f, var) for var in [x,y]] for f in grad])\n",
    "hess"
   ]
  },
  {
   "attachments": {},
   "cell_type": "markdown",
   "metadata": {},
   "source": [
    "### TODO Check for PD/SPD with determinant test\n",
    "Use the determinant test to check the Hessia at each stationary point.\n",
    "You can acecess the hessian elements like you would in a `numpy` matrix:"
   ]
  },
  {
   "cell_type": "code",
   "execution_count": null,
   "metadata": {},
   "outputs": [],
   "source": [
    "h11 = hess[0,0]\n",
    "h22 = hess[1,1]\n",
    "h12 = hess[0,1]"
   ]
  },
  {
   "attachments": {},
   "cell_type": "markdown",
   "metadata": {},
   "source": [
    "Complete the code bellow to compute the leading determinants `det1` and `det2`:"
   ]
  },
  {
   "cell_type": "code",
   "execution_count": null,
   "metadata": {},
   "outputs": [],
   "source": [
    "# TODO complete the code to compute det1 and det2 from h11, h22 and h12]\n",
    "det1 = ...\n",
    "det2 = ...\n",
    "# visualize result\n",
    "display(det1);display(det2)"
   ]
  },
  {
   "attachments": {},
   "cell_type": "markdown",
   "metadata": {},
   "source": [
    "Now we loop through the stationary points and test the criteria.\n",
    "\n",
    "**TODO** complete the code with a set of `if..else` statments that check the criteria and atribute a `label` among {`min`, `max`, `saddle point`} for each stationary point."
   ]
  },
  {
   "cell_type": "code",
   "execution_count": null,
   "metadata": {},
   "outputs": [],
   "source": [
    "st_pts_labels = []  # list to store labels\n",
    "for x_, y_ in st_points:\n",
    "    print(f\"st point: ({x_},{y_})\")\n",
    "    # compute numerical values for det1 and det2\n",
    "    # replacing x and y with the current pont coordinates\n",
    "    d1 = det1.subs({x:x_, y:y_})\n",
    "    d2 = det2.subs({x:x_, y:y_})\n",
    "    print(\"det1=\", d1 )\n",
    "    print(\"det2=\", d2 )\n",
    "    # Check the criteria to determine if point is max, min or saddle\n",
    "    # TODO your code here\n",
    "    if ... :\n",
    "        label = 'min'\n",
    "    elif ... :\n",
    "        label = 'max'\n",
    "    elif ... :\n",
    "        label = 'saddle point'\n",
    "    # print the decided label and append it to the list\n",
    "    print (f\"--> {label}\")\n",
    "    st_pts_labels.append(label)"
   ]
  },
  {
   "attachments": {},
   "cell_type": "markdown",
   "metadata": {},
   "source": [
    "# Plotting f and stationary points\n",
    "The following cells plot f's level sets (a contour plot), along with the found stationary points and their labels."
   ]
  },
  {
   "cell_type": "code",
   "execution_count": null,
   "metadata": {},
   "outputs": [],
   "source": [
    "# select a x and y range for the contour plat, \n",
    "# as well as a delta for the step between points\n",
    "xlim = -2,2\n",
    "ylim=-2,2\n",
    "# delta=0.25\n",
    "# xspace = np.arange(*xlim,delta)\n",
    "# yspace = np.arange(*ylim,delta)\n",
    "# ow instead of delta, select a number of points\n",
    "npts=100\n",
    "xspace = np.linspace(*xlim,npts)\n",
    "yspace = np.linspace(*ylim,npts)\n",
    "\n",
    "# Create a mesh for contour plot\n",
    "X, Y = np.meshgrid(xspace, yspace)\n",
    "\n",
    "# Calculate contour ndarray from sympy's function\n",
    "def apply_fn(fn, X, Y):\n",
    "    nrows, ncols = X.shape\n",
    "\n",
    "    vs = [fn.n(subs={x: X[i,j], y:Y[i,j]}) \n",
    "           for i in range(nrows) for j in range(ncols)]\n",
    "    result = np.array(vs).reshape(X.shape)\n",
    "\n",
    "    return result\n",
    "\n",
    "F = apply_fn(f, X, Y)\n"
   ]
  },
  {
   "cell_type": "code",
   "execution_count": null,
   "metadata": {},
   "outputs": [],
   "source": [
    "%matplotlib inline\n",
    "fig, ax = plt.subplots(figsize=(12,10))\n",
    "# plotting f contours\n",
    "plt.title(f\"$f(x,y)={sp.latex(f)}$ (levels)\")\n",
    "CS = ax.contourf(X, Y, F,  cmap='coolwarm', alpha=0.5)\n",
    "fig.colorbar(CS)\n",
    "# plotting the stationary points with labels\n",
    "num_s_points = list([(sp.N(x_), sp.N(y_)) for x_, y_ in st_points])\n",
    "for (x_, y_), label in zip(num_s_points, st_pts_labels):\n",
    "    plt.plot(x_, y_, \"*\", c='k')\n",
    "    plt.annotate(label, xy=(x_, y_),\n",
    "                 xytext=(4, 4), textcoords='offset points',\n",
    "                 fontsize=12)\n",
    "\n",
    "ax.spines[['left', 'bottom']].set_position('zero')\n",
    "ax.spines[['top', 'right']].set_visible(False)\n",
    "ax.tick_params(axis='both', which='major', labelsize=9)\n",
    "\n",
    "ax.set_xlim(*xlim)\n",
    "ax.set_ylim(*ylim)\n",
    "ax.margins(tight=True)\n",
    "plt.axis('equal')\n",
    "plt.show()\n"
   ]
  }
 ],
 "metadata": {
  "interpreter": {
   "hash": "1874bf8c44aadbf5a4ef172730e9be5abc0c1853d154b15600dda671ab2a5422"
  },
  "kernelspec": {
   "display_name": "Python 3 (ipykernel)",
   "language": "python",
   "name": "python3"
  },
  "language_info": {
   "codemirror_mode": {
    "name": "ipython",
    "version": 3
   },
   "file_extension": ".py",
   "mimetype": "text/x-python",
   "name": "python",
   "nbconvert_exporter": "python",
   "pygments_lexer": "ipython3",
   "version": "3.9.16"
  }
 },
 "nbformat": 4,
 "nbformat_minor": 4
}

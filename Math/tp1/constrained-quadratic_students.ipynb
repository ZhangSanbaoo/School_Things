{
 "cells": [
  {
   "cell_type": "code",
   "execution_count": 1,
   "metadata": {
    "execution": {
     "iopub.execute_input": "2023-05-03T15:32:34.797514Z",
     "iopub.status.busy": "2023-05-03T15:32:34.796506Z",
     "iopub.status.idle": "2023-05-03T15:32:38.183449Z",
     "shell.execute_reply": "2023-05-03T15:32:38.181456Z",
     "shell.execute_reply.started": "2023-05-03T15:32:34.797514Z"
    },
    "tags": []
   },
   "outputs": [
    {
     "name": "stderr",
     "output_type": "stream",
     "text": [
      "/tmp/ipykernel_1788/3105660042.py:8: MatplotlibDeprecationWarning: The seaborn styles shipped by Matplotlib are deprecated since 3.6, as they no longer correspond to the styles shipped by seaborn. However, they will remain available as 'seaborn-v0_8-<style>'. Alternatively, directly use the seaborn API instead.\n",
      "  plt.style.use('seaborn-colorblind')\n",
      "/tmp/ipykernel_1788/3105660042.py:9: MatplotlibDeprecationWarning: The seaborn styles shipped by Matplotlib are deprecated since 3.6, as they no longer correspond to the styles shipped by seaborn. However, they will remain available as 'seaborn-v0_8-<style>'. Alternatively, directly use the seaborn API instead.\n",
      "  plt.style.use('seaborn-talk')\n"
     ]
    }
   ],
   "source": [
    "import numpy as np\n",
    "import sympy as sp\n",
    "from sympy.solvers import solve\n",
    "\n",
    "import matplotlib.pyplot as plt\n",
    "%matplotlib inline\n",
    "\n",
    "plt.style.use('seaborn-colorblind')\n",
    "plt.style.use('seaborn-talk')"
   ]
  },
  {
   "attachments": {},
   "cell_type": "markdown",
   "metadata": {},
   "source": [
    "# Minimizing a quadratic objective under constraint $\\left|x\\right|+\\left|y\\right|\\leq 1$\n",
    "\n",
    "This notebook implements the minimization of the cost function:\n",
    "$$f(\\vec v) = \\frac{1}{2} \\vec v^t H \\vec v + \\vec b^t \\vec v$$\n",
    "subject to $$\\left|x\\right|+\\left|x\\right|\\leq 1$$\n",
    "where $\\vec v = (x, y)$\n",
    "\n",
    "The first part describes how the process is done and defines necessary functions and variables. \n",
    "\n",
    "In the second part (section [Interactive widget](#iwidget)), an interactive plot allows you to change values in $H$, $b$, and the multipliers $\\mu_i$ and get a visualization of $f$, $L$, the found solution(s) and the gradient at the point(s) respecting the KKT conditions."
   ]
  },
  {
   "attachments": {},
   "cell_type": "markdown",
   "metadata": {},
   "source": [
    "# Part I: Finding the KKT points with `sympy`\n",
    "Hereafter we'll use a symbolic calculation engine (`sympy`) to compute all the analytical steps needed to solve such a constrained problem, based on th KKT optimality conditions:\n",
    "\n",
    "1. Write the Lagrangean (using symbolic variables)\n",
    "1. Compute $\\vec\\nabla L$\n",
    "1. Find the set of solutions to the system defined by KKT stationarity and complementary slackness:\n",
    "$$\\vec\\nabla L = 0$$ \n",
    "$$\\vec\\mu_i g_i = 0\\text{, for }i\\in \\{1,2,3,4\\}$$\n",
    "4. Select the solutions that respect the primal and dual feasibility conditions:\n",
    "$$g_i\\leq 0\\text{, for }i\\in \\{1,2,3,4\\}$$\n",
    "$$\\mu_i\\geq 0\\text{, for }i\\in \\{1,2,3,4\\}$$"
   ]
  },
  {
   "attachments": {},
   "cell_type": "markdown",
   "metadata": {},
   "source": [
    "## Symbolic declarations"
   ]
  },
  {
   "attachments": {},
   "cell_type": "markdown",
   "metadata": {},
   "source": [
    "### function $f$"
   ]
  },
  {
   "cell_type": "code",
   "execution_count": 2,
   "metadata": {},
   "outputs": [],
   "source": [
    "from sympy.matrices import Matrix\n",
    "\n",
    "h11, h12, h22 = sp.symbols('h11 h12 h22', real=True)\n",
    "H = Matrix([[h11, h12],[h12, h22]])\n",
    "\n",
    "b1, b2 = sp.symbols('b1 b2', real=True)\n",
    "b = Matrix([b1, b2])\n",
    "\n",
    "x, y = sp.symbols('x y', real=True)\n",
    "xy = Matrix([x, y])\n",
    "f = ((1/2)*xy.T @ H @ xy + b.T @ xy)[0]\n",
    "grad_f = Matrix([sp.diff(f, var) for var in [x,y]])"
   ]
  },
  {
   "attachments": {},
   "cell_type": "markdown",
   "metadata": {},
   "source": [
    "### constraints $g_1$ through $g_4$"
   ]
  },
  {
   "cell_type": "code",
   "execution_count": 3,
   "metadata": {},
   "outputs": [],
   "source": [
    "g1=x+y-1\n",
    "g2=x-y-1\n",
    "g3=-x-y-1\n",
    "g4=-x+y-1\n",
    "\n",
    "g=Matrix([g1,g2,g3,g4])\n",
    "\n",
    "grad_g1 = Matrix([sp.diff(g1, var) for var in [x,y]])\n",
    "grad_g2 = Matrix([sp.diff(g2, var) for var in [x,y]])\n",
    "grad_g3 = Matrix([sp.diff(g3, var) for var in [x,y]])\n",
    "grad_g4 = Matrix([sp.diff(g4, var) for var in [x,y]])\n"
   ]
  },
  {
   "attachments": {},
   "cell_type": "markdown",
   "metadata": {},
   "source": [
    "### Lagrangean"
   ]
  },
  {
   "cell_type": "code",
   "execution_count": 4,
   "metadata": {},
   "outputs": [],
   "source": [
    "# declare multipliers as variables u1 to u4\n",
    "u1,u2, u3, u4 = sp.symbols('u1 u2 u3 u4', real=True)\n",
    "u = Matrix([u1, u2, u3, u4])\n",
    "# write the L = f + u dot g\n",
    "L = f + u.dot(g)\n",
    "# compute L gradient\n",
    "grad_L = Matrix([sp.diff(L, var) for var in [x,y]])"
   ]
  },
  {
   "cell_type": "code",
   "execution_count": 5,
   "metadata": {
    "execution": {
     "iopub.execute_input": "2023-05-03T15:32:38.356934Z",
     "iopub.status.busy": "2023-05-03T15:32:38.352358Z",
     "iopub.status.idle": "2023-05-03T15:32:38.387339Z",
     "shell.execute_reply": "2023-05-03T15:32:38.385784Z",
     "shell.execute_reply.started": "2023-05-03T15:32:38.352358Z"
    },
    "tags": []
   },
   "outputs": [
    {
     "data": {
      "text/latex": [
       "$\\displaystyle b_{1} x + b_{2} y + u_{1} \\left(x + y - 1\\right) + u_{2} \\left(x - y - 1\\right) + u_{3} \\left(- x - y - 1\\right) + u_{4} \\left(- x + y - 1\\right) + x \\left(0.5 h_{11} x + 0.5 h_{12} y\\right) + y \\left(0.5 h_{12} x + 0.5 h_{22} y\\right)$"
      ],
      "text/plain": [
       "b1*x + b2*y + u1*(x + y - 1) + u2*(x - y - 1) + u3*(-x - y - 1) + u4*(-x + y - 1) + x*(0.5*h11*x + 0.5*h12*y) + y*(0.5*h12*x + 0.5*h22*y)"
      ]
     },
     "metadata": {},
     "output_type": "display_data"
    }
   ],
   "source": [
    "display (L)"
   ]
  },
  {
   "cell_type": "code",
   "execution_count": 6,
   "metadata": {
    "execution": {
     "iopub.execute_input": "2023-05-03T15:32:38.389375Z",
     "iopub.status.busy": "2023-05-03T15:32:38.389375Z",
     "iopub.status.idle": "2023-05-03T15:32:38.417590Z",
     "shell.execute_reply": "2023-05-03T15:32:38.416592Z",
     "shell.execute_reply.started": "2023-05-03T15:32:38.389375Z"
    },
    "tags": []
   },
   "outputs": [
    {
     "data": {
      "text/latex": [
       "$\\displaystyle \\left[\\begin{matrix}b_{1} + 1.0 h_{11} x + 1.0 h_{12} y + u_{1} + u_{2} - u_{3} - u_{4}\\\\b_{2} + 1.0 h_{12} x + 1.0 h_{22} y + u_{1} - u_{2} - u_{3} + u_{4}\\end{matrix}\\right]$"
      ],
      "text/plain": [
       "Matrix([\n",
       "[b1 + 1.0*h11*x + 1.0*h12*y + u1 + u2 - u3 - u4],\n",
       "[b2 + 1.0*h12*x + 1.0*h22*y + u1 - u2 - u3 + u4]])"
      ]
     },
     "metadata": {},
     "output_type": "display_data"
    }
   ],
   "source": [
    "display(grad_L)"
   ]
  },
  {
   "attachments": {},
   "cell_type": "markdown",
   "metadata": {},
   "source": [
    "## Solve for KKT's stationarity and complementary slackness\n",
    "\n",
    "The system to be solved here may be underdetermed and complex to solve while keeping the coeficients in $H$ and $\\vec b$ completely free.\n",
    " We will first choose values for these coeficients before we try to find solutions to the system\n"
   ]
  },
  {
   "cell_type": "markdown",
   "metadata": {},
   "source": [
    "\n",
    "**TODO** Complete the code so that $\\vec b = [-3, 1/4]$ and $H = 2I$ (where $I$ is the identity matrix)."
   ]
  },
  {
   "cell_type": "code",
   "execution_count": 30,
   "metadata": {},
   "outputs": [
    {
     "data": {
      "text/latex": [
       "$\\displaystyle \\left[\\begin{matrix}2.0 & 0\\\\0 & 2.0\\end{matrix}\\right]$"
      ],
      "text/plain": [
       "Matrix([\n",
       "[2.0,   0],\n",
       "[  0, 2.0]])"
      ]
     },
     "metadata": {},
     "output_type": "display_data"
    },
    {
     "data": {
      "text/latex": [
       "$\\displaystyle \\left[\\begin{matrix}-3.0\\\\-0.25\\end{matrix}\\right]$"
      ],
      "text/plain": [
       "Matrix([\n",
       "[ -3.0],\n",
       "[-0.25]])"
      ]
     },
     "metadata": {},
     "output_type": "display_data"
    }
   ],
   "source": [
    "# Pick values for coeficients in H and b\n",
    "# TODO complete the code bellow\n",
    "subs = {b1: ..., b2:..., h11:..., h22:..., h12:... }\n",
    "\n",
    "# Both get printed bellow\n",
    "display(H.n(subs=subs))\n",
    "display(b.n(subs=subs))"
   ]
  },
  {
   "attachments": {},
   "cell_type": "markdown",
   "metadata": {},
   "source": [
    "Now we use `sympy`'s function `nonlinsolve` to find solutions to the system"
   ]
  },
  {
   "cell_type": "code",
   "execution_count": null,
   "metadata": {},
   "outputs": [
    {
     "data": {
      "text/latex": [
       "$\\displaystyle \\left\\{\\left( -1.0, \\  0, \\  0, \\  0, \\  -2.625, \\  -2.375\\right), \\left( 0, \\  -1.0, \\  0, \\  0.375, \\  -2.625, \\  0\\right), \\left( 0, \\  1.0, \\  0.625, \\  0, \\  0, \\  -2.375\\right), \\left( 0.1875, \\  -1.1875, \\  0, \\  0, \\  -2.625, \\  0\\right), \\left( 0.3125, \\  1.3125, \\  0, \\  0, \\  0, \\  -2.375\\right), \\left( 1.0, \\  0, \\  0.625, \\  0.375, \\  0, \\  0\\right), \\left( 1.1875, \\  -0.1875, \\  0.625, \\  0, \\  0, \\  0\\right), \\left( 1.3125, \\  0.3125, \\  0, \\  0.375, \\  0, \\  0\\right), \\left( 1.5, \\  0.125, \\  0, \\  0, \\  0, \\  0\\right)\\right\\}$"
      ],
      "text/plain": [
       "{(-1.0, 0, 0, 0, -2.625, -2.375), (0, -1.0, 0, 0.375, -2.625, 0), (0, 1.0, 0.625, 0, 0, -2.375), (0.1875, -1.1875, 0, 0, -2.625, 0), (0.3125, 1.3125, 0, 0, 0, -2.375), (1.0, 0, 0.625, 0.375, 0, 0), (1.1875, -0.1875, 0.625, 0, 0, 0), (1.3125, 0.3125, 0, 0.375, 0, 0), (1.5, 0.125, 0, 0, 0, 0)}"
      ]
     },
     "metadata": {},
     "output_type": "display_data"
    }
   ],
   "source": [
    "# gather all equations in a list\n",
    "system = list(grad_L.n(subs=subs)) + list(u.multiply_elementwise(g))\n",
    "# give the list to sympy solver\n",
    "sys_solutions = sp.nonlinsolve(system, (x, y, u1, u2, u3, u4))\n",
    "display(sys_solutions)"
   ]
  },
  {
   "attachments": {},
   "cell_type": "markdown",
   "metadata": {},
   "source": [
    "To filter out the solutions, we need to check for KKT`s feasibility conditions:\n",
    "1. Solution $(x,y)$ must be in the feasible set, i.e., all $g_i\\leq 0$\n",
    "2. Multipliers must be all non negative, i.e., all $\\mu_i\\geq 0$\n",
    "\n",
    "We'll do so with the following function:"
   ]
  },
  {
   "cell_type": "code",
   "execution_count": 9,
   "metadata": {},
   "outputs": [],
   "source": [
    "def solve_kkt(subs):\n",
    "    # solve the (non-)linear system of equations\n",
    "    system = list(grad_L.n(subs=subs)) + list(u.multiply_elementwise(g))\n",
    "    sys_solutions = sp.nonlinsolve(system, (x,y, u1, u2, u3, u4))\n",
    "    # filter for dual feasibility (all  u >= 0)\n",
    "    eps = 1e-15\n",
    "    dual_feasible = list(filter(lambda s: all(map(lambda u: u>=-eps,  s[2:])), sys_solutions))\n",
    "    # filter for primal feasibility (all  g_i >= 0)\n",
    "    def is_primal_feasible(sol):\n",
    "        return all(map(\n",
    "            lambda gi: gi.evalf(subs={x:sol[0], y:sol[1]}) <= eps, g))\n",
    "\n",
    "    primal_feasible = list(filter(is_primal_feasible, dual_feasible))\n",
    "    return primal_feasible"
   ]
  },
  {
   "attachments": {},
   "cell_type": "markdown",
   "metadata": {},
   "source": [
    "If we call the function (using the same $H$ and $\\vec b$ defined by `subs`) we get that a single point respects all conditions."
   ]
  },
  {
   "cell_type": "code",
   "execution_count": 10,
   "metadata": {},
   "outputs": [
    {
     "data": {
      "text/plain": [
       "[(1.0, 0, 0.625, 0.375, 0, 0)]"
      ]
     },
     "execution_count": 10,
     "metadata": {},
     "output_type": "execute_result"
    }
   ],
   "source": [
    "solve_kkt(subs)"
   ]
  },
  {
   "attachments": {},
   "cell_type": "markdown",
   "metadata": {},
   "source": [
    "**QUESTION**: Is this point a global minimum? Justify your answer."
   ]
  },
  {
   "attachments": {},
   "cell_type": "markdown",
   "metadata": {},
   "source": [
    "# <a name='iwidget'></a> Part II: Interactive widget \n",
    "Run the cells bellow to have the interactive widget displayed to you at the end of the notebook."
   ]
  },
  {
   "cell_type": "code",
   "execution_count": 46,
   "metadata": {},
   "outputs": [],
   "source": [
    "# select a x and y range for the contour plat, \n",
    "# as well as a delta for the step between points\n",
    "xlim = -5,5\n",
    "ylim = -5,5\n",
    "# delta=0.25\n",
    "# xspace = np.arange(*xlim,delta)\n",
    "# yspace = np.arange(*ylim,delta)\n",
    "# ow instead of delta, select a number of points\n",
    "npts=100\n",
    "xspace = np.linspace(*xlim,npts)\n",
    "yspace = np.linspace(*ylim,npts)\n",
    "\n",
    "# Create a mesh for contour plot\n",
    "X, Y = np.meshgrid(xspace, yspace)"
   ]
  },
  {
   "cell_type": "code",
   "execution_count": 47,
   "metadata": {},
   "outputs": [],
   "source": [
    "def np_f(x, y, subs):\n",
    "    # rewriting the expression for f so the numerical calculations \n",
    "    # needed for contour plots are faster \n",
    "    (h11, h12), ( _, h22) = np.array(H.n(subs=subs), dtype=float)\n",
    "    (b1, b2)= np.array(b.n(subs=subs), dtype=float)\n",
    "    return  b1*x + b2*y + x*(0.5*h11*x + 0.5*h12*y) + y*(0.5*h12*x + 0.5*h22*y)\n",
    "\n",
    "def np_g(x, y):\n",
    "    # rewriting the expressions for g_i so the numerical calculations \n",
    "    # needed for contour plots are faster \n",
    "    g1=x+y-1\n",
    "    g2=x-y-1\n",
    "    g3=-x-y-1\n",
    "    g4=-x+y-1\n",
    "\n",
    "    g=np.stack([g1,g2,g3,g4], axis=0)\n",
    "    return g"
   ]
  },
  {
   "cell_type": "code",
   "execution_count": 51,
   "metadata": {},
   "outputs": [],
   "source": [
    "from matplotlib.patches import Polygon\n",
    "\n",
    "def replot(mus, subs, ax, cax=None):\n",
    "    plt.sca(ax)\n",
    "    fig = plt.gcf()\n",
    "\n",
    "    F = np_f(X, Y, subs)\n",
    "    GS = np_g(X, Y)\n",
    "    Z = F + mus @ GS.swapaxes(0,1)\n",
    "\n",
    "    c = ax.contourf(X, Y, F , cmap='magma', alpha=0.7, )\n",
    "    cbar = fig.colorbar(c, cax=cax, ax=ax) \n",
    "    cax = cax or cbar.ax\n",
    "    cax.set_ylabel('f(x,y) values')\n",
    "    cax.margins(tight=True)\n",
    "    # ax.clabel(c, colors='w')\n",
    "\n",
    "    ax.set_title('Lagrangean - contours')\n",
    "    c = ax.contour(X, Y, Z, cmap='viridis_r')\n",
    "    ax.clabel(c)\n",
    "\n",
    "    # draw the feasible region\n",
    "    corners = [[1,0],[0,-1],[-1,0],[0,1],[1,0]]\n",
    "    ax.add_patch(Polygon(\n",
    "        corners, alpha=0.3, label='Feasible set',\n",
    "        facecolor='cyan', edgecolor='cyan', ls=\":\", lw=3))\n",
    "    # ax.add_patch(Circle((0,0), 1))\n",
    "    \n",
    "    for i in range(4):\n",
    "        p1 = corners[i]\n",
    "        p2 = corners[i+1]\n",
    "        plt.plot(*zip(p1,p2),':', color='blue', alpha=0.5)\n",
    "\n",
    "    # plot solutions and gradient at solution\n",
    "    solution = solve_kkt(subs)\n",
    "\n",
    "    for sol in solution:\n",
    "        x_, y_ = [float(i) for i in sol[0:2]]\n",
    "        plt.plot(x_,y_, '*', color='w')\n",
    "        mu = [float(s) for s in sol[2:]]\n",
    "        plt.annotate(\n",
    "            f'$\\\\vec\\mu$={np.round(mu,3)}',xy=(x_,y_,), \n",
    "            xytext=(4, 4), textcoords='offset points',\n",
    "            fontsize=12, color='white')\n",
    "        grads_gi = [grad_g1, grad_g2, grad_g3, grad_g4]\n",
    "        for i, (mu_i, grad_gi) in enumerate(zip(mu, grads_gi)):\n",
    "            # draw gradient for active constraint\n",
    "            if mu_i != 0:\n",
    "                gx, gy = np.array(grad_gi.n(subs=subs), dtype=float) \n",
    "                ax.annotate(f'$\\\\mu_{i+1}\\\\nabla g_{i+1}$', xy=(x_,y_,), \n",
    "                            xytext=(mu_i*gx+x_, mu_i*gy+y_), fontsize=12,\n",
    "                            arrowprops=dict(arrowstyle=\"<|-\", color='w'),\n",
    "                            color='w')\n",
    "            # draw gradient for f\n",
    "            gfx, gfy = np.array(grad_f.n(subs=subs).n(subs={x:x_, y:y_}), dtype=float)\n",
    "\n",
    "            ax.annotate(\n",
    "                f'$\\\\nabla f$', xy=(x_,y_,), xytext=(gfx+x_, gfy+y_),\n",
    "                fontsize=12, color='w',\n",
    "                arrowprops=dict(arrowstyle=\"<|-\", color='w'))\n",
    "    if solution:\n",
    "        plt.plot(x_,y_, '*', color='w', label=\"L's stationary points\")\n",
    "\n",
    "    # final adjustments in axis\n",
    "    plt.axis('equal')\n",
    "    ax.spines[['left', 'bottom']].set_position('zero')\n",
    "    ax.spines[['top', 'right']].set_visible(False)\n",
    "    ax.tick_params(axis='both', which='major', labelsize=9)\n",
    "\n",
    "    ax.set_xlim(*xlim)\n",
    "    ax.set_ylim(*ylim)\n",
    "    ax.margins(tight=True)\n",
    "    plt.legend(framealpha=0.2)\n",
    "\n",
    "\n",
    "# %matplotlib inline\n",
    "# mus = np.zeros(4)\n",
    "\n",
    "# fig, ax = plt.subplots(figsize=(14,8))\n",
    "# replot(mus, subs, ax=ax)"
   ]
  },
  {
   "cell_type": "code",
   "execution_count": null,
   "metadata": {},
   "outputs": [],
   "source": [
    "%matplotlib widget\n",
    "from matplotlib.widgets import Slider, Button, RadioButtons, TextBox\n",
    "\n",
    "fig, ax = plt.subplots(figsize=(13,10))\n",
    "plt.subplots_adjust(bottom=0.2, right=0.75)\n",
    "# ax for colorbar\n",
    "cax = plt.axes([0.8, 0.2, 0.03, 0.7])\n",
    "# ax for sliders\n",
    "axcolor = 'lightgoldenrodyellow'\n",
    "\n",
    "# setting up sliders\n",
    "mu_sliders = []\n",
    "for i in range(u.shape[0]):\n",
    "    axmu = plt.axes([0.3, 0.13-i*0.04, 0.55, 0.03], facecolor=axcolor)\n",
    "    mu0 = 0\n",
    "    mu_values = np.arange(-3,3,0.125)\n",
    "    smu = Slider(axmu, '$\\mu$'+f'{i+1}', mu_values.min(), mu_values.max(), valinit=mu0, valstep=mu_values)\n",
    "    mu_sliders.append(smu)\n",
    "\n",
    "# set up boxes for h and b values\n",
    "# h first column\n",
    "left = 0.05\n",
    "axh11 = plt.axes([left, 0.1, 0.04, 0.05])\n",
    "bh11 = TextBox(axh11,label='$h_{11}$', initial=2, textalignment='center')\n",
    "axh12 = plt.axes([left, 0.05, 0.04, 0.05])\n",
    "bh12 = TextBox(axh12,label='$h_{12}$', initial=0, textalignment='center')\n",
    "# h second column\n",
    "left +=0.07\n",
    "axh22 = plt.axes([left, 0.05, 0.04, 0.05])\n",
    "bh22 = TextBox(axh22,label='$h_{22}$', initial=2, textalignment='center')\n",
    "# ax to repeat h12 as h21\n",
    "axh21 = plt.axes([left, 0.1, 0.04, 0.05])\n",
    "# 3rd columns: boxes for b\n",
    "left += 0.07\n",
    "axb1 = plt.axes([left, 0.1, 0.04, 0.05])\n",
    "bb1 = TextBox(axb1,label='$b_{1}$', initial=-3, textalignment='center')\n",
    "axb2 = plt.axes([left, 0.05, 0.04, 0.05])\n",
    "bb2 = TextBox(axb2,label='$b_{2}$', initial=1/4, textalignment='center')\n",
    "\n",
    "\n",
    "# monitor slider and update\n",
    "def update(val):\n",
    "    axh21.clear()\n",
    "    axh21.axis('off')\n",
    "    axh21.text(0.01,0.5,\"$h_{21}=$\"+f\"{bh12.text}\")\n",
    "\n",
    "    mus = np.array([smu.val for smu in mu_sliders])\n",
    "    subs = {b1:eval(bb1.text), b2:eval(bb2.text), h11:eval(bh11.text), \n",
    "            h22:eval(bh22.text), h12:eval(bh12.text)}\n",
    "    # redraw plot\n",
    "    ax.clear()\n",
    "    cax.clear()\n",
    "    replot(mus,subs, ax, cax)\n",
    "# do the first plot\n",
    "update(None)\n",
    "\n",
    "for element in mu_sliders:\n",
    "    element.on_changed(update)\n",
    "\n",
    "for textbox in [bh11, bh12, bh22, bb1, bb2]:\n",
    "    textbox.on_submit(update)\n",
    "\n",
    "\n",
    "plt.show()"
   ]
  },
  {
   "attachments": {},
   "cell_type": "markdown",
   "metadata": {},
   "source": [
    "## Exercises wtih the interactive widget\n",
    "### Exercise 1\n",
    "Set values of b such that:\n",
    "1. only the constraint  $g_1$ is active.\n",
    "2. only constraints  $g_1$ and  $g_2$ are active.\n",
    "3. only the constraint  $ g_2$ is active.\n",
    "4. only constraints  $ g_2$ and  $g_3$ are active.\n",
    "5. only the constraint  $ g_3$ is active.\n",
    "6. only constraints  $g_3$ and  $g_4$ are active.\n",
    "7. only the constraint  $ g_4$ is active.\n",
    "8. only constraints  $g_4$ and  $g_1$ are active.\n",
    "9. no constraint is active.\n",
    "\n",
    "For each case:\n",
    "- use the sliders for $\\mu_i$ to match the multiplier values to those of the found solution.\n",
    "- observe the contours of the Lagrangean moving towards the active constraints.\n",
    "- note which multipliers are non-null in each case.\n",
    "\n",
    "### Exercise 2\n",
    "1. Set values of H such that:\n",
    "    - H is negative definite\n",
    "    - H is indefinite\n",
    "2. Change b values to move the quadratic form around the feasible region.\n",
    "3. Note how the KKT conditions will sometimes lead to multiple solutions, sometimes to a single solution, and sometimes to no solution at all.\n",
    "    - Can you interpret what is happening in each case?"
   ]
  }
 ],
 "metadata": {
  "kernelspec": {
   "display_name": "ml-latest",
   "language": "python",
   "name": "python3"
  },
  "language_info": {
   "codemirror_mode": {
    "name": "ipython",
    "version": 3
   },
   "file_extension": ".py",
   "mimetype": "text/x-python",
   "name": "python",
   "nbconvert_exporter": "python",
   "pygments_lexer": "ipython3",
   "version": "3.9.16"
  }
 },
 "nbformat": 4,
 "nbformat_minor": 4
}

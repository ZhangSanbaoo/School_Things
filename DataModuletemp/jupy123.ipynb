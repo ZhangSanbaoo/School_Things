{
 "cells": [
  {
   "attachments": {},
   "cell_type": "markdown",
   "metadata": {},
   "source": [
    "Exercise 4: Connect to the database using python.\n"
   ]
  },
  {
   "cell_type": "code",
   "execution_count": 1,
   "metadata": {},
   "outputs": [],
   "source": [
    "# Module Imports\n",
    "import mariadb\n",
    "# Execption used to stop the Notebook cell execution politely\n",
    "class StopExecution(Exception):\n",
    "    def _render_traceback_(self):\n",
    "        pass\n",
    "# Connect to the server and return a Connection object for the db_name\n",
    "#database.\n",
    "def connectToDB(db_name):\n",
    "    try:\n",
    "        return mariadb.connect(\n",
    "            user=\"root\",\n",
    "            password=\"BLue1998\",\n",
    "            host=\"172.26.117.187\", # Use of localhost because 1/ we don't have\n",
    "#acces to the docker local network 2/ we have made a port redirection from the\n",
    "#mariadb server to the host\n",
    "            port=3306,\n",
    "            database=db_name\n",
    "        )\n",
    "    except mariadb.Error as e:\n",
    "        print(f\"Error connecting to MariaDB Platform: {e}\")\n",
    "        raise StopExecution\n",
    "conn = connectToDB(\"flight_reservation\")"
   ]
  },
  {
   "attachments": {},
   "cell_type": "markdown",
   "metadata": {},
   "source": [
    "Show information about the database."
   ]
  },
  {
   "cell_type": "code",
   "execution_count": 2,
   "metadata": {},
   "outputs": [
    {
     "name": "stdout",
     "output_type": "stream",
     "text": [
      "** Booking **\n",
      "Field           \tType      \tNull\tKey\tDefault\tExtra\n",
      "id_booking      \tint(11)   \tNO\tPRI\tNone\tauto_increment\n",
      "client_name     \tvarchar(50)\tNO\t\tNone\t\n",
      "quantity        \tint(2)    \tNO\t\tNone\t\n",
      "id_flight       \tvarchar(20)\tNO\tMUL\tNone\t\n",
      "** Flight **\n",
      "Field           \tType      \tNull\tKey\tDefault\tExtra\n",
      "id_flight       \tvarchar(20)\tNO\tPRI\tNone\t\n",
      "max_capacity    \tint(3)    \tNO\t\tNone\t\n",
      "current_capacity\tint(3)    \tNO\t\tNone\t\n"
     ]
    }
   ],
   "source": [
    "# A bit of dark magic? Just two intrincated query, one to get the TABLES, one\n",
    "#for each TABLE to get the COLUMNS.\n",
    "# And a clever use of format to have aligned columns.\n",
    "def showTablesAndColumns(conn):\n",
    "    cur = conn.cursor() \n",
    "    # Query the tables\n",
    "    cur.execute(\"SHOW TABLES;\")\n",
    "    # For each table\n",
    "    for table in cur.fetchall():\n",
    "        print(\"**\",table[0],\"**\")\n",
    "# Defining the output format {:16} indicate at least 16 characters,\n",
    "#add spaces if necessary\n",
    "        outputFormat=\"{:16}\\t{:10}\\t{}\\t{}\\t{}\\t{}\"\n",
    "# Printing the headers\n",
    "        print(outputFormat.format(\"Field\",\"Type\",\"Null\",\"Key\",\"Default\",\"Extra\"))\n",
    "# Query the columns\n",
    "        cur.execute('SHOW COLUMNS FROM {};'.format(table[0]))\n",
    "# For each column\n",
    "        for attribute in cur.fetchall():\n",
    "# Print the attribute (*attribute give the content of the tuple to\n",
    "#the format function)\n",
    "            print(outputFormat.format(*attribute))\n",
    "showTablesAndColumns(conn)\n"
   ]
  },
  {
   "attachments": {},
   "cell_type": "markdown",
   "metadata": {},
   "source": [
    "## Exercise 5: Adding new data to the database.\n"
   ]
  },
  {
   "attachments": {},
   "cell_type": "markdown",
   "metadata": {},
   "source": [
    "## Exercise 5.1: Add a flight"
   ]
  },
  {
   "attachments": {},
   "cell_type": "markdown",
   "metadata": {},
   "source": [
    "Create addFlight function."
   ]
  },
  {
   "cell_type": "code",
   "execution_count": 3,
   "metadata": {},
   "outputs": [
    {
     "name": "stdout",
     "output_type": "stream",
     "text": [
      "Error adding flight: Duplicate entry 'FL001' for key 'PRIMARY'\n"
     ]
    }
   ],
   "source": [
    "def addFlight(id_flight, max_capacity):\n",
    "    cur = conn.cursor()\n",
    "    try:\n",
    "        cur.execute(\"INSERT INTO Flight(id_flight, max_capacity, current_capacity) VALUES (?, ?, ?)\", (id_flight, max_capacity, 0))\n",
    "        conn.commit()\n",
    "        print(\"Flight added successfully!\")\n",
    "    except mariadb.Error as e:\n",
    "        print(f\"Error adding flight: {e}\")\n",
    "        conn.rollback()\n",
    "addFlight('FL001',10)"
   ]
  },
  {
   "attachments": {},
   "cell_type": "markdown",
   "metadata": {},
   "source": [
    "The code below can verify if the Flight has been added successfully."
   ]
  },
  {
   "cell_type": "code",
   "execution_count": 4,
   "metadata": {},
   "outputs": [
    {
     "name": "stdout",
     "output_type": "stream",
     "text": [
      "('FL001', 10, 0)\n",
      "('LH6795', 10, 3)\n"
     ]
    }
   ],
   "source": [
    "cur = conn.cursor()\n",
    "cur.execute(\"SELECT * FROM Flight\")\n",
    "for flight in cur.fetchall():\n",
    "    print(flight)\n"
   ]
  },
  {
   "attachments": {},
   "cell_type": "markdown",
   "metadata": {},
   "source": [
    "### Exercise 5.2: Add a booking.\n"
   ]
  },
  {
   "cell_type": "code",
   "execution_count": 5,
   "metadata": {},
   "outputs": [],
   "source": [
    "import mariadb\n",
    "import time\n",
    "import random\n",
    "\n",
    "def addBooking(id_flight, client_name, quantity):\n",
    "    try:\n",
    "        conn = connectToDB(\"flight_reservation\")\n",
    "\n",
    "        cursor = conn.cursor()\n",
    "\n",
    "        # cur.execute(\"SET GLOBAL TRANSACTION ISOLATION LEVEL SERIALIZABLE\")\n",
    "        # Check if the flight exists\n",
    "        cursor.execute(\"SELECT id_flight, max_capacity, current_capacity FROM Flight WHERE id_flight = ?\", (id_flight,))\n",
    "        flight = cursor.fetchone()\n",
    "\n",
    "        if not flight:\n",
    "            return (False, \"Invalid\")\n",
    "\n",
    "        cursor.execute(\"SELECT (current_capacity+?)<=max_capacity FROM Flight WHERE id_flight=?\", (quantity, id_flight))\n",
    "        result = cursor.fetchone()\n",
    "\n",
    "        if not result[0]:\n",
    "            return (False, \"Full\")\n",
    "\n",
    "        # Simulate payment processing\n",
    "        time.sleep(random.randint(3, 5))\n",
    "\n",
    "        # Insert a new Booking record in the Booking table\n",
    "        insert_query = \"INSERT INTO Booking (id_flight, client_name, quantity) VALUES (?, ?, ?)\"\n",
    "        cursor.execute(insert_query, (id_flight, client_name, quantity))\n",
    "\n",
    "        # Update the Flight table with the new current_capacity\n",
    "        update_query = \"UPDATE Flight SET current_capacity = current_capacity + ? WHERE id_flight = ?\"\n",
    "        cursor.execute(update_query, (quantity, id_flight))\n",
    "        conn.commit()\n",
    "\n",
    "        return (False, \"Reserved\")\n",
    "\n",
    "    except mariadb.Error as e:\n",
    "        print(f\"Error: {e}\")\n",
    "        return (True, \"Error\")\n",
    "\n",
    "    finally:\n",
    "        if conn:\n",
    "            conn.close()\n"
   ]
  },
  {
   "attachments": {},
   "cell_type": "markdown",
   "metadata": {},
   "source": [
    "Remove every value associeted with a flight "
   ]
  },
  {
   "cell_type": "code",
   "execution_count": 6,
   "metadata": {},
   "outputs": [],
   "source": [
    "def cleanDB(id_flight):\n",
    "    conn = connectToDB(\"flight_reservation\")\n",
    "    cur = conn.cursor()\n",
    "    cur.execute(\"DELETE FROM Booking WHERE id_flight=?;\",(id_flight,))\n",
    "    cur.execute(\"UPDATE Flight SET current_capacity=0 WHERE id_flight=?;\",(id_flight,))\n",
    "    conn.commit() #With out commit the modification are not applied to the database.\n",
    "    conn.close()\n",
    "# cleanDB('LH6795')"
   ]
  },
  {
   "attachments": {},
   "cell_type": "markdown",
   "metadata": {},
   "source": [
    "## Exercise 6: Multi-threading\n"
   ]
  },
  {
   "cell_type": "code",
   "execution_count": 7,
   "metadata": {},
   "outputs": [],
   "source": [
    "def processBooking(id_flight,client_name,quantity):\n",
    "    print(\"Processing Flight\",id_flight,\"for\",client_name,\":\",quantity,\"seats.\")\n",
    "    retry,status = addBooking(id_flight,client_name,quantity)\n",
    "    # while retry :\n",
    "    #     print(\"Retry Flight\",id_flight,\"for\",client_name,\":\",quantity,\"seats.\")\n",
    "    #     retry,status = addBooking(id_flight,client_name,quantity)\n",
    "    #     print(client_name,\":\",status)\n",
    "    print(client_name,\":\",status,\"Should retry:\",retry)\n",
    "# print(processBooking(\"LH6795\",\"Client 0\",1))\n",
    "# print(processBooking(\"LH6795\",\"Client 1\",4))\n",
    "# print(processBooking(\"LH6795\",\"Client 2\",3))\n",
    "# print(processBooking(\"LH6795\",\"Client 3\",3))"
   ]
  },
  {
   "cell_type": "code",
   "execution_count": 8,
   "metadata": {},
   "outputs": [],
   "source": [
    "id_flight=\"LH6795\"\n",
    "base_name=\"Client \""
   ]
  },
  {
   "cell_type": "code",
   "execution_count": 11,
   "metadata": {},
   "outputs": [
    {
     "name": "stdout",
     "output_type": "stream",
     "text": [
      "Processing Flight LH6795 for Client 0 : 4 seats.\n",
      "Processing Flight LH6795 for Client 1 : 3 seats.\n",
      "Processing Flight LH6795 for Client 2 : 4 seats.\n",
      "Processing Flight LH6795 for Client 3 : 1 seats.\n",
      "Processing Flight LH6795 for Client 4 : 2 seats.\n",
      "Error: Deadlock found when trying to get lock; try restarting transaction\n",
      "Client 3 : Error Should retry: True\n",
      "Error: Deadlock found when trying to get lock; try restarting transaction\n",
      "Error: Deadlock found when trying to get lock; try restarting transaction\n",
      "Error: Deadlock found when trying to get lock; try restarting transaction\n",
      "Client 1 : Error Should retry: True\n",
      "Client 2 : Error Should retry: True\n",
      "Client 0 : Error Should retry: True\n",
      "Client 4 : Reserved Should retry: False\n",
      "Finished\n"
     ]
    }
   ],
   "source": [
    "import threading\n",
    "import random\n",
    "import time\n",
    "\n",
    "#Test parameters\n",
    "id_flight=\"LH6795\"\n",
    "base_name=\"Client \"\n",
    "\n",
    "#Clean the db for the test\n",
    "cleanDB(id_flight)\n",
    "\n",
    "#Creating several Thread representing several client that try to book simultaneously a random nmber of seat\n",
    "jobs=[]\n",
    "for i in range(5):\n",
    "    jobs.append(threading.Thread(target=processBooking,args=(id_flight,base_name+str(i),random.randint(1,4))))\n",
    "\n",
    "#Start each job, giving 0.3s of delay between each\n",
    "for job in jobs:\n",
    "    job.start()\n",
    "    # time.sleep(0.3)\n",
    "#Wait for all the thread to finish\n",
    "for job in jobs:\n",
    "    job.join()\n",
    "print(\"Finished\")"
   ]
  },
  {
   "cell_type": "code",
   "execution_count": 12,
   "metadata": {},
   "outputs": [
    {
     "name": "stdout",
     "output_type": "stream",
     "text": [
      "('FL001', 10, 0)\n",
      "('LH6795', 10, 2)\n"
     ]
    }
   ],
   "source": [
    "conn = connectToDB(\"flight_reservation\")\n",
    "cur = conn.cursor()\n",
    "cur.execute(\"SELECT * FROM Flight\")\n",
    "for flight in cur.fetchall():\n",
    "    print(flight)"
   ]
  },
  {
   "cell_type": "code",
   "execution_count": 13,
   "metadata": {},
   "outputs": [
    {
     "name": "stdout",
     "output_type": "stream",
     "text": [
      "('FL001', 10, 0)\n",
      "('LH6795', 10, 2)\n",
      "(59, 'Client 4', 2, 'LH6795')\n"
     ]
    }
   ],
   "source": [
    "\n",
    "cur = conn.cursor()\n",
    "cur.execute(\"SELECT * FROM Flight\")\n",
    "for flight in cur.fetchall():\n",
    "    print(flight)\n",
    "cur.execute(\"SELECT * FROM Booking\")\n",
    "for booking in cur.fetchall():\n",
    "    print(booking)"
   ]
  },
  {
   "attachments": {},
   "cell_type": "markdown",
   "metadata": {},
   "source": [
    "The result shows that the database takes the last one, if we comment the time.sleep command, it will take the first one.\n",
    "and for those 2 cases, booking take always all clients."
   ]
  },
  {
   "cell_type": "code",
   "execution_count": 14,
   "metadata": {},
   "outputs": [
    {
     "name": "stdout",
     "output_type": "stream",
     "text": [
      "SERIALIZABLE\n"
     ]
    }
   ],
   "source": [
    "cur = conn.cursor()\n",
    "cur.execute(\"SELECT @@tx_ISOLATION;\")\n",
    "result = cur.fetchone()\n",
    "print(result[0])"
   ]
  },
  {
   "attachments": {},
   "cell_type": "markdown",
   "metadata": {},
   "source": [
    "After added the 'SET TRANSACTION ISOLATION LEVEL SERIALIZABLE', we can see that even time.sleep command has been commented, it takes the last one."
   ]
  },
  {
   "cell_type": "code",
   "execution_count": 9,
   "metadata": {},
   "outputs": [],
   "source": [
    "cur = conn.cursor()\n",
    "cur.execute(\"SET GLOBAL TRANSACTION ISOLATION LEVEL SERIALIZABLE\") #加了个global.\n",
    "cur.execute(\"SELECT COUNT(*) FROM Flight WHERE id_flight=?\",(id_flight,))"
   ]
  },
  {
   "cell_type": "code",
   "execution_count": 38,
   "metadata": {},
   "outputs": [
    {
     "ename": "InterfaceError",
     "evalue": "Lost connection to server during query",
     "output_type": "error",
     "traceback": [
      "\u001b[0;31m---------------------------------------------------------------------------\u001b[0m",
      "\u001b[0;31mInterfaceError\u001b[0m                            Traceback (most recent call last)",
      "Cell \u001b[0;32mIn[38], line 10\u001b[0m\n\u001b[1;32m      7\u001b[0m base_name\u001b[39m=\u001b[39m\u001b[39m\"\u001b[39m\u001b[39mClient \u001b[39m\u001b[39m\"\u001b[39m\n\u001b[1;32m      9\u001b[0m \u001b[39m#Clean the db for the test\u001b[39;00m\n\u001b[0;32m---> 10\u001b[0m cleanDB(id_flight)\n\u001b[1;32m     12\u001b[0m \u001b[39m#Creating several Thread representing several client that try to book simultaneously a random nmber of seat\u001b[39;00m\n\u001b[1;32m     13\u001b[0m jobs\u001b[39m=\u001b[39m[]\n",
      "Cell \u001b[0;32mIn[28], line 4\u001b[0m, in \u001b[0;36mcleanDB\u001b[0;34m(id_flight)\u001b[0m\n\u001b[1;32m      2\u001b[0m conn \u001b[39m=\u001b[39m connectToDB(\u001b[39m\"\u001b[39m\u001b[39mflight_reservation\u001b[39m\u001b[39m\"\u001b[39m)\n\u001b[1;32m      3\u001b[0m cur \u001b[39m=\u001b[39m conn\u001b[39m.\u001b[39mcursor()\n\u001b[0;32m----> 4\u001b[0m cur\u001b[39m.\u001b[39;49mexecute(\u001b[39m\"\u001b[39;49m\u001b[39mDELETE FROM Booking WHERE id_flight=?;\u001b[39;49m\u001b[39m\"\u001b[39;49m,(id_flight,))\n\u001b[1;32m      5\u001b[0m cur\u001b[39m.\u001b[39mexecute(\u001b[39m\"\u001b[39m\u001b[39mUPDATE Flight SET current_capacity=0 WHERE id_flight=?;\u001b[39m\u001b[39m\"\u001b[39m,(id_flight,))\n\u001b[1;32m      6\u001b[0m conn\u001b[39m.\u001b[39mcommit() \u001b[39m#With out commit the modification are not applied to the database.\u001b[39;00m\n",
      "File \u001b[0;32m~/miniforge3/envs/data_e/lib/python3.9/site-packages/mariadb/cursors.py:315\u001b[0m, in \u001b[0;36mCursor.execute\u001b[0;34m(self, statement, data, buffered)\u001b[0m\n\u001b[1;32m    313\u001b[0m \u001b[39melse\u001b[39;00m:\n\u001b[1;32m    314\u001b[0m     \u001b[39mself\u001b[39m\u001b[39m.\u001b[39m_data \u001b[39m=\u001b[39m data\n\u001b[0;32m--> 315\u001b[0m     \u001b[39mself\u001b[39;49m\u001b[39m.\u001b[39;49m_execute_binary()\n\u001b[1;32m    317\u001b[0m \u001b[39mself\u001b[39m\u001b[39m.\u001b[39m_initresult()\n\u001b[1;32m    318\u001b[0m \u001b[39mself\u001b[39m\u001b[39m.\u001b[39m_bulk \u001b[39m=\u001b[39m \u001b[39m0\u001b[39m\n",
      "\u001b[0;31mInterfaceError\u001b[0m: Lost connection to server during query"
     ]
    }
   ],
   "source": [
    "import threading\n",
    "import random\n",
    "import time\n",
    "\n",
    "#Test parameters\n",
    "id_flight=\"LH6795\"\n",
    "base_name=\"Client \"\n",
    "\n",
    "#Clean the db for the test\n",
    "cleanDB(id_flight)\n",
    "\n",
    "#Creating several Thread representing several client that try to book simultaneously a random nmber of seat\n",
    "jobs=[]\n",
    "for i in range(5):\n",
    "    jobs.append(threading.Thread(target=processBooking,args=(id_flight,base_name+str(i),random.randint(1,4))))\n",
    "\n",
    "#Start each job, giving 0.3s of delay between each\n",
    "for job in jobs:\n",
    "    job.start()\n",
    "    # time.sleep(0.3)\n",
    "#Wait for all the thread to finish\n",
    "for job in jobs:\n",
    "    job.join()\n",
    "print(\"Finished\")"
   ]
  },
  {
   "cell_type": "code",
   "execution_count": 10,
   "metadata": {},
   "outputs": [
    {
     "data": {
      "text/plain": [
       "<bound method Connection.close of <mariadb.connection connected to '172.26.117.187' at 0x7f22342a7e00>>"
      ]
     },
     "execution_count": 10,
     "metadata": {},
     "output_type": "execute_result"
    }
   ],
   "source": [
    "conn.close"
   ]
  }
 ],
 "metadata": {
  "kernelspec": {
   "display_name": "data_e",
   "language": "python",
   "name": "python3"
  },
  "language_info": {
   "codemirror_mode": {
    "name": "ipython",
    "version": 3
   },
   "file_extension": ".py",
   "mimetype": "text/x-python",
   "name": "python",
   "nbconvert_exporter": "python",
   "pygments_lexer": "ipython3",
   "version": "3.9.16"
  },
  "orig_nbformat": 4,
  "vscode": {
   "interpreter": {
    "hash": "2343a28521b25afaa9f30c70150d0790506461ec8c9ec2d72ca0cd493dbe10d4"
   }
  }
 },
 "nbformat": 4,
 "nbformat_minor": 2
}

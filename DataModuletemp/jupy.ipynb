{
 "cells": [
  {
   "cell_type": "code",
   "execution_count": 7,
   "metadata": {},
   "outputs": [],
   "source": [
    "# Module Imports\n",
    "import mariadb\n",
    "# Execption used to stop the Notebook cell execution politely\n",
    "class StopExecution(Exception):\n",
    "    def _render_traceback_(self):\n",
    "        pass\n",
    "# Connect to the server and return a Connection object for the db_name\n",
    "#database.\n",
    "def connectToDB(db_name):\n",
    "    try:\n",
    "        return mariadb.connect(\n",
    "            user=\"root\",\n",
    "            password=\"BLue1998\",\n",
    "            host=\"172.26.117.187\", # Use of localhost because 1/ we don't have\n",
    "#acces to the docker local network 2/ we have made a port redirection from the\n",
    "#mariadb server to the host\n",
    "            port=3306,\n",
    "            database=db_name\n",
    "        )\n",
    "    except mariadb.Error as e:\n",
    "        print(f\"Error connecting to MariaDB Platform: {e}\")\n",
    "        raise StopExecution\n",
    "conn = connectToDB(\"flight_reservation\")"
   ]
  },
  {
   "cell_type": "code",
   "execution_count": 8,
   "metadata": {},
   "outputs": [
    {
     "name": "stdout",
     "output_type": "stream",
     "text": [
      "** Booking **\n",
      "Field           \tType      \tNull\tKey\tDefault\tExtra\n",
      "id_booking      \tint(11)   \tNO\tPRI\tNone\tauto_increment\n",
      "client_name     \tvarchar(50)\tNO\t\tNone\t\n",
      "quantity        \tint(2)    \tNO\t\tNone\t\n",
      "id_flight       \tvarchar(20)\tNO\tMUL\tNone\t\n",
      "** Flight **\n",
      "Field           \tType      \tNull\tKey\tDefault\tExtra\n",
      "id_flight       \tvarchar(20)\tNO\tPRI\tNone\t\n",
      "max_capacity    \tint(3)    \tNO\t\tNone\t\n",
      "current_capacity\tint(3)    \tNO\t\tNone\t\n"
     ]
    }
   ],
   "source": [
    "# A bit of dark magic? Just two intrincated query, one to get the TABLES, one\n",
    "#for each TABLE to get the COLUMNS.\n",
    "# And a clever use of format to have aligned columns.\n",
    "def showTablesAndColumns(conn):\n",
    "    cur = conn.cursor()\n",
    "    # Query the tables\n",
    "    cur.execute(\"SHOW TABLES;\")\n",
    "    # For each table\n",
    "    for table in cur.fetchall():\n",
    "        print(\"**\",table[0],\"**\")\n",
    "# Defining the output format {:16} indicate at least 16 characters,\n",
    "#add spaces if necessary\n",
    "        outputFormat=\"{:16}\\t{:10}\\t{}\\t{}\\t{}\\t{}\"\n",
    "# Printing the headers\n",
    "        print(outputFormat.format(\"Field\",\"Type\",\"Null\",\"Key\",\"Default\",\"Extra\"))\n",
    "# Query the columns\n",
    "        cur.execute('SHOW COLUMNS FROM {};'.format(table[0]))\n",
    "# For each column\n",
    "        for attribute in cur.fetchall():\n",
    "# Print the attribute (*attribute give the content of the tuple to\n",
    "#the format function)\n",
    "            print(outputFormat.format(*attribute))\n",
    "showTablesAndColumns(conn)\n"
   ]
  },
  {
   "cell_type": "code",
   "execution_count": null,
   "metadata": {},
   "outputs": [],
   "source": [
    "def addFlight(id_flight, maximum_capacity):\n",
    "    \n",
    "    pass"
   ]
  }
 ],
 "metadata": {
  "kernelspec": {
   "display_name": "data_e",
   "language": "python",
   "name": "python3"
  },
  "language_info": {
   "codemirror_mode": {
    "name": "ipython",
    "version": 3
   },
   "file_extension": ".py",
   "mimetype": "text/x-python",
   "name": "python",
   "nbconvert_exporter": "python",
   "pygments_lexer": "ipython3",
   "version": "3.9.16"
  },
  "orig_nbformat": 4
 },
 "nbformat": 4,
 "nbformat_minor": 2
}

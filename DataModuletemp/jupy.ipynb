{
 "cells": [
  {
   "cell_type": "code",
   "execution_count": 1,
   "metadata": {},
   "outputs": [],
   "source": [
    "# Module Imports\n",
    "import mariadb\n",
    "# Execption used to stop the Notebook cell execution politely\n",
    "class StopExecution(Exception):\n",
    "    def _render_traceback_(self):\n",
    "        pass\n",
    "# Connect to the server and return a Connection object for the db_name\n",
    "#database.\n",
    "def connectToDB(db_name):\n",
    "    try:\n",
    "        return mariadb.connect(\n",
    "            user=\"root\",\n",
    "            password=\"BLue1998\",\n",
    "            host=\"172.26.117.187\", # Use of localhost because 1/ we don't have\n",
    "#acces to the docker local network 2/ we have made a port redirection from the\n",
    "#mariadb server to the host\n",
    "            port=3306,\n",
    "            database=db_name\n",
    "        )\n",
    "    except mariadb.Error as e:\n",
    "        print(f\"Error connecting to MariaDB Platform: {e}\")\n",
    "        raise StopExecution\n",
    "conn = connectToDB(\"flight_reservation\")"
   ]
  },
  {
   "cell_type": "code",
   "execution_count": 2,
   "metadata": {},
   "outputs": [
    {
     "name": "stdout",
     "output_type": "stream",
     "text": [
      "** Booking **\n",
      "Field           \tType      \tNull\tKey\tDefault\tExtra\n",
      "id_booking      \tint(11)   \tNO\tPRI\tNone\tauto_increment\n",
      "client_name     \tvarchar(50)\tNO\t\tNone\t\n",
      "quantity        \tint(2)    \tNO\t\tNone\t\n",
      "id_flight       \tvarchar(20)\tNO\tMUL\tNone\t\n",
      "** Flight **\n",
      "Field           \tType      \tNull\tKey\tDefault\tExtra\n",
      "id_flight       \tvarchar(20)\tNO\tPRI\tNone\t\n",
      "max_capacity    \tint(3)    \tNO\t\tNone\t\n",
      "current_capacity\tint(3)    \tNO\t\tNone\t\n"
     ]
    }
   ],
   "source": [
    "# A bit of dark magic? Just two intrincated query, one to get the TABLES, one\n",
    "#for each TABLE to get the COLUMNS.\n",
    "# And a clever use of format to have aligned columns.\n",
    "def showTablesAndColumns(conn):\n",
    "    cur = conn.cursor()\n",
    "    # Query the tables\n",
    "    cur.execute(\"SHOW TABLES;\")\n",
    "    # For each table\n",
    "    for table in cur.fetchall():\n",
    "        print(\"**\",table[0],\"**\")\n",
    "# Defining the output format {:16} indicate at least 16 characters,\n",
    "#add spaces if necessary\n",
    "        outputFormat=\"{:16}\\t{:10}\\t{}\\t{}\\t{}\\t{}\"\n",
    "# Printing the headers\n",
    "        print(outputFormat.format(\"Field\",\"Type\",\"Null\",\"Key\",\"Default\",\"Extra\"))\n",
    "# Query the columns\n",
    "        cur.execute('SHOW COLUMNS FROM {};'.format(table[0]))\n",
    "# For each column\n",
    "        for attribute in cur.fetchall():\n",
    "# Print the attribute (*attribute give the content of the tuple to\n",
    "#the format function)\n",
    "            print(outputFormat.format(*attribute))\n",
    "showTablesAndColumns(conn)\n"
   ]
  },
  {
   "attachments": {},
   "cell_type": "markdown",
   "metadata": {},
   "source": [
    "## Exercise 5"
   ]
  },
  {
   "attachments": {},
   "cell_type": "markdown",
   "metadata": {},
   "source": [
    "Create addFlight function."
   ]
  },
  {
   "cell_type": "code",
   "execution_count": 3,
   "metadata": {},
   "outputs": [
    {
     "name": "stdout",
     "output_type": "stream",
     "text": [
      "Error adding flight: Duplicate entry 'FL003' for key 'PRIMARY'\n"
     ]
    }
   ],
   "source": [
    "def addFlight(id_flight, max_capacity):\n",
    "    conn = connectToDB(\"flight_reservation\")\n",
    "    cur = conn.cursor()\n",
    "    try:\n",
    "        cur.execute(\"INSERT INTO Flight(id_flight, max_capacity, current_capacity) VALUES (?, ?, ?)\", (id_flight, max_capacity, 0))\n",
    "        conn.commit()\n",
    "        print(\"Flight added successfully!\")\n",
    "    except mariadb.Error as e:\n",
    "        print(f\"Error adding flight: {e}\")\n",
    "        conn.rollback()\n",
    "addFlight('FL003',10)"
   ]
  },
  {
   "attachments": {},
   "cell_type": "markdown",
   "metadata": {},
   "source": [
    "The code below can verify if the Flight has been added successfully."
   ]
  },
  {
   "cell_type": "code",
   "execution_count": 9,
   "metadata": {},
   "outputs": [
    {
     "name": "stdout",
     "output_type": "stream",
     "text": [
      "('FL001', 10, 0)\n",
      "('FL002', 10, 0)\n",
      "('FL003', 10, 0)\n",
      "('LH6795', 10, 2)\n"
     ]
    }
   ],
   "source": [
    "conn = connectToDB(\"flight_reservation\")\n",
    "cur = conn.cursor()\n",
    "cur.execute(\"SELECT * FROM Flight\")\n",
    "for flight in cur.fetchall():\n",
    "    print(flight)\n"
   ]
  },
  {
   "cell_type": "code",
   "execution_count": 5,
   "metadata": {},
   "outputs": [
    {
     "name": "stdout",
     "output_type": "stream",
     "text": [
      "Error adding flight: Duplicate entry 'LH6795' for key 'PRIMARY'\n",
      "(False, 'Reserved')\n",
      "(False, 'Reserved')\n",
      "(False, 'Reserved')\n",
      "(False, 'Full')\n"
     ]
    }
   ],
   "source": [
    "import time\n",
    "def addBooking(id_flight, client_name, quantity):\n",
    "    try:\n",
    "        #Connect to the database.\n",
    "        conn = connectToDB(\"flight_reservation\")\n",
    "        cur = conn.cursor()\n",
    "        cur.execute(\"SET TRANSACTION ISOLATION LEVEL SERIALIZABLE\")\n",
    "        #Test if the flight is available.\n",
    "        cur.execute(\"SELECT current_capacity, max_capacity FROM Flight WHERE id_flight=?\", (id_flight,))\n",
    "        row = cur.fetchone()\n",
    "        if row is None:\n",
    "            return False, \"Invalid\"\n",
    "        current_capacity, maximum_capacity = row\n",
    "\n",
    "        #Test if the flight have enough available seats.\n",
    "        if current_capacity + quantity > maximum_capacity:\n",
    "            return False, \"Full\"\n",
    "\n",
    "        #Wait 3 seconds to simulate payment processing.\n",
    "        time.sleep(3)\n",
    "\n",
    "        #Insert a new booking record in the Booking table.\n",
    "        cur.execute(\"INSERT INTO Booking (id_flight, client_name, quantity) VALUES (?, ?, ?)\", (id_flight, client_name, quantity))\n",
    "        conn.commit()\n",
    "\n",
    "        #Update the flight table with the new current capacity.\n",
    "        cur.execute(\"UPDATE Flight SET current_capacity=? WHERE id_flight=?\", (current_capacity + quantity, id_flight))\n",
    "        conn.commit()\n",
    "\n",
    "        return False, \"Reserved\"\n",
    "    except mariadb.Error as e:\n",
    "        print(f\"Error adding booking: {e}\")\n",
    "        return True, \"Error\"\n",
    "\n",
    "addFlight(\"LH6795\",10)\n",
    "print(addBooking(\"LH6795\",\"Client 0\",1))\n",
    "print(addBooking(\"LH6795\",\"Client 1\",4))\n",
    "print(addBooking(\"LH6795\",\"Client 2\",3))\n",
    "print(addBooking(\"LH6795\",\"Client 3\",3))"
   ]
  },
  {
   "cell_type": "code",
   "execution_count": 6,
   "metadata": {},
   "outputs": [],
   "source": [
    "def cleanDB(id_flight):\n",
    "    conn = connectToDB(\"flight_reservation\")\n",
    "    cur = conn.cursor()\n",
    "    cur.execute(\"DELETE FROM Booking WHERE id_flight=?;\",(id_flight,))\n",
    "    cur.execute(\"UPDATE Flight SET current_capacity=0 WHERE id_flight=?;\",(id_flight,))\n",
    "    conn.commit() #With out commit the modification are not applied to the database.\n",
    "cleanDB('LH6795')"
   ]
  },
  {
   "attachments": {},
   "cell_type": "markdown",
   "metadata": {},
   "source": [
    "## Exercise 6"
   ]
  },
  {
   "cell_type": "code",
   "execution_count": 7,
   "metadata": {},
   "outputs": [],
   "source": [
    "def processBooking(id_flight,client_name,quantity):\n",
    "    print(\"Processing Flight\",id_flight,\"for\",client_name,\":\",quantity,\"seats.\")\n",
    "    retry,status = addBooking(id_flight,client_name,quantity)\n",
    "    while retry :\n",
    "        print(\"Retry Flight\",id_flight,\"for\",client_name,\":\",quantity,\"seats.\")\n",
    "        retry,status = addBooking(id_flight,client_name,quantity)\n",
    "        print(client_name,\":\",status)\n",
    "        print(client_name,\":\",status,\"Should retry:\",retry)\n",
    "# print(processBooking(\"LH6795\",\"Client 0\",1))\n",
    "# print(processBooking(\"LH6795\",\"Client 1\",4))\n",
    "# print(processBooking(\"LH6795\",\"Client 2\",3))\n",
    "# print(processBooking(\"LH6795\",\"Client 3\",3))"
   ]
  },
  {
   "cell_type": "code",
   "execution_count": 8,
   "metadata": {},
   "outputs": [
    {
     "name": "stdout",
     "output_type": "stream",
     "text": [
      "Processing Flight LH6795 for Client 0 : 4 seats.\n",
      "Processing Flight LH6795 for Client 1 : 1 seats.\n",
      "Processing Flight LH6795 for Client 2 : 4 seats.\n",
      "Processing Flight LH6795 for Client 3 : 2 seats.\n",
      "Processing Flight LH6795 for Client 4 : 2 seats.\n",
      "Finished\n"
     ]
    }
   ],
   "source": [
    "import threading\n",
    "import random\n",
    "import time\n",
    "\n",
    "#Test parameters\n",
    "id_flight=\"LH6795\"\n",
    "base_name=\"Client \"\n",
    "\n",
    "#Clean the db for the test\n",
    "cleanDB(id_flight)\n",
    "\n",
    "# Creating a lock for seat booking synchronization\n",
    "booking_lock = threading.Lock()\n",
    "\n",
    "#Creating several Thread representing several client that try to book simultaneously a random nmber of seat\n",
    "jobs=[]\n",
    "for i in range(5):\n",
    "    jobs.append(threading.Thread(target=processBooking, args=(id_flight, base_name + str(i), random.randint(1, 4))))\n",
    "\n",
    "\n",
    "#Start each job, giving 0.3s of delay between each\n",
    "for job in jobs:\n",
    "    job.start()\n",
    "    # time.sleep(0.3)\n",
    "#Wait for all the thread to finish\n",
    "for job in jobs:\n",
    "    job.join()\n",
    "print(\"Finished\")"
   ]
  },
  {
   "attachments": {},
   "cell_type": "markdown",
   "metadata": {},
   "source": [
    "# Exercise 6.1\n",
    "There is race concurency and the sit are not filled properly as we can there is only two seat filled instead of 10"
   ]
  },
  {
   "cell_type": "code",
   "execution_count": 21,
   "metadata": {},
   "outputs": [
    {
     "name": "stdout",
     "output_type": "stream",
     "text": [
      "('FL001', 10, 0)\n",
      "('FL002', 10, 0)\n",
      "('FL003', 10, 0)\n",
      "('LH6795', 10, 2)\n",
      "(231, 'Client 3', 3, 'LH6795')\n",
      "(232, 'Client 2', 3, 'LH6795')\n",
      "(233, 'Client 1', 2, 'LH6795')\n",
      "(234, 'Client 0', 2, 'LH6795')\n",
      "(235, 'Client 4', 3, 'LH6795')\n"
     ]
    }
   ],
   "source": [
    "conn = connectToDB(\"flight_reservation\")\n",
    "cur = conn.cursor()\n",
    "cur.execute(\"SELECT * FROM Flight\")\n",
    "for flight in cur.fetchall():\n",
    "    print(flight)\n",
    "cur.execute(\"SELECT * FROM Booking\")\n",
    "for booking in cur.fetchall():\n",
    "    print(booking)"
   ]
  },
  {
   "attachments": {},
   "cell_type": "markdown",
   "metadata": {},
   "source": [
    "The result shows that the database takes the last one, if we comment the time.sleep command, it will take the first one.\n",
    "and for those 2 cases, booking take always all clients."
   ]
  },
  {
   "cell_type": "code",
   "execution_count": 16,
   "metadata": {},
   "outputs": [
    {
     "name": "stdout",
     "output_type": "stream",
     "text": [
      "REPEATABLE-READ\n"
     ]
    }
   ],
   "source": [
    "conn = connectToDB(\"flight_reservation\")\n",
    "cur = conn.cursor()\n",
    "cur.execute(\"SELECT @@tx_ISOLATION;\")\n",
    "result = cur.fetchone()\n",
    "print(result[0])"
   ]
  },
  {
   "attachments": {},
   "cell_type": "markdown",
   "metadata": {},
   "source": [
    "After added the 'SET TRANSACTION ISOLATION LEVEL SERIALIZABLE', we can see that even time.sleep command has been commented, it takes the last one."
   ]
  },
  {
   "cell_type": "code",
   "execution_count": 17,
   "metadata": {},
   "outputs": [],
   "source": [
    "conn = connectToDB(\"flight_reservation\")\n",
    "cur = conn.cursor()\n",
    "cur.execute(\"SET GLOBAL TRANSACTION ISOLATION LEVEL SERIALIZABLE\") #加了个global.\n",
    "cur.execute(\"SELECT COUNT(*) FROM Flight WHERE id_flight=?\",(id_flight,))"
   ]
  },
  {
   "cell_type": "code",
   "execution_count": 135,
   "metadata": {},
   "outputs": [
    {
     "data": {
      "text/plain": [
       "<bound method Connection.close of <mariadb.connection connected to '172.26.117.187' at 0x7fa9ac05a680>>"
      ]
     },
     "execution_count": 135,
     "metadata": {},
     "output_type": "execute_result"
    }
   ],
   "source": [
    "conn.close"
   ]
  }
 ],
 "metadata": {
  "kernelspec": {
   "display_name": "data_e",
   "language": "python",
   "name": "python3"
  },
  "language_info": {
   "codemirror_mode": {
    "name": "ipython",
    "version": 3
   },
   "file_extension": ".py",
   "mimetype": "text/x-python",
   "name": "python",
   "nbconvert_exporter": "python",
   "pygments_lexer": "ipython3",
   "version": "3.9.16"
  },
  "orig_nbformat": 4,
  "vscode": {
   "interpreter": {
    "hash": "2343a28521b25afaa9f30c70150d0790506461ec8c9ec2d72ca0cd493dbe10d4"
   }
  }
 },
 "nbformat": 4,
 "nbformat_minor": 2
}

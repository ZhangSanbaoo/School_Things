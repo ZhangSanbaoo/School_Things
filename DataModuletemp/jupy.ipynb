{
 "cells": [
  {
   "cell_type": "code",
   "execution_count": 3,
   "metadata": {},
   "outputs": [
    {
     "ename": "ModuleNotFoundError",
     "evalue": "No module named 'mariadb'",
     "output_type": "error",
     "traceback": [
      "\u001b[0;31m---------------------------------------------------------------------------\u001b[0m",
      "\u001b[0;31mModuleNotFoundError\u001b[0m                       Traceback (most recent call last)",
      "Cell \u001b[0;32mIn[3], line 2\u001b[0m\n\u001b[1;32m      1\u001b[0m \u001b[39m# Module Imports\u001b[39;00m\n\u001b[0;32m----> 2\u001b[0m \u001b[39mimport\u001b[39;00m \u001b[39mmariadb\u001b[39;00m\n\u001b[1;32m      3\u001b[0m \u001b[39m# Execption used to stop the Notebook cell execution politely\u001b[39;00m\n\u001b[1;32m      4\u001b[0m \u001b[39mclass\u001b[39;00m \u001b[39mStopExecution\u001b[39;00m(\u001b[39mException\u001b[39;00m):\n",
      "\u001b[0;31mModuleNotFoundError\u001b[0m: No module named 'mariadb'"
     ]
    }
   ],
   "source": [
    "# Module Imports\n",
    "import mariadb\n",
    "# Execption used to stop the Notebook cell execution politely\n",
    "class StopExecution(Exception):\n",
    "    def _render_traceback_(self):\n",
    "        pass\n",
    "# Connect to the server and return a Connection object for the db_name\n",
    "#database.\n",
    "def connectToDB(db_name):\n",
    "    try:\n",
    "        return mariadb.connect(\n",
    "            user=\"root\",\n",
    "            password=\"BLue1998\",\n",
    "            host=\"172.26.117.187\", # Use of localhost because 1/ we don't have\n",
    "#acces to the docker local network 2/ we have made a port redirection from the\n",
    "#mariadb server to the host\n",
    "            port=3306,\n",
    "            database=db_name\n",
    "        )\n",
    "    except mariadb.Error as e:\n",
    "        print(f\"Error connecting to MariaDB Platform: {e}\")\n",
    "        raise StopExecution\n",
    "conn = connectToDB(\"flight_reservation\")"
   ]
  },
  {
   "cell_type": "code",
   "execution_count": 125,
   "metadata": {},
   "outputs": [
    {
     "name": "stdout",
     "output_type": "stream",
     "text": [
      "** Booking **\n",
      "Field           \tType      \tNull\tKey\tDefault\tExtra\n",
      "id_booking      \tint(11)   \tNO\tPRI\tNone\tauto_increment\n",
      "client_name     \tvarchar(50)\tNO\t\tNone\t\n",
      "quantity        \tint(2)    \tNO\t\tNone\t\n",
      "id_flight       \tvarchar(20)\tNO\tMUL\tNone\t\n",
      "** Flight **\n",
      "Field           \tType      \tNull\tKey\tDefault\tExtra\n",
      "id_flight       \tvarchar(20)\tNO\tPRI\tNone\t\n",
      "max_capacity    \tint(3)    \tNO\t\tNone\t\n",
      "current_capacity\tint(3)    \tNO\t\tNone\t\n"
     ]
    }
   ],
   "source": [
    "# A bit of dark magic? Just two intrincated query, one to get the TABLES, one\n",
    "#for each TABLE to get the COLUMNS.\n",
    "# And a clever use of format to have aligned columns.\n",
    "def showTablesAndColumns(conn):\n",
    "    cur = conn.cursor()\n",
    "    # Query the tables\n",
    "    cur.execute(\"SHOW TABLES;\")\n",
    "    # For each table\n",
    "    for table in cur.fetchall():\n",
    "        print(\"**\",table[0],\"**\")\n",
    "# Defining the output format {:16} indicate at least 16 characters,\n",
    "#add spaces if necessary\n",
    "        outputFormat=\"{:16}\\t{:10}\\t{}\\t{}\\t{}\\t{}\"\n",
    "# Printing the headers\n",
    "        print(outputFormat.format(\"Field\",\"Type\",\"Null\",\"Key\",\"Default\",\"Extra\"))\n",
    "# Query the columns\n",
    "        cur.execute('SHOW COLUMNS FROM {};'.format(table[0]))\n",
    "# For each column\n",
    "        for attribute in cur.fetchall():\n",
    "# Print the attribute (*attribute give the content of the tuple to\n",
    "#the format function)\n",
    "            print(outputFormat.format(*attribute))\n",
    "showTablesAndColumns(conn)\n"
   ]
  },
  {
   "attachments": {},
   "cell_type": "markdown",
   "metadata": {},
   "source": [
    "## Exercise 5"
   ]
  },
  {
   "attachments": {},
   "cell_type": "markdown",
   "metadata": {},
   "source": [
    "Create addFlight function."
   ]
  },
  {
   "cell_type": "code",
   "execution_count": 126,
   "metadata": {},
   "outputs": [
    {
     "name": "stdout",
     "output_type": "stream",
     "text": [
      "Error adding flight: Duplicate entry 'FL001' for key 'PRIMARY'\n"
     ]
    }
   ],
   "source": [
    "def addFlight(id_flight, max_capacity):\n",
    "    conn = connectToDB(\"flight_reservation\")\n",
    "    cur = conn.cursor()\n",
    "    try:\n",
    "        cur.execute(\"INSERT INTO Flight(id_flight, max_capacity, current_capacity) VALUES (?, ?, ?)\", (id_flight, max_capacity, 0))\n",
    "        conn.commit()\n",
    "        print(\"Flight added successfully!\")\n",
    "    except mariadb.Error as e:\n",
    "        print(f\"Error adding flight: {e}\")\n",
    "        conn.rollback()\n",
    "addFlight('FL001',10)"
   ]
  },
  {
   "attachments": {},
   "cell_type": "markdown",
   "metadata": {},
   "source": [
    "The code below can verify if the Flight has been added successfully."
   ]
  },
  {
   "cell_type": "code",
   "execution_count": 127,
   "metadata": {},
   "outputs": [
    {
     "name": "stdout",
     "output_type": "stream",
     "text": [
      "('FL001', 10, 0)\n",
      "('FL002', 10, 0)\n",
      "('LH6795', 10, 4)\n"
     ]
    }
   ],
   "source": [
    "conn = connectToDB(\"flight_reservation\")\n",
    "cur = conn.cursor()\n",
    "cur.execute(\"SELECT * FROM Flight\")\n",
    "for flight in cur.fetchall():\n",
    "    print(flight)\n"
   ]
  },
  {
   "cell_type": "code",
   "execution_count": 128,
   "metadata": {},
   "outputs": [
    {
     "name": "stdout",
     "output_type": "stream",
     "text": [
      "Error adding flight: Duplicate entry 'LH6795' for key 'PRIMARY'\n",
      "(False, 'Reserved')\n",
      "(False, 'Reserved')\n",
      "(False, 'Full')\n",
      "(False, 'Full')\n"
     ]
    }
   ],
   "source": [
    "import time\n",
    "def addBooking(id_flight, client_name, quantity):\n",
    "    try:\n",
    "        #Connect to the database.\n",
    "        conn = connectToDB(\"flight_reservation\")\n",
    "        cur = conn.cursor()\n",
    "        cur.execute(\"SET TRANSACTION ISOLATION LEVEL SERIALIZABLE\")\n",
    "        #Test if the flight is available.\n",
    "        cur.execute(\"SELECT current_capacity, max_capacity FROM Flight WHERE id_flight=?\", (id_flight,))\n",
    "        row = cur.fetchone()\n",
    "        if row is None:\n",
    "            return False, \"Invalid\"\n",
    "        current_capacity, maximum_capacity = row\n",
    "\n",
    "        #Test if the flight have enough available seats.\n",
    "        if current_capacity + quantity > maximum_capacity:\n",
    "            return False, \"Full\"\n",
    "\n",
    "        #Wait 3 seconds to simulate payment processing.\n",
    "        time.sleep(3)\n",
    "\n",
    "        #Insert a new booking record in the Booking table.\n",
    "        cur.execute(\"INSERT INTO Booking (id_flight, client_name, quantity) VALUES (?, ?, ?)\", (id_flight, client_name, quantity))\n",
    "        conn.commit()\n",
    "\n",
    "        #Update the flight table with the new current capacity.\n",
    "        cur.execute(\"UPDATE Flight SET current_capacity=? WHERE id_flight=?\", (current_capacity + quantity, id_flight))\n",
    "        conn.commit()\n",
    "\n",
    "        return False, \"Reserved\"\n",
    "    except mariadb.Error as e:\n",
    "        print(f\"Error adding booking: {e}\")\n",
    "        return True, \"Error\"\n",
    "\n",
    "addFlight(\"LH6795\",10)\n",
    "print(addBooking(\"LH6795\",\"Client 0\",1))\n",
    "print(addBooking(\"LH6795\",\"Client 1\",4))\n",
    "print(addBooking(\"LH6795\",\"Client 2\",3))\n",
    "print(addBooking(\"LH6795\",\"Client 3\",3))"
   ]
  },
  {
   "cell_type": "code",
   "execution_count": 129,
   "metadata": {},
   "outputs": [],
   "source": [
    "def cleanDB(id_flight):\n",
    "    conn = connectToDB(\"flight_reservation\")\n",
    "    cur = conn.cursor()\n",
    "    cur.execute(\"DELETE FROM Booking WHERE id_flight=?;\",(id_flight,))\n",
    "    cur.execute(\"UPDATE Flight SET current_capacity=0 WHERE id_flight=?;\",(id_flight,))\n",
    "    conn.commit() #With out commit the modification are not applied to the database.\n",
    "cleanDB('LH6795')"
   ]
  },
  {
   "attachments": {},
   "cell_type": "markdown",
   "metadata": {},
   "source": [
    "## Exercise 6"
   ]
  },
  {
   "cell_type": "code",
   "execution_count": 130,
   "metadata": {},
   "outputs": [],
   "source": [
    "def processBooking(id_flight,client_name,quantity):\n",
    "    print(\"Processing Flight\",id_flight,\"for\",client_name,\":\",quantity,\"seats.\")\n",
    "    retry,status = addBooking(id_flight,client_name,quantity)\n",
    "    while retry :\n",
    "        print(\"Retry Flight\",id_flight,\"for\",client_name,\":\",quantity,\"seats.\")\n",
    "        retry,status = addBooking(id_flight,client_name,quantity)\n",
    "        print(client_name,\":\",status)\n",
    "    print(client_name,\":\",status,\"Should retry:\",retry)\n",
    "# print(processBooking(\"LH6795\",\"Client 0\",1))\n",
    "# print(processBooking(\"LH6795\",\"Client 1\",4))\n",
    "# print(processBooking(\"LH6795\",\"Client 2\",3))\n",
    "# print(processBooking(\"LH6795\",\"Client 3\",3))"
   ]
  },
  {
   "cell_type": "code",
   "execution_count": 131,
   "metadata": {},
   "outputs": [
    {
     "name": "stdout",
     "output_type": "stream",
     "text": [
      "Processing Flight LH6795 for Client 0 : 1 seats.\n",
      "Processing Flight LH6795 for Client 1 : 2 seats.\n",
      "Processing Flight LH6795 for Client 2 : 3 seats.\n",
      "Processing Flight LH6795 for Client 3 : 1 seats.\n",
      "Processing Flight LH6795 for Client 4 : 4 seats.\n",
      "Client 2Client 0 : Reserved Should retry: False\n",
      " : Reserved Should retry: False\n",
      "Client 1 : Reserved Should retry: False\n",
      "Client 3 : Reserved Should retry: False\n",
      "Client 4 : Reserved Should retry: False\n",
      "Finished\n"
     ]
    }
   ],
   "source": [
    "import threading\n",
    "import random\n",
    "import time\n",
    "\n",
    "#Test parameters\n",
    "id_flight=\"LH6795\"\n",
    "base_name=\"Client \"\n",
    "\n",
    "#Clean the db for the test\n",
    "cleanDB(id_flight)\n",
    "\n",
    "#Creating several Thread representing several client that try to book simultaneously a random nmber of seat\n",
    "jobs=[]\n",
    "for i in range(5):\n",
    "    jobs.append(threading.Thread(target=processBooking,args=(id_flight,base_name+str(i),random.randint(1,4))))\n",
    "\n",
    "#Start each job, giving 0.3s of delay between each\n",
    "for job in jobs:\n",
    "    job.start()\n",
    "    # time.sleep(0.3)\n",
    "#Wait for all the thread to finish\n",
    "for job in jobs:\n",
    "    job.join()\n",
    "print(\"Finished\")"
   ]
  },
  {
   "cell_type": "code",
   "execution_count": 132,
   "metadata": {},
   "outputs": [
    {
     "name": "stdout",
     "output_type": "stream",
     "text": [
      "('FL001', 10, 0)\n",
      "('FL002', 10, 0)\n",
      "('LH6795', 10, 1)\n",
      "(182, 'Client 2', 3, 'LH6795')\n",
      "(183, 'Client 0', 1, 'LH6795')\n",
      "(184, 'Client 1', 2, 'LH6795')\n",
      "(185, 'Client 3', 1, 'LH6795')\n",
      "(186, 'Client 4', 4, 'LH6795')\n"
     ]
    }
   ],
   "source": [
    "conn = connectToDB(\"flight_reservation\")\n",
    "cur = conn.cursor()\n",
    "cur.execute(\"SELECT * FROM Flight\")\n",
    "for flight in cur.fetchall():\n",
    "    print(flight)\n",
    "cur.execute(\"SELECT * FROM Booking\")\n",
    "for booking in cur.fetchall():\n",
    "    print(booking)"
   ]
  },
  {
   "attachments": {},
   "cell_type": "markdown",
   "metadata": {},
   "source": [
    "The result shows that the database takes the last one, if we comment the time.sleep command, it will take the first one.\n",
    "and for those 2 cases, booking take always all clients."
   ]
  },
  {
   "cell_type": "code",
   "execution_count": 133,
   "metadata": {},
   "outputs": [
    {
     "name": "stdout",
     "output_type": "stream",
     "text": [
      "REPEATABLE-READ\n"
     ]
    }
   ],
   "source": [
    "conn = connectToDB(\"flight_reservation\")\n",
    "cur = conn.cursor()\n",
    "cur.execute(\"SELECT @@tx_ISOLATION;\")\n",
    "result = cur.fetchone()\n",
    "print(result[0])"
   ]
  },
  {
   "attachments": {},
   "cell_type": "markdown",
   "metadata": {},
   "source": [
    "After added the 'SET TRANSACTION ISOLATION LEVEL SERIALIZABLE', we can see that even time.sleep command has been commented, it takes the last one."
   ]
  },
  {
   "cell_type": "code",
   "execution_count": 134,
   "metadata": {},
   "outputs": [],
   "source": [
    "conn = connectToDB(\"flight_reservation\")\n",
    "cur = conn.cursor()\n",
    "cur.execute(\"SET GLOBAL TRANSACTION ISOLATION LEVEL SERIALIZABLE\") #加了个global.\n",
    "cur.execute(\"SELECT COUNT(*) FROM Flight WHERE id_flight=?\",(id_flight,))"
   ]
  },
  {
   "cell_type": "code",
   "execution_count": 135,
   "metadata": {},
   "outputs": [
    {
     "data": {
      "text/plain": [
       "<bound method Connection.close of <mariadb.connection connected to '172.26.117.187' at 0x7fa9ac05a680>>"
      ]
     },
     "execution_count": 135,
     "metadata": {},
     "output_type": "execute_result"
    }
   ],
   "source": [
    "conn.close"
   ]
  }
 ],
 "metadata": {
  "kernelspec": {
   "display_name": "data_e",
   "language": "python",
   "name": "python3"
  },
  "language_info": {
   "codemirror_mode": {
    "name": "ipython",
    "version": 3
   },
   "file_extension": ".py",
   "mimetype": "text/x-python",
   "name": "python",
   "nbconvert_exporter": "python",
   "pygments_lexer": "ipython3",
   "version": "3.11.2"
  },
  "orig_nbformat": 4,
  "vscode": {
   "interpreter": {
    "hash": "2343a28521b25afaa9f30c70150d0790506461ec8c9ec2d72ca0cd493dbe10d4"
   }
  }
 },
 "nbformat": 4,
 "nbformat_minor": 2
}
